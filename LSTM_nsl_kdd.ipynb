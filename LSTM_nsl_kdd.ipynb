{
  "cells": [
    {
      "cell_type": "markdown",
      "metadata": {
        "id": "view-in-github",
        "colab_type": "text"
      },
      "source": [
        "<a href=\"https://colab.research.google.com/github/amina04/CNN-lstm/blob/main/LSTM_nsl_kdd.ipynb\" target=\"_parent\"><img src=\"https://colab.research.google.com/assets/colab-badge.svg\" alt=\"Open In Colab\"/></a>"
      ]
    },
    {
      "cell_type": "code",
      "source": [
        "from google.colab import drive\n",
        "drive.mount('/content/drive')"
      ],
      "metadata": {
        "id": "zQxAXwqFTkuH"
      },
      "execution_count": null,
      "outputs": []
    },
    {
      "cell_type": "code",
      "source": [
        "import pandas as pd\n",
        "import tensorflow as tf\n",
        "import numpy as np\n",
        "from sklearn.metrics import classification_report, multilabel_confusion_matrix\n",
        "from sklearn.metrics import plot_confusion_matrix, ConfusionMatrixDisplay\n",
        "from tensorflow.keras import Sequential, Model, Input\n",
        "from tensorflow.keras.layers import LSTM, Dense, Dropout"
      ],
      "metadata": {
        "id": "HUvNzC4KTkqq"
      },
      "execution_count": null,
      "outputs": []
    },
    {
      "cell_type": "code",
      "source": [
        "data_train=pd.read_csv('/content/drive/MyDrive/data/nsl-kdd/KDDTrain+.txt' ,delimiter=',', header=None)\n",
        "data_test=pd.read_csv('/content/drive/MyDrive/data/nsl-kdd/KDDTest+.txt' ,delimiter=',', header=None)\n",
        "data_test1=pd.read_csv('/content/drive/MyDrive/data/nsl-kdd/KDDTest-21.txt' ,delimiter=',', header=None)"
      ],
      "metadata": {
        "id": "hFosNAaBTkmz"
      },
      "execution_count": null,
      "outputs": []
    },
    {
      "cell_type": "code",
      "source": [
        "import pandas as pd\n",
        "new_data_train= pd.concat([data_train, data_test1]).drop_duplicates(keep=False)\n",
        "new_data_train.reset_index(drop=True, inplace = True)\n",
        "    "
      ],
      "metadata": {
        "id": "iIut98y1Tkjb"
      },
      "execution_count": null,
      "outputs": []
    },
    {
      "cell_type": "code",
      "source": [
        "print(new_data_train.shape)\n",
        "print(data_test.shape)"
      ],
      "metadata": {
        "id": "zbhrpsnRTkgg"
      },
      "execution_count": null,
      "outputs": []
    },
    {
      "cell_type": "code",
      "source": [
        "new_data_train.isnull().values.any()\n"
      ],
      "metadata": {
        "id": "ynS6ViCUTkdP"
      },
      "execution_count": null,
      "outputs": []
    },
    {
      "cell_type": "code",
      "source": [
        "#les noms des colonne de dataset\n",
        "featuresV=[\"duration\",\"protocol_type\",\"service\",\"flag\",\"src_bytes\",\"dst_bytes\",\"land\",\"wrong_fragment\",\"urgent\",\"hot\",\n",
        "          \"num_failed_logins\",\"logged_in\",\"num_compromised\",\"root_shell\",\"su_attempted\",\"num_root\",\"num_file_creations\",\"num_shells\",\n",
        "          \"num_access_files\",\"num_outbound_cmds\",\"is_host_login\",\"is_guest_login\",\"count\",\"srv_count\",\"serror_rate\",\"srv_serror_rate\",\n",
        "          \"rerror_rate\",\"srv_rerror_rate\",\"same_srv_rate\",\"diff_srv_rate\",\"srv_diff_host_rate\",\"dst_host_count\",\"dst_host_srv_count\", \n",
        "          \"dst_host_same_srv_rate\",\"dst_host_diff_srv_rate\",\"dst_host_same_src_port_rate\",\"dst_host_srv_diff_host_rate\",\"dst_host_serror_rate\",\n",
        "          \"dst_host_srv_serror_rate\",\"dst_host_rerror_rate\",\"dst_host_srv_rerror_rate\",\"label\",\"difficulty\"]\n",
        "#la colonne flag qui contient des valeur string\n",
        "flagV=['OTH','RSTOS0','SF','SH','RSTO','S2','S1','REJ','S3','RSTR','S0']\n",
        "\n",
        "#la colonne protocol_type qui contient des valeur string\n",
        "protocol_typeV=['tcp','udp','icmp']\n",
        "#la colonne service qui contient des valeur string\n",
        "serviceV=['http','smtp','finger','domain_u','auth','telnet','ftp','eco_i','ntp_u','ecr_i','other','private','pop_3','ftp_data',\n",
        "                  'rje','time','mtp','link','remote_job','gopher','ssh','name','whois','domain','login','imap4','daytime','ctf','nntp',\n",
        "                  'shell','IRC','nnsp','http_443','exec','printer','efs','courier','uucp','klogin','kshell','echo','discard','systat',\n",
        "                  'supdup','iso_tsap','hostnames','csnet_ns','pop_2','sunrpc','uucp_path','netbios_ns','netbios_ssn','netbios_dgm',\n",
        "                  'sql_net','vmnet','bgp','Z39_50','ldap','netstat','urh_i','X11','urp_i','pm_dump','tftp_u','tim_i','red_i','icmp',\n",
        "                  'http_2784','harvest','aol','http_8001']\n",
        "# les étiquète \n",
        "binary_attack=['normal','ipsweep', 'nmap', 'portsweep','satan', 'saint', 'mscan','back', 'land', 'neptune', 'pod', 'smurf',\n",
        "               'teardrop', 'apache2', 'udpstorm', 'processtable','mailbomb','buffer_overflow', 'loadmodule', 'perl', 'rootkit',\n",
        "               'xterm', 'ps', 'sqlattack','ftp_write', 'guess_passwd', 'imap', 'multihop','phf', 'spy', 'warezclient',\n",
        "               'warezmaster','snmpgetattack','named', 'xlock', 'xsnoop','sendmail', 'httptunnel', 'worm', 'snmpguess']\n",
        "\n",
        "multiclass_attack={ 'normal': 'normal',\n",
        "        'probe': ['ipsweep.', 'nmap.', 'portsweep.','satan.', 'saint.', 'mscan.'],\n",
        "        'dos': ['back.', 'land.', 'neptune.', 'pod.', 'smurf.','teardrop.', 'apache2.', 'udpstorm.', 'processtable.','mailbomb.'],\n",
        "        'u2r': ['buffer_overflow.', 'loadmodule.', 'perl.', 'rootkit.','xterm.', 'ps.', 'sqlattack.'],\n",
        "        'r2l': ['ftp_write.', 'guess_passwd.', 'imap.', 'multihop.','phf.', 'spy.', 'warezclient.', 'warezmaster.','snmpgetattack.',\n",
        "                   'named.', 'xlock.', 'xsnoop.','sendmail.', 'httptunnel.', 'worm.', 'snmpguess.']}  "
      ],
      "metadata": {
        "id": "A5DMOoR9Tkac"
      },
      "execution_count": null,
      "outputs": []
    },
    {
      "cell_type": "code",
      "source": [
        "new_data_train.columns=data_test.columns=featuresV"
      ],
      "metadata": {
        "id": "iLNNrfy5TkXN"
      },
      "execution_count": null,
      "outputs": []
    },
    {
      "cell_type": "code",
      "source": [
        "df_train_obj = new_data_train.iloc[:, :-2].select_dtypes(include='object')\n",
        "df_train_num = new_data_train.iloc[:, :-2].select_dtypes(exclude='object')\n",
        "\n",
        "print(f\"shape of numeric features: {df_train_num.shape}\")\n",
        "print(f\"shape of object features: {df_train_obj.shape}\")"
      ],
      "metadata": {
        "id": "EosaAKz7aSpN"
      },
      "execution_count": null,
      "outputs": []
    },
    {
      "cell_type": "code",
      "source": [
        "df_test_obj = data_test.iloc[:, :-2].select_dtypes(include='object')\n",
        "df_test_num = data_test.iloc[:, :-2].select_dtypes(exclude='object')\n",
        "\n",
        "print(f\"shape of numeric features: {df_test_num.shape}\")\n",
        "print(f\"shape of object features: {df_test_obj.shape}\")"
      ],
      "metadata": {
        "id": "DgJR44nATkUY"
      },
      "execution_count": null,
      "outputs": []
    },
    {
      "cell_type": "code",
      "source": [
        "new_data_train['label']=new_data_train['label'].replace(['normal.','normal'],0)\n",
        "for i in range(len(binary_attack)):\n",
        "  new_data_train['label'] = new_data_train['label'].replace(binary_attack[i], 1)\n",
        "y_train=new_data_train['label']\n",
        "data_test['label']=data_test['label'].replace(['normal.','normal'],0)\n",
        "for i in range(len(binary_attack)):\n",
        "  data_test['label'] = data_test['label'].replace(binary_attack[i], 1)\n",
        "y_test=data_test['label']\n",
        "#supprimer la colonne la bel de dataset car on a créer une copier déja ===>séparation\n",
        "del new_data_train['label']\n",
        "del data_test['label']"
      ],
      "metadata": {
        "id": "31T58eNmTkRM"
      },
      "execution_count": null,
      "outputs": []
    },
    {
      "cell_type": "code",
      "source": [
        "import numpy as np \n",
        "from sklearn.preprocessing import MinMaxScaler, OneHotEncoder\n",
        "enc = OneHotEncoder(handle_unknown='ignore')\n",
        "\n",
        "#encoder juste les  column qui contient string\n",
        "data_train_enc = enc.fit_transform(df_train_obj).toarray()\n",
        "train_enc_features = enc.get_feature_names_out(input_features=df_train_obj.columns)\n",
        "data_test_enc = enc.transform(df_test_obj).toarray()\n",
        "test_enc_features = enc.get_feature_names_out(input_features=df_test_obj.columns)\n",
        "\n",
        "#concatiner string avec num columns\n",
        "X_train_enc = np.c_[df_train_num, data_train_enc]\n",
        "X_test_enc = np.c_[df_test_num, data_test_enc]\n",
        "print(f\"X_train_enc shape: {X_train_enc.shape}\")\n",
        "print(f\"X_test_enc shape: {X_test_enc.shape}\")\n",
        "######################################\n",
        "#encoder les labels\n",
        "y_train=pd.get_dummies(y_train)\n",
        "y_test=pd.get_dummies(y_test)\n",
        "y_train.head()\n"
      ],
      "metadata": {
        "id": "3OJVbkBmTkOO"
      },
      "execution_count": null,
      "outputs": []
    },
    {
      "cell_type": "code",
      "source": [
        "scaler = MinMaxScaler()\n",
        "X_train_scaler = scaler.fit_transform(X_train_enc)\n",
        "X_test_scaler = scaler.fit_transform(X_test_enc)\n",
        "########################\n",
        "y_train=scaler.fit_transform(y_train)\n",
        "y_test=scaler.fit_transform(y_test)\n",
        "y_train[0]"
      ],
      "metadata": {
        "id": "S1Iok9ygTkKo"
      },
      "execution_count": null,
      "outputs": []
    },
    {
      "cell_type": "code",
      "source": [
        "x_train = np.reshape(X_train_scaler, (X_train_scaler.shape[0],1, X_train_scaler.shape[1]))\n",
        "x_train.shape"
      ],
      "metadata": {
        "id": "Dm8fqZFfaowu"
      },
      "execution_count": null,
      "outputs": []
    },
    {
      "cell_type": "code",
      "source": [
        "from sklearn.model_selection import train_test_split\n",
        "# The next step is to split training and testing data. For this we will use sklearn function train_test_split().\n",
        "\n",
        "x_train, x_test1 ,y_train, y_test1 = train_test_split(x_train, y_train, test_size=10000)\n",
        "x_train.shape, x_test1.shape ,y_train.shape, y_test1.shape"
      ],
      "metadata": {
        "id": "c5nLcGP8ao0O"
      },
      "execution_count": null,
      "outputs": []
    },
    {
      "cell_type": "code",
      "source": [
        "x_test = np.reshape(X_test_scaler, (X_test_scaler.shape[0],1,X_test_scaler.shape[1]))\n",
        "\n",
        "x_test.shape"
      ],
      "metadata": {
        "id": "iRPXwO3Bao4P"
      },
      "execution_count": null,
      "outputs": []
    },
    {
      "cell_type": "code",
      "source": [
        "X_train_extract = X_train_scaler.copy()\n",
        "X_test_extract = X_test_scaler.copy()"
      ],
      "metadata": {
        "id": "SbO7NdtaTkHK"
      },
      "execution_count": null,
      "outputs": []
    },
    {
      "cell_type": "code",
      "source": [
        "from tensorflow import keras\n",
        "look_back = X_train_extract.shape[1]\n",
        "def multiClassModel(units=4, look_back=look_back):\n",
        "    model = Sequential()\n",
        "   # model.add(Input(shape=(1, look_back)))\n",
        "    #model.add(LSTM(units=50, activation='relu'))\n",
        "    model.add(LSTM(256, activation='relu', return_sequences=True, input_shape=(1, look_back)))\n",
        "    model.add(Dropout(0.2))\n",
        "    model.add(LSTM(128,activation='relu', return_sequences=True, input_shape = (1, look_back)))\n",
        "    model.add(Dropout(0.2))\n",
        "    \n",
        "    model.add(LSTM(64,activation='relu', input_shape = (1, look_back)))\n",
        " \n",
        "    #model.add(LSTM(100, activation='relu'))\n",
        "   \n",
        "    model.add(Dropout(0.2))\n",
        "    \n",
        "    model.add(Dense(units=32, activation='relu'))\n",
        "    \n",
        "    model.add(Dense(2, activation=\"sigmoid\"))\n",
        "    #opt = keras.optimizers.Adam(learning_rate= 0.0001)\n",
        "    model.compile(loss=\"binary_crossentropy\", optimizer='Adam' , metrics=['accuracy',keras.metrics.Precision()])\n",
        "    model.summary()\n",
        "    return model"
      ],
      "metadata": {
        "id": "Jgnu1lSnazdi"
      },
      "execution_count": null,
      "outputs": []
    },
    {
      "cell_type": "code",
      "source": [
        "model = multiClassModel()\n",
        " \n",
        "#X_train_lstm = X_train_extract.reshape(X_train_extract.shape[0], 1, X_train_extract.shape[1])\n",
        "#X_test_lstm = X_test_extract.reshape(X_test_extract.shape[0], 1, X_test_extract.shape[1])\n",
        "history=model.fit(x_train, y_train, epochs=80, batch_size=256, validation_data=(x_test,y_test))"
      ],
      "metadata": {
        "id": "fw5IPRJpa-5W"
      },
      "execution_count": null,
      "outputs": []
    },
    {
      "cell_type": "code",
      "source": [
        "#check accuaracy of prediction\n",
        "from sklearn.metrics import confusion_matrix,accuracy_score,precision_score, recall_score\n",
        "#model.score(x_valid,y_valid)"
      ],
      "metadata": {
        "id": "TBrFfs_Ga-8r"
      },
      "execution_count": null,
      "outputs": []
    },
    {
      "cell_type": "code",
      "source": [
        "#cf_matrix=confusion_matrix(y_valid, y_pred)\n",
        "y_test_arg=np.argmax(y_test1,axis=1)\n",
        "Y_pred = np.argmax(model.predict(x_test1),axis=1)\n",
        "print('Confusion Matrix')\n",
        "cf_matrix=confusion_matrix(y_test_arg, Y_pred)\n",
        "print(cf_matrix)"
      ],
      "metadata": {
        "id": "UjhORfNXbGFi"
      },
      "execution_count": null,
      "outputs": []
    },
    {
      "cell_type": "code",
      "source": [
        "import seaborn as sns\n",
        "sns.heatmap(cf_matrix, cmap='coolwarm',annot=True, linewidth=1,fmt=\"d\")\n",
        "plt.show()"
      ],
      "metadata": {
        "id": "ir8H0yozbGQk"
      },
      "execution_count": null,
      "outputs": []
    },
    {
      "cell_type": "code",
      "source": [
        "accuracy =accuracy_score(y_test_arg, Y_pred)*100\n",
        "print(accuracy)"
      ],
      "metadata": {
        "id": "19yExHG6bGU-"
      },
      "execution_count": null,
      "outputs": []
    },
    {
      "cell_type": "code",
      "source": [
        "recall = recall_score(y_test_arg, Y_pred , average=\"binary\")\n",
        "precision = precision_score(y_test_arg, Y_pred, average=\"binary\")\n",
        "FPR = cf_matrix[0][1]/(cf_matrix[0][1]+cf_matrix[1][1]) "
      ],
      "metadata": {
        "id": "uscAEtIfa_Bd"
      },
      "execution_count": null,
      "outputs": []
    },
    {
      "cell_type": "code",
      "source": [
        "print(\"Precision : \" , precision*100)\n",
        "print(\"Recall : \", recall*100)\n",
        "print(\"Accuracy : \",accuracy)\n",
        "print(\"FPR : \",FPR*100)"
      ],
      "metadata": {
        "id": "pk7MABwnbQSx"
      },
      "execution_count": null,
      "outputs": []
    }
  ],
  "metadata": {
    "accelerator": "GPU",
    "colab": {
      "collapsed_sections": [],
      "name": "LSTM_nsl_kdd.ipynb",
      "provenance": [],
      "include_colab_link": true
    },
    "kernelspec": {
      "display_name": "Python 3",
      "name": "python3"
    },
    "language_info": {
      "name": "python"
    }
  },
  "nbformat": 4,
  "nbformat_minor": 0
}