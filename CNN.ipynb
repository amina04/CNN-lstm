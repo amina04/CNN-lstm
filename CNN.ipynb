{
  "cells": [
    {
      "cell_type": "markdown",
      "metadata": {
        "id": "view-in-github",
        "colab_type": "text"
      },
      "source": [
        "<a href=\"https://colab.research.google.com/github/amina04/CNN-lstm/blob/main/CNN.ipynb\" target=\"_parent\"><img src=\"https://colab.research.google.com/assets/colab-badge.svg\" alt=\"Open In Colab\"/></a>"
      ]
    },
    {
      "cell_type": "markdown",
      "source": [
        "**chargement des fichiers qui sont sur drive**\n",
        "\n",
        "\n",
        "\n"
      ],
      "metadata": {
        "id": "czEUiywRfcSx"
      }
    },
    {
      "cell_type": "code",
      "execution_count": null,
      "metadata": {
        "id": "8DFZ7bj9lvkL",
        "colab": {
          "base_uri": "https://localhost:8080/"
        },
        "outputId": "e7cd35d3-dec5-45c3-e0b4-43f4494b8c13"
      },
      "outputs": [
        {
          "output_type": "stream",
          "name": "stdout",
          "text": [
            "Mounted at /content/drive\n"
          ]
        }
      ],
      "source": [
        "from google.colab import drive\n",
        "drive.mount('/content/drive')\n"
      ]
    },
    {
      "cell_type": "markdown",
      "metadata": {
        "id": "51dfIJmkDCTE"
      },
      "source": [
        "la bibliothéque pandas nous donne le droit de travailler avec la format csv.\n",
        "On utilise panda pour ouvrir la dataset"
      ]
    },
    {
      "cell_type": "code",
      "execution_count": null,
      "metadata": {
        "id": "_KbZ19tFmx9C"
      },
      "outputs": [],
      "source": [
        "import pandas as pd  "
      ]
    },
    {
      "cell_type": "markdown",
      "metadata": {
        "id": "hJEfaBQuAH7D"
      },
      "source": [
        "**Donner les noms des column au dataset et spécifier la liste des  string contenu **\n"
      ]
    },
    {
      "cell_type": "code",
      "execution_count": null,
      "metadata": {
        "id": "wuEOkN3jXm6l"
      },
      "outputs": [],
      "source": [
        "\n",
        "featureV=[\"duration\",\"protocol_type\",\"service\",\"flag\",\"src_bytes\",\"dst_bytes\",\"land\",\"wrong_fragment\",\"urgent\",\"hot\",\n",
        "          \"num_failed_logins\",\"logged_in\",\"num_compromised\",\"root_shell\",\"su_attempted\",\"num_root\",\"num_file_creations\",\"num_shells\",\n",
        "          \"num_access_files\",\"num_outbound_cmds\",\"is_host_login\",\"is_guest_login\",\"count\",\"srv_count\",\"serror_rate\",\"srv_serror_rate\",\n",
        "          \"rerror_rate\",\"srv_rerror_rate\",\"same_srv_rate\",\"diff_srv_rate\",\"srv_diff_host_rate\",\"dst_host_count\",\"dst_host_srv_count\", \n",
        "          \"dst_host_same_srv_rate\",\"dst_host_diff_srv_rate\",\"dst_host_same_src_port_rate\",\"dst_host_srv_diff_host_rate\",\"dst_host_serror_rate\",\n",
        "          \"dst_host_srv_serror_rate\",\"dst_host_rerror_rate\",\"dst_host_srv_rerror_rate\",\"label\",\"difficulty\"]\n",
        "\n",
        "flagV=['OTH','RSTOS0','SF','SH','RSTO','S2','S1','REJ','S3','RSTR','S0']\n",
        "\n",
        "protocol_typeV=['tcp','udp','icmp']\n",
        "\n",
        "serviceV=['http','smtp','finger','domain_u','auth','telnet','ftp','eco_i','ntp_u','ecr_i','other','private','pop_3','ftp_data',\n",
        "                  'rje','time','mtp','link','remote_job','gopher','ssh','name','whois','domain','login','imap4','daytime','ctf','nntp',\n",
        "                  'shell','IRC','nnsp','http_443','exec','printer','efs','courier','uucp','klogin','kshell','echo','discard','systat',\n",
        "                  'supdup','iso_tsap','hostnames','csnet_ns','pop_2','sunrpc','uucp_path','netbios_ns','netbios_ssn','netbios_dgm',\n",
        "                  'sql_net','vmnet','bgp','Z39_50','ldap','netstat','urh_i','X11','urp_i','pm_dump','tftp_u','tim_i','red_i','icmp',\n",
        "                  'http_2784','harvest','aol','http_8001']\n",
        "\n",
        "binary_attack=['normal','ipsweep', 'nmap', 'portsweep','satan', 'saint', 'mscan','back', 'land', 'neptune', 'pod', 'smurf',\n",
        "               'teardrop', 'apache2', 'udpstorm', 'processtable','mailbomb','buffer_overflow', 'loadmodule', 'perl', 'rootkit',\n",
        "               'xterm', 'ps', 'sqlattack','ftp_write', 'guess_passwd', 'imap', 'multihop','phf', 'spy', 'warezclient',\n",
        "               'warezmaster','snmpgetattack','named', 'xlock', 'xsnoop','sendmail', 'httptunnel', 'worm', 'snmpguess']\n",
        "\n",
        "multiclass_attack={ 'normal': 'normal',\n",
        "        'probe': ['ipsweep.', 'nmap.', 'portsweep.','satan.', 'saint.', 'mscan.'],\n",
        "        'dos': ['back.', 'land.', 'neptune.', 'pod.', 'smurf.','teardrop.', 'apache2.', 'udpstorm.', 'processtable.','mailbomb.'],\n",
        "        'u2r': ['buffer_overflow.', 'loadmodule.', 'perl.', 'rootkit.','xterm.', 'ps.', 'sqlattack.'],\n",
        "        'r2l': ['ftp_write.', 'guess_passwd.', 'imap.', 'multihop.','phf.', 'spy.', 'warezclient.', 'warezmaster.','snmpgetattack.',\n",
        "                   'named.', 'xlock.', 'xsnoop.','sendmail.', 'httptunnel.', 'worm.', 'snmpguess.']}    "
      ]
    },
    {
      "cell_type": "markdown",
      "source": [
        "## **1.Load the data**"
      ],
      "metadata": {
        "id": "cH6A-JQMis6W"
      }
    },
    {
      "cell_type": "code",
      "execution_count": null,
      "metadata": {
        "id": "U68Zsb-vmzNP"
      },
      "outputs": [],
      "source": [
        "data_train=pd.read_csv('/content/drive/MyDrive/data/nsl-kdd/KDDTrain+.txt',names=featureV)\n",
        "data_valid=pd.read_csv('/content/drive/MyDrive/data/nsl-kdd/KDDTest+.txt',names=featureV)\n"
      ]
    },
    {
      "cell_type": "markdown",
      "source": [
        "data.shape nous donne une vue sur la quantite de data pour train et pour valid(test) et aussi 43 présente le nombre des colonnes"
      ],
      "metadata": {
        "id": "PzYkWa64g8D_"
      }
    },
    {
      "cell_type": "code",
      "execution_count": null,
      "metadata": {
        "colab": {
          "base_uri": "https://localhost:8080/"
        },
        "id": "xnwDFzAbtkTD",
        "outputId": "4d67ec08-db0f-49fe-d2b8-24aedc980aa0"
      },
      "outputs": [
        {
          "output_type": "execute_result",
          "data": {
            "text/plain": [
              "(125973, 43)"
            ]
          },
          "metadata": {},
          "execution_count": 5
        }
      ],
      "source": [
        "data_train.shape"
      ]
    },
    {
      "cell_type": "code",
      "execution_count": null,
      "metadata": {
        "colab": {
          "base_uri": "https://localhost:8080/"
        },
        "id": "0nrknPMq_-kw",
        "outputId": "3577ada5-23ea-4262-a991-a33b628774c8"
      },
      "outputs": [
        {
          "output_type": "execute_result",
          "data": {
            "text/plain": [
              "(22544, 43)"
            ]
          },
          "metadata": {},
          "execution_count": 6
        }
      ],
      "source": [
        "data_valid.shape\n"
      ]
    },
    {
      "cell_type": "markdown",
      "source": [
        "## **2.pre-process the data**"
      ],
      "metadata": {
        "id": "dyRME3bRjUUS"
      }
    },
    {
      "cell_type": "markdown",
      "source": [
        "\n",
        "ici on supprimes quelque ligne quand le column service contien ces mots pour avoir la meme taille de data tain et data test"
      ],
      "metadata": {
        "id": "VHzZCdsbjAs8"
      }
    },
    {
      "cell_type": "code",
      "execution_count": null,
      "metadata": {
        "id": "DbGEztuI-daq"
      },
      "outputs": [],
      "source": [
        "data_train = data_train.query(\"service != 'aol'\")\n",
        "data_train = data_train.query(\"service != 'harvest'\")\n",
        "data_train = data_train.query(\"service != 'http_2784'\")\n",
        "data_train = data_train.query(\"service != 'http_8001'\")\n",
        "data_train = data_train.query(\"service != 'red_i'\")\n",
        "data_train = data_train.query(\"service != 'urh_i'\")\n",
        "data_train = data_train.query(\"service != 'printer'\")\n",
        "data_train = data_train.query(\"service != 'rje'\")\n",
        "#-------------------------------------------------------------------------------->>>>\n",
        "data_valid = data_valid.query(\"service != 'printer'\")\n",
        "data_valid = data_valid.query(\"service != 'rje'\")\n",
        "\n"
      ]
    },
    {
      "cell_type": "markdown",
      "metadata": {
        "id": "xtQUWgsy1hlo"
      },
      "source": [
        "## **Working with Validation data -Numericalization-**\n"
      ]
    },
    {
      "cell_type": "code",
      "execution_count": null,
      "metadata": {
        "id": "GbYewACV11N0"
      },
      "outputs": [],
      "source": [
        "from sklearn.preprocessing import MinMaxScaler\n",
        "#data=données cls=classe binary or multiclass   df=train or test string\n",
        "def preprocessing(data,cls,df): \n",
        "  #----------attack categorization----------------->\n",
        "  data['label']=data['label'].replace(['normal.','normal'],0)\n",
        "  #----------------------binary classification--------------------->\n",
        "  if cls=='binary':\n",
        "    for i in range(len(binary_attack)):\n",
        "      data['label'] = data['label'].replace(binary_attack[i], 1)\n",
        "  #-------------------------splitting features and labels---------------->\n",
        "  y=data['label']\n",
        "  #partier de dataset qui contien les strings\n",
        "  x=data.loc[:,'duration':'hot']\n",
        "  #-----------------converting to binary feature vectors-------------------------------------->  \n",
        "  #on va copier column dans un variable \n",
        "  \n",
        "  t=x.protocol_type.copy()\n",
        "  #puis utiliser la fonction dumies qui transfer en binaire\n",
        "  t=pd.get_dummies(t)\n",
        "  #on va supprimer column l original qui contient string 1 ie tout rows de protocole type \n",
        "  x=x.drop(columns='protocol_type',axis=1)\n",
        "  #ajouter nouveau column qui contient binaire\n",
        "  x=x.join(t)\n",
        "\n",
        "  t1=x.service.copy()\n",
        "  t1=pd.get_dummies(t1)\n",
        "  x=x.drop(columns='service',axis=1)\n",
        "  x=x.join(t1)\n",
        "\n",
        "  t2=x.flag.copy()\n",
        "  t2=pd.get_dummies(t2)\n",
        "  x=x.drop(columns='flag',axis=1)\n",
        "  x=x.join(t2)\n",
        "#mettre tout les valeurs entre 0 et 1  normalization\n",
        "  x = MinMaxScaler(feature_range=(0, 1)).fit_transform(x)\n",
        "  #------------------------------------------------------------------------------>\n",
        "  #-----------------converting to binary label vectors  train--------------------------------------> \n",
        "  yt=y.copy()\n",
        "  yt=pd.get_dummies(yt)\n",
        "#------------------------------------------------------------------------------>\n",
        "  return x,yt\n",
        "  #if df=='train':\n",
        "    #retourner les val et label\n",
        "   # return x,yt\n",
        " # else:\n",
        "  #  return x,yt"
      ]
    },
    {
      "cell_type": "code",
      "execution_count": null,
      "metadata": {
        "colab": {
          "base_uri": "https://localhost:8080/"
        },
        "id": "6O5kbNFLA2wV",
        "outputId": "46079f35-dcc2-44d8-ba3d-3dbf09597801"
      },
      "outputs": [
        {
          "output_type": "execute_result",
          "data": {
            "text/plain": [
              "(125793, 2)"
            ]
          },
          "metadata": {},
          "execution_count": 9
        }
      ],
      "source": [
        "#le 1 er var sera pour features et 2em pour label\n",
        "x_valid,y_valid=preprocessing(data_valid,cls='binary',df='valid')\n",
        "x_train,y_train=preprocessing(data_train,cls='binary',df='train')\n",
        "y_train.shape\n"
      ]
    },
    {
      "cell_type": "code",
      "execution_count": null,
      "metadata": {
        "colab": {
          "base_uri": "https://localhost:8080/"
        },
        "id": "6mjMA4bcFkY4",
        "outputId": "c2f0dfc8-5108-4c5e-9ce5-ebca393af6ce"
      },
      "outputs": [
        {
          "output_type": "execute_result",
          "data": {
            "text/plain": [
              "(125793, 83, 1)"
            ]
          },
          "metadata": {},
          "execution_count": 10
        }
      ],
      "source": [
        "import numpy as np\n",
        "x_train = np.reshape(x_train, (x_train.shape[0], x_train.shape[1], 1))\n",
        "x_train.shape\n",
        "\n",
        "\n",
        "\n"
      ]
    },
    {
      "cell_type": "code",
      "execution_count": null,
      "metadata": {
        "colab": {
          "base_uri": "https://localhost:8080/"
        },
        "id": "IooTt8mxzRPN",
        "outputId": "97bde672-95c4-4c33-88e8-29963d47151e"
      },
      "outputs": [
        {
          "output_type": "execute_result",
          "data": {
            "text/plain": [
              "(22525, 83, 1)"
            ]
          },
          "metadata": {},
          "execution_count": 11
        }
      ],
      "source": [
        "x_valid = np.reshape(x_valid, (x_valid.shape[0], x_valid.shape[1], 1))\n",
        "x_valid.shape\n",
        "\n"
      ]
    },
    {
      "cell_type": "markdown",
      "metadata": {
        "id": "GMVXjwflmQ_Q"
      },
      "source": [
        "## **3.Define the model**\n",
        "\n"
      ]
    },
    {
      "cell_type": "code",
      "execution_count": null,
      "metadata": {
        "id": "wuHn2mqimZdj"
      },
      "outputs": [],
      "source": [
        "#instancier le modéle\n",
        "from tensorflow.keras.models import Sequential\n",
        "model=Sequential()\n",
        "#Créer la couche entrée totalement connecté avec la couche dense\n",
        "from tensorflow.keras.layers import Conv1D, Dense, Dropout, Flatten, MaxPooling1D , AveragePooling1D,BatchNormalization\n",
        "from tensorflow.keras.layers import LeakyReLU\n",
        "\n"
      ]
    },
    {
      "cell_type": "code",
      "execution_count": null,
      "metadata": {
        "id": "eOb0sH7Y9ZGe"
      },
      "outputs": [],
      "source": [
        "#model.add(Conv1D(32,3, padding=\"same\",activation=\"relu\",input_shape = (x_train.shape[1], 1)))\n",
        "model.add(Conv1D(32,kernel_size =5,padding=\"same\",input_shape = (x_train.shape[1], 1) ,activation='relu'))\n",
        "#model.add(LeakyReLU(alpha=0.1))\n",
        "model.add(BatchNormalization())\n",
        "model.add(AveragePooling1D(pool_size=2))\n",
        "model.add(Dropout(0.05))\n",
        "#model.add(MaxPooling1D(pool_size=(4)))\n",
        "model.add(Flatten())\n",
        "#model.add(Dropout(0.5))\n",
        "#(83*32)/4=664\n",
        "model.add(Dense(units=664,activation='relu'))\n",
        "#model.add(LeakyReLU(alpha=0.1))\n",
        "model.add(Dense(2, activation=\"softmax\"))"
      ]
    },
    {
      "cell_type": "code",
      "source": [
        "model.summary() #sert afficher résumé"
      ],
      "metadata": {
        "colab": {
          "base_uri": "https://localhost:8080/"
        },
        "id": "IS7F_PcM0hG_",
        "outputId": "ca79126d-aa0d-4e54-e42e-c2bf29742174"
      },
      "execution_count": null,
      "outputs": [
        {
          "output_type": "stream",
          "name": "stdout",
          "text": [
            "Model: \"sequential\"\n",
            "_________________________________________________________________\n",
            " Layer (type)                Output Shape              Param #   \n",
            "=================================================================\n",
            " conv1d (Conv1D)             (None, 83, 32)            192       \n",
            "                                                                 \n",
            " batch_normalization (BatchN  (None, 83, 32)           128       \n",
            " ormalization)                                                   \n",
            "                                                                 \n",
            " average_pooling1d (AverageP  (None, 41, 32)           0         \n",
            " ooling1D)                                                       \n",
            "                                                                 \n",
            " dropout (Dropout)           (None, 41, 32)            0         \n",
            "                                                                 \n",
            " flatten (Flatten)           (None, 1312)              0         \n",
            "                                                                 \n",
            " dense (Dense)               (None, 664)               871832    \n",
            "                                                                 \n",
            " dense_1 (Dense)             (None, 2)                 1330      \n",
            "                                                                 \n",
            "=================================================================\n",
            "Total params: 873,482\n",
            "Trainable params: 873,418\n",
            "Non-trainable params: 64\n",
            "_________________________________________________________________\n"
          ]
        }
      ]
    },
    {
      "cell_type": "markdown",
      "source": [
        "**The learning rate** is a hyperparameter that controls how much to change the model in response to the estimated error each time the model weights are updated. Choosing the learning rate is challenging as a value too small may result in a long training process that could get stuck, whereas a value too large may result in learning a sub-optimal set of weights too fast or an unstable training process.\n",
        "\n",
        "The learning rate may be the most important hyperparameter when configuring your neural network. Therefore it is vital to know how to investigate the effects of the learning rate on model performance and to build an intuition about the dynamics of the learning rate on model behavior."
      ],
      "metadata": {
        "id": "vy4HLJeR9QSP"
      }
    },
    {
      "cell_type": "markdown",
      "source": [
        "## **4.Compile the model**"
      ],
      "metadata": {
        "id": "NHmXUL0ajkPU"
      }
    },
    {
      "cell_type": "code",
      "execution_count": null,
      "metadata": {
        "id": "PDPu5DFWASEE"
      },
      "outputs": [],
      "source": [
        "from tensorflow import keras\n",
        "#opt = keras.optimizers.Adam(learning_rate=0.0001)\n",
        "model.compile(optimizer ='adam',loss = 'categorical_crossentropy', metrics = ['accuracy',keras.metrics.Precision()])\n"
      ]
    },
    {
      "cell_type": "markdown",
      "source": [
        "## **5.Fit the model**"
      ],
      "metadata": {
        "id": "ygR7nBG1jw1Q"
      }
    },
    {
      "cell_type": "code",
      "source": [
        "#model.fit(x_train, y_train, epochs = 100, batch_size =1000)\n",
        "model.fit(x_train, y_train, epochs =85,batch_size =1000,validation_data=(x_valid,y_valid))"
      ],
      "metadata": {
        "colab": {
          "base_uri": "https://localhost:8080/"
        },
        "id": "NPZWxB4GjqdP",
        "outputId": "367b72ba-5af2-439d-9d7d-d26e68924f16"
      },
      "execution_count": null,
      "outputs": [
        {
          "output_type": "stream",
          "name": "stdout",
          "text": [
            "Epoch 1/85\n",
            "126/126 [==============================] - 14s 25ms/step - loss: 0.1415 - accuracy: 0.9537 - precision: 0.9537 - val_loss: 0.5411 - val_accuracy: 0.7828 - val_precision: 0.7828\n",
            "Epoch 2/85\n",
            "126/126 [==============================] - 2s 18ms/step - loss: 0.1163 - accuracy: 0.9613 - precision: 0.9613 - val_loss: 0.4951 - val_accuracy: 0.7839 - val_precision: 0.7839\n",
            "Epoch 3/85\n",
            "126/126 [==============================] - 2s 17ms/step - loss: 0.1030 - accuracy: 0.9623 - precision: 0.9623 - val_loss: 0.4293 - val_accuracy: 0.7837 - val_precision: 0.7837\n",
            "Epoch 4/85\n",
            "126/126 [==============================] - 2s 17ms/step - loss: 0.0903 - accuracy: 0.9672 - precision: 0.9672 - val_loss: 0.4285 - val_accuracy: 0.7763 - val_precision: 0.7763\n",
            "Epoch 5/85\n",
            "126/126 [==============================] - 2s 19ms/step - loss: 0.0857 - accuracy: 0.9685 - precision: 0.9685 - val_loss: 0.4823 - val_accuracy: 0.7987 - val_precision: 0.7987\n",
            "Epoch 6/85\n",
            "126/126 [==============================] - 2s 17ms/step - loss: 0.0849 - accuracy: 0.9687 - precision: 0.9687 - val_loss: 0.5444 - val_accuracy: 0.8038 - val_precision: 0.8038\n",
            "Epoch 7/85\n",
            "126/126 [==============================] - 2s 17ms/step - loss: 0.0844 - accuracy: 0.9688 - precision: 0.9688 - val_loss: 0.6161 - val_accuracy: 0.7987 - val_precision: 0.7987\n",
            "Epoch 8/85\n",
            "126/126 [==============================] - 2s 18ms/step - loss: 0.0840 - accuracy: 0.9691 - precision: 0.9691 - val_loss: 0.6551 - val_accuracy: 0.7987 - val_precision: 0.7987\n",
            "Epoch 9/85\n",
            "126/126 [==============================] - 2s 18ms/step - loss: 0.0836 - accuracy: 0.9690 - precision: 0.9690 - val_loss: 0.6391 - val_accuracy: 0.7987 - val_precision: 0.7987\n",
            "Epoch 10/85\n",
            "126/126 [==============================] - 2s 17ms/step - loss: 0.0833 - accuracy: 0.9693 - precision: 0.9693 - val_loss: 0.7507 - val_accuracy: 0.7904 - val_precision: 0.7904\n",
            "Epoch 11/85\n",
            "126/126 [==============================] - 2s 18ms/step - loss: 0.0826 - accuracy: 0.9693 - precision: 0.9693 - val_loss: 0.6932 - val_accuracy: 0.7843 - val_precision: 0.7843\n",
            "Epoch 12/85\n",
            "126/126 [==============================] - 2s 17ms/step - loss: 0.0827 - accuracy: 0.9692 - precision: 0.9692 - val_loss: 0.6149 - val_accuracy: 0.7988 - val_precision: 0.7988\n",
            "Epoch 13/85\n",
            "126/126 [==============================] - 2s 17ms/step - loss: 0.0825 - accuracy: 0.9692 - precision: 0.9692 - val_loss: 0.6227 - val_accuracy: 0.8089 - val_precision: 0.8089\n",
            "Epoch 14/85\n",
            "126/126 [==============================] - 2s 17ms/step - loss: 0.0819 - accuracy: 0.9697 - precision: 0.9697 - val_loss: 0.7709 - val_accuracy: 0.7840 - val_precision: 0.7840\n",
            "Epoch 15/85\n",
            "126/126 [==============================] - 2s 17ms/step - loss: 0.0818 - accuracy: 0.9695 - precision: 0.9695 - val_loss: 0.6749 - val_accuracy: 0.7987 - val_precision: 0.7987\n",
            "Epoch 16/85\n",
            "126/126 [==============================] - 2s 17ms/step - loss: 0.0819 - accuracy: 0.9698 - precision: 0.9698 - val_loss: 0.7154 - val_accuracy: 0.7913 - val_precision: 0.7913\n",
            "Epoch 17/85\n",
            "126/126 [==============================] - 2s 18ms/step - loss: 0.0819 - accuracy: 0.9698 - precision: 0.9698 - val_loss: 0.7122 - val_accuracy: 0.7989 - val_precision: 0.7989\n",
            "Epoch 18/85\n",
            "126/126 [==============================] - 2s 18ms/step - loss: 0.0816 - accuracy: 0.9696 - precision: 0.9696 - val_loss: 0.8164 - val_accuracy: 0.7848 - val_precision: 0.7848\n",
            "Epoch 19/85\n",
            "126/126 [==============================] - 2s 17ms/step - loss: 0.0817 - accuracy: 0.9699 - precision: 0.9699 - val_loss: 0.6313 - val_accuracy: 0.8090 - val_precision: 0.8090\n",
            "Epoch 20/85\n",
            "126/126 [==============================] - 2s 19ms/step - loss: 0.0811 - accuracy: 0.9701 - precision: 0.9701 - val_loss: 0.8009 - val_accuracy: 0.7982 - val_precision: 0.7982\n",
            "Epoch 21/85\n",
            "126/126 [==============================] - 2s 19ms/step - loss: 0.0812 - accuracy: 0.9701 - precision: 0.9701 - val_loss: 0.7258 - val_accuracy: 0.8076 - val_precision: 0.8076\n",
            "Epoch 22/85\n",
            "126/126 [==============================] - 2s 18ms/step - loss: 0.0808 - accuracy: 0.9703 - precision: 0.9703 - val_loss: 0.7538 - val_accuracy: 0.7947 - val_precision: 0.7947\n",
            "Epoch 23/85\n",
            "126/126 [==============================] - 2s 17ms/step - loss: 0.0806 - accuracy: 0.9705 - precision: 0.9705 - val_loss: 0.6969 - val_accuracy: 0.8082 - val_precision: 0.8082\n",
            "Epoch 24/85\n",
            "126/126 [==============================] - 2s 17ms/step - loss: 0.0805 - accuracy: 0.9706 - precision: 0.9706 - val_loss: 0.7423 - val_accuracy: 0.8083 - val_precision: 0.8083\n",
            "Epoch 25/85\n",
            "126/126 [==============================] - 2s 17ms/step - loss: 0.0803 - accuracy: 0.9708 - precision: 0.9708 - val_loss: 0.7074 - val_accuracy: 0.8090 - val_precision: 0.8090\n",
            "Epoch 26/85\n",
            "126/126 [==============================] - 2s 17ms/step - loss: 0.0802 - accuracy: 0.9709 - precision: 0.9709 - val_loss: 0.7014 - val_accuracy: 0.8084 - val_precision: 0.8084\n",
            "Epoch 27/85\n",
            "126/126 [==============================] - 2s 19ms/step - loss: 0.0798 - accuracy: 0.9714 - precision: 0.9714 - val_loss: 0.8001 - val_accuracy: 0.7843 - val_precision: 0.7843\n",
            "Epoch 28/85\n",
            "126/126 [==============================] - 2s 17ms/step - loss: 0.0801 - accuracy: 0.9712 - precision: 0.9712 - val_loss: 0.7114 - val_accuracy: 0.8079 - val_precision: 0.8079\n",
            "Epoch 29/85\n",
            "126/126 [==============================] - 2s 18ms/step - loss: 0.0796 - accuracy: 0.9714 - precision: 0.9714 - val_loss: 0.7079 - val_accuracy: 0.7940 - val_precision: 0.7940\n",
            "Epoch 30/85\n",
            "126/126 [==============================] - 2s 18ms/step - loss: 0.0797 - accuracy: 0.9715 - precision: 0.9715 - val_loss: 0.5938 - val_accuracy: 0.8091 - val_precision: 0.8091\n",
            "Epoch 31/85\n",
            "126/126 [==============================] - 2s 17ms/step - loss: 0.0793 - accuracy: 0.9720 - precision: 0.9720 - val_loss: 0.6515 - val_accuracy: 0.8089 - val_precision: 0.8089\n",
            "Epoch 32/85\n",
            "126/126 [==============================] - 2s 17ms/step - loss: 0.0791 - accuracy: 0.9717 - precision: 0.9717 - val_loss: 0.6864 - val_accuracy: 0.8083 - val_precision: 0.8083\n",
            "Epoch 33/85\n",
            "126/126 [==============================] - 2s 17ms/step - loss: 0.0784 - accuracy: 0.9721 - precision: 0.9721 - val_loss: 0.6473 - val_accuracy: 0.8091 - val_precision: 0.8091\n",
            "Epoch 34/85\n",
            "126/126 [==============================] - 2s 19ms/step - loss: 0.0787 - accuracy: 0.9720 - precision: 0.9720 - val_loss: 0.7613 - val_accuracy: 0.8083 - val_precision: 0.8083\n",
            "Epoch 35/85\n",
            "126/126 [==============================] - 2s 19ms/step - loss: 0.0782 - accuracy: 0.9724 - precision: 0.9724 - val_loss: 0.6717 - val_accuracy: 0.8091 - val_precision: 0.8091\n",
            "Epoch 36/85\n",
            "126/126 [==============================] - 2s 19ms/step - loss: 0.0781 - accuracy: 0.9724 - precision: 0.9724 - val_loss: 0.7295 - val_accuracy: 0.8072 - val_precision: 0.8072\n",
            "Epoch 37/85\n",
            "126/126 [==============================] - 2s 17ms/step - loss: 0.0777 - accuracy: 0.9726 - precision: 0.9726 - val_loss: 0.7648 - val_accuracy: 0.7790 - val_precision: 0.7790\n",
            "Epoch 38/85\n",
            "126/126 [==============================] - 2s 18ms/step - loss: 0.0775 - accuracy: 0.9724 - precision: 0.9724 - val_loss: 0.6562 - val_accuracy: 0.7926 - val_precision: 0.7926\n",
            "Epoch 39/85\n",
            "126/126 [==============================] - 2s 19ms/step - loss: 0.0775 - accuracy: 0.9727 - precision: 0.9727 - val_loss: 0.7666 - val_accuracy: 0.7728 - val_precision: 0.7728\n",
            "Epoch 40/85\n",
            "126/126 [==============================] - 2s 18ms/step - loss: 0.0774 - accuracy: 0.9727 - precision: 0.9727 - val_loss: 0.6823 - val_accuracy: 0.8085 - val_precision: 0.8085\n",
            "Epoch 41/85\n",
            "126/126 [==============================] - 2s 19ms/step - loss: 0.0772 - accuracy: 0.9726 - precision: 0.9726 - val_loss: 0.7811 - val_accuracy: 0.7729 - val_precision: 0.7729\n",
            "Epoch 42/85\n",
            "126/126 [==============================] - 2s 18ms/step - loss: 0.0773 - accuracy: 0.9726 - precision: 0.9726 - val_loss: 0.7529 - val_accuracy: 0.7787 - val_precision: 0.7787\n",
            "Epoch 43/85\n",
            "126/126 [==============================] - 2s 19ms/step - loss: 0.0770 - accuracy: 0.9727 - precision: 0.9727 - val_loss: 0.7084 - val_accuracy: 0.7794 - val_precision: 0.7794\n",
            "Epoch 44/85\n",
            "126/126 [==============================] - 2s 18ms/step - loss: 0.0769 - accuracy: 0.9727 - precision: 0.9727 - val_loss: 0.5756 - val_accuracy: 0.8093 - val_precision: 0.8093\n",
            "Epoch 45/85\n",
            "126/126 [==============================] - 2s 18ms/step - loss: 0.0770 - accuracy: 0.9723 - precision: 0.9723 - val_loss: 0.6728 - val_accuracy: 0.8086 - val_precision: 0.8086\n",
            "Epoch 46/85\n",
            "126/126 [==============================] - 2s 19ms/step - loss: 0.0768 - accuracy: 0.9726 - precision: 0.9726 - val_loss: 0.7024 - val_accuracy: 0.8084 - val_precision: 0.8084\n",
            "Epoch 47/85\n",
            "126/126 [==============================] - 2s 17ms/step - loss: 0.0765 - accuracy: 0.9729 - precision: 0.9729 - val_loss: 0.7317 - val_accuracy: 0.7792 - val_precision: 0.7792\n",
            "Epoch 48/85\n",
            "126/126 [==============================] - 2s 19ms/step - loss: 0.0767 - accuracy: 0.9728 - precision: 0.9728 - val_loss: 0.6747 - val_accuracy: 0.7984 - val_precision: 0.7984\n",
            "Epoch 49/85\n",
            "126/126 [==============================] - 2s 19ms/step - loss: 0.0767 - accuracy: 0.9730 - precision: 0.9730 - val_loss: 0.7486 - val_accuracy: 0.7786 - val_precision: 0.7786\n",
            "Epoch 50/85\n",
            "126/126 [==============================] - 2s 18ms/step - loss: 0.0765 - accuracy: 0.9729 - precision: 0.9729 - val_loss: 0.7769 - val_accuracy: 0.7835 - val_precision: 0.7835\n",
            "Epoch 51/85\n",
            "126/126 [==============================] - 2s 18ms/step - loss: 0.0764 - accuracy: 0.9728 - precision: 0.9728 - val_loss: 0.6115 - val_accuracy: 0.7952 - val_precision: 0.7952\n",
            "Epoch 52/85\n",
            "126/126 [==============================] - 2s 18ms/step - loss: 0.0764 - accuracy: 0.9730 - precision: 0.9730 - val_loss: 0.7028 - val_accuracy: 0.7946 - val_precision: 0.7946\n",
            "Epoch 53/85\n",
            "126/126 [==============================] - 2s 19ms/step - loss: 0.0763 - accuracy: 0.9728 - precision: 0.9728 - val_loss: 0.5928 - val_accuracy: 0.8308 - val_precision: 0.8308\n",
            "Epoch 54/85\n",
            "126/126 [==============================] - 2s 18ms/step - loss: 0.0764 - accuracy: 0.9728 - precision: 0.9728 - val_loss: 0.7039 - val_accuracy: 0.8002 - val_precision: 0.8002\n",
            "Epoch 55/85\n",
            "126/126 [==============================] - 2s 18ms/step - loss: 0.0763 - accuracy: 0.9730 - precision: 0.9730 - val_loss: 0.5476 - val_accuracy: 0.7960 - val_precision: 0.7960\n",
            "Epoch 56/85\n",
            "126/126 [==============================] - 2s 18ms/step - loss: 0.0762 - accuracy: 0.9728 - precision: 0.9728 - val_loss: 0.7036 - val_accuracy: 0.8217 - val_precision: 0.8217\n",
            "Epoch 57/85\n",
            "126/126 [==============================] - 2s 19ms/step - loss: 0.0763 - accuracy: 0.9728 - precision: 0.9728 - val_loss: 0.5672 - val_accuracy: 0.8099 - val_precision: 0.8099\n",
            "Epoch 58/85\n",
            "126/126 [==============================] - 2s 18ms/step - loss: 0.0763 - accuracy: 0.9730 - precision: 0.9730 - val_loss: 0.6257 - val_accuracy: 0.8172 - val_precision: 0.8172\n",
            "Epoch 59/85\n",
            "126/126 [==============================] - 2s 18ms/step - loss: 0.0760 - accuracy: 0.9731 - precision: 0.9731 - val_loss: 0.6366 - val_accuracy: 0.8307 - val_precision: 0.8307\n",
            "Epoch 60/85\n",
            "126/126 [==============================] - 2s 19ms/step - loss: 0.0761 - accuracy: 0.9732 - precision: 0.9732 - val_loss: 0.5944 - val_accuracy: 0.8178 - val_precision: 0.8178\n",
            "Epoch 61/85\n",
            "126/126 [==============================] - 2s 19ms/step - loss: 0.0760 - accuracy: 0.9729 - precision: 0.9729 - val_loss: 0.7033 - val_accuracy: 0.8176 - val_precision: 0.8176\n",
            "Epoch 62/85\n",
            "126/126 [==============================] - 2s 18ms/step - loss: 0.0759 - accuracy: 0.9730 - precision: 0.9730 - val_loss: 0.5556 - val_accuracy: 0.8367 - val_precision: 0.8367\n",
            "Epoch 63/85\n",
            "126/126 [==============================] - 2s 18ms/step - loss: 0.0758 - accuracy: 0.9728 - precision: 0.9728 - val_loss: 0.6221 - val_accuracy: 0.7957 - val_precision: 0.7957\n",
            "Epoch 64/85\n",
            "126/126 [==============================] - 2s 18ms/step - loss: 0.0761 - accuracy: 0.9730 - precision: 0.9730 - val_loss: 0.5579 - val_accuracy: 0.8321 - val_precision: 0.8321\n",
            "Epoch 65/85\n",
            "126/126 [==============================] - 2s 18ms/step - loss: 0.0758 - accuracy: 0.9731 - precision: 0.9731 - val_loss: 0.6665 - val_accuracy: 0.8302 - val_precision: 0.8302\n",
            "Epoch 66/85\n",
            "126/126 [==============================] - 2s 18ms/step - loss: 0.0757 - accuracy: 0.9730 - precision: 0.9730 - val_loss: 0.6193 - val_accuracy: 0.8307 - val_precision: 0.8307\n",
            "Epoch 67/85\n",
            "126/126 [==============================] - 2s 19ms/step - loss: 0.0756 - accuracy: 0.9732 - precision: 0.9732 - val_loss: 0.5455 - val_accuracy: 0.8179 - val_precision: 0.8179\n",
            "Epoch 68/85\n",
            "126/126 [==============================] - 2s 18ms/step - loss: 0.0756 - accuracy: 0.9731 - precision: 0.9731 - val_loss: 0.6335 - val_accuracy: 0.8369 - val_precision: 0.8369\n",
            "Epoch 69/85\n",
            "126/126 [==============================] - 2s 19ms/step - loss: 0.0757 - accuracy: 0.9730 - precision: 0.9730 - val_loss: 0.7212 - val_accuracy: 0.8168 - val_precision: 0.8168\n",
            "Epoch 70/85\n",
            "126/126 [==============================] - 2s 19ms/step - loss: 0.0756 - accuracy: 0.9732 - precision: 0.9732 - val_loss: 0.6175 - val_accuracy: 0.8313 - val_precision: 0.8313\n",
            "Epoch 71/85\n",
            "126/126 [==============================] - 2s 19ms/step - loss: 0.0754 - accuracy: 0.9733 - precision: 0.9733 - val_loss: 0.6683 - val_accuracy: 0.8169 - val_precision: 0.8169\n",
            "Epoch 72/85\n",
            "126/126 [==============================] - 2s 18ms/step - loss: 0.0755 - accuracy: 0.9729 - precision: 0.9729 - val_loss: 0.7262 - val_accuracy: 0.8162 - val_precision: 0.8162\n",
            "Epoch 73/85\n",
            "126/126 [==============================] - 2s 19ms/step - loss: 0.0754 - accuracy: 0.9734 - precision: 0.9734 - val_loss: 0.6919 - val_accuracy: 0.7950 - val_precision: 0.7950\n",
            "Epoch 74/85\n",
            "126/126 [==============================] - 2s 18ms/step - loss: 0.0753 - accuracy: 0.9735 - precision: 0.9735 - val_loss: 0.5408 - val_accuracy: 0.8322 - val_precision: 0.8322\n",
            "Epoch 75/85\n",
            "126/126 [==============================] - 2s 18ms/step - loss: 0.0753 - accuracy: 0.9734 - precision: 0.9734 - val_loss: 0.5961 - val_accuracy: 0.8312 - val_precision: 0.8312\n",
            "Epoch 76/85\n",
            "126/126 [==============================] - 2s 19ms/step - loss: 0.0752 - accuracy: 0.9736 - precision: 0.9736 - val_loss: 0.6492 - val_accuracy: 0.8314 - val_precision: 0.8314\n",
            "Epoch 77/85\n",
            "126/126 [==============================] - 2s 18ms/step - loss: 0.0755 - accuracy: 0.9734 - precision: 0.9734 - val_loss: 0.6517 - val_accuracy: 0.8306 - val_precision: 0.8306\n",
            "Epoch 78/85\n",
            "126/126 [==============================] - 2s 18ms/step - loss: 0.0753 - accuracy: 0.9734 - precision: 0.9734 - val_loss: 0.7649 - val_accuracy: 0.8149 - val_precision: 0.8149\n",
            "Epoch 79/85\n",
            "126/126 [==============================] - 2s 18ms/step - loss: 0.0752 - accuracy: 0.9735 - precision: 0.9735 - val_loss: 0.6093 - val_accuracy: 0.8316 - val_precision: 0.8316\n",
            "Epoch 80/85\n",
            "126/126 [==============================] - 2s 18ms/step - loss: 0.0753 - accuracy: 0.9733 - precision: 0.9733 - val_loss: 0.7731 - val_accuracy: 0.8168 - val_precision: 0.8168\n",
            "Epoch 81/85\n",
            "126/126 [==============================] - 2s 18ms/step - loss: 0.0749 - accuracy: 0.9733 - precision: 0.9733 - val_loss: 0.6318 - val_accuracy: 0.8217 - val_precision: 0.8217\n",
            "Epoch 82/85\n",
            "126/126 [==============================] - 2s 18ms/step - loss: 0.0749 - accuracy: 0.9737 - precision: 0.9737 - val_loss: 0.5841 - val_accuracy: 0.8310 - val_precision: 0.8310\n",
            "Epoch 83/85\n",
            "126/126 [==============================] - 2s 17ms/step - loss: 0.0751 - accuracy: 0.9736 - precision: 0.9736 - val_loss: 0.5987 - val_accuracy: 0.8317 - val_precision: 0.8317\n",
            "Epoch 84/85\n",
            "126/126 [==============================] - 2s 19ms/step - loss: 0.0749 - accuracy: 0.9736 - precision: 0.9736 - val_loss: 0.6676 - val_accuracy: 0.8176 - val_precision: 0.8176\n",
            "Epoch 85/85\n",
            "126/126 [==============================] - 2s 19ms/step - loss: 0.0752 - accuracy: 0.9734 - precision: 0.9734 - val_loss: 0.6738 - val_accuracy: 0.8305 - val_precision: 0.8305\n"
          ]
        },
        {
          "output_type": "execute_result",
          "data": {
            "text/plain": [
              "<keras.callbacks.History at 0x7f22b0663c50>"
            ]
          },
          "metadata": {},
          "execution_count": 16
        }
      ]
    },
    {
      "cell_type": "code",
      "source": [
        "keras.utils.plot_model(model, 'my_first_model.png', show_shapes=True)"
      ],
      "metadata": {
        "colab": {
          "base_uri": "https://localhost:8080/",
          "height": 865
        },
        "id": "SBBgVLarFaiz",
        "outputId": "b72c0295-6dbf-48d4-ecbb-ddbc7ab3ce8a"
      },
      "execution_count": null,
      "outputs": [
        {
          "output_type": "execute_result",
          "data": {
            "text/plain": [
              "<IPython.core.display.Image object>"
            ],
            "image/png": "[encoded data removed]"
          },
          "metadata": {},
          "execution_count": 17
        }
      ]
    }
  ],
  "metadata": {
    "colab": {
      "collapsed_sections": [],
      "name": "CNN.ipynb",
      "provenance": [],
      "include_colab_link": true
    },
    "kernelspec": {
      "display_name": "Python 3",
      "name": "python3"
    },
    "language_info": {
      "name": "python"
    },
    "accelerator": "GPU"
  },
  "nbformat": 4,
  "nbformat_minor": 0
}