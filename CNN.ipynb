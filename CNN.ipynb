{
  "cells": [
    {
      "cell_type": "markdown",
      "metadata": {
        "id": "view-in-github",
        "colab_type": "text"
      },
      "source": [
        "<a href=\"https://colab.research.google.com/github/amina04/CNN-lstm/blob/main/CNN.ipynb\" target=\"_parent\"><img src=\"https://colab.research.google.com/assets/colab-badge.svg\" alt=\"Open In Colab\"/></a>"
      ]
    },
    {
      "cell_type": "code",
      "execution_count": 401,
      "metadata": {
        "id": "8DFZ7bj9lvkL"
      },
      "outputs": [],
      "source": [
        "from google.colab import drive\n",
        "from sklearn.preprocessing import MinMaxScaler"
      ]
    },
    {
      "cell_type": "code",
      "execution_count": 402,
      "metadata": {
        "colab": {
          "base_uri": "https://localhost:8080/"
        },
        "id": "A6s0CK1nl0y2",
        "outputId": "71f8b5e9-6583-4daf-c8b5-64b25cf4ba6f"
      },
      "outputs": [
        {
          "output_type": "stream",
          "name": "stdout",
          "text": [
            "Drive already mounted at /content/drive; to attempt to forcibly remount, call drive.mount(\"/content/drive\", force_remount=True).\n"
          ]
        }
      ],
      "source": [
        "drive.mount('/content/drive')"
      ]
    },
    {
      "cell_type": "markdown",
      "metadata": {
        "id": "51dfIJmkDCTE"
      },
      "source": [
        "la bibliothéque pandas nous donne le droit de travailler avec la format csv"
      ]
    },
    {
      "cell_type": "code",
      "execution_count": 403,
      "metadata": {
        "id": "_KbZ19tFmx9C"
      },
      "outputs": [],
      "source": [
        "import pandas as pd  "
      ]
    },
    {
      "cell_type": "markdown",
      "metadata": {
        "id": "KhWJRIY6DVv8"
      },
      "source": [
        "header sert a ajouter les indices ou data pour ne pas faire le 1 er row comme indice"
      ]
    },
    {
      "cell_type": "markdown",
      "metadata": {
        "id": "hJEfaBQuAH7D"
      },
      "source": [
        ""
      ]
    },
    {
      "cell_type": "code",
      "execution_count": 404,
      "metadata": {
        "id": "wuEOkN3jXm6l"
      },
      "outputs": [],
      "source": [
        "\n",
        "featureV=[\"duration\",\"protocol_type\",\"service\",\"flag\",\"src_bytes\",\"dst_bytes\",\"land\",\"wrong_fragment\",\"urgent\",\"hot\",\n",
        "          \"num_failed_logins\",\"logged_in\",\"num_compromised\",\"root_shell\",\"su_attempted\",\"num_root\",\"num_file_creations\",\"num_shells\",\n",
        "          \"num_access_files\",\"num_outbound_cmds\",\"is_host_login\",\"is_guest_login\",\"count\",\"srv_count\",\"serror_rate\",\"srv_serror_rate\",\n",
        "          \"rerror_rate\",\"srv_rerror_rate\",\"same_srv_rate\",\"diff_srv_rate\",\"srv_diff_host_rate\",\"dst_host_count\",\"dst_host_srv_count\", \n",
        "          \"dst_host_same_srv_rate\",\"dst_host_diff_srv_rate\",\"dst_host_same_src_port_rate\",\"dst_host_srv_diff_host_rate\",\"dst_host_serror_rate\",\n",
        "          \"dst_host_srv_serror_rate\",\"dst_host_rerror_rate\",\"dst_host_srv_rerror_rate\",\"label\",\"difficulty\"]\n",
        "\n",
        "flagV=['OTH','RSTOS0','SF','SH','RSTO','S2','S1','REJ','S3','RSTR','S0']\n",
        "\n",
        "protocol_typeV=['tcp','udp','icmp']\n",
        "\n",
        "serviceV=['http','smtp','finger','domain_u','auth','telnet','ftp','eco_i','ntp_u','ecr_i','other','private','pop_3','ftp_data',\n",
        "                  'rje','time','mtp','link','remote_job','gopher','ssh','name','whois','domain','login','imap4','daytime','ctf','nntp',\n",
        "                  'shell','IRC','nnsp','http_443','exec','printer','efs','courier','uucp','klogin','kshell','echo','discard','systat',\n",
        "                  'supdup','iso_tsap','hostnames','csnet_ns','pop_2','sunrpc','uucp_path','netbios_ns','netbios_ssn','netbios_dgm',\n",
        "                  'sql_net','vmnet','bgp','Z39_50','ldap','netstat','urh_i','X11','urp_i','pm_dump','tftp_u','tim_i','red_i','icmp',\n",
        "                  'http_2784','harvest','aol','http_8001']\n",
        "\n",
        "binary_attack=['normal','ipsweep', 'nmap', 'portsweep','satan', 'saint', 'mscan','back', 'land', 'neptune', 'pod', 'smurf',\n",
        "               'teardrop', 'apache2', 'udpstorm', 'processtable','mailbomb','buffer_overflow', 'loadmodule', 'perl', 'rootkit',\n",
        "               'xterm', 'ps', 'sqlattack','ftp_write', 'guess_passwd', 'imap', 'multihop','phf', 'spy', 'warezclient',\n",
        "               'warezmaster','snmpgetattack','named', 'xlock', 'xsnoop','sendmail', 'httptunnel', 'worm', 'snmpguess']\n",
        "\n",
        "multiclass_attack={ 'normal': 'normal',\n",
        "        'probe': ['ipsweep.', 'nmap.', 'portsweep.','satan.', 'saint.', 'mscan.'],\n",
        "        'dos': ['back.', 'land.', 'neptune.', 'pod.', 'smurf.','teardrop.', 'apache2.', 'udpstorm.', 'processtable.','mailbomb.'],\n",
        "        'u2r': ['buffer_overflow.', 'loadmodule.', 'perl.', 'rootkit.','xterm.', 'ps.', 'sqlattack.'],\n",
        "        'r2l': ['ftp_write.', 'guess_passwd.', 'imap.', 'multihop.','phf.', 'spy.', 'warezclient.', 'warezmaster.','snmpgetattack.',\n",
        "                   'named.', 'xlock.', 'xsnoop.','sendmail.', 'httptunnel.', 'worm.', 'snmpguess.']}    "
      ]
    },
    {
      "cell_type": "code",
      "execution_count": 405,
      "metadata": {
        "id": "U68Zsb-vmzNP"
      },
      "outputs": [],
      "source": [
        "data_train=pd.read_csv('/content/drive/MyDrive/data/nsl-kdd/KDDTrain+.txt',names=featureV)\n",
        "data_valid=pd.read_csv('/content/drive/MyDrive/data/nsl-kdd/KDDTest+.txt',names=featureV)\n"
      ]
    },
    {
      "cell_type": "code",
      "execution_count": 406,
      "metadata": {
        "colab": {
          "base_uri": "https://localhost:8080/"
        },
        "id": "xnwDFzAbtkTD",
        "outputId": "9dc53c0b-b3c3-4f10-f7b3-7f5340f3ae45"
      },
      "outputs": [
        {
          "output_type": "execute_result",
          "data": {
            "text/plain": [
              "(125973, 43)"
            ]
          },
          "metadata": {},
          "execution_count": 406
        }
      ],
      "source": [
        "data_train.shape"
      ]
    },
    {
      "cell_type": "code",
      "execution_count": 407,
      "metadata": {
        "colab": {
          "base_uri": "https://localhost:8080/"
        },
        "id": "0nrknPMq_-kw",
        "outputId": "94d41390-8512-4024-9378-a78767e8cd7f"
      },
      "outputs": [
        {
          "output_type": "execute_result",
          "data": {
            "text/plain": [
              "(22544, 43)"
            ]
          },
          "metadata": {},
          "execution_count": 407
        }
      ],
      "source": [
        "data_valid.shape\n"
      ]
    },
    {
      "cell_type": "code",
      "execution_count": 408,
      "metadata": {
        "id": "DbGEztuI-daq"
      },
      "outputs": [],
      "source": [
        "data_train = data_train.query(\"service != 'aol'\")\n",
        "data_train = data_train.query(\"service != 'harvest'\")\n",
        "data_train = data_train.query(\"service != 'http_2784'\")\n",
        "data_train = data_train.query(\"service != 'http_8001'\")\n",
        "data_train = data_train.query(\"service != 'red_i'\")\n",
        "data_train = data_train.query(\"service != 'urh_i'\")\n",
        "data_train = data_train.query(\"service != 'printer'\")\n",
        "data_train = data_train.query(\"service != 'rje'\")\n",
        "#-------------------------------------------------------------------------------->>>>\n",
        "data_valid = data_valid.query(\"service != 'printer'\")\n",
        "data_valid = data_valid.query(\"service != 'rje'\")\n",
        "\n"
      ]
    },
    {
      "cell_type": "markdown",
      "metadata": {
        "id": "xtQUWgsy1hlo"
      },
      "source": [
        "## **Working with Validation data -Numericalization-**\n"
      ]
    },
    {
      "cell_type": "code",
      "execution_count": 409,
      "metadata": {
        "id": "GbYewACV11N0"
      },
      "outputs": [],
      "source": [
        "#data=données cls=classe binary or multiclass   df=train or test string\n",
        "def preprocessing(data,cls,df): \n",
        "  #----------attack categorization----------------->\n",
        "  data['label']=data['label'].replace(['normal.','normal'],0)\n",
        "  #----------------------binary classification--------------------->\n",
        "  if cls=='binary':\n",
        "    for i in range(len(binary_attack)):\n",
        "      data['label'] = data['label'].replace(binary_attack[i], 1)\n",
        "  #-------------------------splitting features and labels---------------->\n",
        "  y=data['label']\n",
        "  #partier de dataset qui contien les strings\n",
        "  x=data.loc[:,'duration':'hot']\n",
        "  #-----------------converting to binary feature vectors-------------------------------------->  \n",
        "  #on va copier column dans un variable \n",
        "  \n",
        "  t=x.protocol_type.copy()\n",
        "  #puis utiliser la fonction dumies qui transfer en binaire\n",
        "  t=pd.get_dummies(t)\n",
        "  #on va supprimer column l original qui contient string 1 ie tout rows de protocole type \n",
        "  x=x.drop(columns='protocol_type',axis=1)\n",
        "  #ajouter nouveau column qui contient binaire\n",
        "  x=x.join(t)\n",
        "\n",
        "  t1=x.service.copy()\n",
        "  t1=pd.get_dummies(t1)\n",
        "  x=x.drop(columns='service',axis=1)\n",
        "  x=x.join(t1)\n",
        "\n",
        "  t2=x.flag.copy()\n",
        "  t2=pd.get_dummies(t2)\n",
        "  x=x.drop(columns='flag',axis=1)\n",
        "  x=x.join(t2)\n",
        "#mettre tout les valeurs entre 0 et 1  normalization\n",
        "  x = MinMaxScaler(feature_range=(0, 1)).fit_transform(x)\n",
        "  #------------------------------------------------------------------------------>\n",
        "  #-----------------converting to binary label vectors  train--------------------------------------> \n",
        "  yt=y.copy()\n",
        "  yt=pd.get_dummies(yt)\n",
        "#------------------------------------------------------------------------------>\n",
        "  return x,yt\n",
        "  #if df=='train':\n",
        "    #retourner les val et label\n",
        "   # return x,yt\n",
        " # else:\n",
        "  #  return x,yt"
      ]
    },
    {
      "cell_type": "code",
      "execution_count": 410,
      "metadata": {
        "colab": {
          "base_uri": "https://localhost:8080/"
        },
        "id": "6O5kbNFLA2wV",
        "outputId": "0b5cf999-aa0e-48cd-9d91-4db8301c6472"
      },
      "outputs": [
        {
          "output_type": "execute_result",
          "data": {
            "text/plain": [
              "(125793, 2)"
            ]
          },
          "metadata": {},
          "execution_count": 410
        }
      ],
      "source": [
        "#le 1 er var sera pour features et 2em pour label\n",
        "x_valid,y_valid=preprocessing(data_valid,cls='binary',df='valid')\n",
        "x_train,y_train=preprocessing(data_train,cls='binary',df='train')\n",
        "y_train.shape\n"
      ]
    },
    {
      "cell_type": "markdown",
      "metadata": {
        "id": "MWpJP-ISrzWa"
      },
      "source": [
        "transformer de 1D-->2D car cnn travaille avec 2D \n",
        "train (83,1)"
      ]
    },
    {
      "cell_type": "code",
      "execution_count": 411,
      "metadata": {
        "colab": {
          "base_uri": "https://localhost:8080/"
        },
        "id": "6mjMA4bcFkY4",
        "outputId": "98b72c8f-11e0-41fc-ea4c-8611ef3e94df"
      },
      "outputs": [
        {
          "output_type": "execute_result",
          "data": {
            "text/plain": [
              "(125793, 83, 1)"
            ]
          },
          "metadata": {},
          "execution_count": 411
        }
      ],
      "source": [
        "import numpy as np\n",
        "x_train = np.reshape(x_train, (x_train.shape[0], x_train.shape[1], 1))\n",
        "x_train.shape\n",
        "#x_train=x_train.reshape(-1,13,7,1)\n",
        "#x_train.shape\n",
        "\n",
        "\n"
      ]
    },
    {
      "cell_type": "code",
      "execution_count": 412,
      "metadata": {
        "colab": {
          "base_uri": "https://localhost:8080/"
        },
        "id": "IooTt8mxzRPN",
        "outputId": "1f37f939-1c48-4699-f17e-d4f3fc75973c"
      },
      "outputs": [
        {
          "output_type": "execute_result",
          "data": {
            "text/plain": [
              "(22525, 83, 1)"
            ]
          },
          "metadata": {},
          "execution_count": 412
        }
      ],
      "source": [
        "x_valid = np.reshape(x_valid, (x_valid.shape[0], x_valid.shape[1], 1))\n",
        "x_valid.shape\n",
        "\n"
      ]
    },
    {
      "cell_type": "markdown",
      "metadata": {
        "id": "GMVXjwflmQ_Q"
      },
      "source": [
        "# **Création de model**\n",
        "\n"
      ]
    },
    {
      "cell_type": "code",
      "execution_count": 413,
      "metadata": {
        "id": "wuHn2mqimZdj"
      },
      "outputs": [],
      "source": [
        "#instancier le modéle\n",
        "from tensorflow.keras.models import Sequential\n",
        "model=Sequential()\n",
        "#Créer la couche entrée totalement connecté avec la couche dense\n",
        "from tensorflow.keras.layers import Conv1D, Dense, Dropout, Flatten, MaxPooling1D , AveragePooling1D,BatchNormalization\n",
        "from tensorflow.keras.layers import LeakyReLU\n",
        "\n"
      ]
    },
    {
      "cell_type": "code",
      "execution_count": 414,
      "metadata": {
        "id": "eOb0sH7Y9ZGe"
      },
      "outputs": [],
      "source": [
        "#model.add(Conv1D(32,3, padding=\"same\",activation=\"relu\",input_shape = (x_train.shape[1], 1)))\n",
        "model.add(Conv1D(32,kernel_size =5,padding=\"same\",input_shape = (x_train.shape[1], 1) ))\n",
        "model.add(LeakyReLU(alpha=0.1))\n",
        "model.add(BatchNormalization())\n",
        "model.add(AveragePooling1D(pool_size=2))\n",
        "model.add(Dropout(0.05))\n",
        "#model.add(MaxPooling1D(pool_size=(4)))\n",
        "model.add(Flatten())\n",
        "#model.add(Dropout(0.5))\n",
        "#(83*32)/4=664\n",
        "model.add(Dense(units=664))\n",
        "model.add(LeakyReLU(alpha=0.1))\n",
        "model.add(Dense(2, activation=\"softmax\"))"
      ]
    },
    {
      "cell_type": "code",
      "source": [
        "model.summary()"
      ],
      "metadata": {
        "colab": {
          "base_uri": "https://localhost:8080/"
        },
        "id": "IS7F_PcM0hG_",
        "outputId": "9eaf863f-7d12-4b07-d517-f7045f12a3b5"
      },
      "execution_count": 415,
      "outputs": [
        {
          "output_type": "stream",
          "name": "stdout",
          "text": [
            "Model: \"sequential_25\"\n",
            "_________________________________________________________________\n",
            " Layer (type)                Output Shape              Param #   \n",
            "=================================================================\n",
            " conv1d_25 (Conv1D)          (None, 83, 32)            192       \n",
            "                                                                 \n",
            " leaky_re_lu_49 (LeakyReLU)  (None, 83, 32)            0         \n",
            "                                                                 \n",
            " batch_normalization_25 (Bat  (None, 83, 32)           128       \n",
            " chNormalization)                                                \n",
            "                                                                 \n",
            " average_pooling1d_25 (Avera  (None, 41, 32)           0         \n",
            " gePooling1D)                                                    \n",
            "                                                                 \n",
            " dropout_25 (Dropout)        (None, 41, 32)            0         \n",
            "                                                                 \n",
            " flatten_25 (Flatten)        (None, 1312)              0         \n",
            "                                                                 \n",
            " dense_49 (Dense)            (None, 664)               871832    \n",
            "                                                                 \n",
            " leaky_re_lu_50 (LeakyReLU)  (None, 664)               0         \n",
            "                                                                 \n",
            " dense_50 (Dense)            (None, 2)                 1330      \n",
            "                                                                 \n",
            "=================================================================\n",
            "Total params: 873,482\n",
            "Trainable params: 873,418\n",
            "Non-trainable params: 64\n",
            "_________________________________________________________________\n"
          ]
        }
      ]
    },
    {
      "cell_type": "markdown",
      "source": [
        "**The learning rate** is a hyperparameter that controls how much to change the model in response to the estimated error each time the model weights are updated. Choosing the learning rate is challenging as a value too small may result in a long training process that could get stuck, whereas a value too large may result in learning a sub-optimal set of weights too fast or an unstable training process.\n",
        "\n",
        "The learning rate may be the most important hyperparameter when configuring your neural network. Therefore it is vital to know how to investigate the effects of the learning rate on model performance and to build an intuition about the dynamics of the learning rate on model behavior."
      ],
      "metadata": {
        "id": "vy4HLJeR9QSP"
      }
    },
    {
      "cell_type": "code",
      "execution_count": null,
      "metadata": {
        "colab": {
          "base_uri": "https://localhost:8080/"
        },
        "id": "PDPu5DFWASEE",
        "outputId": "59d9d057-44fe-4f07-b15f-d6b74be0dcac"
      },
      "outputs": [
        {
          "output_type": "stream",
          "name": "stdout",
          "text": [
            "Epoch 1/85\n",
            "973/983 [============================>.] - ETA: 0s - loss: 0.1236 - accuracy: 0.9599 - precision_19: 0.9599"
          ]
        }
      ],
      "source": [
        "from tensorflow import keras\n",
        "#opt = keras.optimizers.Adam(learning_rate=0.0001)\n",
        "model.compile(optimizer ='adam',loss = 'categorical_crossentropy', metrics = ['accuracy',keras.metrics.Precision()])\n",
        "#model.fit(x_train, y_train, epochs = 100, batch_size =1000)\n",
        "model.fit(x_train, y_train, epochs =85,batch_size =128,validation_data=(x_valid,y_valid))"
      ]
    }
  ],
  "metadata": {
    "colab": {
      "collapsed_sections": [],
      "name": "CNN.ipynb",
      "provenance": [],
      "include_colab_link": true
    },
    "kernelspec": {
      "display_name": "Python 3",
      "name": "python3"
    },
    "language_info": {
      "name": "python"
    },
    "accelerator": "GPU"
  },
  "nbformat": 4,
  "nbformat_minor": 0
}