{
  "cells": [
    {
      "cell_type": "markdown",
      "metadata": {
        "id": "view-in-github",
        "colab_type": "text"
      },
      "source": [
        "<a href=\"https://colab.research.google.com/github/amina04/CNN-lstm/blob/main/LSTM_cicids2017.ipynb\" target=\"_parent\"><img src=\"https://colab.research.google.com/assets/colab-badge.svg\" alt=\"Open In Colab\"/></a>"
      ]
    },
    {
      "cell_type": "code",
      "execution_count": 1,
      "metadata": {
        "id": "xRw79tU1bYtF",
        "colab": {
          "base_uri": "https://localhost:8080/"
        },
        "outputId": "b7ad15ab-6892-47fb-e180-9e035e350e9b"
      },
      "outputs": [
        {
          "output_type": "stream",
          "name": "stdout",
          "text": [
            "Mounted at /content/drive\n"
          ]
        }
      ],
      "source": [
        "from google.colab import drive\n",
        "drive.mount('/content/drive')"
      ]
    },
    {
      "cell_type": "code",
      "execution_count": 2,
      "metadata": {
        "id": "F1p24aiQe_8Z"
      },
      "outputs": [],
      "source": [
        "import pandas as pd  \n",
        "import tensorflow as tf"
      ]
    },
    {
      "cell_type": "code",
      "execution_count": 3,
      "metadata": {
        "id": "3kzVMujHfD_W"
      },
      "outputs": [],
      "source": [
        "d1=pd.read_csv('/content/drive/MyDrive/data/cicids-2017/Friday-WorkingHours-Afternoon-DDos.pcap_ISCX.csv')\n",
        "d2=pd.read_csv('/content/drive/MyDrive/data/cicids-2017/Friday-WorkingHours-Afternoon-PortScan.pcap_ISCX.csv')\n",
        "d3=pd.read_csv('/content/drive/MyDrive/data/cicids-2017/Friday-WorkingHours-Morning.pcap_ISCX.csv')\n",
        "d4=pd.read_csv('/content/drive/MyDrive/data/cicids-2017/Monday-WorkingHours.pcap_ISCX.csv')\n",
        "d5=pd.read_csv('/content/drive/MyDrive/data/cicids-2017/Thursday-WorkingHours-Afternoon-Infilteration.pcap_ISCX.csv')\n",
        "d6=pd.read_csv('/content/drive/MyDrive/data/cicids-2017/Thursday-WorkingHours-Morning-WebAttacks.pcap_ISCX.csv')\n",
        "d7=pd.read_csv('/content/drive/MyDrive/data/cicids-2017/Wednesday-workingHours.pcap_ISCX.csv')\n",
        "d8=pd.read_csv('/content/drive/MyDrive/data/cicids-2017/Tuesday-WorkingHours.pcap_ISCX.csv')\n"
      ]
    },
    {
      "cell_type": "code",
      "execution_count": 4,
      "metadata": {
        "id": "6hNQJkgZwJ4i",
        "colab": {
          "base_uri": "https://localhost:8080/"
        },
        "outputId": "8e3126de-8f3f-4b9e-bb04-aa097e90acaa"
      },
      "outputs": [
        {
          "output_type": "execute_result",
          "data": {
            "text/plain": [
              "(2830743, 79)"
            ]
          },
          "metadata": {},
          "execution_count": 4
        }
      ],
      "source": [
        "data=pd.concat([d1,d2,d3,d4,d5,d6,d7,d8])\n",
        "data.shape"
      ]
    },
    {
      "cell_type": "code",
      "execution_count": 5,
      "metadata": {
        "id": "1UB_7pDkghjM"
      },
      "outputs": [],
      "source": [
        "data=pd.concat([d1,d2,d3,d4,d5,d6,d7,d8]).drop_duplicates(keep=False)\n",
        "data.reset_index(drop=True, inplace = True)"
      ]
    },
    {
      "cell_type": "code",
      "execution_count": 6,
      "metadata": {
        "id": "qH-aRKHegqGf"
      },
      "outputs": [],
      "source": [
        "del d1,d2,d3,d4,d5,d6,d7"
      ]
    },
    {
      "cell_type": "code",
      "execution_count": 7,
      "metadata": {
        "id": "otT4P8cFgu1U",
        "colab": {
          "base_uri": "https://localhost:8080/"
        },
        "outputId": "163d8809-3f36-4e7a-eab2-cdc903c3702d"
      },
      "outputs": [
        {
          "output_type": "execute_result",
          "data": {
            "text/plain": [
              "(2427193, 79)"
            ]
          },
          "metadata": {},
          "execution_count": 7
        }
      ],
      "source": [
        "data.shape"
      ]
    },
    {
      "cell_type": "code",
      "execution_count": 8,
      "metadata": {
        "id": "NPArHDAvgzhB",
        "colab": {
          "base_uri": "https://localhost:8080/",
          "height": 352
        },
        "outputId": "b1e0f92e-4bd4-42e2-983c-d3486ef6b939"
      },
      "outputs": [
        {
          "output_type": "execute_result",
          "data": {
            "text/plain": [
              "    Destination Port   Flow Duration   Total Fwd Packets  \\\n",
              "0              54865               3                   2   \n",
              "1              55054             109                   1   \n",
              "2              55055              52                   1   \n",
              "3              46236              34                   1   \n",
              "4              54863               3                   2   \n",
              "\n",
              "    Total Backward Packets  Total Length of Fwd Packets  \\\n",
              "0                        0                           12   \n",
              "1                        1                            6   \n",
              "2                        1                            6   \n",
              "3                        1                            6   \n",
              "4                        0                           12   \n",
              "\n",
              "    Total Length of Bwd Packets   Fwd Packet Length Max  \\\n",
              "0                             0                       6   \n",
              "1                             6                       6   \n",
              "2                             6                       6   \n",
              "3                             6                       6   \n",
              "4                             0                       6   \n",
              "\n",
              "    Fwd Packet Length Min   Fwd Packet Length Mean   Fwd Packet Length Std  \\\n",
              "0                       6                      6.0                     0.0   \n",
              "1                       6                      6.0                     0.0   \n",
              "2                       6                      6.0                     0.0   \n",
              "3                       6                      6.0                     0.0   \n",
              "4                       6                      6.0                     0.0   \n",
              "\n",
              "   ...   min_seg_size_forward  Active Mean   Active Std   Active Max  \\\n",
              "0  ...                     20          0.0          0.0            0   \n",
              "1  ...                     20          0.0          0.0            0   \n",
              "2  ...                     20          0.0          0.0            0   \n",
              "3  ...                     20          0.0          0.0            0   \n",
              "4  ...                     20          0.0          0.0            0   \n",
              "\n",
              "    Active Min  Idle Mean   Idle Std   Idle Max   Idle Min   Label  \n",
              "0            0        0.0        0.0          0          0  BENIGN  \n",
              "1            0        0.0        0.0          0          0  BENIGN  \n",
              "2            0        0.0        0.0          0          0  BENIGN  \n",
              "3            0        0.0        0.0          0          0  BENIGN  \n",
              "4            0        0.0        0.0          0          0  BENIGN  \n",
              "\n",
              "[5 rows x 79 columns]"
            ],
            "text/html": [
              "\n",
              "  <div id=\"df-8cacda16-7ab5-408d-9fef-afce89b8c8bb\">\n",
              "    <div class=\"colab-df-container\">\n",
              "      <div>\n",
              "<style scoped>\n",
              "    .dataframe tbody tr th:only-of-type {\n",
              "        vertical-align: middle;\n",
              "    }\n",
              "\n",
              "    .dataframe tbody tr th {\n",
              "        vertical-align: top;\n",
              "    }\n",
              "\n",
              "    .dataframe thead th {\n",
              "        text-align: right;\n",
              "    }\n",
              "</style>\n",
              "<table border=\"1\" class=\"dataframe\">\n",
              "  <thead>\n",
              "    <tr style=\"text-align: right;\">\n",
              "      <th></th>\n",
              "      <th>Destination Port</th>\n",
              "      <th>Flow Duration</th>\n",
              "      <th>Total Fwd Packets</th>\n",
              "      <th>Total Backward Packets</th>\n",
              "      <th>Total Length of Fwd Packets</th>\n",
              "      <th>Total Length of Bwd Packets</th>\n",
              "      <th>Fwd Packet Length Max</th>\n",
              "      <th>Fwd Packet Length Min</th>\n",
              "      <th>Fwd Packet Length Mean</th>\n",
              "      <th>Fwd Packet Length Std</th>\n",
              "      <th>...</th>\n",
              "      <th>min_seg_size_forward</th>\n",
              "      <th>Active Mean</th>\n",
              "      <th>Active Std</th>\n",
              "      <th>Active Max</th>\n",
              "      <th>Active Min</th>\n",
              "      <th>Idle Mean</th>\n",
              "      <th>Idle Std</th>\n",
              "      <th>Idle Max</th>\n",
              "      <th>Idle Min</th>\n",
              "      <th>Label</th>\n",
              "    </tr>\n",
              "  </thead>\n",
              "  <tbody>\n",
              "    <tr>\n",
              "      <th>0</th>\n",
              "      <td>54865</td>\n",
              "      <td>3</td>\n",
              "      <td>2</td>\n",
              "      <td>0</td>\n",
              "      <td>12</td>\n",
              "      <td>0</td>\n",
              "      <td>6</td>\n",
              "      <td>6</td>\n",
              "      <td>6.0</td>\n",
              "      <td>0.0</td>\n",
              "      <td>...</td>\n",
              "      <td>20</td>\n",
              "      <td>0.0</td>\n",
              "      <td>0.0</td>\n",
              "      <td>0</td>\n",
              "      <td>0</td>\n",
              "      <td>0.0</td>\n",
              "      <td>0.0</td>\n",
              "      <td>0</td>\n",
              "      <td>0</td>\n",
              "      <td>BENIGN</td>\n",
              "    </tr>\n",
              "    <tr>\n",
              "      <th>1</th>\n",
              "      <td>55054</td>\n",
              "      <td>109</td>\n",
              "      <td>1</td>\n",
              "      <td>1</td>\n",
              "      <td>6</td>\n",
              "      <td>6</td>\n",
              "      <td>6</td>\n",
              "      <td>6</td>\n",
              "      <td>6.0</td>\n",
              "      <td>0.0</td>\n",
              "      <td>...</td>\n",
              "      <td>20</td>\n",
              "      <td>0.0</td>\n",
              "      <td>0.0</td>\n",
              "      <td>0</td>\n",
              "      <td>0</td>\n",
              "      <td>0.0</td>\n",
              "      <td>0.0</td>\n",
              "      <td>0</td>\n",
              "      <td>0</td>\n",
              "      <td>BENIGN</td>\n",
              "    </tr>\n",
              "    <tr>\n",
              "      <th>2</th>\n",
              "      <td>55055</td>\n",
              "      <td>52</td>\n",
              "      <td>1</td>\n",
              "      <td>1</td>\n",
              "      <td>6</td>\n",
              "      <td>6</td>\n",
              "      <td>6</td>\n",
              "      <td>6</td>\n",
              "      <td>6.0</td>\n",
              "      <td>0.0</td>\n",
              "      <td>...</td>\n",
              "      <td>20</td>\n",
              "      <td>0.0</td>\n",
              "      <td>0.0</td>\n",
              "      <td>0</td>\n",
              "      <td>0</td>\n",
              "      <td>0.0</td>\n",
              "      <td>0.0</td>\n",
              "      <td>0</td>\n",
              "      <td>0</td>\n",
              "      <td>BENIGN</td>\n",
              "    </tr>\n",
              "    <tr>\n",
              "      <th>3</th>\n",
              "      <td>46236</td>\n",
              "      <td>34</td>\n",
              "      <td>1</td>\n",
              "      <td>1</td>\n",
              "      <td>6</td>\n",
              "      <td>6</td>\n",
              "      <td>6</td>\n",
              "      <td>6</td>\n",
              "      <td>6.0</td>\n",
              "      <td>0.0</td>\n",
              "      <td>...</td>\n",
              "      <td>20</td>\n",
              "      <td>0.0</td>\n",
              "      <td>0.0</td>\n",
              "      <td>0</td>\n",
              "      <td>0</td>\n",
              "      <td>0.0</td>\n",
              "      <td>0.0</td>\n",
              "      <td>0</td>\n",
              "      <td>0</td>\n",
              "      <td>BENIGN</td>\n",
              "    </tr>\n",
              "    <tr>\n",
              "      <th>4</th>\n",
              "      <td>54863</td>\n",
              "      <td>3</td>\n",
              "      <td>2</td>\n",
              "      <td>0</td>\n",
              "      <td>12</td>\n",
              "      <td>0</td>\n",
              "      <td>6</td>\n",
              "      <td>6</td>\n",
              "      <td>6.0</td>\n",
              "      <td>0.0</td>\n",
              "      <td>...</td>\n",
              "      <td>20</td>\n",
              "      <td>0.0</td>\n",
              "      <td>0.0</td>\n",
              "      <td>0</td>\n",
              "      <td>0</td>\n",
              "      <td>0.0</td>\n",
              "      <td>0.0</td>\n",
              "      <td>0</td>\n",
              "      <td>0</td>\n",
              "      <td>BENIGN</td>\n",
              "    </tr>\n",
              "  </tbody>\n",
              "</table>\n",
              "<p>5 rows × 79 columns</p>\n",
              "</div>\n",
              "      <button class=\"colab-df-convert\" onclick=\"convertToInteractive('df-8cacda16-7ab5-408d-9fef-afce89b8c8bb')\"\n",
              "              title=\"Convert this dataframe to an interactive table.\"\n",
              "              style=\"display:none;\">\n",
              "        \n",
              "  <svg xmlns=\"http://www.w3.org/2000/svg\" height=\"24px\"viewBox=\"0 0 24 24\"\n",
              "       width=\"24px\">\n",
              "    <path d=\"M0 0h24v24H0V0z\" fill=\"none\"/>\n",
              "    <path d=\"M18.56 5.44l.94 2.06.94-2.06 2.06-.94-2.06-.94-.94-2.06-.94 2.06-2.06.94zm-11 1L8.5 8.5l.94-2.06 2.06-.94-2.06-.94L8.5 2.5l-.94 2.06-2.06.94zm10 10l.94 2.06.94-2.06 2.06-.94-2.06-.94-.94-2.06-.94 2.06-2.06.94z\"/><path d=\"M17.41 7.96l-1.37-1.37c-.4-.4-.92-.59-1.43-.59-.52 0-1.04.2-1.43.59L10.3 9.45l-7.72 7.72c-.78.78-.78 2.05 0 2.83L4 21.41c.39.39.9.59 1.41.59.51 0 1.02-.2 1.41-.59l7.78-7.78 2.81-2.81c.8-.78.8-2.07 0-2.86zM5.41 20L4 18.59l7.72-7.72 1.47 1.35L5.41 20z\"/>\n",
              "  </svg>\n",
              "      </button>\n",
              "      \n",
              "  <style>\n",
              "    .colab-df-container {\n",
              "      display:flex;\n",
              "      flex-wrap:wrap;\n",
              "      gap: 12px;\n",
              "    }\n",
              "\n",
              "    .colab-df-convert {\n",
              "      background-color: #E8F0FE;\n",
              "      border: none;\n",
              "      border-radius: 50%;\n",
              "      cursor: pointer;\n",
              "      display: none;\n",
              "      fill: #1967D2;\n",
              "      height: 32px;\n",
              "      padding: 0 0 0 0;\n",
              "      width: 32px;\n",
              "    }\n",
              "\n",
              "    .colab-df-convert:hover {\n",
              "      background-color: #E2EBFA;\n",
              "      box-shadow: 0px 1px 2px rgba(60, 64, 67, 0.3), 0px 1px 3px 1px rgba(60, 64, 67, 0.15);\n",
              "      fill: #174EA6;\n",
              "    }\n",
              "\n",
              "    [theme=dark] .colab-df-convert {\n",
              "      background-color: #3B4455;\n",
              "      fill: #D2E3FC;\n",
              "    }\n",
              "\n",
              "    [theme=dark] .colab-df-convert:hover {\n",
              "      background-color: #434B5C;\n",
              "      box-shadow: 0px 1px 3px 1px rgba(0, 0, 0, 0.15);\n",
              "      filter: drop-shadow(0px 1px 2px rgba(0, 0, 0, 0.3));\n",
              "      fill: #FFFFFF;\n",
              "    }\n",
              "  </style>\n",
              "\n",
              "      <script>\n",
              "        const buttonEl =\n",
              "          document.querySelector('#df-8cacda16-7ab5-408d-9fef-afce89b8c8bb button.colab-df-convert');\n",
              "        buttonEl.style.display =\n",
              "          google.colab.kernel.accessAllowed ? 'block' : 'none';\n",
              "\n",
              "        async function convertToInteractive(key) {\n",
              "          const element = document.querySelector('#df-8cacda16-7ab5-408d-9fef-afce89b8c8bb');\n",
              "          const dataTable =\n",
              "            await google.colab.kernel.invokeFunction('convertToInteractive',\n",
              "                                                     [key], {});\n",
              "          if (!dataTable) return;\n",
              "\n",
              "          const docLinkHtml = 'Like what you see? Visit the ' +\n",
              "            '<a target=\"_blank\" href=https://colab.research.google.com/notebooks/data_table.ipynb>data table notebook</a>'\n",
              "            + ' to learn more about interactive tables.';\n",
              "          element.innerHTML = '';\n",
              "          dataTable['output_type'] = 'display_data';\n",
              "          await google.colab.output.renderOutput(dataTable, element);\n",
              "          const docLink = document.createElement('div');\n",
              "          docLink.innerHTML = docLinkHtml;\n",
              "          element.appendChild(docLink);\n",
              "        }\n",
              "      </script>\n",
              "    </div>\n",
              "  </div>\n",
              "  "
            ]
          },
          "metadata": {},
          "execution_count": 8
        }
      ],
      "source": [
        "data.head()"
      ]
    },
    {
      "cell_type": "code",
      "execution_count": 9,
      "metadata": {
        "id": "_faQJMbxhDeT",
        "colab": {
          "base_uri": "https://localhost:8080/"
        },
        "outputId": "75aa1c4a-449f-4c72-de71-03031655fa12"
      },
      "outputs": [
        {
          "output_type": "stream",
          "name": "stdout",
          "text": [
            "<class 'pandas.core.frame.DataFrame'>\n",
            "RangeIndex: 2427193 entries, 0 to 2427192\n",
            "Data columns (total 79 columns):\n",
            " #   Column                        Dtype  \n",
            "---  ------                        -----  \n",
            " 0    Destination Port             int64  \n",
            " 1    Flow Duration                int64  \n",
            " 2    Total Fwd Packets            int64  \n",
            " 3    Total Backward Packets       int64  \n",
            " 4   Total Length of Fwd Packets   int64  \n",
            " 5    Total Length of Bwd Packets  int64  \n",
            " 6    Fwd Packet Length Max        int64  \n",
            " 7    Fwd Packet Length Min        int64  \n",
            " 8    Fwd Packet Length Mean       float64\n",
            " 9    Fwd Packet Length Std        float64\n",
            " 10  Bwd Packet Length Max         int64  \n",
            " 11   Bwd Packet Length Min        int64  \n",
            " 12   Bwd Packet Length Mean       float64\n",
            " 13   Bwd Packet Length Std        float64\n",
            " 14  Flow Bytes/s                  float64\n",
            " 15   Flow Packets/s               float64\n",
            " 16   Flow IAT Mean                float64\n",
            " 17   Flow IAT Std                 float64\n",
            " 18   Flow IAT Max                 int64  \n",
            " 19   Flow IAT Min                 int64  \n",
            " 20  Fwd IAT Total                 int64  \n",
            " 21   Fwd IAT Mean                 float64\n",
            " 22   Fwd IAT Std                  float64\n",
            " 23   Fwd IAT Max                  int64  \n",
            " 24   Fwd IAT Min                  int64  \n",
            " 25  Bwd IAT Total                 int64  \n",
            " 26   Bwd IAT Mean                 float64\n",
            " 27   Bwd IAT Std                  float64\n",
            " 28   Bwd IAT Max                  int64  \n",
            " 29   Bwd IAT Min                  int64  \n",
            " 30  Fwd PSH Flags                 int64  \n",
            " 31   Bwd PSH Flags                int64  \n",
            " 32   Fwd URG Flags                int64  \n",
            " 33   Bwd URG Flags                int64  \n",
            " 34   Fwd Header Length            int64  \n",
            " 35   Bwd Header Length            int64  \n",
            " 36  Fwd Packets/s                 float64\n",
            " 37   Bwd Packets/s                float64\n",
            " 38   Min Packet Length            int64  \n",
            " 39   Max Packet Length            int64  \n",
            " 40   Packet Length Mean           float64\n",
            " 41   Packet Length Std            float64\n",
            " 42   Packet Length Variance       float64\n",
            " 43  FIN Flag Count                int64  \n",
            " 44   SYN Flag Count               int64  \n",
            " 45   RST Flag Count               int64  \n",
            " 46   PSH Flag Count               int64  \n",
            " 47   ACK Flag Count               int64  \n",
            " 48   URG Flag Count               int64  \n",
            " 49   CWE Flag Count               int64  \n",
            " 50   ECE Flag Count               int64  \n",
            " 51   Down/Up Ratio                int64  \n",
            " 52   Average Packet Size          float64\n",
            " 53   Avg Fwd Segment Size         float64\n",
            " 54   Avg Bwd Segment Size         float64\n",
            " 55   Fwd Header Length.1          int64  \n",
            " 56  Fwd Avg Bytes/Bulk            int64  \n",
            " 57   Fwd Avg Packets/Bulk         int64  \n",
            " 58   Fwd Avg Bulk Rate            int64  \n",
            " 59   Bwd Avg Bytes/Bulk           int64  \n",
            " 60   Bwd Avg Packets/Bulk         int64  \n",
            " 61  Bwd Avg Bulk Rate             int64  \n",
            " 62  Subflow Fwd Packets           int64  \n",
            " 63   Subflow Fwd Bytes            int64  \n",
            " 64   Subflow Bwd Packets          int64  \n",
            " 65   Subflow Bwd Bytes            int64  \n",
            " 66  Init_Win_bytes_forward        int64  \n",
            " 67   Init_Win_bytes_backward      int64  \n",
            " 68   act_data_pkt_fwd             int64  \n",
            " 69   min_seg_size_forward         int64  \n",
            " 70  Active Mean                   float64\n",
            " 71   Active Std                   float64\n",
            " 72   Active Max                   int64  \n",
            " 73   Active Min                   int64  \n",
            " 74  Idle Mean                     float64\n",
            " 75   Idle Std                     float64\n",
            " 76   Idle Max                     int64  \n",
            " 77   Idle Min                     int64  \n",
            " 78   Label                        object \n",
            "dtypes: float64(24), int64(54), object(1)\n",
            "memory usage: 1.4+ GB\n"
          ]
        }
      ],
      "source": [
        "data.info()"
      ]
    },
    {
      "cell_type": "code",
      "execution_count": 10,
      "metadata": {
        "id": "6pS8zTNTpZPI",
        "colab": {
          "base_uri": "https://localhost:8080/"
        },
        "outputId": "2b4fe59d-18e3-4e2d-dd42-edfb615fbaec"
      },
      "outputs": [
        {
          "output_type": "stream",
          "name": "stdout",
          "text": [
            "['BENIGN' 'DDoS' 'PortScan' 'Bot' 'Infiltration'\n",
            " 'Web Attack � Brute Force' 'Web Attack � XSS'\n",
            " 'Web Attack � Sql Injection' 'DoS slowloris' 'DoS Slowhttptest'\n",
            " 'DoS Hulk' 'DoS GoldenEye' 'Heartbleed' 'FTP-Patator' 'SSH-Patator']\n"
          ]
        },
        {
          "output_type": "execute_result",
          "data": {
            "text/plain": [
              "15"
            ]
          },
          "metadata": {},
          "execution_count": 10
        }
      ],
      "source": [
        "data.columns\n",
        "print(data[' Label'].unique())\n",
        "len(data[' Label'].unique())"
      ]
    },
    {
      "cell_type": "markdown",
      "metadata": {
        "id": "aDEs2EHupjNV"
      },
      "source": [
        "**Data Cleaning**\n",
        "This chapter contains data cleaning code. We go through the process of renaming columns, removing NaN and non-finite values (-inf, inf) to get the data ready for visualization and model training."
      ]
    },
    {
      "cell_type": "code",
      "execution_count": 11,
      "metadata": {
        "id": "uqTDm6_Wpl0R",
        "colab": {
          "base_uri": "https://localhost:8080/",
          "height": 300
        },
        "outputId": "5d45f754-52e4-476b-db47-9ae724698c9a"
      },
      "outputs": [
        {
          "output_type": "execute_result",
          "data": {
            "text/plain": [
              "   DestinationPort  FlowDuration  TotalFwdPackets  TotalBackwardPackets  \\\n",
              "0            54865             3                2                     0   \n",
              "1            55054           109                1                     1   \n",
              "2            55055            52                1                     1   \n",
              "3            46236            34                1                     1   \n",
              "4            54863             3                2                     0   \n",
              "\n",
              "   TotalLengthofFwdPackets  TotalLengthofBwdPackets  FwdPacketLengthMax  \\\n",
              "0                       12                        0                   6   \n",
              "1                        6                        6                   6   \n",
              "2                        6                        6                   6   \n",
              "3                        6                        6                   6   \n",
              "4                       12                        0                   6   \n",
              "\n",
              "   FwdPacketLengthMin  FwdPacketLengthMean  FwdPacketLengthStd  ...  \\\n",
              "0                   6                  6.0                 0.0  ...   \n",
              "1                   6                  6.0                 0.0  ...   \n",
              "2                   6                  6.0                 0.0  ...   \n",
              "3                   6                  6.0                 0.0  ...   \n",
              "4                   6                  6.0                 0.0  ...   \n",
              "\n",
              "   min_seg_size_forward  ActiveMean  ActiveStd  ActiveMax  ActiveMin  \\\n",
              "0                    20         0.0        0.0          0          0   \n",
              "1                    20         0.0        0.0          0          0   \n",
              "2                    20         0.0        0.0          0          0   \n",
              "3                    20         0.0        0.0          0          0   \n",
              "4                    20         0.0        0.0          0          0   \n",
              "\n",
              "   IdleMean  IdleStd  IdleMax  IdleMin   Label  \n",
              "0       0.0      0.0        0        0  BENIGN  \n",
              "1       0.0      0.0        0        0  BENIGN  \n",
              "2       0.0      0.0        0        0  BENIGN  \n",
              "3       0.0      0.0        0        0  BENIGN  \n",
              "4       0.0      0.0        0        0  BENIGN  \n",
              "\n",
              "[5 rows x 79 columns]"
            ],
            "text/html": [
              "\n",
              "  <div id=\"df-b28f07ef-01d1-4b7d-85aa-c363fda571c2\">\n",
              "    <div class=\"colab-df-container\">\n",
              "      <div>\n",
              "<style scoped>\n",
              "    .dataframe tbody tr th:only-of-type {\n",
              "        vertical-align: middle;\n",
              "    }\n",
              "\n",
              "    .dataframe tbody tr th {\n",
              "        vertical-align: top;\n",
              "    }\n",
              "\n",
              "    .dataframe thead th {\n",
              "        text-align: right;\n",
              "    }\n",
              "</style>\n",
              "<table border=\"1\" class=\"dataframe\">\n",
              "  <thead>\n",
              "    <tr style=\"text-align: right;\">\n",
              "      <th></th>\n",
              "      <th>DestinationPort</th>\n",
              "      <th>FlowDuration</th>\n",
              "      <th>TotalFwdPackets</th>\n",
              "      <th>TotalBackwardPackets</th>\n",
              "      <th>TotalLengthofFwdPackets</th>\n",
              "      <th>TotalLengthofBwdPackets</th>\n",
              "      <th>FwdPacketLengthMax</th>\n",
              "      <th>FwdPacketLengthMin</th>\n",
              "      <th>FwdPacketLengthMean</th>\n",
              "      <th>FwdPacketLengthStd</th>\n",
              "      <th>...</th>\n",
              "      <th>min_seg_size_forward</th>\n",
              "      <th>ActiveMean</th>\n",
              "      <th>ActiveStd</th>\n",
              "      <th>ActiveMax</th>\n",
              "      <th>ActiveMin</th>\n",
              "      <th>IdleMean</th>\n",
              "      <th>IdleStd</th>\n",
              "      <th>IdleMax</th>\n",
              "      <th>IdleMin</th>\n",
              "      <th>Label</th>\n",
              "    </tr>\n",
              "  </thead>\n",
              "  <tbody>\n",
              "    <tr>\n",
              "      <th>0</th>\n",
              "      <td>54865</td>\n",
              "      <td>3</td>\n",
              "      <td>2</td>\n",
              "      <td>0</td>\n",
              "      <td>12</td>\n",
              "      <td>0</td>\n",
              "      <td>6</td>\n",
              "      <td>6</td>\n",
              "      <td>6.0</td>\n",
              "      <td>0.0</td>\n",
              "      <td>...</td>\n",
              "      <td>20</td>\n",
              "      <td>0.0</td>\n",
              "      <td>0.0</td>\n",
              "      <td>0</td>\n",
              "      <td>0</td>\n",
              "      <td>0.0</td>\n",
              "      <td>0.0</td>\n",
              "      <td>0</td>\n",
              "      <td>0</td>\n",
              "      <td>BENIGN</td>\n",
              "    </tr>\n",
              "    <tr>\n",
              "      <th>1</th>\n",
              "      <td>55054</td>\n",
              "      <td>109</td>\n",
              "      <td>1</td>\n",
              "      <td>1</td>\n",
              "      <td>6</td>\n",
              "      <td>6</td>\n",
              "      <td>6</td>\n",
              "      <td>6</td>\n",
              "      <td>6.0</td>\n",
              "      <td>0.0</td>\n",
              "      <td>...</td>\n",
              "      <td>20</td>\n",
              "      <td>0.0</td>\n",
              "      <td>0.0</td>\n",
              "      <td>0</td>\n",
              "      <td>0</td>\n",
              "      <td>0.0</td>\n",
              "      <td>0.0</td>\n",
              "      <td>0</td>\n",
              "      <td>0</td>\n",
              "      <td>BENIGN</td>\n",
              "    </tr>\n",
              "    <tr>\n",
              "      <th>2</th>\n",
              "      <td>55055</td>\n",
              "      <td>52</td>\n",
              "      <td>1</td>\n",
              "      <td>1</td>\n",
              "      <td>6</td>\n",
              "      <td>6</td>\n",
              "      <td>6</td>\n",
              "      <td>6</td>\n",
              "      <td>6.0</td>\n",
              "      <td>0.0</td>\n",
              "      <td>...</td>\n",
              "      <td>20</td>\n",
              "      <td>0.0</td>\n",
              "      <td>0.0</td>\n",
              "      <td>0</td>\n",
              "      <td>0</td>\n",
              "      <td>0.0</td>\n",
              "      <td>0.0</td>\n",
              "      <td>0</td>\n",
              "      <td>0</td>\n",
              "      <td>BENIGN</td>\n",
              "    </tr>\n",
              "    <tr>\n",
              "      <th>3</th>\n",
              "      <td>46236</td>\n",
              "      <td>34</td>\n",
              "      <td>1</td>\n",
              "      <td>1</td>\n",
              "      <td>6</td>\n",
              "      <td>6</td>\n",
              "      <td>6</td>\n",
              "      <td>6</td>\n",
              "      <td>6.0</td>\n",
              "      <td>0.0</td>\n",
              "      <td>...</td>\n",
              "      <td>20</td>\n",
              "      <td>0.0</td>\n",
              "      <td>0.0</td>\n",
              "      <td>0</td>\n",
              "      <td>0</td>\n",
              "      <td>0.0</td>\n",
              "      <td>0.0</td>\n",
              "      <td>0</td>\n",
              "      <td>0</td>\n",
              "      <td>BENIGN</td>\n",
              "    </tr>\n",
              "    <tr>\n",
              "      <th>4</th>\n",
              "      <td>54863</td>\n",
              "      <td>3</td>\n",
              "      <td>2</td>\n",
              "      <td>0</td>\n",
              "      <td>12</td>\n",
              "      <td>0</td>\n",
              "      <td>6</td>\n",
              "      <td>6</td>\n",
              "      <td>6.0</td>\n",
              "      <td>0.0</td>\n",
              "      <td>...</td>\n",
              "      <td>20</td>\n",
              "      <td>0.0</td>\n",
              "      <td>0.0</td>\n",
              "      <td>0</td>\n",
              "      <td>0</td>\n",
              "      <td>0.0</td>\n",
              "      <td>0.0</td>\n",
              "      <td>0</td>\n",
              "      <td>0</td>\n",
              "      <td>BENIGN</td>\n",
              "    </tr>\n",
              "  </tbody>\n",
              "</table>\n",
              "<p>5 rows × 79 columns</p>\n",
              "</div>\n",
              "      <button class=\"colab-df-convert\" onclick=\"convertToInteractive('df-b28f07ef-01d1-4b7d-85aa-c363fda571c2')\"\n",
              "              title=\"Convert this dataframe to an interactive table.\"\n",
              "              style=\"display:none;\">\n",
              "        \n",
              "  <svg xmlns=\"http://www.w3.org/2000/svg\" height=\"24px\"viewBox=\"0 0 24 24\"\n",
              "       width=\"24px\">\n",
              "    <path d=\"M0 0h24v24H0V0z\" fill=\"none\"/>\n",
              "    <path d=\"M18.56 5.44l.94 2.06.94-2.06 2.06-.94-2.06-.94-.94-2.06-.94 2.06-2.06.94zm-11 1L8.5 8.5l.94-2.06 2.06-.94-2.06-.94L8.5 2.5l-.94 2.06-2.06.94zm10 10l.94 2.06.94-2.06 2.06-.94-2.06-.94-.94-2.06-.94 2.06-2.06.94z\"/><path d=\"M17.41 7.96l-1.37-1.37c-.4-.4-.92-.59-1.43-.59-.52 0-1.04.2-1.43.59L10.3 9.45l-7.72 7.72c-.78.78-.78 2.05 0 2.83L4 21.41c.39.39.9.59 1.41.59.51 0 1.02-.2 1.41-.59l7.78-7.78 2.81-2.81c.8-.78.8-2.07 0-2.86zM5.41 20L4 18.59l7.72-7.72 1.47 1.35L5.41 20z\"/>\n",
              "  </svg>\n",
              "      </button>\n",
              "      \n",
              "  <style>\n",
              "    .colab-df-container {\n",
              "      display:flex;\n",
              "      flex-wrap:wrap;\n",
              "      gap: 12px;\n",
              "    }\n",
              "\n",
              "    .colab-df-convert {\n",
              "      background-color: #E8F0FE;\n",
              "      border: none;\n",
              "      border-radius: 50%;\n",
              "      cursor: pointer;\n",
              "      display: none;\n",
              "      fill: #1967D2;\n",
              "      height: 32px;\n",
              "      padding: 0 0 0 0;\n",
              "      width: 32px;\n",
              "    }\n",
              "\n",
              "    .colab-df-convert:hover {\n",
              "      background-color: #E2EBFA;\n",
              "      box-shadow: 0px 1px 2px rgba(60, 64, 67, 0.3), 0px 1px 3px 1px rgba(60, 64, 67, 0.15);\n",
              "      fill: #174EA6;\n",
              "    }\n",
              "\n",
              "    [theme=dark] .colab-df-convert {\n",
              "      background-color: #3B4455;\n",
              "      fill: #D2E3FC;\n",
              "    }\n",
              "\n",
              "    [theme=dark] .colab-df-convert:hover {\n",
              "      background-color: #434B5C;\n",
              "      box-shadow: 0px 1px 3px 1px rgba(0, 0, 0, 0.15);\n",
              "      filter: drop-shadow(0px 1px 2px rgba(0, 0, 0, 0.3));\n",
              "      fill: #FFFFFF;\n",
              "    }\n",
              "  </style>\n",
              "\n",
              "      <script>\n",
              "        const buttonEl =\n",
              "          document.querySelector('#df-b28f07ef-01d1-4b7d-85aa-c363fda571c2 button.colab-df-convert');\n",
              "        buttonEl.style.display =\n",
              "          google.colab.kernel.accessAllowed ? 'block' : 'none';\n",
              "\n",
              "        async function convertToInteractive(key) {\n",
              "          const element = document.querySelector('#df-b28f07ef-01d1-4b7d-85aa-c363fda571c2');\n",
              "          const dataTable =\n",
              "            await google.colab.kernel.invokeFunction('convertToInteractive',\n",
              "                                                     [key], {});\n",
              "          if (!dataTable) return;\n",
              "\n",
              "          const docLinkHtml = 'Like what you see? Visit the ' +\n",
              "            '<a target=\"_blank\" href=https://colab.research.google.com/notebooks/data_table.ipynb>data table notebook</a>'\n",
              "            + ' to learn more about interactive tables.';\n",
              "          element.innerHTML = '';\n",
              "          dataTable['output_type'] = 'display_data';\n",
              "          await google.colab.output.renderOutput(dataTable, element);\n",
              "          const docLink = document.createElement('div');\n",
              "          docLink.innerHTML = docLinkHtml;\n",
              "          element.appendChild(docLink);\n",
              "        }\n",
              "      </script>\n",
              "    </div>\n",
              "  </div>\n",
              "  "
            ]
          },
          "metadata": {},
          "execution_count": 11
        }
      ],
      "source": [
        "# Removing whitespaces in column names.\n",
        "#renommer les colonnes\n",
        "col_names = [col.replace(' ', '') for col in data.columns]\n",
        "data.columns = col_names\n",
        "data.head()"
      ]
    },
    {
      "cell_type": "code",
      "execution_count": 12,
      "metadata": {
        "id": "aiYCKmEauyc7",
        "colab": {
          "base_uri": "https://localhost:8080/"
        },
        "outputId": "5d520b50-5f8b-478a-d358-44bee3e3b7d0"
      },
      "outputs": [
        {
          "output_type": "stream",
          "name": "stdout",
          "text": [
            "['BENIGN' 'DDoS' 'PortScan' 'Bot' 'Infiltration'\n",
            " 'Web Attack � Brute Force' 'Web Attack � XSS'\n",
            " 'Web Attack � Sql Injection' 'DoS slowloris' 'DoS Slowhttptest'\n",
            " 'DoS Hulk' 'DoS GoldenEye' 'Heartbleed' 'FTP-Patator' 'SSH-Patator']\n"
          ]
        },
        {
          "output_type": "execute_result",
          "data": {
            "text/plain": [
              "15"
            ]
          },
          "metadata": {},
          "execution_count": 12
        }
      ],
      "source": [
        "data.columns\n",
        "print(data['Label'].unique())\n",
        "len(data['Label'].unique())"
      ]
    },
    {
      "cell_type": "code",
      "execution_count": 13,
      "metadata": {
        "id": "6PDhJ3Hep6IJ",
        "colab": {
          "base_uri": "https://localhost:8080/"
        },
        "outputId": "a8c45819-271f-4e94-eacf-3a121f49744f"
      },
      "outputs": [
        {
          "output_type": "execute_result",
          "data": {
            "text/plain": [
              "array(['BENIGN', 'DDoS', 'PortScan', 'Bot', 'Infiltration',\n",
              "       'Web Attack � Brute Force', 'Web Attack � XSS',\n",
              "       'Web Attack � Sql Injection', 'DoS slowloris', 'DoS Slowhttptest',\n",
              "       'DoS Hulk', 'DoS GoldenEye', 'Heartbleed', 'FTP-Patator',\n",
              "       'SSH-Patator'], dtype=object)"
            ]
          },
          "metadata": {},
          "execution_count": 13
        }
      ],
      "source": [
        "# Here we can see that 'Label' column contains some wierd characters. \n",
        "\n",
        "data[\"Label\"].unique()"
      ]
    },
    {
      "cell_type": "code",
      "execution_count": 14,
      "metadata": {
        "id": "nWqlC8Uxp8Mt",
        "colab": {
          "base_uri": "https://localhost:8080/"
        },
        "outputId": "dcdb25e3-fea7-4461-ec85-fa1eb31fb54c"
      },
      "outputs": [
        {
          "output_type": "execute_result",
          "data": {
            "text/plain": [
              "(['BENIGN',\n",
              "  'DDoS',\n",
              "  'PortScan',\n",
              "  'Bot',\n",
              "  'Infiltration',\n",
              "  'Web_Attack_Brute_Force',\n",
              "  'Web_Attack_XSS',\n",
              "  'Web_Attack_Sql_Injection',\n",
              "  'DoS_slowloris',\n",
              "  'DoS_Slowhttptest',\n",
              "  'DoS_Hulk',\n",
              "  'DoS_GoldenEye',\n",
              "  'Heartbleed',\n",
              "  'FTPPatator',\n",
              "  'SSHPatator'],\n",
              " 15)"
            ]
          },
          "metadata": {},
          "execution_count": 14
        }
      ],
      "source": [
        "# This next snippet uses regular expressions to replace wierd characters with dunders.\n",
        "\n",
        "label_names = data['Label'].unique()\n",
        "\n",
        "\n",
        "import re\n",
        "\n",
        "label_names = [re.sub(\"[^a-zA-Z ]+\", \"\", l) for l in label_names]\n",
        "label_names = [re.sub(\"[\\s\\s]\", '_', l) for l in label_names]\n",
        "label_names = [lab.replace(\"__\", \"_\") for lab in label_names]\n",
        "\n",
        "label_names, len(label_names)"
      ]
    },
    {
      "cell_type": "code",
      "execution_count": 15,
      "metadata": {
        "id": "muNJ37j9qKA6",
        "colab": {
          "base_uri": "https://localhost:8080/"
        },
        "outputId": "3a01b194-ba3d-46f9-a109-50fdcc7eab7e"
      },
      "outputs": [
        {
          "output_type": "execute_result",
          "data": {
            "text/plain": [
              "array(['BENIGN', 'DDoS', 'PortScan', 'Bot', 'Infiltration',\n",
              "       'Web_Attack_Brute_Force', 'Web_Attack_XSS',\n",
              "       'Web_Attack_Sql_Injection', 'DoS_slowloris', 'DoS_Slowhttptest',\n",
              "       'DoS_Hulk', 'DoS_GoldenEye', 'Heartbleed', 'FTPPatator',\n",
              "       'SSHPatator'], dtype=object)"
            ]
          },
          "metadata": {},
          "execution_count": 15
        }
      ],
      "source": [
        "# Replacing 'Label' column values with new readable values.\n",
        "\n",
        "labels = data['Label'].unique()\n",
        "\n",
        "for i in range(0,len(label_names)):\n",
        "    data['Label'] = data['Label'].replace({labels[i] : label_names[i]})  \n",
        "data['Label'].unique()"
      ]
    },
    {
      "cell_type": "code",
      "execution_count": 16,
      "metadata": {
        "id": "ZQHAn1xZqWw-",
        "colab": {
          "base_uri": "https://localhost:8080/"
        },
        "outputId": "486a3012-2bb6-46af-8168-c6f5ac480aad"
      },
      "outputs": [
        {
          "output_type": "execute_result",
          "data": {
            "text/plain": [
              "True"
            ]
          },
          "metadata": {},
          "execution_count": 16
        }
      ],
      "source": [
        "# Checking if there are any NULL values in the dataset.\n",
        "\n",
        "data.isnull().values.any()"
      ]
    },
    {
      "cell_type": "code",
      "execution_count": 17,
      "metadata": {
        "id": "dGFPqCJPqhV4",
        "colab": {
          "base_uri": "https://localhost:8080/"
        },
        "outputId": "e0f43015-ebc2-4955-e236-b5414c45d9c9"
      },
      "outputs": [
        {
          "output_type": "execute_result",
          "data": {
            "text/plain": [
              "['FlowBytes/s']"
            ]
          },
          "metadata": {},
          "execution_count": 17
        }
      ],
      "source": [
        "# Checking which column/s contain NULL values.\n",
        "\n",
        "[col for col in data if data[col].isnull().values.any()]"
      ]
    },
    {
      "cell_type": "code",
      "execution_count": 18,
      "metadata": {
        "id": "gxZw_Fw2qoHU",
        "colab": {
          "base_uri": "https://localhost:8080/"
        },
        "outputId": "7c245375-a225-4d7f-cab6-3dd7181fc888"
      },
      "outputs": [
        {
          "output_type": "execute_result",
          "data": {
            "text/plain": [
              "334"
            ]
          },
          "metadata": {},
          "execution_count": 18
        }
      ],
      "source": [
        "# Checking how many NULL values it this column contains.\n",
        "\n",
        "data['FlowBytes/s'].isnull().sum()"
      ]
    },
    {
      "cell_type": "code",
      "execution_count": 19,
      "metadata": {
        "id": "irHaVZshqrsN",
        "colab": {
          "base_uri": "https://localhost:8080/"
        },
        "outputId": "30bb549c-a539-484c-e7c6-c6839311ff23"
      },
      "outputs": [
        {
          "output_type": "execute_result",
          "data": {
            "text/plain": [
              "334"
            ]
          },
          "metadata": {},
          "execution_count": 19
        }
      ],
      "source": [
        "# Removing rows that contain NULL values and checking if number of removed rows is equal to the number of null values.\n",
        "\n",
        "before = data.shape\n",
        "data.dropna(inplace=True)\n",
        "after = data.shape\n",
        "before[0] - after[0]"
      ]
    },
    {
      "cell_type": "code",
      "execution_count": 20,
      "metadata": {
        "id": "fdnrdOCBrMBU",
        "colab": {
          "base_uri": "https://localhost:8080/"
        },
        "outputId": "b0a887ff-a556-4708-c2c0-7196c3a3e110"
      },
      "outputs": [
        {
          "output_type": "execute_result",
          "data": {
            "text/plain": [
              "False"
            ]
          },
          "metadata": {},
          "execution_count": 20
        }
      ],
      "source": [
        "data.isnull().any().any()"
      ]
    },
    {
      "cell_type": "markdown",
      "metadata": {
        "id": "NKH_ue06rTpB"
      },
      "source": [
        "**Removing non-finite values**"
      ]
    },
    {
      "cell_type": "code",
      "execution_count": 21,
      "metadata": {
        "id": "lrFxCDEArQXH"
      },
      "outputs": [],
      "source": [
        "import numpy as np"
      ]
    },
    {
      "cell_type": "code",
      "execution_count": 22,
      "metadata": {
        "id": "ardz4EDKratP"
      },
      "outputs": [],
      "source": [
        "labl = data['Label']\n",
        "data = data.loc[:, data.columns != 'Label'].astype('float64')"
      ]
    },
    {
      "cell_type": "code",
      "execution_count": 23,
      "metadata": {
        "id": "MRSMBFs0rj39",
        "colab": {
          "base_uri": "https://localhost:8080/"
        },
        "outputId": "4113fb04-97fd-470a-da3c-1ae073abc99a"
      },
      "outputs": [
        {
          "output_type": "execute_result",
          "data": {
            "text/plain": [
              "False"
            ]
          },
          "metadata": {},
          "execution_count": 23
        }
      ],
      "source": [
        "# Checking if all values are finite.\n",
        "np.all(np.isfinite(data))"
      ]
    },
    {
      "cell_type": "code",
      "execution_count": 24,
      "metadata": {
        "id": "V12Gi0DOrlfd",
        "colab": {
          "base_uri": "https://localhost:8080/"
        },
        "outputId": "e455c7bc-4df8-4e46-957c-fd0598c9ce1e"
      },
      "outputs": [
        {
          "output_type": "execute_result",
          "data": {
            "text/plain": [
              "['FlowBytes/s', 'FlowPackets/s']"
            ]
          },
          "metadata": {},
          "execution_count": 24
        }
      ],
      "source": [
        "# Checking what column/s contain non-finite values.\n",
        "\n",
        "nonfinite = [col for col in data if not np.all(np.isfinite(data[col]))]\n",
        "nonfinite"
      ]
    },
    {
      "cell_type": "code",
      "execution_count": 25,
      "metadata": {
        "id": "TGz5Wbe1r4J7",
        "colab": {
          "base_uri": "https://localhost:8080/"
        },
        "outputId": "faabdabb-18e5-4d62-dab3-ec1bd031be86"
      },
      "outputs": [
        {
          "output_type": "execute_result",
          "data": {
            "text/plain": [
              "1132"
            ]
          },
          "metadata": {},
          "execution_count": 25
        }
      ],
      "source": [
        "# Checking how many non-finite values each column contains.\n",
        "\n",
        "finite= np.isfinite(data['FlowBytes/s']).sum()\n",
        "data.shape[0] - finite"
      ]
    },
    {
      "cell_type": "code",
      "execution_count": 26,
      "metadata": {
        "id": "kkLs_Plur7DR",
        "colab": {
          "base_uri": "https://localhost:8080/"
        },
        "outputId": "63e6777b-1307-4374-da96-8d927e59860a"
      },
      "outputs": [
        {
          "output_type": "execute_result",
          "data": {
            "text/plain": [
              "1132"
            ]
          },
          "metadata": {},
          "execution_count": 26
        }
      ],
      "source": [
        "# Checking how many non-finite values each column contains.\n",
        "\n",
        "finite= np.isfinite(data['FlowPackets/s']).sum()\n",
        "data.shape[0] - finite"
      ]
    },
    {
      "cell_type": "code",
      "execution_count": 27,
      "metadata": {
        "id": "_AbX98hasFnE"
      },
      "outputs": [],
      "source": [
        "# Same as before, since there is a small number of non-finite values we can safely remove them from the dataset\n",
        "# without spoiling the dataset.\n",
        "\n",
        "# Replacing infinite values with NaN values.\n",
        "data = data.replace([np.inf,-np.inf],np.nan)"
      ]
    },
    {
      "cell_type": "code",
      "execution_count": 28,
      "metadata": {
        "id": "q9Zw6Y_ysIxp",
        "colab": {
          "base_uri": "https://localhost:8080/"
        },
        "outputId": "7396c61f-e031-4589-e287-cc6eea648836"
      },
      "outputs": [
        {
          "output_type": "execute_result",
          "data": {
            "text/plain": [
              "True"
            ]
          },
          "metadata": {},
          "execution_count": 28
        }
      ],
      "source": [
        "# We can see that now we have Nan values again.\n",
        "\n",
        "np.any(np.isnan(data))"
      ]
    },
    {
      "cell_type": "code",
      "execution_count": 29,
      "metadata": {
        "id": "yyFsU6K6sM05"
      },
      "outputs": [],
      "source": [
        "# Bringing the Labels back into the dataset before deliting Nan rows.\n",
        "\n",
        "data = data.merge(labl, how='outer', left_index=True, right_index=True)"
      ]
    },
    {
      "cell_type": "code",
      "execution_count": 30,
      "metadata": {
        "id": "gvrgX-zksU5r",
        "colab": {
          "base_uri": "https://localhost:8080/"
        },
        "outputId": "fd72c76d-2833-4035-a4e0-59f9e5ee72a3"
      },
      "outputs": [
        {
          "output_type": "execute_result",
          "data": {
            "text/plain": [
              "1132"
            ]
          },
          "metadata": {},
          "execution_count": 30
        }
      ],
      "source": [
        "# Removing new NaN values.\n",
        "\n",
        "before = data.shape\n",
        "data.dropna(inplace=True)\n",
        "after = data.shape\n",
        "before[0] - after[0]"
      ]
    },
    {
      "cell_type": "code",
      "execution_count": 31,
      "metadata": {
        "id": "R047vDy6sZ0c",
        "colab": {
          "base_uri": "https://localhost:8080/"
        },
        "outputId": "2564e549-2d18-4835-96f3-df91e237f08d"
      },
      "outputs": [
        {
          "output_type": "execute_result",
          "data": {
            "text/plain": [
              "(2425727, 79)"
            ]
          },
          "metadata": {},
          "execution_count": 31
        }
      ],
      "source": [
        "data.shape"
      ]
    },
    {
      "cell_type": "markdown",
      "metadata": {
        "id": "kJUALkjts2zP"
      },
      "source": [
        "**Data preparation**"
      ]
    },
    {
      "cell_type": "code",
      "execution_count": 32,
      "metadata": {
        "id": "HVCAVq7ps4QI"
      },
      "outputs": [],
      "source": [
        "# Splitting dataset into features and labels.\n",
        "\n",
        "labels = data['Label']\n",
        "features = data.loc[:, data.columns != 'Label'].astype('float64')"
      ]
    },
    {
      "cell_type": "code",
      "execution_count": 33,
      "metadata": {
        "id": "lc6DFQsB6AIb",
        "colab": {
          "base_uri": "https://localhost:8080/"
        },
        "outputId": "c5c16992-df7a-409f-a880-1d633f05458e"
      },
      "outputs": [
        {
          "output_type": "stream",
          "name": "stdout",
          "text": [
            "390222\n"
          ]
        }
      ],
      "source": [
        "labels.head()\n",
        "i=0\n",
        "for row in labels:\n",
        "  if row!='BENIGN':\n",
        "    i+=1\n",
        "print(i)"
      ]
    },
    {
      "cell_type": "code",
      "execution_count": 34,
      "metadata": {
        "id": "D4Wqhivmtb2k"
      },
      "outputs": [],
      "source": [
        "# For scaling the data, we use RobustScaler class from sklearn.\n",
        "\n",
        "from sklearn.preprocessing import MinMaxScaler\n",
        "scaler = MinMaxScaler()\n",
        "features = scaler.fit_transform(features)\n"
      ]
    },
    {
      "cell_type": "code",
      "execution_count": 35,
      "metadata": {
        "id": "rNEzUIUMtik8",
        "colab": {
          "base_uri": "https://localhost:8080/"
        },
        "outputId": "f2efc0b2-e8f9-4385-9f51-7008f1961c02"
      },
      "outputs": [
        {
          "output_type": "execute_result",
          "data": {
            "text/plain": [
              "array([8.37186236e-01, 1.33333321e-07, 4.55046005e-06, 0.00000000e+00,\n",
              "       9.30232558e-07, 0.00000000e+00, 2.41740532e-04, 2.58064516e-03,\n",
              "       1.00995527e-03, 0.00000000e+00, 0.00000000e+00, 0.00000000e+00,\n",
              "       0.00000000e+00, 0.00000000e+00, 1.13636364e-01, 4.44444444e-01,\n",
              "       1.33333319e-07, 0.00000000e+00, 1.33333319e-07, 1.41666650e-07,\n",
              "       2.50000000e-08, 2.50000000e-08, 0.00000000e+00, 2.50000000e-08,\n",
              "       1.24999988e-07, 0.00000000e+00, 0.00000000e+00, 0.00000000e+00,\n",
              "       0.00000000e+00, 0.00000000e+00, 0.00000000e+00, 0.00000000e+00,\n",
              "       0.00000000e+00, 0.00000000e+00, 9.99855825e-01, 9.94591933e-01,\n",
              "       2.22222222e-01, 0.00000000e+00, 4.14364641e-03, 2.41740532e-04,\n",
              "       1.79794521e-03, 0.00000000e+00, 0.00000000e+00, 0.00000000e+00,\n",
              "       0.00000000e+00, 0.00000000e+00, 0.00000000e+00, 1.00000000e+00,\n",
              "       0.00000000e+00, 0.00000000e+00, 0.00000000e+00, 0.00000000e+00,\n",
              "       2.31164384e-03, 1.00995527e-03, 0.00000000e+00, 9.99855825e-01,\n",
              "       0.00000000e+00, 0.00000000e+00, 0.00000000e+00, 0.00000000e+00,\n",
              "       0.00000000e+00, 0.00000000e+00, 4.55046005e-06, 9.32376446e-07,\n",
              "       0.00000000e+00, 0.00000000e+00, 5.18798828e-04, 0.00000000e+00,\n",
              "       4.68259060e-06, 9.99999780e-01, 0.00000000e+00, 0.00000000e+00,\n",
              "       0.00000000e+00, 0.00000000e+00, 0.00000000e+00, 0.00000000e+00,\n",
              "       0.00000000e+00, 0.00000000e+00])"
            ]
          },
          "metadata": {},
          "execution_count": 35
        }
      ],
      "source": [
        "# Checking if scaling has been succesful.\n",
        "features[0]"
      ]
    },
    {
      "cell_type": "markdown",
      "metadata": {
        "id": "YaH-rx8Ftul5"
      },
      "source": [
        "**Label encoding**"
      ]
    },
    {
      "cell_type": "code",
      "execution_count": 36,
      "metadata": {
        "id": "M67IyCXLttHr",
        "colab": {
          "base_uri": "https://localhost:8080/"
        },
        "outputId": "a4daf84b-57b9-4d5e-fdfd-280dae48221f"
      },
      "outputs": [
        {
          "output_type": "execute_result",
          "data": {
            "text/plain": [
              "array([ 0,  1,  2,  3,  4,  5,  6,  7,  8,  9, 10, 11, 12, 13, 14])"
            ]
          },
          "metadata": {},
          "execution_count": 36
        }
      ],
      "source": [
        "#multiclass\n",
        "from sklearn.preprocessing import LabelEncoder\n",
        "LE = LabelEncoder()\n",
        "LE.fit(labels)\n",
        "labels = LE.transform(labels)\n",
        "# Labels have been replaced with integers.\n",
        "np.unique(labels)"
      ]
    },
    {
      "cell_type": "code",
      "execution_count": 37,
      "metadata": {
        "id": "TVP7RmyKVjwY",
        "colab": {
          "base_uri": "https://localhost:8080/"
        },
        "outputId": "37e56511-f7b3-4725-a414-a4ef34f94be0"
      },
      "outputs": [
        {
          "output_type": "execute_result",
          "data": {
            "text/plain": [
              "array([1., 0.])"
            ]
          },
          "metadata": {},
          "execution_count": 37
        }
      ],
      "source": [
        "#binary\n",
        "for i in range(len(labels)):\n",
        " if labels[i]==0:\n",
        "   labels[i]=0\n",
        " else :\n",
        "   labels[i]=1\n",
        "np.unique(labels)\n",
        "labels=pd.get_dummies(labels)\n",
        "labels = scaler.fit_transform(labels)\n",
        "labels[0]"
      ]
    },
    {
      "cell_type": "markdown",
      "metadata": {
        "id": "UPAI5X81umUV"
      },
      "source": [
        "**Splitting the data**\n",
        "Final step to data preparation is splitting the data into traning and testing sets. For this there already exists sklearn function that does all the splitting for us. This step is important so we can have representative data for evaluating our model. Both train and test samples should contain similar data variance."
      ]
    },
    {
      "cell_type": "code",
      "execution_count": 38,
      "metadata": {
        "id": "FLLL7kTJujC3",
        "colab": {
          "base_uri": "https://localhost:8080/"
        },
        "outputId": "fbb77216-3841-4d14-825e-24adcfa62c9e"
      },
      "outputs": [
        {
          "output_type": "execute_result",
          "data": {
            "text/plain": [
              "((1940581, 78), (485146, 78), (1940581, 2), (485146, 2))"
            ]
          },
          "metadata": {},
          "execution_count": 38
        }
      ],
      "source": [
        "from sklearn.model_selection import train_test_split\n",
        "# The next step is to split training and testing data. For this we will use sklearn function train_test_split().\n",
        "# In the first step we will split the data in training and remaining dataset\n",
        "x_train, x_rem, y_train, y_rem = train_test_split(features,labels, train_size=0.8)\n",
        "x_train.shape, x_rem.shape, y_train.shape, y_rem.shape"
      ]
    },
    {
      "cell_type": "code",
      "execution_count": 39,
      "metadata": {
        "id": "jeCDyw_w9g63",
        "colab": {
          "base_uri": "https://localhost:8080/"
        },
        "outputId": "ad3470a5-f42b-4dc9-80f6-82dd5faa9a67"
      },
      "outputs": [
        {
          "output_type": "execute_result",
          "data": {
            "text/plain": [
              "((242573, 78), (242573, 78), (242573, 2), (242573, 2))"
            ]
          },
          "metadata": {},
          "execution_count": 39
        }
      ],
      "source": [
        "x_valid, x_test, y_valid, y_test = train_test_split(x_rem,y_rem, test_size=0.5)\n",
        "x_valid.shape,x_test.shape, y_valid.shape, y_test.shape"
      ]
    },
    {
      "cell_type": "code",
      "execution_count": 40,
      "metadata": {
        "id": "QfKhfLqX-8fB"
      },
      "outputs": [],
      "source": [
        "#instancier le modéle\n",
        "from tensorflow.keras.models import Sequential\n",
        "model=Sequential()\n",
        "#Créer la couche entrée totalement connecté avec la couche dense\n",
        "from tensorflow.keras.layers import LSTM, Dense, Dropout\n"
      ]
    },
    {
      "cell_type": "code",
      "execution_count": 41,
      "metadata": {
        "id": "jJ3fzgkB_nb_",
        "colab": {
          "base_uri": "https://localhost:8080/"
        },
        "outputId": "868f51f3-381e-4996-c763-eab6bb3f11e0"
      },
      "outputs": [
        {
          "output_type": "stream",
          "name": "stdout",
          "text": [
            "Model: \"sequential_1\"\n",
            "_________________________________________________________________\n",
            " Layer (type)                Output Shape              Param #   \n",
            "=================================================================\n",
            " lstm (LSTM)                 (None, 78, 30)            3840      \n",
            "                                                                 \n",
            " dropout (Dropout)           (None, 78, 30)            0         \n",
            "                                                                 \n",
            " lstm_1 (LSTM)               (None, 78, 15)            2760      \n",
            "                                                                 \n",
            " flatten (Flatten)           (None, 1170)              0         \n",
            "                                                                 \n",
            " dense (Dense)               (None, 2)                 2342      \n",
            "                                                                 \n",
            "=================================================================\n",
            "Total params: 8,942\n",
            "Trainable params: 8,942\n",
            "Non-trainable params: 0\n",
            "_________________________________________________________________\n"
          ]
        }
      ],
      "source": [
        "from tensorflow import keras\n",
        "from tensorflow.keras.layers import Flatten\n",
        "model = Sequential()\n",
        "model.add(LSTM(50,activation='relu',input_shape=(x_train.shape[1],1),return_sequences=True))\n",
        "model.add(Dropout(0.2))\n",
        "model.add(LSTM(30,activation='relu',return_sequences=True))\n",
        "model.add(Dropout(0.2))\n",
        "model.add(LSTM(15,activation='relu',return_sequences=True))\n",
        "model.add(Flatten())\n",
        "model.add(Dense(2,activation=\"sigmoid\"))\n",
        "    \n",
        "\n",
        "model.summary()"
      ]
    },
    {
      "cell_type": "code",
      "execution_count": 42,
      "metadata": {
        "id": "W7wmdbEN_s_U"
      },
      "outputs": [],
      "source": [
        "from tensorflow import keras\n",
        "opt = keras.optimizers.Adam(learning_rate=0.0001)\n",
        "model.compile(loss='binary_crossentropy',optimizer=opt,metrics=['accuracy',keras.metrics.Precision()])"
      ]
    },
    {
      "cell_type": "code",
      "execution_count": 43,
      "metadata": {
        "id": "wNuedV10_wAT",
        "colab": {
          "base_uri": "https://localhost:8080/",
          "height": 397
        },
        "outputId": "b948320e-4d4b-450b-9eb6-a7a098e00105"
      },
      "outputs": [
        {
          "output_type": "stream",
          "name": "stdout",
          "text": [
            "Epoch 1/100\n",
            " 751/3882 [====>.........................] - ETA: 12:13 - loss: 0.4128 - accuracy: 0.8594 - precision: 0.8601"
          ]
        },
        {
          "output_type": "error",
          "ename": "KeyboardInterrupt",
          "evalue": "ignored",
          "traceback": [
            "\u001b[0;31m---------------------------------------------------------------------------\u001b[0m",
            "\u001b[0;31mKeyboardInterrupt\u001b[0m                         Traceback (most recent call last)",
            "\u001b[0;32m<ipython-input-43-42bffeea205e>\u001b[0m in \u001b[0;36m<module>\u001b[0;34m()\u001b[0m\n\u001b[1;32m      3\u001b[0m \u001b[0;32mfrom\u001b[0m \u001b[0mkeras\u001b[0m\u001b[0;34m.\u001b[0m\u001b[0mcallbacks\u001b[0m \u001b[0;32mimport\u001b[0m \u001b[0mEarlyStopping\u001b[0m\u001b[0;34m\u001b[0m\u001b[0;34m\u001b[0m\u001b[0m\n\u001b[1;32m      4\u001b[0m \u001b[0;31m#history = model.fit(x_train, y_train, epochs =80,batch_size =128,validation_data=(x_valid, y_valid),callbacks = [EarlyStopping(monitor='val_loss', patience=5)])\u001b[0m\u001b[0;34m\u001b[0m\u001b[0;34m\u001b[0m\u001b[0;34m\u001b[0m\u001b[0m\n\u001b[0;32m----> 5\u001b[0;31m \u001b[0mhistory\u001b[0m \u001b[0;34m=\u001b[0m \u001b[0mmodel\u001b[0m\u001b[0;34m.\u001b[0m\u001b[0mfit\u001b[0m\u001b[0;34m(\u001b[0m\u001b[0mx_train\u001b[0m\u001b[0;34m,\u001b[0m \u001b[0my_train\u001b[0m\u001b[0;34m,\u001b[0m \u001b[0mepochs\u001b[0m \u001b[0;34m=\u001b[0m\u001b[0;36m100\u001b[0m\u001b[0;34m,\u001b[0m\u001b[0mbatch_size\u001b[0m \u001b[0;34m=\u001b[0m\u001b[0;36m500\u001b[0m\u001b[0;34m,\u001b[0m\u001b[0mvalidation_data\u001b[0m\u001b[0;34m=\u001b[0m\u001b[0;34m(\u001b[0m\u001b[0mx_valid\u001b[0m\u001b[0;34m,\u001b[0m \u001b[0my_valid\u001b[0m\u001b[0;34m)\u001b[0m\u001b[0;34m)\u001b[0m\u001b[0;34m\u001b[0m\u001b[0;34m\u001b[0m\u001b[0m\n\u001b[0m",
            "\u001b[0;32m/usr/local/lib/python3.7/dist-packages/keras/utils/traceback_utils.py\u001b[0m in \u001b[0;36merror_handler\u001b[0;34m(*args, **kwargs)\u001b[0m\n\u001b[1;32m     62\u001b[0m     \u001b[0mfiltered_tb\u001b[0m \u001b[0;34m=\u001b[0m \u001b[0;32mNone\u001b[0m\u001b[0;34m\u001b[0m\u001b[0;34m\u001b[0m\u001b[0m\n\u001b[1;32m     63\u001b[0m     \u001b[0;32mtry\u001b[0m\u001b[0;34m:\u001b[0m\u001b[0;34m\u001b[0m\u001b[0;34m\u001b[0m\u001b[0m\n\u001b[0;32m---> 64\u001b[0;31m       \u001b[0;32mreturn\u001b[0m \u001b[0mfn\u001b[0m\u001b[0;34m(\u001b[0m\u001b[0;34m*\u001b[0m\u001b[0margs\u001b[0m\u001b[0;34m,\u001b[0m \u001b[0;34m**\u001b[0m\u001b[0mkwargs\u001b[0m\u001b[0;34m)\u001b[0m\u001b[0;34m\u001b[0m\u001b[0;34m\u001b[0m\u001b[0m\n\u001b[0m\u001b[1;32m     65\u001b[0m     \u001b[0;32mexcept\u001b[0m \u001b[0mException\u001b[0m \u001b[0;32mas\u001b[0m \u001b[0me\u001b[0m\u001b[0;34m:\u001b[0m  \u001b[0;31m# pylint: disable=broad-except\u001b[0m\u001b[0;34m\u001b[0m\u001b[0;34m\u001b[0m\u001b[0m\n\u001b[1;32m     66\u001b[0m       \u001b[0mfiltered_tb\u001b[0m \u001b[0;34m=\u001b[0m \u001b[0m_process_traceback_frames\u001b[0m\u001b[0;34m(\u001b[0m\u001b[0me\u001b[0m\u001b[0;34m.\u001b[0m\u001b[0m__traceback__\u001b[0m\u001b[0;34m)\u001b[0m\u001b[0;34m\u001b[0m\u001b[0;34m\u001b[0m\u001b[0m\n",
            "\u001b[0;32m/usr/local/lib/python3.7/dist-packages/keras/engine/training.py\u001b[0m in \u001b[0;36mfit\u001b[0;34m(self, x, y, batch_size, epochs, verbose, callbacks, validation_split, validation_data, shuffle, class_weight, sample_weight, initial_epoch, steps_per_epoch, validation_steps, validation_batch_size, validation_freq, max_queue_size, workers, use_multiprocessing)\u001b[0m\n\u001b[1;32m   1382\u001b[0m                 _r=1):\n\u001b[1;32m   1383\u001b[0m               \u001b[0mcallbacks\u001b[0m\u001b[0;34m.\u001b[0m\u001b[0mon_train_batch_begin\u001b[0m\u001b[0;34m(\u001b[0m\u001b[0mstep\u001b[0m\u001b[0;34m)\u001b[0m\u001b[0;34m\u001b[0m\u001b[0;34m\u001b[0m\u001b[0m\n\u001b[0;32m-> 1384\u001b[0;31m               \u001b[0mtmp_logs\u001b[0m \u001b[0;34m=\u001b[0m \u001b[0mself\u001b[0m\u001b[0;34m.\u001b[0m\u001b[0mtrain_function\u001b[0m\u001b[0;34m(\u001b[0m\u001b[0miterator\u001b[0m\u001b[0;34m)\u001b[0m\u001b[0;34m\u001b[0m\u001b[0;34m\u001b[0m\u001b[0m\n\u001b[0m\u001b[1;32m   1385\u001b[0m               \u001b[0;32mif\u001b[0m \u001b[0mdata_handler\u001b[0m\u001b[0;34m.\u001b[0m\u001b[0mshould_sync\u001b[0m\u001b[0;34m:\u001b[0m\u001b[0;34m\u001b[0m\u001b[0;34m\u001b[0m\u001b[0m\n\u001b[1;32m   1386\u001b[0m                 \u001b[0mcontext\u001b[0m\u001b[0;34m.\u001b[0m\u001b[0masync_wait\u001b[0m\u001b[0;34m(\u001b[0m\u001b[0;34m)\u001b[0m\u001b[0;34m\u001b[0m\u001b[0;34m\u001b[0m\u001b[0m\n",
            "\u001b[0;32m/usr/local/lib/python3.7/dist-packages/tensorflow/python/util/traceback_utils.py\u001b[0m in \u001b[0;36merror_handler\u001b[0;34m(*args, **kwargs)\u001b[0m\n\u001b[1;32m    148\u001b[0m     \u001b[0mfiltered_tb\u001b[0m \u001b[0;34m=\u001b[0m \u001b[0;32mNone\u001b[0m\u001b[0;34m\u001b[0m\u001b[0;34m\u001b[0m\u001b[0m\n\u001b[1;32m    149\u001b[0m     \u001b[0;32mtry\u001b[0m\u001b[0;34m:\u001b[0m\u001b[0;34m\u001b[0m\u001b[0;34m\u001b[0m\u001b[0m\n\u001b[0;32m--> 150\u001b[0;31m       \u001b[0;32mreturn\u001b[0m \u001b[0mfn\u001b[0m\u001b[0;34m(\u001b[0m\u001b[0;34m*\u001b[0m\u001b[0margs\u001b[0m\u001b[0;34m,\u001b[0m \u001b[0;34m**\u001b[0m\u001b[0mkwargs\u001b[0m\u001b[0;34m)\u001b[0m\u001b[0;34m\u001b[0m\u001b[0;34m\u001b[0m\u001b[0m\n\u001b[0m\u001b[1;32m    151\u001b[0m     \u001b[0;32mexcept\u001b[0m \u001b[0mException\u001b[0m \u001b[0;32mas\u001b[0m \u001b[0me\u001b[0m\u001b[0;34m:\u001b[0m\u001b[0;34m\u001b[0m\u001b[0;34m\u001b[0m\u001b[0m\n\u001b[1;32m    152\u001b[0m       \u001b[0mfiltered_tb\u001b[0m \u001b[0;34m=\u001b[0m \u001b[0m_process_traceback_frames\u001b[0m\u001b[0;34m(\u001b[0m\u001b[0me\u001b[0m\u001b[0;34m.\u001b[0m\u001b[0m__traceback__\u001b[0m\u001b[0;34m)\u001b[0m\u001b[0;34m\u001b[0m\u001b[0;34m\u001b[0m\u001b[0m\n",
            "\u001b[0;32m/usr/local/lib/python3.7/dist-packages/tensorflow/python/eager/def_function.py\u001b[0m in \u001b[0;36m__call__\u001b[0;34m(self, *args, **kwds)\u001b[0m\n\u001b[1;32m    913\u001b[0m \u001b[0;34m\u001b[0m\u001b[0m\n\u001b[1;32m    914\u001b[0m       \u001b[0;32mwith\u001b[0m \u001b[0mOptionalXlaContext\u001b[0m\u001b[0;34m(\u001b[0m\u001b[0mself\u001b[0m\u001b[0;34m.\u001b[0m\u001b[0m_jit_compile\u001b[0m\u001b[0;34m)\u001b[0m\u001b[0;34m:\u001b[0m\u001b[0;34m\u001b[0m\u001b[0;34m\u001b[0m\u001b[0m\n\u001b[0;32m--> 915\u001b[0;31m         \u001b[0mresult\u001b[0m \u001b[0;34m=\u001b[0m \u001b[0mself\u001b[0m\u001b[0;34m.\u001b[0m\u001b[0m_call\u001b[0m\u001b[0;34m(\u001b[0m\u001b[0;34m*\u001b[0m\u001b[0margs\u001b[0m\u001b[0;34m,\u001b[0m \u001b[0;34m**\u001b[0m\u001b[0mkwds\u001b[0m\u001b[0;34m)\u001b[0m\u001b[0;34m\u001b[0m\u001b[0;34m\u001b[0m\u001b[0m\n\u001b[0m\u001b[1;32m    916\u001b[0m \u001b[0;34m\u001b[0m\u001b[0m\n\u001b[1;32m    917\u001b[0m       \u001b[0mnew_tracing_count\u001b[0m \u001b[0;34m=\u001b[0m \u001b[0mself\u001b[0m\u001b[0;34m.\u001b[0m\u001b[0mexperimental_get_tracing_count\u001b[0m\u001b[0;34m(\u001b[0m\u001b[0;34m)\u001b[0m\u001b[0;34m\u001b[0m\u001b[0;34m\u001b[0m\u001b[0m\n",
            "\u001b[0;32m/usr/local/lib/python3.7/dist-packages/tensorflow/python/eager/def_function.py\u001b[0m in \u001b[0;36m_call\u001b[0;34m(self, *args, **kwds)\u001b[0m\n\u001b[1;32m    945\u001b[0m       \u001b[0;31m# In this case we have created variables on the first call, so we run the\u001b[0m\u001b[0;34m\u001b[0m\u001b[0;34m\u001b[0m\u001b[0;34m\u001b[0m\u001b[0m\n\u001b[1;32m    946\u001b[0m       \u001b[0;31m# defunned version which is guaranteed to never create variables.\u001b[0m\u001b[0;34m\u001b[0m\u001b[0;34m\u001b[0m\u001b[0;34m\u001b[0m\u001b[0m\n\u001b[0;32m--> 947\u001b[0;31m       \u001b[0;32mreturn\u001b[0m \u001b[0mself\u001b[0m\u001b[0;34m.\u001b[0m\u001b[0m_stateless_fn\u001b[0m\u001b[0;34m(\u001b[0m\u001b[0;34m*\u001b[0m\u001b[0margs\u001b[0m\u001b[0;34m,\u001b[0m \u001b[0;34m**\u001b[0m\u001b[0mkwds\u001b[0m\u001b[0;34m)\u001b[0m  \u001b[0;31m# pylint: disable=not-callable\u001b[0m\u001b[0;34m\u001b[0m\u001b[0;34m\u001b[0m\u001b[0m\n\u001b[0m\u001b[1;32m    948\u001b[0m     \u001b[0;32melif\u001b[0m \u001b[0mself\u001b[0m\u001b[0;34m.\u001b[0m\u001b[0m_stateful_fn\u001b[0m \u001b[0;32mis\u001b[0m \u001b[0;32mnot\u001b[0m \u001b[0;32mNone\u001b[0m\u001b[0;34m:\u001b[0m\u001b[0;34m\u001b[0m\u001b[0;34m\u001b[0m\u001b[0m\n\u001b[1;32m    949\u001b[0m       \u001b[0;31m# Release the lock early so that multiple threads can perform the call\u001b[0m\u001b[0;34m\u001b[0m\u001b[0;34m\u001b[0m\u001b[0;34m\u001b[0m\u001b[0m\n",
            "\u001b[0;32m/usr/local/lib/python3.7/dist-packages/tensorflow/python/eager/function.py\u001b[0m in \u001b[0;36m__call__\u001b[0;34m(self, *args, **kwargs)\u001b[0m\n\u001b[1;32m   2955\u001b[0m        filtered_flat_args) = self._maybe_define_function(args, kwargs)\n\u001b[1;32m   2956\u001b[0m     return graph_function._call_flat(\n\u001b[0;32m-> 2957\u001b[0;31m         filtered_flat_args, captured_inputs=graph_function.captured_inputs)  # pylint: disable=protected-access\n\u001b[0m\u001b[1;32m   2958\u001b[0m \u001b[0;34m\u001b[0m\u001b[0m\n\u001b[1;32m   2959\u001b[0m   \u001b[0;34m@\u001b[0m\u001b[0mproperty\u001b[0m\u001b[0;34m\u001b[0m\u001b[0;34m\u001b[0m\u001b[0m\n",
            "\u001b[0;32m/usr/local/lib/python3.7/dist-packages/tensorflow/python/eager/function.py\u001b[0m in \u001b[0;36m_call_flat\u001b[0;34m(self, args, captured_inputs, cancellation_manager)\u001b[0m\n\u001b[1;32m   1852\u001b[0m       \u001b[0;31m# No tape is watching; skip to running the function.\u001b[0m\u001b[0;34m\u001b[0m\u001b[0;34m\u001b[0m\u001b[0;34m\u001b[0m\u001b[0m\n\u001b[1;32m   1853\u001b[0m       return self._build_call_outputs(self._inference_function.call(\n\u001b[0;32m-> 1854\u001b[0;31m           ctx, args, cancellation_manager=cancellation_manager))\n\u001b[0m\u001b[1;32m   1855\u001b[0m     forward_backward = self._select_forward_and_backward_functions(\n\u001b[1;32m   1856\u001b[0m         \u001b[0margs\u001b[0m\u001b[0;34m,\u001b[0m\u001b[0;34m\u001b[0m\u001b[0;34m\u001b[0m\u001b[0m\n",
            "\u001b[0;32m/usr/local/lib/python3.7/dist-packages/tensorflow/python/eager/function.py\u001b[0m in \u001b[0;36mcall\u001b[0;34m(self, ctx, args, cancellation_manager)\u001b[0m\n\u001b[1;32m    502\u001b[0m               \u001b[0minputs\u001b[0m\u001b[0;34m=\u001b[0m\u001b[0margs\u001b[0m\u001b[0;34m,\u001b[0m\u001b[0;34m\u001b[0m\u001b[0;34m\u001b[0m\u001b[0m\n\u001b[1;32m    503\u001b[0m               \u001b[0mattrs\u001b[0m\u001b[0;34m=\u001b[0m\u001b[0mattrs\u001b[0m\u001b[0;34m,\u001b[0m\u001b[0;34m\u001b[0m\u001b[0;34m\u001b[0m\u001b[0m\n\u001b[0;32m--> 504\u001b[0;31m               ctx=ctx)\n\u001b[0m\u001b[1;32m    505\u001b[0m         \u001b[0;32melse\u001b[0m\u001b[0;34m:\u001b[0m\u001b[0;34m\u001b[0m\u001b[0;34m\u001b[0m\u001b[0m\n\u001b[1;32m    506\u001b[0m           outputs = execute.execute_with_cancellation(\n",
            "\u001b[0;32m/usr/local/lib/python3.7/dist-packages/tensorflow/python/eager/execute.py\u001b[0m in \u001b[0;36mquick_execute\u001b[0;34m(op_name, num_outputs, inputs, attrs, ctx, name)\u001b[0m\n\u001b[1;32m     53\u001b[0m     \u001b[0mctx\u001b[0m\u001b[0;34m.\u001b[0m\u001b[0mensure_initialized\u001b[0m\u001b[0;34m(\u001b[0m\u001b[0;34m)\u001b[0m\u001b[0;34m\u001b[0m\u001b[0;34m\u001b[0m\u001b[0m\n\u001b[1;32m     54\u001b[0m     tensors = pywrap_tfe.TFE_Py_Execute(ctx._handle, device_name, op_name,\n\u001b[0;32m---> 55\u001b[0;31m                                         inputs, attrs, num_outputs)\n\u001b[0m\u001b[1;32m     56\u001b[0m   \u001b[0;32mexcept\u001b[0m \u001b[0mcore\u001b[0m\u001b[0;34m.\u001b[0m\u001b[0m_NotOkStatusException\u001b[0m \u001b[0;32mas\u001b[0m \u001b[0me\u001b[0m\u001b[0;34m:\u001b[0m\u001b[0;34m\u001b[0m\u001b[0;34m\u001b[0m\u001b[0m\n\u001b[1;32m     57\u001b[0m     \u001b[0;32mif\u001b[0m \u001b[0mname\u001b[0m \u001b[0;32mis\u001b[0m \u001b[0;32mnot\u001b[0m \u001b[0;32mNone\u001b[0m\u001b[0;34m:\u001b[0m\u001b[0;34m\u001b[0m\u001b[0;34m\u001b[0m\u001b[0m\n",
            "\u001b[0;31mKeyboardInterrupt\u001b[0m: "
          ]
        }
      ],
      "source": [
        "#model.fit(x_train, y_train, epochs = 100, batch_size =1000)\n",
        "#model.fit(x_train, y_train, epochs =80,batch_size =128,validation_data=(x_valid, y_valid),callbacks=tf.keras.callbacks.EarlyStopping(monitor='val_loss', verbose=1))\n",
        "from keras.callbacks import EarlyStopping\n",
        "#history = model.fit(x_train, y_train, epochs =80,batch_size =128,validation_data=(x_valid, y_valid),callbacks = [EarlyStopping(monitor='val_loss', patience=5)])\n",
        "history = model.fit(x_train, y_train, epochs =100,batch_size =5000,validation_data=(x_valid, y_valid))\n"
      ]
    },
    {
      "cell_type": "code",
      "execution_count": null,
      "metadata": {
        "id": "-f1qF1VE_0Ma"
      },
      "outputs": [],
      "source": [
        "import matplotlib.pyplot as plt\n",
        "import tensorflow as tf\n",
        "\n",
        "loss_val = history.history['val_loss']\n",
        "acc_val = history.history['loss']\n",
        "epochs = range(1,76)\n",
        "plt.plot(epochs, loss_val, 'b', label='validation loss')\n",
        "plt.plot(epochs, acc_val, 'g', label='train loss')\n",
        "plt.title('Validation loss')\n",
        "plt.xlabel('Epochs')\n",
        "plt.ylabel('Loss')\n",
        "plt.legend()\n",
        "plt.show()"
      ]
    },
    {
      "cell_type": "code",
      "execution_count": null,
      "metadata": {
        "id": "Ptrzh8Is_1oM"
      },
      "outputs": [],
      "source": [
        "acc_val = history.history['val_accuracy']\n",
        "acc_train = history.history['accuracy']\n",
        "epochs = range(1,101)\n",
        "plt.plot(epochs, acc_val, 'b', label='validation acc')\n",
        "plt.plot(epochs, acc_train, 'g', label='train_accuracy')\n",
        "plt.title('accuracy')\n",
        "plt.xlabel('Epochs')\n",
        "plt.ylabel('Accuracy')\n",
        "plt.legend()\n",
        "plt.show()"
      ]
    },
    {
      "cell_type": "code",
      "execution_count": null,
      "metadata": {
        "id": "tPFkeeTcDhIB"
      },
      "outputs": [],
      "source": [
        "#check accuaracy of prediction\n",
        "from sklearn.metrics import confusion_matrix,accuracy_score,precision_score, recall_score\n",
        "#model.score(x_valid,y_valid)"
      ]
    },
    {
      "cell_type": "code",
      "execution_count": null,
      "metadata": {
        "id": "bKniILRJDo_7"
      },
      "outputs": [],
      "source": [
        "#cf_matrix=confusion_matrix(y_valid, y_pred)\n",
        "y_test_arg=np.argmax(y_test,axis=1)\n",
        "import time\n",
        "from datetime import timedelta\n",
        "\n",
        "start_time = time.time()\n",
        "Y_pred = np.argmax(model.predict(x_test),axis=1)\n",
        "elapsed_time_secs = time.time() - start_time\n",
        "msg = \"Execution took: %s secs (Wall clock time)\" % timedelta(seconds=round(elapsed_time_secs))\n",
        "print('Confusion Matrix')\n",
        "cf_matrix=confusion_matrix(y_test_arg, Y_pred)\n",
        "print(cf_matrix)"
      ]
    },
    {
      "cell_type": "code",
      "execution_count": null,
      "metadata": {
        "id": "YxBcYcnaDrRZ"
      },
      "outputs": [],
      "source": [
        "import seaborn as sns\n",
        "import matplotlib.pyplot as plt\n",
        "sns.heatmap(cf_matrix, cmap='coolwarm',annot=True, linewidth=1,fmt=\"d\")\n",
        "plt.show()"
      ]
    },
    {
      "cell_type": "code",
      "execution_count": null,
      "metadata": {
        "id": "NIM0Ib1rDumn"
      },
      "outputs": [],
      "source": [
        "accuracy =accuracy_score(y_test_arg, Y_pred)*100\n",
        "print(accuracy)"
      ]
    },
    {
      "cell_type": "code",
      "execution_count": null,
      "metadata": {
        "id": "45-4YWQJDz2e"
      },
      "outputs": [],
      "source": [
        "recall = recall_score(y_test_arg, Y_pred , average=\"binary\")\n",
        "precision = precision_score(y_test_arg, Y_pred, average=\"binary\")\n",
        "FPR = cf_matrix[0][1]/(cf_matrix[0][1]+cf_matrix[1][1]) "
      ]
    },
    {
      "cell_type": "code",
      "execution_count": null,
      "metadata": {
        "id": "FRCgR538D3sA"
      },
      "outputs": [],
      "source": [
        "print(\"Accuracy : \",accuracy)\n",
        "print(\"Precision : \" , precision*100)\n",
        "print(\"Recall : \", recall*100)\n",
        "print(\"FPR : \",FPR*100)\n",
        "print(\"time: \",msg)"
      ]
    }
  ],
  "metadata": {
    "accelerator": "GPU",
    "colab": {
      "collapsed_sections": [],
      "name": "LSTM_cicids2017.ipynb",
      "provenance": [],
      "include_colab_link": true
    },
    "kernelspec": {
      "display_name": "Python 3",
      "name": "python3"
    },
    "language_info": {
      "name": "python"
    }
  },
  "nbformat": 4,
  "nbformat_minor": 0
}