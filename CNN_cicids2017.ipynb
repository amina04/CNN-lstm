{
  "cells": [
    {
      "cell_type": "markdown",
      "metadata": {
        "id": "view-in-github",
        "colab_type": "text"
      },
      "source": [
        "<a href=\"https://colab.research.google.com/github/amina04/CNN-lstm/blob/main/CNN_cicids2017.ipynb\" target=\"_parent\"><img src=\"https://colab.research.google.com/assets/colab-badge.svg\" alt=\"Open In Colab\"/></a>"
      ]
    },
    {
      "cell_type": "code",
      "execution_count": 1,
      "metadata": {
        "colab": {
          "base_uri": "https://localhost:8080/"
        },
        "id": "xRw79tU1bYtF",
        "outputId": "a73bf23d-79a2-47af-ccd8-4b41961ff5f3"
      },
      "outputs": [
        {
          "output_type": "stream",
          "name": "stdout",
          "text": [
            "Mounted at /content/drive\n"
          ]
        }
      ],
      "source": [
        "from google.colab import drive\n",
        "drive.mount('/content/drive')"
      ]
    },
    {
      "cell_type": "code",
      "execution_count": 2,
      "metadata": {
        "id": "F1p24aiQe_8Z"
      },
      "outputs": [],
      "source": [
        "import pandas as pd  \n",
        "import tensorflow as tf"
      ]
    },
    {
      "cell_type": "code",
      "execution_count": 3,
      "metadata": {
        "id": "3kzVMujHfD_W"
      },
      "outputs": [],
      "source": [
        "d1=pd.read_csv('/content/drive/MyDrive/data/cicids-2017/Friday-WorkingHours-Afternoon-DDos.pcap_ISCX.csv')\n",
        "d2=pd.read_csv('/content/drive/MyDrive/data/cicids-2017/Friday-WorkingHours-Afternoon-PortScan.pcap_ISCX.csv')\n",
        "d3=pd.read_csv('/content/drive/MyDrive/data/cicids-2017/Friday-WorkingHours-Morning.pcap_ISCX.csv')\n",
        "d4=pd.read_csv('/content/drive/MyDrive/data/cicids-2017/Monday-WorkingHours.pcap_ISCX.csv')\n",
        "d5=pd.read_csv('/content/drive/MyDrive/data/cicids-2017/Thursday-WorkingHours-Afternoon-Infilteration.pcap_ISCX.csv')\n",
        "d6=pd.read_csv('/content/drive/MyDrive/data/cicids-2017/Thursday-WorkingHours-Morning-WebAttacks.pcap_ISCX.csv')\n",
        "d7=pd.read_csv('/content/drive/MyDrive/data/cicids-2017/Wednesday-workingHours.pcap_ISCX.csv')\n",
        "d8=pd.read_csv('/content/drive/MyDrive/data/cicids-2017/Tuesday-WorkingHours.pcap_ISCX.csv')\n"
      ]
    },
    {
      "cell_type": "code",
      "source": [
        "data=pd.concat([d1,d2,d3,d4,d5,d6,d7,d8])\n",
        "data.shape"
      ],
      "metadata": {
        "colab": {
          "base_uri": "https://localhost:8080/"
        },
        "id": "6hNQJkgZwJ4i",
        "outputId": "0c445411-485e-4c83-ebb0-1d3d7c13b4bc"
      },
      "execution_count": 4,
      "outputs": [
        {
          "output_type": "execute_result",
          "data": {
            "text/plain": [
              "(2830743, 79)"
            ]
          },
          "metadata": {},
          "execution_count": 4
        }
      ]
    },
    {
      "cell_type": "code",
      "execution_count": 5,
      "metadata": {
        "id": "1UB_7pDkghjM"
      },
      "outputs": [],
      "source": [
        "data=pd.concat([d1,d2,d3,d4,d5,d6,d7,d8]).drop_duplicates(keep=False)\n",
        "data.reset_index(drop=True, inplace = True)"
      ]
    },
    {
      "cell_type": "code",
      "execution_count": 6,
      "metadata": {
        "id": "qH-aRKHegqGf"
      },
      "outputs": [],
      "source": [
        "del d1,d2,d3,d4,d5,d6,d7"
      ]
    },
    {
      "cell_type": "code",
      "execution_count": 7,
      "metadata": {
        "colab": {
          "base_uri": "https://localhost:8080/"
        },
        "id": "otT4P8cFgu1U",
        "outputId": "bd62d29c-2868-446d-905d-ae15d45fc2ea"
      },
      "outputs": [
        {
          "output_type": "execute_result",
          "data": {
            "text/plain": [
              "(2427193, 79)"
            ]
          },
          "metadata": {},
          "execution_count": 7
        }
      ],
      "source": [
        "data.shape"
      ]
    },
    {
      "cell_type": "code",
      "execution_count": 8,
      "metadata": {
        "colab": {
          "base_uri": "https://localhost:8080/",
          "height": 352
        },
        "id": "NPArHDAvgzhB",
        "outputId": "7d63445b-7daa-48ca-b106-066b572aabd8"
      },
      "outputs": [
        {
          "output_type": "execute_result",
          "data": {
            "text/plain": [
              "    Destination Port   Flow Duration   Total Fwd Packets  \\\n",
              "0              54865               3                   2   \n",
              "1              55054             109                   1   \n",
              "2              55055              52                   1   \n",
              "3              46236              34                   1   \n",
              "4              54863               3                   2   \n",
              "\n",
              "    Total Backward Packets  Total Length of Fwd Packets  \\\n",
              "0                        0                           12   \n",
              "1                        1                            6   \n",
              "2                        1                            6   \n",
              "3                        1                            6   \n",
              "4                        0                           12   \n",
              "\n",
              "    Total Length of Bwd Packets   Fwd Packet Length Max  \\\n",
              "0                             0                       6   \n",
              "1                             6                       6   \n",
              "2                             6                       6   \n",
              "3                             6                       6   \n",
              "4                             0                       6   \n",
              "\n",
              "    Fwd Packet Length Min   Fwd Packet Length Mean   Fwd Packet Length Std  \\\n",
              "0                       6                      6.0                     0.0   \n",
              "1                       6                      6.0                     0.0   \n",
              "2                       6                      6.0                     0.0   \n",
              "3                       6                      6.0                     0.0   \n",
              "4                       6                      6.0                     0.0   \n",
              "\n",
              "   ...   min_seg_size_forward  Active Mean   Active Std   Active Max  \\\n",
              "0  ...                     20          0.0          0.0            0   \n",
              "1  ...                     20          0.0          0.0            0   \n",
              "2  ...                     20          0.0          0.0            0   \n",
              "3  ...                     20          0.0          0.0            0   \n",
              "4  ...                     20          0.0          0.0            0   \n",
              "\n",
              "    Active Min  Idle Mean   Idle Std   Idle Max   Idle Min   Label  \n",
              "0            0        0.0        0.0          0          0  BENIGN  \n",
              "1            0        0.0        0.0          0          0  BENIGN  \n",
              "2            0        0.0        0.0          0          0  BENIGN  \n",
              "3            0        0.0        0.0          0          0  BENIGN  \n",
              "4            0        0.0        0.0          0          0  BENIGN  \n",
              "\n",
              "[5 rows x 79 columns]"
            ],
            "text/html": [
              "\n",
              "  <div id=\"df-b1fcdf30-cdaf-4734-9b8d-1444a327fcb8\">\n",
              "    <div class=\"colab-df-container\">\n",
              "      <div>\n",
              "<style scoped>\n",
              "    .dataframe tbody tr th:only-of-type {\n",
              "        vertical-align: middle;\n",
              "    }\n",
              "\n",
              "    .dataframe tbody tr th {\n",
              "        vertical-align: top;\n",
              "    }\n",
              "\n",
              "    .dataframe thead th {\n",
              "        text-align: right;\n",
              "    }\n",
              "</style>\n",
              "<table border=\"1\" class=\"dataframe\">\n",
              "  <thead>\n",
              "    <tr style=\"text-align: right;\">\n",
              "      <th></th>\n",
              "      <th>Destination Port</th>\n",
              "      <th>Flow Duration</th>\n",
              "      <th>Total Fwd Packets</th>\n",
              "      <th>Total Backward Packets</th>\n",
              "      <th>Total Length of Fwd Packets</th>\n",
              "      <th>Total Length of Bwd Packets</th>\n",
              "      <th>Fwd Packet Length Max</th>\n",
              "      <th>Fwd Packet Length Min</th>\n",
              "      <th>Fwd Packet Length Mean</th>\n",
              "      <th>Fwd Packet Length Std</th>\n",
              "      <th>...</th>\n",
              "      <th>min_seg_size_forward</th>\n",
              "      <th>Active Mean</th>\n",
              "      <th>Active Std</th>\n",
              "      <th>Active Max</th>\n",
              "      <th>Active Min</th>\n",
              "      <th>Idle Mean</th>\n",
              "      <th>Idle Std</th>\n",
              "      <th>Idle Max</th>\n",
              "      <th>Idle Min</th>\n",
              "      <th>Label</th>\n",
              "    </tr>\n",
              "  </thead>\n",
              "  <tbody>\n",
              "    <tr>\n",
              "      <th>0</th>\n",
              "      <td>54865</td>\n",
              "      <td>3</td>\n",
              "      <td>2</td>\n",
              "      <td>0</td>\n",
              "      <td>12</td>\n",
              "      <td>0</td>\n",
              "      <td>6</td>\n",
              "      <td>6</td>\n",
              "      <td>6.0</td>\n",
              "      <td>0.0</td>\n",
              "      <td>...</td>\n",
              "      <td>20</td>\n",
              "      <td>0.0</td>\n",
              "      <td>0.0</td>\n",
              "      <td>0</td>\n",
              "      <td>0</td>\n",
              "      <td>0.0</td>\n",
              "      <td>0.0</td>\n",
              "      <td>0</td>\n",
              "      <td>0</td>\n",
              "      <td>BENIGN</td>\n",
              "    </tr>\n",
              "    <tr>\n",
              "      <th>1</th>\n",
              "      <td>55054</td>\n",
              "      <td>109</td>\n",
              "      <td>1</td>\n",
              "      <td>1</td>\n",
              "      <td>6</td>\n",
              "      <td>6</td>\n",
              "      <td>6</td>\n",
              "      <td>6</td>\n",
              "      <td>6.0</td>\n",
              "      <td>0.0</td>\n",
              "      <td>...</td>\n",
              "      <td>20</td>\n",
              "      <td>0.0</td>\n",
              "      <td>0.0</td>\n",
              "      <td>0</td>\n",
              "      <td>0</td>\n",
              "      <td>0.0</td>\n",
              "      <td>0.0</td>\n",
              "      <td>0</td>\n",
              "      <td>0</td>\n",
              "      <td>BENIGN</td>\n",
              "    </tr>\n",
              "    <tr>\n",
              "      <th>2</th>\n",
              "      <td>55055</td>\n",
              "      <td>52</td>\n",
              "      <td>1</td>\n",
              "      <td>1</td>\n",
              "      <td>6</td>\n",
              "      <td>6</td>\n",
              "      <td>6</td>\n",
              "      <td>6</td>\n",
              "      <td>6.0</td>\n",
              "      <td>0.0</td>\n",
              "      <td>...</td>\n",
              "      <td>20</td>\n",
              "      <td>0.0</td>\n",
              "      <td>0.0</td>\n",
              "      <td>0</td>\n",
              "      <td>0</td>\n",
              "      <td>0.0</td>\n",
              "      <td>0.0</td>\n",
              "      <td>0</td>\n",
              "      <td>0</td>\n",
              "      <td>BENIGN</td>\n",
              "    </tr>\n",
              "    <tr>\n",
              "      <th>3</th>\n",
              "      <td>46236</td>\n",
              "      <td>34</td>\n",
              "      <td>1</td>\n",
              "      <td>1</td>\n",
              "      <td>6</td>\n",
              "      <td>6</td>\n",
              "      <td>6</td>\n",
              "      <td>6</td>\n",
              "      <td>6.0</td>\n",
              "      <td>0.0</td>\n",
              "      <td>...</td>\n",
              "      <td>20</td>\n",
              "      <td>0.0</td>\n",
              "      <td>0.0</td>\n",
              "      <td>0</td>\n",
              "      <td>0</td>\n",
              "      <td>0.0</td>\n",
              "      <td>0.0</td>\n",
              "      <td>0</td>\n",
              "      <td>0</td>\n",
              "      <td>BENIGN</td>\n",
              "    </tr>\n",
              "    <tr>\n",
              "      <th>4</th>\n",
              "      <td>54863</td>\n",
              "      <td>3</td>\n",
              "      <td>2</td>\n",
              "      <td>0</td>\n",
              "      <td>12</td>\n",
              "      <td>0</td>\n",
              "      <td>6</td>\n",
              "      <td>6</td>\n",
              "      <td>6.0</td>\n",
              "      <td>0.0</td>\n",
              "      <td>...</td>\n",
              "      <td>20</td>\n",
              "      <td>0.0</td>\n",
              "      <td>0.0</td>\n",
              "      <td>0</td>\n",
              "      <td>0</td>\n",
              "      <td>0.0</td>\n",
              "      <td>0.0</td>\n",
              "      <td>0</td>\n",
              "      <td>0</td>\n",
              "      <td>BENIGN</td>\n",
              "    </tr>\n",
              "  </tbody>\n",
              "</table>\n",
              "<p>5 rows × 79 columns</p>\n",
              "</div>\n",
              "      <button class=\"colab-df-convert\" onclick=\"convertToInteractive('df-b1fcdf30-cdaf-4734-9b8d-1444a327fcb8')\"\n",
              "              title=\"Convert this dataframe to an interactive table.\"\n",
              "              style=\"display:none;\">\n",
              "        \n",
              "  <svg xmlns=\"http://www.w3.org/2000/svg\" height=\"24px\"viewBox=\"0 0 24 24\"\n",
              "       width=\"24px\">\n",
              "    <path d=\"M0 0h24v24H0V0z\" fill=\"none\"/>\n",
              "    <path d=\"M18.56 5.44l.94 2.06.94-2.06 2.06-.94-2.06-.94-.94-2.06-.94 2.06-2.06.94zm-11 1L8.5 8.5l.94-2.06 2.06-.94-2.06-.94L8.5 2.5l-.94 2.06-2.06.94zm10 10l.94 2.06.94-2.06 2.06-.94-2.06-.94-.94-2.06-.94 2.06-2.06.94z\"/><path d=\"M17.41 7.96l-1.37-1.37c-.4-.4-.92-.59-1.43-.59-.52 0-1.04.2-1.43.59L10.3 9.45l-7.72 7.72c-.78.78-.78 2.05 0 2.83L4 21.41c.39.39.9.59 1.41.59.51 0 1.02-.2 1.41-.59l7.78-7.78 2.81-2.81c.8-.78.8-2.07 0-2.86zM5.41 20L4 18.59l7.72-7.72 1.47 1.35L5.41 20z\"/>\n",
              "  </svg>\n",
              "      </button>\n",
              "      \n",
              "  <style>\n",
              "    .colab-df-container {\n",
              "      display:flex;\n",
              "      flex-wrap:wrap;\n",
              "      gap: 12px;\n",
              "    }\n",
              "\n",
              "    .colab-df-convert {\n",
              "      background-color: #E8F0FE;\n",
              "      border: none;\n",
              "      border-radius: 50%;\n",
              "      cursor: pointer;\n",
              "      display: none;\n",
              "      fill: #1967D2;\n",
              "      height: 32px;\n",
              "      padding: 0 0 0 0;\n",
              "      width: 32px;\n",
              "    }\n",
              "\n",
              "    .colab-df-convert:hover {\n",
              "      background-color: #E2EBFA;\n",
              "      box-shadow: 0px 1px 2px rgba(60, 64, 67, 0.3), 0px 1px 3px 1px rgba(60, 64, 67, 0.15);\n",
              "      fill: #174EA6;\n",
              "    }\n",
              "\n",
              "    [theme=dark] .colab-df-convert {\n",
              "      background-color: #3B4455;\n",
              "      fill: #D2E3FC;\n",
              "    }\n",
              "\n",
              "    [theme=dark] .colab-df-convert:hover {\n",
              "      background-color: #434B5C;\n",
              "      box-shadow: 0px 1px 3px 1px rgba(0, 0, 0, 0.15);\n",
              "      filter: drop-shadow(0px 1px 2px rgba(0, 0, 0, 0.3));\n",
              "      fill: #FFFFFF;\n",
              "    }\n",
              "  </style>\n",
              "\n",
              "      <script>\n",
              "        const buttonEl =\n",
              "          document.querySelector('#df-b1fcdf30-cdaf-4734-9b8d-1444a327fcb8 button.colab-df-convert');\n",
              "        buttonEl.style.display =\n",
              "          google.colab.kernel.accessAllowed ? 'block' : 'none';\n",
              "\n",
              "        async function convertToInteractive(key) {\n",
              "          const element = document.querySelector('#df-b1fcdf30-cdaf-4734-9b8d-1444a327fcb8');\n",
              "          const dataTable =\n",
              "            await google.colab.kernel.invokeFunction('convertToInteractive',\n",
              "                                                     [key], {});\n",
              "          if (!dataTable) return;\n",
              "\n",
              "          const docLinkHtml = 'Like what you see? Visit the ' +\n",
              "            '<a target=\"_blank\" href=https://colab.research.google.com/notebooks/data_table.ipynb>data table notebook</a>'\n",
              "            + ' to learn more about interactive tables.';\n",
              "          element.innerHTML = '';\n",
              "          dataTable['output_type'] = 'display_data';\n",
              "          await google.colab.output.renderOutput(dataTable, element);\n",
              "          const docLink = document.createElement('div');\n",
              "          docLink.innerHTML = docLinkHtml;\n",
              "          element.appendChild(docLink);\n",
              "        }\n",
              "      </script>\n",
              "    </div>\n",
              "  </div>\n",
              "  "
            ]
          },
          "metadata": {},
          "execution_count": 8
        }
      ],
      "source": [
        "data.head()"
      ]
    },
    {
      "cell_type": "code",
      "execution_count": 9,
      "metadata": {
        "colab": {
          "base_uri": "https://localhost:8080/"
        },
        "id": "_faQJMbxhDeT",
        "outputId": "a21e4cbe-b054-4705-9f7b-0a0d96e52b40"
      },
      "outputs": [
        {
          "output_type": "stream",
          "name": "stdout",
          "text": [
            "<class 'pandas.core.frame.DataFrame'>\n",
            "RangeIndex: 2427193 entries, 0 to 2427192\n",
            "Data columns (total 79 columns):\n",
            " #   Column                        Dtype  \n",
            "---  ------                        -----  \n",
            " 0    Destination Port             int64  \n",
            " 1    Flow Duration                int64  \n",
            " 2    Total Fwd Packets            int64  \n",
            " 3    Total Backward Packets       int64  \n",
            " 4   Total Length of Fwd Packets   int64  \n",
            " 5    Total Length of Bwd Packets  int64  \n",
            " 6    Fwd Packet Length Max        int64  \n",
            " 7    Fwd Packet Length Min        int64  \n",
            " 8    Fwd Packet Length Mean       float64\n",
            " 9    Fwd Packet Length Std        float64\n",
            " 10  Bwd Packet Length Max         int64  \n",
            " 11   Bwd Packet Length Min        int64  \n",
            " 12   Bwd Packet Length Mean       float64\n",
            " 13   Bwd Packet Length Std        float64\n",
            " 14  Flow Bytes/s                  float64\n",
            " 15   Flow Packets/s               float64\n",
            " 16   Flow IAT Mean                float64\n",
            " 17   Flow IAT Std                 float64\n",
            " 18   Flow IAT Max                 int64  \n",
            " 19   Flow IAT Min                 int64  \n",
            " 20  Fwd IAT Total                 int64  \n",
            " 21   Fwd IAT Mean                 float64\n",
            " 22   Fwd IAT Std                  float64\n",
            " 23   Fwd IAT Max                  int64  \n",
            " 24   Fwd IAT Min                  int64  \n",
            " 25  Bwd IAT Total                 int64  \n",
            " 26   Bwd IAT Mean                 float64\n",
            " 27   Bwd IAT Std                  float64\n",
            " 28   Bwd IAT Max                  int64  \n",
            " 29   Bwd IAT Min                  int64  \n",
            " 30  Fwd PSH Flags                 int64  \n",
            " 31   Bwd PSH Flags                int64  \n",
            " 32   Fwd URG Flags                int64  \n",
            " 33   Bwd URG Flags                int64  \n",
            " 34   Fwd Header Length            int64  \n",
            " 35   Bwd Header Length            int64  \n",
            " 36  Fwd Packets/s                 float64\n",
            " 37   Bwd Packets/s                float64\n",
            " 38   Min Packet Length            int64  \n",
            " 39   Max Packet Length            int64  \n",
            " 40   Packet Length Mean           float64\n",
            " 41   Packet Length Std            float64\n",
            " 42   Packet Length Variance       float64\n",
            " 43  FIN Flag Count                int64  \n",
            " 44   SYN Flag Count               int64  \n",
            " 45   RST Flag Count               int64  \n",
            " 46   PSH Flag Count               int64  \n",
            " 47   ACK Flag Count               int64  \n",
            " 48   URG Flag Count               int64  \n",
            " 49   CWE Flag Count               int64  \n",
            " 50   ECE Flag Count               int64  \n",
            " 51   Down/Up Ratio                int64  \n",
            " 52   Average Packet Size          float64\n",
            " 53   Avg Fwd Segment Size         float64\n",
            " 54   Avg Bwd Segment Size         float64\n",
            " 55   Fwd Header Length.1          int64  \n",
            " 56  Fwd Avg Bytes/Bulk            int64  \n",
            " 57   Fwd Avg Packets/Bulk         int64  \n",
            " 58   Fwd Avg Bulk Rate            int64  \n",
            " 59   Bwd Avg Bytes/Bulk           int64  \n",
            " 60   Bwd Avg Packets/Bulk         int64  \n",
            " 61  Bwd Avg Bulk Rate             int64  \n",
            " 62  Subflow Fwd Packets           int64  \n",
            " 63   Subflow Fwd Bytes            int64  \n",
            " 64   Subflow Bwd Packets          int64  \n",
            " 65   Subflow Bwd Bytes            int64  \n",
            " 66  Init_Win_bytes_forward        int64  \n",
            " 67   Init_Win_bytes_backward      int64  \n",
            " 68   act_data_pkt_fwd             int64  \n",
            " 69   min_seg_size_forward         int64  \n",
            " 70  Active Mean                   float64\n",
            " 71   Active Std                   float64\n",
            " 72   Active Max                   int64  \n",
            " 73   Active Min                   int64  \n",
            " 74  Idle Mean                     float64\n",
            " 75   Idle Std                     float64\n",
            " 76   Idle Max                     int64  \n",
            " 77   Idle Min                     int64  \n",
            " 78   Label                        object \n",
            "dtypes: float64(24), int64(54), object(1)\n",
            "memory usage: 1.4+ GB\n"
          ]
        }
      ],
      "source": [
        "data.info()"
      ]
    },
    {
      "cell_type": "code",
      "execution_count": 10,
      "metadata": {
        "colab": {
          "base_uri": "https://localhost:8080/"
        },
        "id": "6pS8zTNTpZPI",
        "outputId": "6b252402-752c-4e27-ddd5-3024d846dc04"
      },
      "outputs": [
        {
          "output_type": "stream",
          "name": "stdout",
          "text": [
            "['BENIGN' 'DDoS' 'PortScan' 'Bot' 'Infiltration'\n",
            " 'Web Attack � Brute Force' 'Web Attack � XSS'\n",
            " 'Web Attack � Sql Injection' 'DoS slowloris' 'DoS Slowhttptest'\n",
            " 'DoS Hulk' 'DoS GoldenEye' 'Heartbleed' 'FTP-Patator' 'SSH-Patator']\n"
          ]
        },
        {
          "output_type": "execute_result",
          "data": {
            "text/plain": [
              "15"
            ]
          },
          "metadata": {},
          "execution_count": 10
        }
      ],
      "source": [
        "data.columns\n",
        "print(data[' Label'].unique())\n",
        "len(data[' Label'].unique())"
      ]
    },
    {
      "cell_type": "markdown",
      "metadata": {
        "id": "aDEs2EHupjNV"
      },
      "source": [
        "**Data Cleaning**\n",
        "This chapter contains data cleaning code. We go through the process of renaming columns, removing NaN and non-finite values (-inf, inf) to get the data ready for visualization and model training."
      ]
    },
    {
      "cell_type": "code",
      "execution_count": 11,
      "metadata": {
        "colab": {
          "base_uri": "https://localhost:8080/",
          "height": 300
        },
        "id": "uqTDm6_Wpl0R",
        "outputId": "560a09e9-e61b-4d31-b30e-5932048e63ec"
      },
      "outputs": [
        {
          "output_type": "execute_result",
          "data": {
            "text/plain": [
              "   DestinationPort  FlowDuration  TotalFwdPackets  TotalBackwardPackets  \\\n",
              "0            54865             3                2                     0   \n",
              "1            55054           109                1                     1   \n",
              "2            55055            52                1                     1   \n",
              "3            46236            34                1                     1   \n",
              "4            54863             3                2                     0   \n",
              "\n",
              "   TotalLengthofFwdPackets  TotalLengthofBwdPackets  FwdPacketLengthMax  \\\n",
              "0                       12                        0                   6   \n",
              "1                        6                        6                   6   \n",
              "2                        6                        6                   6   \n",
              "3                        6                        6                   6   \n",
              "4                       12                        0                   6   \n",
              "\n",
              "   FwdPacketLengthMin  FwdPacketLengthMean  FwdPacketLengthStd  ...  \\\n",
              "0                   6                  6.0                 0.0  ...   \n",
              "1                   6                  6.0                 0.0  ...   \n",
              "2                   6                  6.0                 0.0  ...   \n",
              "3                   6                  6.0                 0.0  ...   \n",
              "4                   6                  6.0                 0.0  ...   \n",
              "\n",
              "   min_seg_size_forward  ActiveMean  ActiveStd  ActiveMax  ActiveMin  \\\n",
              "0                    20         0.0        0.0          0          0   \n",
              "1                    20         0.0        0.0          0          0   \n",
              "2                    20         0.0        0.0          0          0   \n",
              "3                    20         0.0        0.0          0          0   \n",
              "4                    20         0.0        0.0          0          0   \n",
              "\n",
              "   IdleMean  IdleStd  IdleMax  IdleMin   Label  \n",
              "0       0.0      0.0        0        0  BENIGN  \n",
              "1       0.0      0.0        0        0  BENIGN  \n",
              "2       0.0      0.0        0        0  BENIGN  \n",
              "3       0.0      0.0        0        0  BENIGN  \n",
              "4       0.0      0.0        0        0  BENIGN  \n",
              "\n",
              "[5 rows x 79 columns]"
            ],
            "text/html": [
              "\n",
              "  <div id=\"df-3ad9655f-fdb4-4a2a-932e-2ed8096d519e\">\n",
              "    <div class=\"colab-df-container\">\n",
              "      <div>\n",
              "<style scoped>\n",
              "    .dataframe tbody tr th:only-of-type {\n",
              "        vertical-align: middle;\n",
              "    }\n",
              "\n",
              "    .dataframe tbody tr th {\n",
              "        vertical-align: top;\n",
              "    }\n",
              "\n",
              "    .dataframe thead th {\n",
              "        text-align: right;\n",
              "    }\n",
              "</style>\n",
              "<table border=\"1\" class=\"dataframe\">\n",
              "  <thead>\n",
              "    <tr style=\"text-align: right;\">\n",
              "      <th></th>\n",
              "      <th>DestinationPort</th>\n",
              "      <th>FlowDuration</th>\n",
              "      <th>TotalFwdPackets</th>\n",
              "      <th>TotalBackwardPackets</th>\n",
              "      <th>TotalLengthofFwdPackets</th>\n",
              "      <th>TotalLengthofBwdPackets</th>\n",
              "      <th>FwdPacketLengthMax</th>\n",
              "      <th>FwdPacketLengthMin</th>\n",
              "      <th>FwdPacketLengthMean</th>\n",
              "      <th>FwdPacketLengthStd</th>\n",
              "      <th>...</th>\n",
              "      <th>min_seg_size_forward</th>\n",
              "      <th>ActiveMean</th>\n",
              "      <th>ActiveStd</th>\n",
              "      <th>ActiveMax</th>\n",
              "      <th>ActiveMin</th>\n",
              "      <th>IdleMean</th>\n",
              "      <th>IdleStd</th>\n",
              "      <th>IdleMax</th>\n",
              "      <th>IdleMin</th>\n",
              "      <th>Label</th>\n",
              "    </tr>\n",
              "  </thead>\n",
              "  <tbody>\n",
              "    <tr>\n",
              "      <th>0</th>\n",
              "      <td>54865</td>\n",
              "      <td>3</td>\n",
              "      <td>2</td>\n",
              "      <td>0</td>\n",
              "      <td>12</td>\n",
              "      <td>0</td>\n",
              "      <td>6</td>\n",
              "      <td>6</td>\n",
              "      <td>6.0</td>\n",
              "      <td>0.0</td>\n",
              "      <td>...</td>\n",
              "      <td>20</td>\n",
              "      <td>0.0</td>\n",
              "      <td>0.0</td>\n",
              "      <td>0</td>\n",
              "      <td>0</td>\n",
              "      <td>0.0</td>\n",
              "      <td>0.0</td>\n",
              "      <td>0</td>\n",
              "      <td>0</td>\n",
              "      <td>BENIGN</td>\n",
              "    </tr>\n",
              "    <tr>\n",
              "      <th>1</th>\n",
              "      <td>55054</td>\n",
              "      <td>109</td>\n",
              "      <td>1</td>\n",
              "      <td>1</td>\n",
              "      <td>6</td>\n",
              "      <td>6</td>\n",
              "      <td>6</td>\n",
              "      <td>6</td>\n",
              "      <td>6.0</td>\n",
              "      <td>0.0</td>\n",
              "      <td>...</td>\n",
              "      <td>20</td>\n",
              "      <td>0.0</td>\n",
              "      <td>0.0</td>\n",
              "      <td>0</td>\n",
              "      <td>0</td>\n",
              "      <td>0.0</td>\n",
              "      <td>0.0</td>\n",
              "      <td>0</td>\n",
              "      <td>0</td>\n",
              "      <td>BENIGN</td>\n",
              "    </tr>\n",
              "    <tr>\n",
              "      <th>2</th>\n",
              "      <td>55055</td>\n",
              "      <td>52</td>\n",
              "      <td>1</td>\n",
              "      <td>1</td>\n",
              "      <td>6</td>\n",
              "      <td>6</td>\n",
              "      <td>6</td>\n",
              "      <td>6</td>\n",
              "      <td>6.0</td>\n",
              "      <td>0.0</td>\n",
              "      <td>...</td>\n",
              "      <td>20</td>\n",
              "      <td>0.0</td>\n",
              "      <td>0.0</td>\n",
              "      <td>0</td>\n",
              "      <td>0</td>\n",
              "      <td>0.0</td>\n",
              "      <td>0.0</td>\n",
              "      <td>0</td>\n",
              "      <td>0</td>\n",
              "      <td>BENIGN</td>\n",
              "    </tr>\n",
              "    <tr>\n",
              "      <th>3</th>\n",
              "      <td>46236</td>\n",
              "      <td>34</td>\n",
              "      <td>1</td>\n",
              "      <td>1</td>\n",
              "      <td>6</td>\n",
              "      <td>6</td>\n",
              "      <td>6</td>\n",
              "      <td>6</td>\n",
              "      <td>6.0</td>\n",
              "      <td>0.0</td>\n",
              "      <td>...</td>\n",
              "      <td>20</td>\n",
              "      <td>0.0</td>\n",
              "      <td>0.0</td>\n",
              "      <td>0</td>\n",
              "      <td>0</td>\n",
              "      <td>0.0</td>\n",
              "      <td>0.0</td>\n",
              "      <td>0</td>\n",
              "      <td>0</td>\n",
              "      <td>BENIGN</td>\n",
              "    </tr>\n",
              "    <tr>\n",
              "      <th>4</th>\n",
              "      <td>54863</td>\n",
              "      <td>3</td>\n",
              "      <td>2</td>\n",
              "      <td>0</td>\n",
              "      <td>12</td>\n",
              "      <td>0</td>\n",
              "      <td>6</td>\n",
              "      <td>6</td>\n",
              "      <td>6.0</td>\n",
              "      <td>0.0</td>\n",
              "      <td>...</td>\n",
              "      <td>20</td>\n",
              "      <td>0.0</td>\n",
              "      <td>0.0</td>\n",
              "      <td>0</td>\n",
              "      <td>0</td>\n",
              "      <td>0.0</td>\n",
              "      <td>0.0</td>\n",
              "      <td>0</td>\n",
              "      <td>0</td>\n",
              "      <td>BENIGN</td>\n",
              "    </tr>\n",
              "  </tbody>\n",
              "</table>\n",
              "<p>5 rows × 79 columns</p>\n",
              "</div>\n",
              "      <button class=\"colab-df-convert\" onclick=\"convertToInteractive('df-3ad9655f-fdb4-4a2a-932e-2ed8096d519e')\"\n",
              "              title=\"Convert this dataframe to an interactive table.\"\n",
              "              style=\"display:none;\">\n",
              "        \n",
              "  <svg xmlns=\"http://www.w3.org/2000/svg\" height=\"24px\"viewBox=\"0 0 24 24\"\n",
              "       width=\"24px\">\n",
              "    <path d=\"M0 0h24v24H0V0z\" fill=\"none\"/>\n",
              "    <path d=\"M18.56 5.44l.94 2.06.94-2.06 2.06-.94-2.06-.94-.94-2.06-.94 2.06-2.06.94zm-11 1L8.5 8.5l.94-2.06 2.06-.94-2.06-.94L8.5 2.5l-.94 2.06-2.06.94zm10 10l.94 2.06.94-2.06 2.06-.94-2.06-.94-.94-2.06-.94 2.06-2.06.94z\"/><path d=\"M17.41 7.96l-1.37-1.37c-.4-.4-.92-.59-1.43-.59-.52 0-1.04.2-1.43.59L10.3 9.45l-7.72 7.72c-.78.78-.78 2.05 0 2.83L4 21.41c.39.39.9.59 1.41.59.51 0 1.02-.2 1.41-.59l7.78-7.78 2.81-2.81c.8-.78.8-2.07 0-2.86zM5.41 20L4 18.59l7.72-7.72 1.47 1.35L5.41 20z\"/>\n",
              "  </svg>\n",
              "      </button>\n",
              "      \n",
              "  <style>\n",
              "    .colab-df-container {\n",
              "      display:flex;\n",
              "      flex-wrap:wrap;\n",
              "      gap: 12px;\n",
              "    }\n",
              "\n",
              "    .colab-df-convert {\n",
              "      background-color: #E8F0FE;\n",
              "      border: none;\n",
              "      border-radius: 50%;\n",
              "      cursor: pointer;\n",
              "      display: none;\n",
              "      fill: #1967D2;\n",
              "      height: 32px;\n",
              "      padding: 0 0 0 0;\n",
              "      width: 32px;\n",
              "    }\n",
              "\n",
              "    .colab-df-convert:hover {\n",
              "      background-color: #E2EBFA;\n",
              "      box-shadow: 0px 1px 2px rgba(60, 64, 67, 0.3), 0px 1px 3px 1px rgba(60, 64, 67, 0.15);\n",
              "      fill: #174EA6;\n",
              "    }\n",
              "\n",
              "    [theme=dark] .colab-df-convert {\n",
              "      background-color: #3B4455;\n",
              "      fill: #D2E3FC;\n",
              "    }\n",
              "\n",
              "    [theme=dark] .colab-df-convert:hover {\n",
              "      background-color: #434B5C;\n",
              "      box-shadow: 0px 1px 3px 1px rgba(0, 0, 0, 0.15);\n",
              "      filter: drop-shadow(0px 1px 2px rgba(0, 0, 0, 0.3));\n",
              "      fill: #FFFFFF;\n",
              "    }\n",
              "  </style>\n",
              "\n",
              "      <script>\n",
              "        const buttonEl =\n",
              "          document.querySelector('#df-3ad9655f-fdb4-4a2a-932e-2ed8096d519e button.colab-df-convert');\n",
              "        buttonEl.style.display =\n",
              "          google.colab.kernel.accessAllowed ? 'block' : 'none';\n",
              "\n",
              "        async function convertToInteractive(key) {\n",
              "          const element = document.querySelector('#df-3ad9655f-fdb4-4a2a-932e-2ed8096d519e');\n",
              "          const dataTable =\n",
              "            await google.colab.kernel.invokeFunction('convertToInteractive',\n",
              "                                                     [key], {});\n",
              "          if (!dataTable) return;\n",
              "\n",
              "          const docLinkHtml = 'Like what you see? Visit the ' +\n",
              "            '<a target=\"_blank\" href=https://colab.research.google.com/notebooks/data_table.ipynb>data table notebook</a>'\n",
              "            + ' to learn more about interactive tables.';\n",
              "          element.innerHTML = '';\n",
              "          dataTable['output_type'] = 'display_data';\n",
              "          await google.colab.output.renderOutput(dataTable, element);\n",
              "          const docLink = document.createElement('div');\n",
              "          docLink.innerHTML = docLinkHtml;\n",
              "          element.appendChild(docLink);\n",
              "        }\n",
              "      </script>\n",
              "    </div>\n",
              "  </div>\n",
              "  "
            ]
          },
          "metadata": {},
          "execution_count": 11
        }
      ],
      "source": [
        "# Removing whitespaces in column names.\n",
        "#renommer les colonnes\n",
        "col_names = [col.replace(' ', '') for col in data.columns]\n",
        "data.columns = col_names\n",
        "data.head()"
      ]
    },
    {
      "cell_type": "code",
      "execution_count": 12,
      "metadata": {
        "colab": {
          "base_uri": "https://localhost:8080/"
        },
        "id": "aiYCKmEauyc7",
        "outputId": "f3921529-cbbf-4950-dacd-57c415ce7c70"
      },
      "outputs": [
        {
          "output_type": "stream",
          "name": "stdout",
          "text": [
            "['BENIGN' 'DDoS' 'PortScan' 'Bot' 'Infiltration'\n",
            " 'Web Attack � Brute Force' 'Web Attack � XSS'\n",
            " 'Web Attack � Sql Injection' 'DoS slowloris' 'DoS Slowhttptest'\n",
            " 'DoS Hulk' 'DoS GoldenEye' 'Heartbleed' 'FTP-Patator' 'SSH-Patator']\n"
          ]
        },
        {
          "output_type": "execute_result",
          "data": {
            "text/plain": [
              "15"
            ]
          },
          "metadata": {},
          "execution_count": 12
        }
      ],
      "source": [
        "data.columns\n",
        "print(data['Label'].unique())\n",
        "len(data['Label'].unique())"
      ]
    },
    {
      "cell_type": "code",
      "execution_count": 13,
      "metadata": {
        "colab": {
          "base_uri": "https://localhost:8080/"
        },
        "id": "6PDhJ3Hep6IJ",
        "outputId": "edde9ef1-d1f6-49a4-921c-f2bcf220ab3f"
      },
      "outputs": [
        {
          "output_type": "execute_result",
          "data": {
            "text/plain": [
              "array(['BENIGN', 'DDoS', 'PortScan', 'Bot', 'Infiltration',\n",
              "       'Web Attack � Brute Force', 'Web Attack � XSS',\n",
              "       'Web Attack � Sql Injection', 'DoS slowloris', 'DoS Slowhttptest',\n",
              "       'DoS Hulk', 'DoS GoldenEye', 'Heartbleed', 'FTP-Patator',\n",
              "       'SSH-Patator'], dtype=object)"
            ]
          },
          "metadata": {},
          "execution_count": 13
        }
      ],
      "source": [
        "# Here we can see that 'Label' column contains some wierd characters. \n",
        "\n",
        "data[\"Label\"].unique()"
      ]
    },
    {
      "cell_type": "code",
      "execution_count": 14,
      "metadata": {
        "colab": {
          "base_uri": "https://localhost:8080/"
        },
        "id": "nWqlC8Uxp8Mt",
        "outputId": "9ba7fd74-1630-444a-efc3-8e28dd975cb5"
      },
      "outputs": [
        {
          "output_type": "execute_result",
          "data": {
            "text/plain": [
              "(['BENIGN',\n",
              "  'DDoS',\n",
              "  'PortScan',\n",
              "  'Bot',\n",
              "  'Infiltration',\n",
              "  'Web_Attack_Brute_Force',\n",
              "  'Web_Attack_XSS',\n",
              "  'Web_Attack_Sql_Injection',\n",
              "  'DoS_slowloris',\n",
              "  'DoS_Slowhttptest',\n",
              "  'DoS_Hulk',\n",
              "  'DoS_GoldenEye',\n",
              "  'Heartbleed',\n",
              "  'FTPPatator',\n",
              "  'SSHPatator'],\n",
              " 15)"
            ]
          },
          "metadata": {},
          "execution_count": 14
        }
      ],
      "source": [
        "# This next snippet uses regular expressions to replace wierd characters with dunders.\n",
        "\n",
        "label_names = data['Label'].unique()\n",
        "\n",
        "\n",
        "import re\n",
        "\n",
        "label_names = [re.sub(\"[^a-zA-Z ]+\", \"\", l) for l in label_names]\n",
        "label_names = [re.sub(\"[\\s\\s]\", '_', l) for l in label_names]\n",
        "label_names = [lab.replace(\"__\", \"_\") for lab in label_names]\n",
        "\n",
        "label_names, len(label_names)"
      ]
    },
    {
      "cell_type": "code",
      "execution_count": 15,
      "metadata": {
        "id": "muNJ37j9qKA6",
        "colab": {
          "base_uri": "https://localhost:8080/"
        },
        "outputId": "8baacd75-fea2-4e26-9d37-16d7311f8691"
      },
      "outputs": [
        {
          "output_type": "execute_result",
          "data": {
            "text/plain": [
              "array(['BENIGN', 'DDoS', 'PortScan', 'Bot', 'Infiltration',\n",
              "       'Web_Attack_Brute_Force', 'Web_Attack_XSS',\n",
              "       'Web_Attack_Sql_Injection', 'DoS_slowloris', 'DoS_Slowhttptest',\n",
              "       'DoS_Hulk', 'DoS_GoldenEye', 'Heartbleed', 'FTPPatator',\n",
              "       'SSHPatator'], dtype=object)"
            ]
          },
          "metadata": {},
          "execution_count": 15
        }
      ],
      "source": [
        "# Replacing 'Label' column values with new readable values.\n",
        "\n",
        "labels = data['Label'].unique()\n",
        "\n",
        "for i in range(0,len(label_names)):\n",
        "    data['Label'] = data['Label'].replace({labels[i] : label_names[i]})  \n",
        "data['Label'].unique()"
      ]
    },
    {
      "cell_type": "code",
      "execution_count": 16,
      "metadata": {
        "id": "ZQHAn1xZqWw-",
        "colab": {
          "base_uri": "https://localhost:8080/"
        },
        "outputId": "f68fa98d-1770-44be-eba6-ef07b5db1b52"
      },
      "outputs": [
        {
          "output_type": "execute_result",
          "data": {
            "text/plain": [
              "True"
            ]
          },
          "metadata": {},
          "execution_count": 16
        }
      ],
      "source": [
        "# Checking if there are any NULL values in the dataset.\n",
        "\n",
        "data.isnull().values.any()"
      ]
    },
    {
      "cell_type": "code",
      "execution_count": 17,
      "metadata": {
        "id": "dGFPqCJPqhV4",
        "colab": {
          "base_uri": "https://localhost:8080/"
        },
        "outputId": "020cbd92-b07b-40c3-c88b-58454c0cea8c"
      },
      "outputs": [
        {
          "output_type": "execute_result",
          "data": {
            "text/plain": [
              "['FlowBytes/s']"
            ]
          },
          "metadata": {},
          "execution_count": 17
        }
      ],
      "source": [
        "# Checking which column/s contain NULL values.\n",
        "\n",
        "[col for col in data if data[col].isnull().values.any()]"
      ]
    },
    {
      "cell_type": "code",
      "execution_count": 18,
      "metadata": {
        "id": "gxZw_Fw2qoHU",
        "colab": {
          "base_uri": "https://localhost:8080/"
        },
        "outputId": "305f108f-b26c-41d9-96c2-9515af9ff3fd"
      },
      "outputs": [
        {
          "output_type": "execute_result",
          "data": {
            "text/plain": [
              "334"
            ]
          },
          "metadata": {},
          "execution_count": 18
        }
      ],
      "source": [
        "# Checking how many NULL values it this column contains.\n",
        "\n",
        "data['FlowBytes/s'].isnull().sum()"
      ]
    },
    {
      "cell_type": "code",
      "execution_count": 19,
      "metadata": {
        "id": "irHaVZshqrsN",
        "colab": {
          "base_uri": "https://localhost:8080/"
        },
        "outputId": "168d294e-7ec9-47ce-bbb0-c425d6fbc45f"
      },
      "outputs": [
        {
          "output_type": "execute_result",
          "data": {
            "text/plain": [
              "334"
            ]
          },
          "metadata": {},
          "execution_count": 19
        }
      ],
      "source": [
        "# Removing rows that contain NULL values and checking if number of removed rows is equal to the number of null values.\n",
        "\n",
        "before = data.shape\n",
        "data.dropna(inplace=True)\n",
        "after = data.shape\n",
        "before[0] - after[0]"
      ]
    },
    {
      "cell_type": "code",
      "execution_count": 20,
      "metadata": {
        "colab": {
          "base_uri": "https://localhost:8080/"
        },
        "id": "fdnrdOCBrMBU",
        "outputId": "e382b23a-d1a9-499e-e8e0-88851fc121c6"
      },
      "outputs": [
        {
          "output_type": "execute_result",
          "data": {
            "text/plain": [
              "False"
            ]
          },
          "metadata": {},
          "execution_count": 20
        }
      ],
      "source": [
        "data.isnull().any().any()"
      ]
    },
    {
      "cell_type": "markdown",
      "metadata": {
        "id": "NKH_ue06rTpB"
      },
      "source": [
        "**Removing non-finite values**"
      ]
    },
    {
      "cell_type": "code",
      "execution_count": 21,
      "metadata": {
        "id": "lrFxCDEArQXH"
      },
      "outputs": [],
      "source": [
        "import numpy as np"
      ]
    },
    {
      "cell_type": "code",
      "execution_count": 22,
      "metadata": {
        "id": "ardz4EDKratP"
      },
      "outputs": [],
      "source": [
        "labl = data['Label']\n",
        "data = data.loc[:, data.columns != 'Label'].astype('float64')"
      ]
    },
    {
      "cell_type": "code",
      "execution_count": 23,
      "metadata": {
        "colab": {
          "base_uri": "https://localhost:8080/"
        },
        "id": "MRSMBFs0rj39",
        "outputId": "6a191418-6040-4079-e1d7-ef11869b6188"
      },
      "outputs": [
        {
          "output_type": "execute_result",
          "data": {
            "text/plain": [
              "False"
            ]
          },
          "metadata": {},
          "execution_count": 23
        }
      ],
      "source": [
        "# Checking if all values are finite.\n",
        "np.all(np.isfinite(data))"
      ]
    },
    {
      "cell_type": "code",
      "execution_count": 24,
      "metadata": {
        "colab": {
          "base_uri": "https://localhost:8080/"
        },
        "id": "V12Gi0DOrlfd",
        "outputId": "6b4a5421-266a-4997-b539-7e81539fb013"
      },
      "outputs": [
        {
          "output_type": "execute_result",
          "data": {
            "text/plain": [
              "['FlowBytes/s', 'FlowPackets/s']"
            ]
          },
          "metadata": {},
          "execution_count": 24
        }
      ],
      "source": [
        "# Checking what column/s contain non-finite values.\n",
        "\n",
        "nonfinite = [col for col in data if not np.all(np.isfinite(data[col]))]\n",
        "nonfinite"
      ]
    },
    {
      "cell_type": "code",
      "execution_count": 25,
      "metadata": {
        "colab": {
          "base_uri": "https://localhost:8080/"
        },
        "id": "TGz5Wbe1r4J7",
        "outputId": "a967311f-98cd-4fb5-8ecb-ff1e6cd17b12"
      },
      "outputs": [
        {
          "output_type": "execute_result",
          "data": {
            "text/plain": [
              "1132"
            ]
          },
          "metadata": {},
          "execution_count": 25
        }
      ],
      "source": [
        "# Checking how many non-finite values each column contains.\n",
        "\n",
        "finite= np.isfinite(data['FlowBytes/s']).sum()\n",
        "data.shape[0] - finite"
      ]
    },
    {
      "cell_type": "code",
      "execution_count": 26,
      "metadata": {
        "colab": {
          "base_uri": "https://localhost:8080/"
        },
        "id": "kkLs_Plur7DR",
        "outputId": "fd4efa44-173e-4964-d1e0-416f28b02593"
      },
      "outputs": [
        {
          "output_type": "execute_result",
          "data": {
            "text/plain": [
              "1132"
            ]
          },
          "metadata": {},
          "execution_count": 26
        }
      ],
      "source": [
        "# Checking how many non-finite values each column contains.\n",
        "\n",
        "finite= np.isfinite(data['FlowPackets/s']).sum()\n",
        "data.shape[0] - finite"
      ]
    },
    {
      "cell_type": "code",
      "execution_count": 27,
      "metadata": {
        "id": "_AbX98hasFnE"
      },
      "outputs": [],
      "source": [
        "# Same as before, since there is a small number of non-finite values we can safely remove them from the dataset\n",
        "# without spoiling the dataset.\n",
        "\n",
        "# Replacing infinite values with NaN values.\n",
        "data = data.replace([np.inf,-np.inf],np.nan)"
      ]
    },
    {
      "cell_type": "code",
      "execution_count": 28,
      "metadata": {
        "colab": {
          "base_uri": "https://localhost:8080/"
        },
        "id": "q9Zw6Y_ysIxp",
        "outputId": "6a349bab-0770-4252-cb0c-0d2f65414916"
      },
      "outputs": [
        {
          "output_type": "execute_result",
          "data": {
            "text/plain": [
              "True"
            ]
          },
          "metadata": {},
          "execution_count": 28
        }
      ],
      "source": [
        "# We can see that now we have Nan values again.\n",
        "\n",
        "np.any(np.isnan(data))"
      ]
    },
    {
      "cell_type": "code",
      "execution_count": 29,
      "metadata": {
        "id": "yyFsU6K6sM05"
      },
      "outputs": [],
      "source": [
        "# Bringing the Labels back into the dataset before deliting Nan rows.\n",
        "\n",
        "data = data.merge(labl, how='outer', left_index=True, right_index=True)"
      ]
    },
    {
      "cell_type": "code",
      "execution_count": 30,
      "metadata": {
        "id": "gvrgX-zksU5r",
        "colab": {
          "base_uri": "https://localhost:8080/"
        },
        "outputId": "b767c505-e45f-42fa-d02f-528656153a75"
      },
      "outputs": [
        {
          "output_type": "execute_result",
          "data": {
            "text/plain": [
              "1132"
            ]
          },
          "metadata": {},
          "execution_count": 30
        }
      ],
      "source": [
        "# Removing new NaN values.\n",
        "\n",
        "before = data.shape\n",
        "data.dropna(inplace=True)\n",
        "after = data.shape\n",
        "before[0] - after[0]"
      ]
    },
    {
      "cell_type": "code",
      "execution_count": 31,
      "metadata": {
        "colab": {
          "base_uri": "https://localhost:8080/"
        },
        "id": "R047vDy6sZ0c",
        "outputId": "f4c9d77e-f46b-41db-c092-4676a0705079"
      },
      "outputs": [
        {
          "output_type": "execute_result",
          "data": {
            "text/plain": [
              "(2425727, 79)"
            ]
          },
          "metadata": {},
          "execution_count": 31
        }
      ],
      "source": [
        "data.shape"
      ]
    },
    {
      "cell_type": "markdown",
      "metadata": {
        "id": "kJUALkjts2zP"
      },
      "source": [
        "**Data preparation**"
      ]
    },
    {
      "cell_type": "code",
      "execution_count": 32,
      "metadata": {
        "id": "HVCAVq7ps4QI"
      },
      "outputs": [],
      "source": [
        "# Splitting dataset into features and labels.\n",
        "\n",
        "labels = data['Label']\n",
        "features = data.loc[:, data.columns != 'Label'].astype('float64')"
      ]
    },
    {
      "cell_type": "code",
      "source": [
        "labels.head()\n",
        "i=0\n",
        "for row in labels:\n",
        "  if row!='BENIGN':\n",
        "    i+=1\n",
        "print(i)"
      ],
      "metadata": {
        "colab": {
          "base_uri": "https://localhost:8080/"
        },
        "id": "lc6DFQsB6AIb",
        "outputId": "2c173337-c7bd-4fb8-fdd4-477e813d8de5"
      },
      "execution_count": 33,
      "outputs": [
        {
          "output_type": "stream",
          "name": "stdout",
          "text": [
            "390222\n"
          ]
        }
      ]
    },
    {
      "cell_type": "code",
      "execution_count": 34,
      "metadata": {
        "id": "D4Wqhivmtb2k"
      },
      "outputs": [],
      "source": [
        "# For scaling the data, we use RobustScaler class from sklearn.\n",
        "\n",
        "from sklearn.preprocessing import MinMaxScaler\n",
        "scaler = MinMaxScaler()\n",
        "features = scaler.fit_transform(features)\n"
      ]
    },
    {
      "cell_type": "code",
      "execution_count": 35,
      "metadata": {
        "colab": {
          "base_uri": "https://localhost:8080/"
        },
        "id": "rNEzUIUMtik8",
        "outputId": "cc9b3007-a78d-4ccc-bf45-39394e7edfb8"
      },
      "outputs": [
        {
          "output_type": "execute_result",
          "data": {
            "text/plain": [
              "array([8.37186236e-01, 1.33333321e-07, 4.55046005e-06, 0.00000000e+00,\n",
              "       9.30232558e-07, 0.00000000e+00, 2.41740532e-04, 2.58064516e-03,\n",
              "       1.00995527e-03, 0.00000000e+00, 0.00000000e+00, 0.00000000e+00,\n",
              "       0.00000000e+00, 0.00000000e+00, 1.13636364e-01, 4.44444444e-01,\n",
              "       1.33333319e-07, 0.00000000e+00, 1.33333319e-07, 1.41666650e-07,\n",
              "       2.50000000e-08, 2.50000000e-08, 0.00000000e+00, 2.50000000e-08,\n",
              "       1.24999988e-07, 0.00000000e+00, 0.00000000e+00, 0.00000000e+00,\n",
              "       0.00000000e+00, 0.00000000e+00, 0.00000000e+00, 0.00000000e+00,\n",
              "       0.00000000e+00, 0.00000000e+00, 9.99855825e-01, 9.94591933e-01,\n",
              "       2.22222222e-01, 0.00000000e+00, 4.14364641e-03, 2.41740532e-04,\n",
              "       1.79794521e-03, 0.00000000e+00, 0.00000000e+00, 0.00000000e+00,\n",
              "       0.00000000e+00, 0.00000000e+00, 0.00000000e+00, 1.00000000e+00,\n",
              "       0.00000000e+00, 0.00000000e+00, 0.00000000e+00, 0.00000000e+00,\n",
              "       2.31164384e-03, 1.00995527e-03, 0.00000000e+00, 9.99855825e-01,\n",
              "       0.00000000e+00, 0.00000000e+00, 0.00000000e+00, 0.00000000e+00,\n",
              "       0.00000000e+00, 0.00000000e+00, 4.55046005e-06, 9.32376446e-07,\n",
              "       0.00000000e+00, 0.00000000e+00, 5.18798828e-04, 0.00000000e+00,\n",
              "       4.68259060e-06, 9.99999780e-01, 0.00000000e+00, 0.00000000e+00,\n",
              "       0.00000000e+00, 0.00000000e+00, 0.00000000e+00, 0.00000000e+00,\n",
              "       0.00000000e+00, 0.00000000e+00])"
            ]
          },
          "metadata": {},
          "execution_count": 35
        }
      ],
      "source": [
        "# Checking if scaling has been succesful.\n",
        "features[0]"
      ]
    },
    {
      "cell_type": "markdown",
      "metadata": {
        "id": "YaH-rx8Ftul5"
      },
      "source": [
        "**Label encoding**"
      ]
    },
    {
      "cell_type": "code",
      "execution_count": 36,
      "metadata": {
        "colab": {
          "base_uri": "https://localhost:8080/"
        },
        "id": "M67IyCXLttHr",
        "outputId": "41ee88a4-24d9-4003-e1fa-d686fbbf521a"
      },
      "outputs": [
        {
          "output_type": "execute_result",
          "data": {
            "text/plain": [
              "array([ 0,  1,  2,  3,  4,  5,  6,  7,  8,  9, 10, 11, 12, 13, 14])"
            ]
          },
          "metadata": {},
          "execution_count": 36
        }
      ],
      "source": [
        "#multiclass\n",
        "from sklearn.preprocessing import LabelEncoder\n",
        "LE = LabelEncoder()\n",
        "LE.fit(labels)\n",
        "labels = LE.transform(labels)\n",
        "# Labels have been replaced with integers.\n",
        "np.unique(labels)"
      ]
    },
    {
      "cell_type": "code",
      "execution_count": 37,
      "metadata": {
        "id": "TVP7RmyKVjwY",
        "colab": {
          "base_uri": "https://localhost:8080/"
        },
        "outputId": "a4be71a1-8dce-489c-e5af-7c00634ec039"
      },
      "outputs": [
        {
          "output_type": "execute_result",
          "data": {
            "text/plain": [
              "array([1., 0.])"
            ]
          },
          "metadata": {},
          "execution_count": 37
        }
      ],
      "source": [
        "#binary\n",
        "for i in range(len(labels)):\n",
        " if labels[i]==0:\n",
        "   labels[i]=0\n",
        " else :\n",
        "   labels[i]=1\n",
        "np.unique(labels)\n",
        "labels=pd.get_dummies(labels)\n",
        "labels = scaler.fit_transform(labels)\n",
        "labels[0]"
      ]
    },
    {
      "cell_type": "markdown",
      "metadata": {
        "id": "UPAI5X81umUV"
      },
      "source": [
        "**Splitting the data**\n",
        "Final step to data preparation is splitting the data into traning and testing sets. For this there already exists sklearn function that does all the splitting for us. This step is important so we can have representative data for evaluating our model. Both train and test samples should contain similar data variance."
      ]
    },
    {
      "cell_type": "code",
      "execution_count": 38,
      "metadata": {
        "id": "FLLL7kTJujC3",
        "colab": {
          "base_uri": "https://localhost:8080/"
        },
        "outputId": "c7492f53-eb64-47c6-a802-5089f9e01390"
      },
      "outputs": [
        {
          "output_type": "execute_result",
          "data": {
            "text/plain": [
              "((1940581, 78), (485146, 78), (1940581, 2), (485146, 2))"
            ]
          },
          "metadata": {},
          "execution_count": 38
        }
      ],
      "source": [
        "from sklearn.model_selection import train_test_split\n",
        "# The next step is to split training and testing data. For this we will use sklearn function train_test_split().\n",
        "\n",
        "x_train, x_valid, y_train, y_valid = train_test_split(features, labels, test_size=.2)\n",
        "\n",
        "x_train.shape,x_valid.shape, y_train.shape, y_valid.shape"
      ]
    },
    {
      "cell_type": "code",
      "execution_count": 39,
      "metadata": {
        "id": "QfKhfLqX-8fB"
      },
      "outputs": [],
      "source": [
        "#instancier le modéle\n",
        "from tensorflow.keras.models import Sequential\n",
        "model=Sequential()\n",
        "#Créer la couche entrée totalement connecté avec la couche dense\n",
        "from tensorflow.keras.layers import Conv1D, Dense, Dropout, Flatten, AveragePooling1D,BatchNormalization,SpatialDropout1D,MaxPool1D\n",
        "from tensorflow.keras.layers import LeakyReLU"
      ]
    },
    {
      "cell_type": "code",
      "execution_count": 40,
      "metadata": {
        "id": "jJ3fzgkB_nb_",
        "colab": {
          "base_uri": "https://localhost:8080/"
        },
        "outputId": "21dcebe4-0de8-41bf-8b5d-3905f9913d82"
      },
      "outputs": [
        {
          "output_type": "stream",
          "name": "stdout",
          "text": [
            "Model: \"sequential\"\n",
            "_________________________________________________________________\n",
            " Layer (type)                Output Shape              Param #   \n",
            "=================================================================\n",
            " conv1d (Conv1D)             (None, 78, 32)            192       \n",
            "                                                                 \n",
            " leaky_re_lu (LeakyReLU)     (None, 78, 32)            0         \n",
            "                                                                 \n",
            " batch_normalization (BatchN  (None, 78, 32)           128       \n",
            " ormalization)                                                   \n",
            "                                                                 \n",
            " average_pooling1d (AverageP  (None, 39, 32)           0         \n",
            " ooling1D)                                                       \n",
            "                                                                 \n",
            " conv1d_1 (Conv1D)           (None, 39, 64)            10304     \n",
            "                                                                 \n",
            " leaky_re_lu_1 (LeakyReLU)   (None, 39, 64)            0         \n",
            "                                                                 \n",
            " batch_normalization_1 (Batc  (None, 39, 64)           256       \n",
            " hNormalization)                                                 \n",
            "                                                                 \n",
            " average_pooling1d_1 (Averag  (None, 19, 64)           0         \n",
            " ePooling1D)                                                     \n",
            "                                                                 \n",
            " spatial_dropout1d (SpatialD  (None, 19, 64)           0         \n",
            " ropout1D)                                                       \n",
            "                                                                 \n",
            " conv1d_2 (Conv1D)           (None, 19, 128)           41088     \n",
            "                                                                 \n",
            " leaky_re_lu_2 (LeakyReLU)   (None, 19, 128)           0         \n",
            "                                                                 \n",
            " batch_normalization_2 (Batc  (None, 19, 128)          512       \n",
            " hNormalization)                                                 \n",
            "                                                                 \n",
            " average_pooling1d_2 (Averag  (None, 9, 128)           0         \n",
            " ePooling1D)                                                     \n",
            "                                                                 \n",
            " conv1d_3 (Conv1D)           (None, 9, 256)            164096    \n",
            "                                                                 \n",
            " leaky_re_lu_3 (LeakyReLU)   (None, 9, 256)            0         \n",
            "                                                                 \n",
            " batch_normalization_3 (Batc  (None, 9, 256)           1024      \n",
            " hNormalization)                                                 \n",
            "                                                                 \n",
            " average_pooling1d_3 (Averag  (None, 4, 256)           0         \n",
            " ePooling1D)                                                     \n",
            "                                                                 \n",
            " spatial_dropout1d_1 (Spatia  (None, 4, 256)           0         \n",
            " lDropout1D)                                                     \n",
            "                                                                 \n",
            " flatten (Flatten)           (None, 1024)              0         \n",
            "                                                                 \n",
            " dense (Dense)               (None, 30)                30750     \n",
            "                                                                 \n",
            " dense_1 (Dense)             (None, 2)                 62        \n",
            "                                                                 \n",
            "=================================================================\n",
            "Total params: 248,412\n",
            "Trainable params: 247,452\n",
            "Non-trainable params: 960\n",
            "_________________________________________________________________\n"
          ]
        }
      ],
      "source": [
        "model.add(Conv1D(32,kernel_size =5,padding=\"same\",input_shape =(x_train.shape[1],1)))\n",
        "model.add(LeakyReLU(alpha=0.1))\n",
        "model.add(BatchNormalization())\n",
        "model.add(AveragePooling1D(pool_size=2))\n",
        "#model.add(SpatialDropout1D(0.1))\n",
        "#model.add(Dropout(0.1))\n",
        "# #2em block\n",
        "model.add(Conv1D(64,kernel_size =5,padding=\"same\",))\n",
        "model.add(LeakyReLU(alpha=0.1))\n",
        "model.add(BatchNormalization())\n",
        "model.add(AveragePooling1D(pool_size=2))\n",
        "model.add(SpatialDropout1D(0.2))\n",
        "#model.add(Dropout(0.1))\n",
        "#3em block\n",
        "model.add(Conv1D(128,kernel_size =5,padding=\"same\",))\n",
        "model.add(LeakyReLU(alpha=0.1))\n",
        "model.add(BatchNormalization())\n",
        "model.add(AveragePooling1D(pool_size=2))\n",
        "#model.add(SpatialDropout1D(0.1))\n",
        "#model.add(Dropout(0.1))\n",
        "#4em block\n",
        "model.add(Conv1D(256,kernel_size =5,padding=\"same\",))\n",
        "model.add(LeakyReLU(alpha=0.1))\n",
        "model.add(BatchNormalization())\n",
        "model.add(AveragePooling1D(pool_size=2))\n",
        "model.add(SpatialDropout1D(0.2))\n",
        "#model.add(Dropout(0.1))\n",
        "#5em block\n",
        "# model.add(Conv1D(512,kernel_size =5,padding=\"same\",))\n",
        "# model.add(LeakyReLU(alpha=0.1))\n",
        "# model.add(BatchNormalization())\n",
        "# model.add(AveragePooling1D(pool_size=2))\n",
        "# model.add(Dropout(0.2))\n",
        "\n",
        "\n",
        "\n",
        "model.add(Flatten())\n",
        "model.add(Dense(units=30, activation=\"relu\"))\n",
        "\n",
        "#model.add(Dropout(0.3))\n",
        "#model.add(LeakyReLU(alpha=0.1))\n",
        "model.add(Dense(2,activation=\"sigmoid\"))\n",
        "model.summary() #sert afficher résumés"
      ]
    },
    {
      "cell_type": "code",
      "execution_count": 41,
      "metadata": {
        "id": "W7wmdbEN_s_U"
      },
      "outputs": [],
      "source": [
        "from tensorflow import keras\n",
        "opt = keras.optimizers.Adam(learning_rate=0.0001)\n",
        "model.compile(loss='binary_crossentropy',optimizer=opt,metrics=['accuracy',keras.metrics.Precision()])"
      ]
    },
    {
      "cell_type": "code",
      "execution_count": 42,
      "metadata": {
        "id": "wNuedV10_wAT",
        "colab": {
          "base_uri": "https://localhost:8080/"
        },
        "outputId": "91f460a9-8048-43d6-9133-f0056cb711c9"
      },
      "outputs": [
        {
          "output_type": "stream",
          "name": "stdout",
          "text": [
            "Epoch 1/100\n",
            "389/389 [==============================] - 99s 218ms/step - loss: 0.1365 - accuracy: 0.9442 - precision: 0.9434 - val_loss: 0.2925 - val_accuracy: 0.9378 - val_precision: 0.9577\n",
            "Epoch 2/100\n",
            "389/389 [==============================] - 88s 226ms/step - loss: 0.0730 - accuracy: 0.9687 - precision: 0.9683 - val_loss: 0.0661 - val_accuracy: 0.9688 - val_precision: 0.9665\n",
            "Epoch 3/100\n",
            "389/389 [==============================] - 84s 216ms/step - loss: 0.0626 - accuracy: 0.9712 - precision: 0.9708 - val_loss: 0.0563 - val_accuracy: 0.9731 - val_precision: 0.9715\n",
            "Epoch 4/100\n",
            "389/389 [==============================] - 84s 216ms/step - loss: 0.0565 - accuracy: 0.9732 - precision: 0.9730 - val_loss: 0.0536 - val_accuracy: 0.9747 - val_precision: 0.9748\n",
            "Epoch 5/100\n",
            "389/389 [==============================] - 88s 227ms/step - loss: 0.0518 - accuracy: 0.9751 - precision: 0.9750 - val_loss: 0.0591 - val_accuracy: 0.9753 - val_precision: 0.9752\n",
            "Epoch 6/100\n",
            "389/389 [==============================] - 84s 216ms/step - loss: 0.0472 - accuracy: 0.9771 - precision: 0.9773 - val_loss: 0.0770 - val_accuracy: 0.9708 - val_precision: 0.9699\n",
            "Epoch 7/100\n",
            "389/389 [==============================] - 88s 226ms/step - loss: 0.0438 - accuracy: 0.9785 - precision: 0.9786 - val_loss: 0.0402 - val_accuracy: 0.9798 - val_precision: 0.9832\n",
            "Epoch 8/100\n",
            "389/389 [==============================] - 88s 226ms/step - loss: 0.0412 - accuracy: 0.9793 - precision: 0.9795 - val_loss: 0.0381 - val_accuracy: 0.9819 - val_precision: 0.9811\n",
            "Epoch 9/100\n",
            "389/389 [==============================] - 84s 216ms/step - loss: 0.0400 - accuracy: 0.9800 - precision: 0.9803 - val_loss: 0.0368 - val_accuracy: 0.9807 - val_precision: 0.9810\n",
            "Epoch 10/100\n",
            "389/389 [==============================] - 84s 216ms/step - loss: 0.0385 - accuracy: 0.9807 - precision: 0.9809 - val_loss: 0.0346 - val_accuracy: 0.9838 - val_precision: 0.9838\n",
            "Epoch 11/100\n",
            "389/389 [==============================] - 84s 216ms/step - loss: 0.0370 - accuracy: 0.9816 - precision: 0.9817 - val_loss: 0.0357 - val_accuracy: 0.9816 - val_precision: 0.9820\n",
            "Epoch 12/100\n",
            "389/389 [==============================] - 84s 216ms/step - loss: 0.0362 - accuracy: 0.9822 - precision: 0.9825 - val_loss: 0.0396 - val_accuracy: 0.9789 - val_precision: 0.9792\n",
            "Epoch 13/100\n",
            "389/389 [==============================] - 84s 216ms/step - loss: 0.0353 - accuracy: 0.9830 - precision: 0.9832 - val_loss: 0.0329 - val_accuracy: 0.9833 - val_precision: 0.9838\n",
            "Epoch 14/100\n",
            "389/389 [==============================] - 88s 227ms/step - loss: 0.0344 - accuracy: 0.9835 - precision: 0.9838 - val_loss: 0.0334 - val_accuracy: 0.9826 - val_precision: 0.9829\n",
            "Epoch 15/100\n",
            "389/389 [==============================] - 88s 227ms/step - loss: 0.0335 - accuracy: 0.9842 - precision: 0.9844 - val_loss: 0.0312 - val_accuracy: 0.9840 - val_precision: 0.9841\n",
            "Epoch 16/100\n",
            "389/389 [==============================] - 88s 227ms/step - loss: 0.0328 - accuracy: 0.9845 - precision: 0.9846 - val_loss: 0.0324 - val_accuracy: 0.9847 - val_precision: 0.9850\n",
            "Epoch 17/100\n",
            "389/389 [==============================] - 84s 216ms/step - loss: 0.0322 - accuracy: 0.9850 - precision: 0.9851 - val_loss: 0.0333 - val_accuracy: 0.9858 - val_precision: 0.9858\n",
            "Epoch 18/100\n",
            "389/389 [==============================] - 88s 227ms/step - loss: 0.0316 - accuracy: 0.9854 - precision: 0.9854 - val_loss: 0.0305 - val_accuracy: 0.9853 - val_precision: 0.9855\n",
            "Epoch 19/100\n",
            "389/389 [==============================] - 84s 216ms/step - loss: 0.0310 - accuracy: 0.9857 - precision: 0.9858 - val_loss: 0.0319 - val_accuracy: 0.9876 - val_precision: 0.9878\n",
            "Epoch 20/100\n",
            "389/389 [==============================] - 84s 216ms/step - loss: 0.0308 - accuracy: 0.9859 - precision: 0.9860 - val_loss: 0.0283 - val_accuracy: 0.9873 - val_precision: 0.9873\n",
            "Epoch 21/100\n",
            "389/389 [==============================] - 84s 216ms/step - loss: 0.0303 - accuracy: 0.9860 - precision: 0.9860 - val_loss: 0.0309 - val_accuracy: 0.9850 - val_precision: 0.9849\n",
            "Epoch 22/100\n",
            "389/389 [==============================] - 84s 216ms/step - loss: 0.0299 - accuracy: 0.9863 - precision: 0.9864 - val_loss: 0.0280 - val_accuracy: 0.9875 - val_precision: 0.9877\n",
            "Epoch 23/100\n",
            "389/389 [==============================] - 88s 227ms/step - loss: 0.0295 - accuracy: 0.9865 - precision: 0.9866 - val_loss: 0.0276 - val_accuracy: 0.9866 - val_precision: 0.9869\n",
            "Epoch 24/100\n",
            "389/389 [==============================] - 84s 216ms/step - loss: 0.0293 - accuracy: 0.9867 - precision: 0.9867 - val_loss: 0.0315 - val_accuracy: 0.9857 - val_precision: 0.9860\n",
            "Epoch 25/100\n",
            "389/389 [==============================] - 88s 227ms/step - loss: 0.0292 - accuracy: 0.9867 - precision: 0.9867 - val_loss: 0.0266 - val_accuracy: 0.9876 - val_precision: 0.9901\n",
            "Epoch 26/100\n",
            "389/389 [==============================] - 88s 227ms/step - loss: 0.0285 - accuracy: 0.9872 - precision: 0.9872 - val_loss: 0.0330 - val_accuracy: 0.9859 - val_precision: 0.9862\n",
            "Epoch 27/100\n",
            "389/389 [==============================] - 84s 216ms/step - loss: 0.0284 - accuracy: 0.9871 - precision: 0.9871 - val_loss: 0.0306 - val_accuracy: 0.9846 - val_precision: 0.9849\n",
            "Epoch 28/100\n",
            "389/389 [==============================] - 84s 216ms/step - loss: 0.0282 - accuracy: 0.9872 - precision: 0.9872 - val_loss: 0.0295 - val_accuracy: 0.9855 - val_precision: 0.9856\n",
            "Epoch 29/100\n",
            "389/389 [==============================] - 84s 216ms/step - loss: 0.0278 - accuracy: 0.9875 - precision: 0.9875 - val_loss: 0.0260 - val_accuracy: 0.9876 - val_precision: 0.9877\n",
            "Epoch 30/100\n",
            "389/389 [==============================] - 84s 216ms/step - loss: 0.0276 - accuracy: 0.9876 - precision: 0.9875 - val_loss: 0.0421 - val_accuracy: 0.9796 - val_precision: 0.9782\n",
            "Epoch 31/100\n",
            "389/389 [==============================] - 84s 216ms/step - loss: 0.0271 - accuracy: 0.9879 - precision: 0.9879 - val_loss: 0.0314 - val_accuracy: 0.9842 - val_precision: 0.9841\n",
            "Epoch 32/100\n",
            "389/389 [==============================] - 88s 227ms/step - loss: 0.0271 - accuracy: 0.9879 - precision: 0.9879 - val_loss: 0.0258 - val_accuracy: 0.9894 - val_precision: 0.9895\n",
            "Epoch 33/100\n",
            "389/389 [==============================] - 84s 216ms/step - loss: 0.0268 - accuracy: 0.9881 - precision: 0.9880 - val_loss: 0.0271 - val_accuracy: 0.9879 - val_precision: 0.9883\n",
            "Epoch 34/100\n",
            "389/389 [==============================] - 84s 216ms/step - loss: 0.0266 - accuracy: 0.9882 - precision: 0.9881 - val_loss: 0.0318 - val_accuracy: 0.9847 - val_precision: 0.9846\n",
            "Epoch 35/100\n",
            "389/389 [==============================] - 88s 227ms/step - loss: 0.0262 - accuracy: 0.9884 - precision: 0.9883 - val_loss: 0.0275 - val_accuracy: 0.9875 - val_precision: 0.9877\n",
            "Epoch 36/100\n",
            "389/389 [==============================] - 84s 216ms/step - loss: 0.0261 - accuracy: 0.9884 - precision: 0.9883 - val_loss: 0.0306 - val_accuracy: 0.9864 - val_precision: 0.9866\n",
            "Epoch 37/100\n",
            "389/389 [==============================] - 84s 216ms/step - loss: 0.0258 - accuracy: 0.9886 - precision: 0.9885 - val_loss: 0.0257 - val_accuracy: 0.9892 - val_precision: 0.9891\n",
            "Epoch 38/100\n",
            "389/389 [==============================] - 84s 216ms/step - loss: 0.0256 - accuracy: 0.9887 - precision: 0.9886 - val_loss: 0.0243 - val_accuracy: 0.9898 - val_precision: 0.9899\n",
            "Epoch 39/100\n",
            "389/389 [==============================] - 84s 216ms/step - loss: 0.0255 - accuracy: 0.9887 - precision: 0.9886 - val_loss: 0.0252 - val_accuracy: 0.9889 - val_precision: 0.9892\n",
            "Epoch 40/100\n",
            "389/389 [==============================] - 84s 216ms/step - loss: 0.0252 - accuracy: 0.9889 - precision: 0.9888 - val_loss: 0.0257 - val_accuracy: 0.9883 - val_precision: 0.9885\n",
            "Epoch 41/100\n",
            "389/389 [==============================] - 84s 216ms/step - loss: 0.0250 - accuracy: 0.9890 - precision: 0.9890 - val_loss: 0.0257 - val_accuracy: 0.9887 - val_precision: 0.9885\n",
            "Epoch 42/100\n",
            "389/389 [==============================] - 88s 227ms/step - loss: 0.0250 - accuracy: 0.9889 - precision: 0.9889 - val_loss: 0.0248 - val_accuracy: 0.9888 - val_precision: 0.9894\n",
            "Epoch 43/100\n",
            "389/389 [==============================] - 88s 227ms/step - loss: 0.0249 - accuracy: 0.9891 - precision: 0.9890 - val_loss: 0.0247 - val_accuracy: 0.9890 - val_precision: 0.9894\n",
            "Epoch 44/100\n",
            "389/389 [==============================] - 84s 217ms/step - loss: 0.0247 - accuracy: 0.9892 - precision: 0.9891 - val_loss: 0.0246 - val_accuracy: 0.9889 - val_precision: 0.9892\n",
            "Epoch 45/100\n",
            "389/389 [==============================] - 88s 227ms/step - loss: 0.0247 - accuracy: 0.9891 - precision: 0.9891 - val_loss: 0.0247 - val_accuracy: 0.9888 - val_precision: 0.9894\n",
            "Epoch 46/100\n",
            "389/389 [==============================] - 84s 217ms/step - loss: 0.0244 - accuracy: 0.9893 - precision: 0.9892 - val_loss: 0.0238 - val_accuracy: 0.9896 - val_precision: 0.9896\n",
            "Epoch 47/100\n",
            "389/389 [==============================] - 84s 216ms/step - loss: 0.0243 - accuracy: 0.9893 - precision: 0.9893 - val_loss: 0.0240 - val_accuracy: 0.9895 - val_precision: 0.9898\n",
            "Epoch 48/100\n",
            "389/389 [==============================] - 88s 227ms/step - loss: 0.0240 - accuracy: 0.9895 - precision: 0.9895 - val_loss: 0.0233 - val_accuracy: 0.9907 - val_precision: 0.9909\n",
            "Epoch 49/100\n",
            "389/389 [==============================] - 84s 216ms/step - loss: 0.0240 - accuracy: 0.9896 - precision: 0.9895 - val_loss: 0.0261 - val_accuracy: 0.9894 - val_precision: 0.9894\n",
            "Epoch 50/100\n",
            "389/389 [==============================] - 84s 216ms/step - loss: 0.0241 - accuracy: 0.9895 - precision: 0.9894 - val_loss: 0.0242 - val_accuracy: 0.9897 - val_precision: 0.9904\n",
            "Epoch 51/100\n",
            "389/389 [==============================] - 88s 227ms/step - loss: 0.0239 - accuracy: 0.9894 - precision: 0.9895 - val_loss: 0.0270 - val_accuracy: 0.9875 - val_precision: 0.9875\n",
            "Epoch 52/100\n",
            "389/389 [==============================] - 84s 216ms/step - loss: 0.0237 - accuracy: 0.9896 - precision: 0.9896 - val_loss: 0.0234 - val_accuracy: 0.9898 - val_precision: 0.9902\n",
            "Epoch 53/100\n",
            "389/389 [==============================] - 84s 216ms/step - loss: 0.0236 - accuracy: 0.9896 - precision: 0.9896 - val_loss: 0.0237 - val_accuracy: 0.9899 - val_precision: 0.9901\n",
            "Epoch 54/100\n",
            "389/389 [==============================] - 88s 227ms/step - loss: 0.0235 - accuracy: 0.9897 - precision: 0.9897 - val_loss: 0.0301 - val_accuracy: 0.9876 - val_precision: 0.9877\n",
            "Epoch 55/100\n",
            "389/389 [==============================] - 88s 227ms/step - loss: 0.0235 - accuracy: 0.9896 - precision: 0.9896 - val_loss: 0.0244 - val_accuracy: 0.9891 - val_precision: 0.9891\n",
            "Epoch 56/100\n",
            "389/389 [==============================] - 84s 216ms/step - loss: 0.0234 - accuracy: 0.9898 - precision: 0.9897 - val_loss: 0.0243 - val_accuracy: 0.9899 - val_precision: 0.9902\n",
            "Epoch 57/100\n",
            "389/389 [==============================] - 84s 216ms/step - loss: 0.0234 - accuracy: 0.9897 - precision: 0.9897 - val_loss: 0.0216 - val_accuracy: 0.9906 - val_precision: 0.9906\n",
            "Epoch 58/100\n",
            "389/389 [==============================] - 88s 227ms/step - loss: 0.0231 - accuracy: 0.9899 - precision: 0.9899 - val_loss: 0.0226 - val_accuracy: 0.9901 - val_precision: 0.9901\n",
            "Epoch 59/100\n",
            "389/389 [==============================] - 88s 227ms/step - loss: 0.0229 - accuracy: 0.9899 - precision: 0.9899 - val_loss: 0.0219 - val_accuracy: 0.9905 - val_precision: 0.9907\n",
            "Epoch 60/100\n",
            "389/389 [==============================] - 84s 216ms/step - loss: 0.0230 - accuracy: 0.9899 - precision: 0.9899 - val_loss: 0.0216 - val_accuracy: 0.9903 - val_precision: 0.9903\n",
            "Epoch 61/100\n",
            "389/389 [==============================] - 84s 216ms/step - loss: 0.0229 - accuracy: 0.9900 - precision: 0.9899 - val_loss: 0.0222 - val_accuracy: 0.9903 - val_precision: 0.9901\n",
            "Epoch 62/100\n",
            "389/389 [==============================] - 84s 216ms/step - loss: 0.0230 - accuracy: 0.9899 - precision: 0.9899 - val_loss: 0.0296 - val_accuracy: 0.9874 - val_precision: 0.9881\n",
            "Epoch 63/100\n",
            "389/389 [==============================] - 88s 227ms/step - loss: 0.0229 - accuracy: 0.9899 - precision: 0.9899 - val_loss: 0.0258 - val_accuracy: 0.9877 - val_precision: 0.9874\n",
            "Epoch 64/100\n",
            "389/389 [==============================] - 84s 216ms/step - loss: 0.0226 - accuracy: 0.9901 - precision: 0.9900 - val_loss: 0.0228 - val_accuracy: 0.9898 - val_precision: 0.9896\n",
            "Epoch 65/100\n",
            "389/389 [==============================] - 84s 216ms/step - loss: 0.0227 - accuracy: 0.9899 - precision: 0.9899 - val_loss: 0.0218 - val_accuracy: 0.9903 - val_precision: 0.9902\n",
            "Epoch 66/100\n",
            "389/389 [==============================] - 84s 216ms/step - loss: 0.0226 - accuracy: 0.9901 - precision: 0.9900 - val_loss: 0.0232 - val_accuracy: 0.9899 - val_precision: 0.9901\n",
            "Epoch 67/100\n",
            "389/389 [==============================] - 84s 216ms/step - loss: 0.0224 - accuracy: 0.9902 - precision: 0.9901 - val_loss: 0.0227 - val_accuracy: 0.9899 - val_precision: 0.9900\n",
            "Epoch 68/100\n",
            "389/389 [==============================] - 84s 216ms/step - loss: 0.0224 - accuracy: 0.9901 - precision: 0.9901 - val_loss: 0.0240 - val_accuracy: 0.9887 - val_precision: 0.9884\n",
            "Epoch 69/100\n",
            "389/389 [==============================] - 84s 216ms/step - loss: 0.0223 - accuracy: 0.9902 - precision: 0.9902 - val_loss: 0.0234 - val_accuracy: 0.9888 - val_precision: 0.9890\n",
            "Epoch 70/100\n",
            "389/389 [==============================] - 84s 216ms/step - loss: 0.0224 - accuracy: 0.9901 - precision: 0.9901 - val_loss: 0.0224 - val_accuracy: 0.9894 - val_precision: 0.9895\n",
            "Epoch 71/100\n",
            "389/389 [==============================] - 84s 216ms/step - loss: 0.0223 - accuracy: 0.9902 - precision: 0.9902 - val_loss: 0.0229 - val_accuracy: 0.9895 - val_precision: 0.9894\n",
            "Epoch 72/100\n",
            "389/389 [==============================] - 84s 216ms/step - loss: 0.0221 - accuracy: 0.9902 - precision: 0.9902 - val_loss: 0.0224 - val_accuracy: 0.9899 - val_precision: 0.9900\n",
            "Epoch 73/100\n",
            "389/389 [==============================] - 84s 216ms/step - loss: 0.0222 - accuracy: 0.9902 - precision: 0.9901 - val_loss: 0.0217 - val_accuracy: 0.9905 - val_precision: 0.9903\n",
            "Epoch 74/100\n",
            "389/389 [==============================] - 88s 227ms/step - loss: 0.0220 - accuracy: 0.9903 - precision: 0.9903 - val_loss: 0.0217 - val_accuracy: 0.9904 - val_precision: 0.9904\n",
            "Epoch 75/100\n",
            "389/389 [==============================] - 84s 216ms/step - loss: 0.0220 - accuracy: 0.9902 - precision: 0.9902 - val_loss: 0.0230 - val_accuracy: 0.9899 - val_precision: 0.9903\n",
            "Epoch 76/100\n",
            "389/389 [==============================] - 84s 216ms/step - loss: 0.0219 - accuracy: 0.9903 - precision: 0.9902 - val_loss: 0.0216 - val_accuracy: 0.9899 - val_precision: 0.9897\n",
            "Epoch 77/100\n",
            "389/389 [==============================] - 84s 216ms/step - loss: 0.0218 - accuracy: 0.9904 - precision: 0.9904 - val_loss: 0.0228 - val_accuracy: 0.9898 - val_precision: 0.9898\n",
            "Epoch 78/100\n",
            "389/389 [==============================] - 88s 227ms/step - loss: 0.0217 - accuracy: 0.9905 - precision: 0.9905 - val_loss: 0.0204 - val_accuracy: 0.9913 - val_precision: 0.9913\n",
            "Epoch 79/100\n",
            "389/389 [==============================] - 84s 216ms/step - loss: 0.0216 - accuracy: 0.9904 - precision: 0.9904 - val_loss: 0.0209 - val_accuracy: 0.9907 - val_precision: 0.9906\n",
            "Epoch 80/100\n",
            "389/389 [==============================] - 84s 216ms/step - loss: 0.0217 - accuracy: 0.9904 - precision: 0.9903 - val_loss: 0.0223 - val_accuracy: 0.9900 - val_precision: 0.9901\n",
            "Epoch 81/100\n",
            "389/389 [==============================] - 88s 227ms/step - loss: 0.0216 - accuracy: 0.9904 - precision: 0.9904 - val_loss: 0.0217 - val_accuracy: 0.9903 - val_precision: 0.9903\n",
            "Epoch 82/100\n",
            "389/389 [==============================] - 84s 216ms/step - loss: 0.0213 - accuracy: 0.9906 - precision: 0.9906 - val_loss: 0.0224 - val_accuracy: 0.9905 - val_precision: 0.9901\n",
            "Epoch 83/100\n",
            "389/389 [==============================] - 84s 215ms/step - loss: 0.0214 - accuracy: 0.9905 - precision: 0.9905 - val_loss: 0.0216 - val_accuracy: 0.9902 - val_precision: 0.9900\n",
            "Epoch 84/100\n",
            "389/389 [==============================] - 83s 214ms/step - loss: 0.0212 - accuracy: 0.9906 - precision: 0.9906 - val_loss: 0.0234 - val_accuracy: 0.9907 - val_precision: 0.9909\n",
            "Epoch 85/100\n",
            "389/389 [==============================] - 84s 215ms/step - loss: 0.0211 - accuracy: 0.9906 - precision: 0.9906 - val_loss: 0.0206 - val_accuracy: 0.9912 - val_precision: 0.9913\n",
            "Epoch 86/100\n",
            "389/389 [==============================] - 83s 214ms/step - loss: 0.0210 - accuracy: 0.9907 - precision: 0.9907 - val_loss: 0.0282 - val_accuracy: 0.9867 - val_precision: 0.9863\n",
            "Epoch 87/100\n",
            "389/389 [==============================] - 83s 215ms/step - loss: 0.0212 - accuracy: 0.9906 - precision: 0.9906 - val_loss: 0.0267 - val_accuracy: 0.9878 - val_precision: 0.9887\n",
            "Epoch 88/100\n",
            "389/389 [==============================] - 83s 213ms/step - loss: 0.0210 - accuracy: 0.9907 - precision: 0.9907 - val_loss: 0.0234 - val_accuracy: 0.9880 - val_precision: 0.9869\n",
            "Epoch 89/100\n",
            "389/389 [==============================] - 83s 214ms/step - loss: 0.0208 - accuracy: 0.9907 - precision: 0.9907 - val_loss: 0.0258 - val_accuracy: 0.9885 - val_precision: 0.9887\n",
            "Epoch 90/100\n",
            "389/389 [==============================] - 83s 213ms/step - loss: 0.0207 - accuracy: 0.9908 - precision: 0.9907 - val_loss: 0.0200 - val_accuracy: 0.9914 - val_precision: 0.9915\n",
            "Epoch 91/100\n",
            "389/389 [==============================] - 87s 224ms/step - loss: 0.0209 - accuracy: 0.9907 - precision: 0.9907 - val_loss: 0.0246 - val_accuracy: 0.9887 - val_precision: 0.9887\n",
            "Epoch 92/100\n",
            "389/389 [==============================] - 84s 215ms/step - loss: 0.0206 - accuracy: 0.9908 - precision: 0.9908 - val_loss: 0.0206 - val_accuracy: 0.9913 - val_precision: 0.9911\n",
            "Epoch 93/100\n",
            "389/389 [==============================] - 83s 213ms/step - loss: 0.0207 - accuracy: 0.9908 - precision: 0.9908 - val_loss: 0.0196 - val_accuracy: 0.9915 - val_precision: 0.9913\n",
            "Epoch 94/100\n",
            "389/389 [==============================] - 83s 214ms/step - loss: 0.0204 - accuracy: 0.9909 - precision: 0.9909 - val_loss: 0.0205 - val_accuracy: 0.9912 - val_precision: 0.9913\n",
            "Epoch 95/100\n",
            "389/389 [==============================] - 83s 214ms/step - loss: 0.0205 - accuracy: 0.9908 - precision: 0.9908 - val_loss: 0.0210 - val_accuracy: 0.9899 - val_precision: 0.9898\n",
            "Epoch 96/100\n",
            "389/389 [==============================] - 83s 214ms/step - loss: 0.0203 - accuracy: 0.9909 - precision: 0.9909 - val_loss: 0.0193 - val_accuracy: 0.9912 - val_precision: 0.9912\n",
            "Epoch 97/100\n",
            "389/389 [==============================] - 83s 214ms/step - loss: 0.0205 - accuracy: 0.9908 - precision: 0.9908 - val_loss: 0.0202 - val_accuracy: 0.9913 - val_precision: 0.9914\n",
            "Epoch 98/100\n",
            "389/389 [==============================] - 83s 214ms/step - loss: 0.0205 - accuracy: 0.9908 - precision: 0.9908 - val_loss: 0.0220 - val_accuracy: 0.9894 - val_precision: 0.9897\n",
            "Epoch 99/100\n",
            "389/389 [==============================] - 84s 215ms/step - loss: 0.0205 - accuracy: 0.9908 - precision: 0.9908 - val_loss: 0.0202 - val_accuracy: 0.9913 - val_precision: 0.9912\n",
            "Epoch 100/100\n",
            "389/389 [==============================] - 83s 214ms/step - loss: 0.0202 - accuracy: 0.9909 - precision: 0.9909 - val_loss: 0.0248 - val_accuracy: 0.9887 - val_precision: 0.9889\n"
          ]
        }
      ],
      "source": [
        "#model.fit(x_train, y_train, epochs = 100, batch_size =1000)\n",
        "#model.fit(x_train, y_train, epochs =80,batch_size =128,validation_data=(x_valid, y_valid),callbacks=tf.keras.callbacks.EarlyStopping(monitor='val_loss', verbose=1))\n",
        "from keras.callbacks import EarlyStopping\n",
        "#history = model.fit(x_train, y_train, epochs =80,batch_size =128,validation_data=(x_valid, y_valid),callbacks = [EarlyStopping(monitor='val_loss', patience=5)])\n",
        "history = model.fit(x_train, y_train, epochs =100,batch_size =5000,validation_data=(x_valid, y_valid))\n"
      ]
    },
    {
      "cell_type": "code",
      "execution_count": 43,
      "metadata": {
        "id": "-f1qF1VE_0Ma",
        "colab": {
          "base_uri": "https://localhost:8080/",
          "height": 295
        },
        "outputId": "0a910789-c893-42a5-b847-ea53d32dbff7"
      },
      "outputs": [
        {
          "output_type": "display_data",
          "data": {
            "text/plain": [
              "<Figure size 432x288 with 1 Axes>"
            ],
            "image/png": "[encoded data removed]"
          },
          "metadata": {
            "needs_background": "light"
          }
        }
      ],
      "source": [
        "import matplotlib.pyplot as plt\n",
        "import tensorflow as tf\n",
        "\n",
        "loss_val = history.history['val_loss']\n",
        "acc_val = history.history['loss']\n",
        "epochs = range(1,101)\n",
        "plt.plot(epochs, loss_val, 'b', label='validation loss')\n",
        "plt.plot(epochs, acc_val, 'g', label='train loss')\n",
        "plt.title('Validation loss')\n",
        "plt.xlabel('Epochs')\n",
        "plt.ylabel('Loss')\n",
        "plt.legend()\n",
        "plt.show()"
      ]
    },
    {
      "cell_type": "code",
      "execution_count": 44,
      "metadata": {
        "id": "Ptrzh8Is_1oM",
        "colab": {
          "base_uri": "https://localhost:8080/",
          "height": 295
        },
        "outputId": "a9625be7-4c7d-4214-8ef2-ef7a67294fed"
      },
      "outputs": [
        {
          "output_type": "display_data",
          "data": {
            "text/plain": [
              "<Figure size 432x288 with 1 Axes>"
            ],
            "image/png": "[encoded data removed]"
          },
          "metadata": {
            "needs_background": "light"
          }
        }
      ],
      "source": [
        "acc_val = history.history['val_accuracy']\n",
        "acc_train = history.history['accuracy']\n",
        "epochs = range(1,101)\n",
        "plt.plot(epochs, acc_val, 'b', label='validation acc')\n",
        "plt.plot(epochs, acc_train, 'g', label='train_accuracy')\n",
        "plt.title('accuracy')\n",
        "plt.xlabel('Epochs')\n",
        "plt.ylabel('Accuracy')\n",
        "plt.legend()\n",
        "plt.show()"
      ]
    }
  ],
  "metadata": {
    "accelerator": "GPU",
    "colab": {
      "collapsed_sections": [],
      "name": "CNN_cicids2017.ipynb",
      "provenance": [],
      "authorship_tag": "ABX9TyM0WxSeQYtVoEBMXelbP2ka",
      "include_colab_link": true
    },
    "kernelspec": {
      "display_name": "Python 3",
      "name": "python3"
    },
    "language_info": {
      "name": "python"
    }
  },
  "nbformat": 4,
  "nbformat_minor": 0
}