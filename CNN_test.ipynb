{
  "cells": [
    {
      "cell_type": "markdown",
      "metadata": {
        "id": "view-in-github",
        "colab_type": "text"
      },
      "source": [
        "<a href=\"https://colab.research.google.com/github/amina04/CNN-lstm/blob/main/CNN_test.ipynb\" target=\"_parent\"><img src=\"https://colab.research.google.com/assets/colab-badge.svg\" alt=\"Open In Colab\"/></a>"
      ]
    },
    {
      "cell_type": "code",
      "execution_count": 1,
      "metadata": {
        "colab": {
          "base_uri": "https://localhost:8080/"
        },
        "id": "cb9ULM1ja71F",
        "outputId": "8ac6c2ce-d007-4349-f878-65308307c365"
      },
      "outputs": [
        {
          "output_type": "stream",
          "name": "stdout",
          "text": [
            "Drive already mounted at /content/drive; to attempt to forcibly remount, call drive.mount(\"/content/drive\", force_remount=True).\n"
          ]
        }
      ],
      "source": [
        "from google.colab import drive\n",
        "drive.mount('/content/drive')"
      ]
    },
    {
      "cell_type": "code",
      "execution_count": 2,
      "metadata": {
        "id": "Mn1if4XZbCvI"
      },
      "outputs": [],
      "source": [
        "import pandas as pd  "
      ]
    },
    {
      "cell_type": "code",
      "execution_count": 3,
      "metadata": {
        "id": "gRI5Z659cA6l"
      },
      "outputs": [],
      "source": [
        "import tensorflow as tf"
      ]
    },
    {
      "cell_type": "code",
      "execution_count": 4,
      "metadata": {
        "id": "I1Id0BvzcO_A"
      },
      "outputs": [],
      "source": [
        "\n",
        "featureV=[\"duration\",\"protocol_type\",\"service\",\"flag\",\"src_bytes\",\"dst_bytes\",\"land\",\"wrong_fragment\",\"urgent\",\"hot\",\n",
        "          \"num_failed_logins\",\"logged_in\",\"num_compromised\",\"root_shell\",\"su_attempted\",\"num_root\",\"num_file_creations\",\"num_shells\",\n",
        "          \"num_access_files\",\"num_outbound_cmds\",\"is_host_login\",\"is_guest_login\",\"count\",\"srv_count\",\"serror_rate\",\"srv_serror_rate\",\n",
        "          \"rerror_rate\",\"srv_rerror_rate\",\"same_srv_rate\",\"diff_srv_rate\",\"srv_diff_host_rate\",\"dst_host_count\",\"dst_host_srv_count\", \n",
        "          \"dst_host_same_srv_rate\",\"dst_host_diff_srv_rate\",\"dst_host_same_src_port_rate\",\"dst_host_srv_diff_host_rate\",\"dst_host_serror_rate\",\n",
        "          \"dst_host_srv_serror_rate\",\"dst_host_rerror_rate\",\"dst_host_srv_rerror_rate\",\"label\",\"difficulty\"]\n",
        "\n",
        "flagV=['OTH','RSTOS0','SF','SH','RSTO','S2','S1','REJ','S3','RSTR','S0']\n",
        "\n",
        "protocol_typeV=['tcp','udp','icmp']\n",
        "\n",
        "serviceV=['http','smtp','finger','domain_u','auth','telnet','ftp','eco_i','ntp_u','ecr_i','other','private','pop_3','ftp_data',\n",
        "                  'rje','time','mtp','link','remote_job','gopher','ssh','name','whois','domain','login','imap4','daytime','ctf','nntp',\n",
        "                  'shell','IRC','nnsp','http_443','exec','printer','efs','courier','uucp','klogin','kshell','echo','discard','systat',\n",
        "                  'supdup','iso_tsap','hostnames','csnet_ns','pop_2','sunrpc','uucp_path','netbios_ns','netbios_ssn','netbios_dgm',\n",
        "                  'sql_net','vmnet','bgp','Z39_50','ldap','netstat','urh_i','X11','urp_i','pm_dump','tftp_u','tim_i','red_i','icmp',\n",
        "                  'http_2784','harvest','aol','http_8001']\n",
        "\n",
        "binary_attack=['normal','ipsweep', 'nmap', 'portsweep','satan', 'saint', 'mscan','back', 'land', 'neptune', 'pod', 'smurf',\n",
        "               'teardrop', 'apache2', 'udpstorm', 'processtable','mailbomb','buffer_overflow', 'loadmodule', 'perl', 'rootkit',\n",
        "               'xterm', 'ps', 'sqlattack','ftp_write', 'guess_passwd', 'imap', 'multihop','phf', 'spy', 'warezclient',\n",
        "               'warezmaster','snmpgetattack','named', 'xlock', 'xsnoop','sendmail', 'httptunnel', 'worm', 'snmpguess']\n",
        "\n",
        "multiclass_attack={ 'normal': 'normal',\n",
        "        'probe': ['ipsweep.', 'nmap.', 'portsweep.','satan.', 'saint.', 'mscan.'],\n",
        "        'dos': ['back.', 'land.', 'neptune.', 'pod.', 'smurf.','teardrop.', 'apache2.', 'udpstorm.', 'processtable.','mailbomb.'],\n",
        "        'u2r': ['buffer_overflow.', 'loadmodule.', 'perl.', 'rootkit.','xterm.', 'ps.', 'sqlattack.'],\n",
        "        'r2l': ['ftp_write.', 'guess_passwd.', 'imap.', 'multihop.','phf.', 'spy.', 'warezclient.', 'warezmaster.','snmpgetattack.',\n",
        "                   'named.', 'xlock.', 'xsnoop.','sendmail.', 'httptunnel.', 'worm.', 'snmpguess.']}    "
      ]
    },
    {
      "cell_type": "code",
      "execution_count": 5,
      "metadata": {
        "id": "2OJYQsm2cTRl"
      },
      "outputs": [],
      "source": [
        "data_train=pd.read_csv('/content/drive/MyDrive/data/nsl-kdd/KDDTrain+.txt',names=featureV)\n",
        "data_valid=pd.read_csv('/content/drive/MyDrive/data/nsl-kdd/KDDTest+.txt',names=featureV)"
      ]
    },
    {
      "cell_type": "code",
      "source": [
        "print(f\"numbers of protocol_type: {len(data_train['protocol_type'].value_counts())}\")\n",
        "print(f\"number of 'service' in train datasets: {len(data_train.service.value_counts())}\")\n",
        "print(f\"number of 'flag' in train datasets: {len(data_train['flag'].value_counts())}\")"
      ],
      "metadata": {
        "colab": {
          "base_uri": "https://localhost:8080/"
        },
        "id": "BuPxkOzXE-87",
        "outputId": "4627c200-489b-4285-d5c3-bd5fe3facc01"
      },
      "execution_count": 6,
      "outputs": [
        {
          "output_type": "stream",
          "name": "stdout",
          "text": [
            "numbers of protocol_type: 3\n",
            "number of 'service' in train datasets: 70\n",
            "number of 'flag' in train datasets: 11\n"
          ]
        }
      ]
    },
    {
      "cell_type": "code",
      "source": [
        "data_train.label.unique()"
      ],
      "metadata": {
        "colab": {
          "base_uri": "https://localhost:8080/"
        },
        "id": "jMjFKWglFZ69",
        "outputId": "a1e0234c-9520-4af9-b7dc-5bf24605ba98"
      },
      "execution_count": 7,
      "outputs": [
        {
          "output_type": "execute_result",
          "data": {
            "text/plain": [
              "array(['normal', 'neptune', 'warezclient', 'ipsweep', 'portsweep',\n",
              "       'teardrop', 'nmap', 'satan', 'smurf', 'pod', 'back',\n",
              "       'guess_passwd', 'ftp_write', 'multihop', 'rootkit',\n",
              "       'buffer_overflow', 'imap', 'warezmaster', 'phf', 'land',\n",
              "       'loadmodule', 'spy', 'perl'], dtype=object)"
            ]
          },
          "metadata": {},
          "execution_count": 7
        }
      ]
    },
    {
      "cell_type": "code",
      "execution_count": 8,
      "metadata": {
        "id": "iX6CfbgCd3rW",
        "colab": {
          "base_uri": "https://localhost:8080/"
        },
        "outputId": "087bc4f8-aa0b-495c-d014-e881f280d501"
      },
      "outputs": [
        {
          "output_type": "execute_result",
          "data": {
            "text/plain": [
              "(125973, 43)"
            ]
          },
          "metadata": {},
          "execution_count": 8
        }
      ],
      "source": [
        "data_train.shape"
      ]
    },
    {
      "cell_type": "code",
      "source": [
        "df_train_obj = data_train.iloc[:, :-2].select_dtypes(include='object')\n",
        "df_train_num = data_train.iloc[:, :-2].select_dtypes(exclude='object')\n",
        "\n",
        "print(f\"shape of numeric features: {df_train_num.shape}\")\n",
        "print(f\"shape of object features: {df_train_obj.shape}\")"
      ],
      "metadata": {
        "colab": {
          "base_uri": "https://localhost:8080/"
        },
        "id": "_aC0f4xYMdlj",
        "outputId": "47104bb9-adaf-4a21-bd1e-a280f947068a"
      },
      "execution_count": 9,
      "outputs": [
        {
          "output_type": "stream",
          "name": "stdout",
          "text": [
            "shape of numeric features: (125973, 38)\n",
            "shape of object features: (125973, 3)\n"
          ]
        }
      ]
    },
    {
      "cell_type": "code",
      "source": [
        "df_valid_obj = data_valid.iloc[:, :-2].select_dtypes(include='object')\n",
        "df_valid_num = data_valid.iloc[:, :-2].select_dtypes(exclude='object')\n",
        "\n",
        "print(f\"shape of numeric features: {df_valid_num.shape}\")\n",
        "print(f\"shape of object features: {df_valid_obj.shape}\")"
      ],
      "metadata": {
        "colab": {
          "base_uri": "https://localhost:8080/"
        },
        "id": "ZB-5FVuz0gZR",
        "outputId": "6a783594-f2db-4894-ecdc-49373be2d768"
      },
      "execution_count": 10,
      "outputs": [
        {
          "output_type": "stream",
          "name": "stdout",
          "text": [
            "shape of numeric features: (22544, 38)\n",
            "shape of object features: (22544, 3)\n"
          ]
        }
      ]
    },
    {
      "cell_type": "code",
      "source": [
        "df_train_obj.head()"
      ],
      "metadata": {
        "colab": {
          "base_uri": "https://localhost:8080/",
          "height": 206
        },
        "id": "XjvjEy440ycV",
        "outputId": "fb1a0892-b901-4f25-80b9-c566ab4e6d65"
      },
      "execution_count": 11,
      "outputs": [
        {
          "output_type": "execute_result",
          "data": {
            "text/plain": [
              "  protocol_type   service flag\n",
              "0           tcp  ftp_data   SF\n",
              "1           udp     other   SF\n",
              "2           tcp   private   S0\n",
              "3           tcp      http   SF\n",
              "4           tcp      http   SF"
            ],
            "text/html": [
              "\n",
              "  <div id=\"df-54affc62-e12e-458e-9104-5dce887a92bd\">\n",
              "    <div class=\"colab-df-container\">\n",
              "      <div>\n",
              "<style scoped>\n",
              "    .dataframe tbody tr th:only-of-type {\n",
              "        vertical-align: middle;\n",
              "    }\n",
              "\n",
              "    .dataframe tbody tr th {\n",
              "        vertical-align: top;\n",
              "    }\n",
              "\n",
              "    .dataframe thead th {\n",
              "        text-align: right;\n",
              "    }\n",
              "</style>\n",
              "<table border=\"1\" class=\"dataframe\">\n",
              "  <thead>\n",
              "    <tr style=\"text-align: right;\">\n",
              "      <th></th>\n",
              "      <th>protocol_type</th>\n",
              "      <th>service</th>\n",
              "      <th>flag</th>\n",
              "    </tr>\n",
              "  </thead>\n",
              "  <tbody>\n",
              "    <tr>\n",
              "      <th>0</th>\n",
              "      <td>tcp</td>\n",
              "      <td>ftp_data</td>\n",
              "      <td>SF</td>\n",
              "    </tr>\n",
              "    <tr>\n",
              "      <th>1</th>\n",
              "      <td>udp</td>\n",
              "      <td>other</td>\n",
              "      <td>SF</td>\n",
              "    </tr>\n",
              "    <tr>\n",
              "      <th>2</th>\n",
              "      <td>tcp</td>\n",
              "      <td>private</td>\n",
              "      <td>S0</td>\n",
              "    </tr>\n",
              "    <tr>\n",
              "      <th>3</th>\n",
              "      <td>tcp</td>\n",
              "      <td>http</td>\n",
              "      <td>SF</td>\n",
              "    </tr>\n",
              "    <tr>\n",
              "      <th>4</th>\n",
              "      <td>tcp</td>\n",
              "      <td>http</td>\n",
              "      <td>SF</td>\n",
              "    </tr>\n",
              "  </tbody>\n",
              "</table>\n",
              "</div>\n",
              "      <button class=\"colab-df-convert\" onclick=\"convertToInteractive('df-54affc62-e12e-458e-9104-5dce887a92bd')\"\n",
              "              title=\"Convert this dataframe to an interactive table.\"\n",
              "              style=\"display:none;\">\n",
              "        \n",
              "  <svg xmlns=\"http://www.w3.org/2000/svg\" height=\"24px\"viewBox=\"0 0 24 24\"\n",
              "       width=\"24px\">\n",
              "    <path d=\"M0 0h24v24H0V0z\" fill=\"none\"/>\n",
              "    <path d=\"M18.56 5.44l.94 2.06.94-2.06 2.06-.94-2.06-.94-.94-2.06-.94 2.06-2.06.94zm-11 1L8.5 8.5l.94-2.06 2.06-.94-2.06-.94L8.5 2.5l-.94 2.06-2.06.94zm10 10l.94 2.06.94-2.06 2.06-.94-2.06-.94-.94-2.06-.94 2.06-2.06.94z\"/><path d=\"M17.41 7.96l-1.37-1.37c-.4-.4-.92-.59-1.43-.59-.52 0-1.04.2-1.43.59L10.3 9.45l-7.72 7.72c-.78.78-.78 2.05 0 2.83L4 21.41c.39.39.9.59 1.41.59.51 0 1.02-.2 1.41-.59l7.78-7.78 2.81-2.81c.8-.78.8-2.07 0-2.86zM5.41 20L4 18.59l7.72-7.72 1.47 1.35L5.41 20z\"/>\n",
              "  </svg>\n",
              "      </button>\n",
              "      \n",
              "  <style>\n",
              "    .colab-df-container {\n",
              "      display:flex;\n",
              "      flex-wrap:wrap;\n",
              "      gap: 12px;\n",
              "    }\n",
              "\n",
              "    .colab-df-convert {\n",
              "      background-color: #E8F0FE;\n",
              "      border: none;\n",
              "      border-radius: 50%;\n",
              "      cursor: pointer;\n",
              "      display: none;\n",
              "      fill: #1967D2;\n",
              "      height: 32px;\n",
              "      padding: 0 0 0 0;\n",
              "      width: 32px;\n",
              "    }\n",
              "\n",
              "    .colab-df-convert:hover {\n",
              "      background-color: #E2EBFA;\n",
              "      box-shadow: 0px 1px 2px rgba(60, 64, 67, 0.3), 0px 1px 3px 1px rgba(60, 64, 67, 0.15);\n",
              "      fill: #174EA6;\n",
              "    }\n",
              "\n",
              "    [theme=dark] .colab-df-convert {\n",
              "      background-color: #3B4455;\n",
              "      fill: #D2E3FC;\n",
              "    }\n",
              "\n",
              "    [theme=dark] .colab-df-convert:hover {\n",
              "      background-color: #434B5C;\n",
              "      box-shadow: 0px 1px 3px 1px rgba(0, 0, 0, 0.15);\n",
              "      filter: drop-shadow(0px 1px 2px rgba(0, 0, 0, 0.3));\n",
              "      fill: #FFFFFF;\n",
              "    }\n",
              "  </style>\n",
              "\n",
              "      <script>\n",
              "        const buttonEl =\n",
              "          document.querySelector('#df-54affc62-e12e-458e-9104-5dce887a92bd button.colab-df-convert');\n",
              "        buttonEl.style.display =\n",
              "          google.colab.kernel.accessAllowed ? 'block' : 'none';\n",
              "\n",
              "        async function convertToInteractive(key) {\n",
              "          const element = document.querySelector('#df-54affc62-e12e-458e-9104-5dce887a92bd');\n",
              "          const dataTable =\n",
              "            await google.colab.kernel.invokeFunction('convertToInteractive',\n",
              "                                                     [key], {});\n",
              "          if (!dataTable) return;\n",
              "\n",
              "          const docLinkHtml = 'Like what you see? Visit the ' +\n",
              "            '<a target=\"_blank\" href=https://colab.research.google.com/notebooks/data_table.ipynb>data table notebook</a>'\n",
              "            + ' to learn more about interactive tables.';\n",
              "          element.innerHTML = '';\n",
              "          dataTable['output_type'] = 'display_data';\n",
              "          await google.colab.output.renderOutput(dataTable, element);\n",
              "          const docLink = document.createElement('div');\n",
              "          docLink.innerHTML = docLinkHtml;\n",
              "          element.appendChild(docLink);\n",
              "        }\n",
              "      </script>\n",
              "    </div>\n",
              "  </div>\n",
              "  "
            ]
          },
          "metadata": {},
          "execution_count": 11
        }
      ]
    },
    {
      "cell_type": "code",
      "source": [
        "data_train['label']=data_train['label'].replace(['normal.','normal'],0)\n",
        "for i in range(len(binary_attack)):\n",
        "  data_train['label'] = data_train['label'].replace(binary_attack[i], 1)\n",
        "y_train=data_train['label']\n",
        "data_valid['label']=data_valid['label'].replace(['normal.','normal'],0)\n",
        "for i in range(len(binary_attack)):\n",
        "  data_valid['label'] = data_valid['label'].replace(binary_attack[i], 1)\n",
        "y_valid=data_valid['label']\n",
        "del data_train['label']\n",
        "del data_valid['label']\n"
      ],
      "metadata": {
        "id": "6humYfTHYUxo"
      },
      "execution_count": 12,
      "outputs": []
    },
    {
      "cell_type": "code",
      "source": [
        "y_train.shape"
      ],
      "metadata": {
        "colab": {
          "base_uri": "https://localhost:8080/"
        },
        "id": "2h8quUzdZAcq",
        "outputId": "c97deca5-c23d-4167-b21d-a4ba34d061b5"
      },
      "execution_count": 13,
      "outputs": [
        {
          "output_type": "execute_result",
          "data": {
            "text/plain": [
              "(125973,)"
            ]
          },
          "metadata": {},
          "execution_count": 13
        }
      ]
    },
    {
      "cell_type": "code",
      "source": [
        "import numpy as np \n",
        "from sklearn.preprocessing import MinMaxScaler, OneHotEncoder\n",
        "enc = OneHotEncoder(handle_unknown='ignore')\n",
        "# df_train_obj = df_train.iloc[:,:-3]\n",
        "#encoder juste les les column qui contient string\n",
        "data_train_enc = enc.fit_transform(df_train_obj).toarray()\n",
        "train_enc_features = enc.get_feature_names_out(input_features=df_train_obj.columns)\n",
        "data_valid_enc = enc.transform(df_valid_obj).toarray()\n",
        "test_enc_features = enc.get_feature_names_out(input_features=df_valid_obj.columns)\n",
        "# print(len(train_enc_features), len(test_enc_features))\n",
        "#concatiner string avec num columns\n",
        "X_train_enc = np.c_[df_train_num, data_train_enc]\n",
        "X_valid_enc = np.c_[df_valid_num, data_valid_enc]\n",
        "print(f\"X_train_enc shape: {X_train_enc.shape}\")\n",
        "print(f\"X_test_enc shape: {X_valid_enc.shape}\")\n",
        "######################################\n",
        "#y_train_enc =enc.fit_transform(y_train).toarray()\n",
        "#y_valid_enc =enc.fit_transform(y_valid).toarray()\n",
        "y_train=pd.get_dummies(y_train)\n",
        "y_valid=pd.get_dummies(y_valid)\n",
        "y_train.head()"
      ],
      "metadata": {
        "colab": {
          "base_uri": "https://localhost:8080/",
          "height": 241
        },
        "id": "nNsow4c72YjB",
        "outputId": "a4a84aa3-9b18-419c-d97c-cf773662965a"
      },
      "execution_count": 14,
      "outputs": [
        {
          "output_type": "stream",
          "name": "stdout",
          "text": [
            "X_train_enc shape: (125973, 122)\n",
            "X_test_enc shape: (22544, 122)\n"
          ]
        },
        {
          "output_type": "execute_result",
          "data": {
            "text/plain": [
              "   0  1\n",
              "0  1  0\n",
              "1  1  0\n",
              "2  0  1\n",
              "3  1  0\n",
              "4  1  0"
            ],
            "text/html": [
              "\n",
              "  <div id=\"df-c5836f74-773b-4a45-bce1-7f9aeb82c6b4\">\n",
              "    <div class=\"colab-df-container\">\n",
              "      <div>\n",
              "<style scoped>\n",
              "    .dataframe tbody tr th:only-of-type {\n",
              "        vertical-align: middle;\n",
              "    }\n",
              "\n",
              "    .dataframe tbody tr th {\n",
              "        vertical-align: top;\n",
              "    }\n",
              "\n",
              "    .dataframe thead th {\n",
              "        text-align: right;\n",
              "    }\n",
              "</style>\n",
              "<table border=\"1\" class=\"dataframe\">\n",
              "  <thead>\n",
              "    <tr style=\"text-align: right;\">\n",
              "      <th></th>\n",
              "      <th>0</th>\n",
              "      <th>1</th>\n",
              "    </tr>\n",
              "  </thead>\n",
              "  <tbody>\n",
              "    <tr>\n",
              "      <th>0</th>\n",
              "      <td>1</td>\n",
              "      <td>0</td>\n",
              "    </tr>\n",
              "    <tr>\n",
              "      <th>1</th>\n",
              "      <td>1</td>\n",
              "      <td>0</td>\n",
              "    </tr>\n",
              "    <tr>\n",
              "      <th>2</th>\n",
              "      <td>0</td>\n",
              "      <td>1</td>\n",
              "    </tr>\n",
              "    <tr>\n",
              "      <th>3</th>\n",
              "      <td>1</td>\n",
              "      <td>0</td>\n",
              "    </tr>\n",
              "    <tr>\n",
              "      <th>4</th>\n",
              "      <td>1</td>\n",
              "      <td>0</td>\n",
              "    </tr>\n",
              "  </tbody>\n",
              "</table>\n",
              "</div>\n",
              "      <button class=\"colab-df-convert\" onclick=\"convertToInteractive('df-c5836f74-773b-4a45-bce1-7f9aeb82c6b4')\"\n",
              "              title=\"Convert this dataframe to an interactive table.\"\n",
              "              style=\"display:none;\">\n",
              "        \n",
              "  <svg xmlns=\"http://www.w3.org/2000/svg\" height=\"24px\"viewBox=\"0 0 24 24\"\n",
              "       width=\"24px\">\n",
              "    <path d=\"M0 0h24v24H0V0z\" fill=\"none\"/>\n",
              "    <path d=\"M18.56 5.44l.94 2.06.94-2.06 2.06-.94-2.06-.94-.94-2.06-.94 2.06-2.06.94zm-11 1L8.5 8.5l.94-2.06 2.06-.94-2.06-.94L8.5 2.5l-.94 2.06-2.06.94zm10 10l.94 2.06.94-2.06 2.06-.94-2.06-.94-.94-2.06-.94 2.06-2.06.94z\"/><path d=\"M17.41 7.96l-1.37-1.37c-.4-.4-.92-.59-1.43-.59-.52 0-1.04.2-1.43.59L10.3 9.45l-7.72 7.72c-.78.78-.78 2.05 0 2.83L4 21.41c.39.39.9.59 1.41.59.51 0 1.02-.2 1.41-.59l7.78-7.78 2.81-2.81c.8-.78.8-2.07 0-2.86zM5.41 20L4 18.59l7.72-7.72 1.47 1.35L5.41 20z\"/>\n",
              "  </svg>\n",
              "      </button>\n",
              "      \n",
              "  <style>\n",
              "    .colab-df-container {\n",
              "      display:flex;\n",
              "      flex-wrap:wrap;\n",
              "      gap: 12px;\n",
              "    }\n",
              "\n",
              "    .colab-df-convert {\n",
              "      background-color: #E8F0FE;\n",
              "      border: none;\n",
              "      border-radius: 50%;\n",
              "      cursor: pointer;\n",
              "      display: none;\n",
              "      fill: #1967D2;\n",
              "      height: 32px;\n",
              "      padding: 0 0 0 0;\n",
              "      width: 32px;\n",
              "    }\n",
              "\n",
              "    .colab-df-convert:hover {\n",
              "      background-color: #E2EBFA;\n",
              "      box-shadow: 0px 1px 2px rgba(60, 64, 67, 0.3), 0px 1px 3px 1px rgba(60, 64, 67, 0.15);\n",
              "      fill: #174EA6;\n",
              "    }\n",
              "\n",
              "    [theme=dark] .colab-df-convert {\n",
              "      background-color: #3B4455;\n",
              "      fill: #D2E3FC;\n",
              "    }\n",
              "\n",
              "    [theme=dark] .colab-df-convert:hover {\n",
              "      background-color: #434B5C;\n",
              "      box-shadow: 0px 1px 3px 1px rgba(0, 0, 0, 0.15);\n",
              "      filter: drop-shadow(0px 1px 2px rgba(0, 0, 0, 0.3));\n",
              "      fill: #FFFFFF;\n",
              "    }\n",
              "  </style>\n",
              "\n",
              "      <script>\n",
              "        const buttonEl =\n",
              "          document.querySelector('#df-c5836f74-773b-4a45-bce1-7f9aeb82c6b4 button.colab-df-convert');\n",
              "        buttonEl.style.display =\n",
              "          google.colab.kernel.accessAllowed ? 'block' : 'none';\n",
              "\n",
              "        async function convertToInteractive(key) {\n",
              "          const element = document.querySelector('#df-c5836f74-773b-4a45-bce1-7f9aeb82c6b4');\n",
              "          const dataTable =\n",
              "            await google.colab.kernel.invokeFunction('convertToInteractive',\n",
              "                                                     [key], {});\n",
              "          if (!dataTable) return;\n",
              "\n",
              "          const docLinkHtml = 'Like what you see? Visit the ' +\n",
              "            '<a target=\"_blank\" href=https://colab.research.google.com/notebooks/data_table.ipynb>data table notebook</a>'\n",
              "            + ' to learn more about interactive tables.';\n",
              "          element.innerHTML = '';\n",
              "          dataTable['output_type'] = 'display_data';\n",
              "          await google.colab.output.renderOutput(dataTable, element);\n",
              "          const docLink = document.createElement('div');\n",
              "          docLink.innerHTML = docLinkHtml;\n",
              "          element.appendChild(docLink);\n",
              "        }\n",
              "      </script>\n",
              "    </div>\n",
              "  </div>\n",
              "  "
            ]
          },
          "metadata": {},
          "execution_count": 14
        }
      ]
    },
    {
      "cell_type": "code",
      "source": [
        "scaler = MinMaxScaler()\n",
        "X_train_scaler = scaler.fit_transform(X_train_enc)\n",
        "X_valid_scaler = scaler.fit_transform(X_valid_enc)\n",
        "########################\n",
        "y_train=scaler.fit_transform(y_train)\n",
        "y_valid=scaler.fit_transform(y_valid)\n",
        "y_train[0]"
      ],
      "metadata": {
        "colab": {
          "base_uri": "https://localhost:8080/"
        },
        "id": "RKdo5jM13Vg-",
        "outputId": "4faa651f-8478-4c53-b1e7-bb95f6a56f55"
      },
      "execution_count": 15,
      "outputs": [
        {
          "output_type": "execute_result",
          "data": {
            "text/plain": [
              "array([1., 0.])"
            ]
          },
          "metadata": {},
          "execution_count": 15
        }
      ]
    },
    {
      "cell_type": "code",
      "source": [
        "x_train = np.reshape(X_train_scaler, (X_train_scaler.shape[0], X_train_scaler.shape[1], 1))\n",
        "\n",
        "x_train[0]"
      ],
      "metadata": {
        "colab": {
          "base_uri": "https://localhost:8080/"
        },
        "id": "YuBYC7l35eAP",
        "outputId": "ab56c4f9-5752-4bd8-9cd5-3618df35724d"
      },
      "execution_count": 16,
      "outputs": [
        {
          "output_type": "execute_result",
          "data": {
            "text/plain": [
              "array([[0.00000000e+00],\n",
              "       [3.55806412e-07],\n",
              "       [0.00000000e+00],\n",
              "       [0.00000000e+00],\n",
              "       [0.00000000e+00],\n",
              "       [0.00000000e+00],\n",
              "       [0.00000000e+00],\n",
              "       [0.00000000e+00],\n",
              "       [0.00000000e+00],\n",
              "       [0.00000000e+00],\n",
              "       [0.00000000e+00],\n",
              "       [0.00000000e+00],\n",
              "       [0.00000000e+00],\n",
              "       [0.00000000e+00],\n",
              "       [0.00000000e+00],\n",
              "       [0.00000000e+00],\n",
              "       [0.00000000e+00],\n",
              "       [0.00000000e+00],\n",
              "       [0.00000000e+00],\n",
              "       [3.91389432e-03],\n",
              "       [3.91389432e-03],\n",
              "       [0.00000000e+00],\n",
              "       [0.00000000e+00],\n",
              "       [0.00000000e+00],\n",
              "       [0.00000000e+00],\n",
              "       [1.00000000e+00],\n",
              "       [0.00000000e+00],\n",
              "       [0.00000000e+00],\n",
              "       [5.88235294e-01],\n",
              "       [9.80392157e-02],\n",
              "       [1.70000000e-01],\n",
              "       [3.00000000e-02],\n",
              "       [1.70000000e-01],\n",
              "       [0.00000000e+00],\n",
              "       [0.00000000e+00],\n",
              "       [0.00000000e+00],\n",
              "       [5.00000000e-02],\n",
              "       [0.00000000e+00],\n",
              "       [0.00000000e+00],\n",
              "       [1.00000000e+00],\n",
              "       [0.00000000e+00],\n",
              "       [0.00000000e+00],\n",
              "       [0.00000000e+00],\n",
              "       [0.00000000e+00],\n",
              "       [0.00000000e+00],\n",
              "       [0.00000000e+00],\n",
              "       [0.00000000e+00],\n",
              "       [0.00000000e+00],\n",
              "       [0.00000000e+00],\n",
              "       [0.00000000e+00],\n",
              "       [0.00000000e+00],\n",
              "       [0.00000000e+00],\n",
              "       [0.00000000e+00],\n",
              "       [0.00000000e+00],\n",
              "       [0.00000000e+00],\n",
              "       [0.00000000e+00],\n",
              "       [0.00000000e+00],\n",
              "       [0.00000000e+00],\n",
              "       [0.00000000e+00],\n",
              "       [0.00000000e+00],\n",
              "       [0.00000000e+00],\n",
              "       [1.00000000e+00],\n",
              "       [0.00000000e+00],\n",
              "       [0.00000000e+00],\n",
              "       [0.00000000e+00],\n",
              "       [0.00000000e+00],\n",
              "       [0.00000000e+00],\n",
              "       [0.00000000e+00],\n",
              "       [0.00000000e+00],\n",
              "       [0.00000000e+00],\n",
              "       [0.00000000e+00],\n",
              "       [0.00000000e+00],\n",
              "       [0.00000000e+00],\n",
              "       [0.00000000e+00],\n",
              "       [0.00000000e+00],\n",
              "       [0.00000000e+00],\n",
              "       [0.00000000e+00],\n",
              "       [0.00000000e+00],\n",
              "       [0.00000000e+00],\n",
              "       [0.00000000e+00],\n",
              "       [0.00000000e+00],\n",
              "       [0.00000000e+00],\n",
              "       [0.00000000e+00],\n",
              "       [0.00000000e+00],\n",
              "       [0.00000000e+00],\n",
              "       [0.00000000e+00],\n",
              "       [0.00000000e+00],\n",
              "       [0.00000000e+00],\n",
              "       [0.00000000e+00],\n",
              "       [0.00000000e+00],\n",
              "       [0.00000000e+00],\n",
              "       [0.00000000e+00],\n",
              "       [0.00000000e+00],\n",
              "       [0.00000000e+00],\n",
              "       [0.00000000e+00],\n",
              "       [0.00000000e+00],\n",
              "       [0.00000000e+00],\n",
              "       [0.00000000e+00],\n",
              "       [0.00000000e+00],\n",
              "       [0.00000000e+00],\n",
              "       [0.00000000e+00],\n",
              "       [0.00000000e+00],\n",
              "       [0.00000000e+00],\n",
              "       [0.00000000e+00],\n",
              "       [0.00000000e+00],\n",
              "       [0.00000000e+00],\n",
              "       [0.00000000e+00],\n",
              "       [0.00000000e+00],\n",
              "       [0.00000000e+00],\n",
              "       [0.00000000e+00],\n",
              "       [0.00000000e+00],\n",
              "       [0.00000000e+00],\n",
              "       [0.00000000e+00],\n",
              "       [0.00000000e+00],\n",
              "       [0.00000000e+00],\n",
              "       [0.00000000e+00],\n",
              "       [0.00000000e+00],\n",
              "       [0.00000000e+00],\n",
              "       [0.00000000e+00],\n",
              "       [0.00000000e+00],\n",
              "       [1.00000000e+00],\n",
              "       [0.00000000e+00]])"
            ]
          },
          "metadata": {},
          "execution_count": 16
        }
      ]
    },
    {
      "cell_type": "code",
      "source": [
        "y_valid.shape"
      ],
      "metadata": {
        "colab": {
          "base_uri": "https://localhost:8080/"
        },
        "id": "vd66AC83-xWU",
        "outputId": "376a06d1-cecc-43c9-9b71-47be04444a35"
      },
      "execution_count": 17,
      "outputs": [
        {
          "output_type": "execute_result",
          "data": {
            "text/plain": [
              "(22544, 2)"
            ]
          },
          "metadata": {},
          "execution_count": 17
        }
      ]
    },
    {
      "cell_type": "code",
      "source": [
        "x_valid = np.reshape(X_valid_scaler, (X_valid_scaler.shape[0],X_valid_scaler.shape[1], 1))\n",
        "\n",
        "y_valid.shape"
      ],
      "metadata": {
        "colab": {
          "base_uri": "https://localhost:8080/"
        },
        "id": "PyuEsLL352BU",
        "outputId": "7c0be1ea-019a-4975-d632-025bab46fd24"
      },
      "execution_count": 18,
      "outputs": [
        {
          "output_type": "execute_result",
          "data": {
            "text/plain": [
              "(22544, 2)"
            ]
          },
          "metadata": {},
          "execution_count": 18
        }
      ]
    },
    {
      "cell_type": "code",
      "source": [
        "#instancier le modéle\n",
        "from tensorflow.keras.models import Sequential\n",
        "model=Sequential()\n",
        "#Créer la couche entrée totalement connecté avec la couche dense\n",
        "from tensorflow.keras.layers import Conv1D, Dense, Dropout, Flatten, AveragePooling1D,BatchNormalization,SpatialDropout1D\n",
        "from tensorflow.keras.layers import LeakyReLU"
      ],
      "metadata": {
        "id": "eU5qurPR6Juw"
      },
      "execution_count": 19,
      "outputs": []
    },
    {
      "cell_type": "code",
      "source": [
        "model.add(Conv1D(32,kernel_size =5,padding=\"same\",input_shape = (x_train.shape[1],1)))\n",
        "model.add(LeakyReLU(alpha=0.1))\n",
        "model.add(BatchNormalization())\n",
        "model.add(AveragePooling1D(pool_size=2))\n",
        "model.add(SpatialDropout1D(0.05))\n",
        "\n",
        "model.add(Flatten())\n",
        "#model.add(Dropout(0.5))\n",
        "#(83*32)/4=664\n",
        "model.add(Dense(units=640))\n",
        "model.add(LeakyReLU(alpha=0.1))\n",
        "model.add(Dense(2, activation=\"softmax\"))\n",
        "model.summary() #sert afficher résumé"
      ],
      "metadata": {
        "colab": {
          "base_uri": "https://localhost:8080/"
        },
        "id": "RhE1omyQ6ZYf",
        "outputId": "8505fc99-bb26-4b6d-b794-d6588bb4a3b2"
      },
      "execution_count": 20,
      "outputs": [
        {
          "output_type": "stream",
          "name": "stdout",
          "text": [
            "Model: \"sequential\"\n",
            "_________________________________________________________________\n",
            " Layer (type)                Output Shape              Param #   \n",
            "=================================================================\n",
            " conv1d (Conv1D)             (None, 122, 32)           192       \n",
            "                                                                 \n",
            " leaky_re_lu (LeakyReLU)     (None, 122, 32)           0         \n",
            "                                                                 \n",
            " batch_normalization (BatchN  (None, 122, 32)          128       \n",
            " ormalization)                                                   \n",
            "                                                                 \n",
            " average_pooling1d (AverageP  (None, 61, 32)           0         \n",
            " ooling1D)                                                       \n",
            "                                                                 \n",
            " spatial_dropout1d (SpatialD  (None, 61, 32)           0         \n",
            " ropout1D)                                                       \n",
            "                                                                 \n",
            " flatten (Flatten)           (None, 1952)              0         \n",
            "                                                                 \n",
            " dense (Dense)               (None, 640)               1249920   \n",
            "                                                                 \n",
            " leaky_re_lu_1 (LeakyReLU)   (None, 640)               0         \n",
            "                                                                 \n",
            " dense_1 (Dense)             (None, 2)                 1282      \n",
            "                                                                 \n",
            "=================================================================\n",
            "Total params: 1,251,522\n",
            "Trainable params: 1,251,458\n",
            "Non-trainable params: 64\n",
            "_________________________________________________________________\n"
          ]
        }
      ]
    },
    {
      "cell_type": "code",
      "source": [
        "from tensorflow import keras\n",
        "#opt = keras.optimizers.Adam(learning_rate=0.0001)\n",
        "model.compile(loss='binary_crossentropy',optimizer='adam',metrics=['accuracy',keras.metrics.Precision()])"
      ],
      "metadata": {
        "id": "n-xUy2qL9DSe"
      },
      "execution_count": 21,
      "outputs": []
    },
    {
      "cell_type": "code",
      "source": [
        "#model.fit(x_train, y_train, epochs = 100, batch_size =1000)\n",
        "model.fit(x_train, y_train, epochs =10,batch_size =128,validation_data=(x_valid,y_valid))"
      ],
      "metadata": {
        "colab": {
          "base_uri": "https://localhost:8080/"
        },
        "id": "Og6feE_69Gus",
        "outputId": "b1427e61-0855-4b4f-d140-2f7a11ade098"
      },
      "execution_count": null,
      "outputs": [
        {
          "output_type": "stream",
          "name": "stdout",
          "text": [
            "Epoch 1/10\n",
            "985/985 [==============================] - 61s 59ms/step - loss: 0.0551 - accuracy: 0.9806 - precision: 0.9806 - val_loss: 0.9321 - val_accuracy: 0.7893 - val_precision: 0.7893\n",
            "Epoch 2/10\n",
            "985/985 [==============================] - 45s 46ms/step - loss: 0.0237 - accuracy: 0.9916 - precision: 0.9916 - val_loss: 0.9469 - val_accuracy: 0.8048 - val_precision: 0.8048\n",
            "Epoch 3/10\n",
            "390/985 [==========>...................] - ETA: 26s - loss: 0.0190 - accuracy: 0.9933 - precision: 0.9933"
          ]
        }
      ]
    }
  ],
  "metadata": {
    "accelerator": "GPU",
    "colab": {
      "name": "CNN test.ipynb",
      "provenance": [],
      "collapsed_sections": [],
      "authorship_tag": "ABX9TyOp19sQzJW7eudkTLoOyIUm",
      "include_colab_link": true
    },
    "kernelspec": {
      "display_name": "Python 3",
      "name": "python3"
    },
    "language_info": {
      "name": "python"
    }
  },
  "nbformat": 4,
  "nbformat_minor": 0
}