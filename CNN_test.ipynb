{
  "cells": [
    {
      "cell_type": "markdown",
      "metadata": {
        "id": "view-in-github",
        "colab_type": "text"
      },
      "source": [
        "<a href=\"https://colab.research.google.com/github/amina04/CNN-lstm/blob/main/CNN_test.ipynb\" target=\"_parent\"><img src=\"https://colab.research.google.com/assets/colab-badge.svg\" alt=\"Open In Colab\"/></a>"
      ]
    },
    {
      "cell_type": "markdown",
      "metadata": {
        "id": "rsLD4iW_IxF-"
      },
      "source": [
        "# **chargement des fichiers qui sont sur drive**"
      ]
    },
    {
      "cell_type": "code",
      "execution_count": 1,
      "metadata": {
        "colab": {
          "base_uri": "https://localhost:8080/"
        },
        "id": "cb9ULM1ja71F",
        "outputId": "d335e203-2e3e-4057-dd86-3af26933d642"
      },
      "outputs": [
        {
          "output_type": "stream",
          "name": "stdout",
          "text": [
            "Drive already mounted at /content/drive; to attempt to forcibly remount, call drive.mount(\"/content/drive\", force_remount=True).\n"
          ]
        }
      ],
      "source": [
        "from google.colab import drive\n",
        "drive.mount('/content/drive')"
      ]
    },
    {
      "cell_type": "markdown",
      "metadata": {
        "id": "xSCHbXSsI6bT"
      },
      "source": [
        "la bibliothéque pandas nous donne le droit de travailler avec la format csv.\n",
        "On utilise panda pour ouvrir la dataset"
      ]
    },
    {
      "cell_type": "code",
      "execution_count": 2,
      "metadata": {
        "id": "Mn1if4XZbCvI"
      },
      "outputs": [],
      "source": [
        "import pandas as pd  "
      ]
    },
    {
      "cell_type": "code",
      "execution_count": 3,
      "metadata": {
        "id": "gRI5Z659cA6l"
      },
      "outputs": [],
      "source": [
        "import tensorflow as tf"
      ]
    },
    {
      "cell_type": "markdown",
      "metadata": {
        "id": "pJM2luLgJBHA"
      },
      "source": [
        "**Donner les noms des column au dataset et spécifier la liste des  string contenu **"
      ]
    },
    {
      "cell_type": "code",
      "execution_count": 4,
      "metadata": {
        "id": "I1Id0BvzcO_A"
      },
      "outputs": [],
      "source": [
        "\n",
        "featureV=[\"duration\",\"protocol_type\",\"service\",\"flag\",\"src_bytes\",\"dst_bytes\",\"land\",\"wrong_fragment\",\"urgent\",\"hot\",\n",
        "          \"num_failed_logins\",\"logged_in\",\"num_compromised\",\"root_shell\",\"su_attempted\",\"num_root\",\"num_file_creations\",\"num_shells\",\n",
        "          \"num_access_files\",\"num_outbound_cmds\",\"is_host_login\",\"is_guest_login\",\"count\",\"srv_count\",\"serror_rate\",\"srv_serror_rate\",\n",
        "          \"rerror_rate\",\"srv_rerror_rate\",\"same_srv_rate\",\"diff_srv_rate\",\"srv_diff_host_rate\",\"dst_host_count\",\"dst_host_srv_count\", \n",
        "          \"dst_host_same_srv_rate\",\"dst_host_diff_srv_rate\",\"dst_host_same_src_port_rate\",\"dst_host_srv_diff_host_rate\",\"dst_host_serror_rate\",\n",
        "          \"dst_host_srv_serror_rate\",\"dst_host_rerror_rate\",\"dst_host_srv_rerror_rate\",\"label\",\"difficulty\"]\n",
        "\n",
        "flagV=['OTH','RSTOS0','SF','SH','RSTO','S2','S1','REJ','S3','RSTR','S0']\n",
        "\n",
        "protocol_typeV=['tcp','udp','icmp']\n",
        "\n",
        "serviceV=['http','smtp','finger','domain_u','auth','telnet','ftp','eco_i','ntp_u','ecr_i','other','private','pop_3','ftp_data',\n",
        "                  'rje','time','mtp','link','remote_job','gopher','ssh','name','whois','domain','login','imap4','daytime','ctf','nntp',\n",
        "                  'shell','IRC','nnsp','http_443','exec','printer','efs','courier','uucp','klogin','kshell','echo','discard','systat',\n",
        "                  'supdup','iso_tsap','hostnames','csnet_ns','pop_2','sunrpc','uucp_path','netbios_ns','netbios_ssn','netbios_dgm',\n",
        "                  'sql_net','vmnet','bgp','Z39_50','ldap','netstat','urh_i','X11','urp_i','pm_dump','tftp_u','tim_i','red_i','icmp',\n",
        "                  'http_2784','harvest','aol','http_8001']\n",
        "\n",
        "binary_attack=['normal','ipsweep', 'nmap', 'portsweep','satan', 'saint', 'mscan','back', 'land', 'neptune', 'pod', 'smurf',\n",
        "               'teardrop', 'apache2', 'udpstorm', 'processtable','mailbomb','buffer_overflow', 'loadmodule', 'perl', 'rootkit',\n",
        "               'xterm', 'ps', 'sqlattack','ftp_write', 'guess_passwd', 'imap', 'multihop','phf', 'spy', 'warezclient',\n",
        "               'warezmaster','snmpgetattack','named', 'xlock', 'xsnoop','sendmail', 'httptunnel', 'worm', 'snmpguess']\n",
        "\n",
        "multiclass_attack={ 'normal': 'normal',\n",
        "        'probe': ['ipsweep.', 'nmap.', 'portsweep.','satan.', 'saint.', 'mscan.'],\n",
        "        'dos': ['back.', 'land.', 'neptune.', 'pod.', 'smurf.','teardrop.', 'apache2.', 'udpstorm.', 'processtable.','mailbomb.'],\n",
        "        'u2r': ['buffer_overflow.', 'loadmodule.', 'perl.', 'rootkit.','xterm.', 'ps.', 'sqlattack.'],\n",
        "        'r2l': ['ftp_write.', 'guess_passwd.', 'imap.', 'multihop.','phf.', 'spy.', 'warezclient.', 'warezmaster.','snmpgetattack.',\n",
        "                   'named.', 'xlock.', 'xsnoop.','sendmail.', 'httptunnel.', 'worm.', 'snmpguess.']}    "
      ]
    },
    {
      "cell_type": "markdown",
      "metadata": {
        "id": "0fLhfgI3JIjz"
      },
      "source": [
        "## **1.Load the data**"
      ]
    },
    {
      "cell_type": "code",
      "execution_count": 5,
      "metadata": {
        "id": "2OJYQsm2cTRl"
      },
      "outputs": [],
      "source": [
        "data_train=pd.read_csv('/content/drive/MyDrive/data/nsl-kdd/KDDTrain+.txt',names=featureV)\n",
        "data_train_2=pd.read_csv('/content/drive/MyDrive/data/nsl-kdd/KDDTest-21.txt',names=featureV)\n",
        "data_valid=pd.read_csv('/content/drive/MyDrive/data/nsl-kdd/KDDTest+.txt',names=featureV)"
      ]
    },
    {
      "cell_type": "code",
      "execution_count": 6,
      "metadata": {
        "colab": {
          "base_uri": "https://localhost:8080/"
        },
        "id": "nx6dswdEXGN3",
        "outputId": "b8038693-feea-4751-b652-14a2b4e23ed6"
      },
      "outputs": [
        {
          "output_type": "execute_result",
          "data": {
            "text/plain": [
              "(125973, 43)"
            ]
          },
          "metadata": {},
          "execution_count": 6
        }
      ],
      "source": [
        "data_train.shape"
      ]
    },
    {
      "cell_type": "code",
      "execution_count": 7,
      "metadata": {
        "id": "rNH_mHKEW3-C"
      },
      "outputs": [],
      "source": [
        "data_train=data_train.append(data_train_2)"
      ]
    },
    {
      "cell_type": "code",
      "execution_count": 8,
      "metadata": {
        "colab": {
          "base_uri": "https://localhost:8080/"
        },
        "id": "Ixy-l3clXBnQ",
        "outputId": "b6cf01df-1a41-4767-e52d-9cd22ff25afe"
      },
      "outputs": [
        {
          "output_type": "execute_result",
          "data": {
            "text/plain": [
              "(137823, 43)"
            ]
          },
          "metadata": {},
          "execution_count": 8
        }
      ],
      "source": [
        "data_train.shape"
      ]
    },
    {
      "cell_type": "code",
      "execution_count": 9,
      "metadata": {
        "colab": {
          "base_uri": "https://localhost:8080/"
        },
        "id": "BuPxkOzXE-87",
        "outputId": "d545463f-a61e-4650-b796-259ce4616e04"
      },
      "outputs": [
        {
          "output_type": "stream",
          "name": "stdout",
          "text": [
            "numbers of protocol_type: 3\n",
            "number of 'service' in train datasets: 70\n",
            "number of 'flag' in train datasets: 11\n"
          ]
        }
      ],
      "source": [
        "print(f\"numbers of protocol_type: {len(data_train['protocol_type'].value_counts())}\")\n",
        "print(f\"number of 'service' in train datasets: {len(data_train.service.value_counts())}\")\n",
        "print(f\"number of 'flag' in train datasets: {len(data_train['flag'].value_counts())}\")"
      ]
    },
    {
      "cell_type": "code",
      "execution_count": 10,
      "metadata": {
        "colab": {
          "base_uri": "https://localhost:8080/"
        },
        "id": "jMjFKWglFZ69",
        "outputId": "78abdf11-54c3-42ce-9fa8-0ce6a3474528"
      },
      "outputs": [
        {
          "output_type": "execute_result",
          "data": {
            "text/plain": [
              "array(['normal', 'neptune', 'warezclient', 'ipsweep', 'portsweep',\n",
              "       'teardrop', 'nmap', 'satan', 'smurf', 'pod', 'back',\n",
              "       'guess_passwd', 'ftp_write', 'multihop', 'rootkit',\n",
              "       'buffer_overflow', 'imap', 'warezmaster', 'phf', 'land',\n",
              "       'loadmodule', 'spy', 'perl', 'snmpguess', 'processtable', 'saint',\n",
              "       'mscan', 'apache2', 'httptunnel', 'mailbomb', 'snmpgetattack',\n",
              "       'worm', 'sendmail', 'xlock', 'xterm', 'xsnoop', 'ps', 'named',\n",
              "       'udpstorm', 'sqlattack'], dtype=object)"
            ]
          },
          "metadata": {},
          "execution_count": 10
        }
      ],
      "source": [
        "data_train.label.unique()"
      ]
    },
    {
      "cell_type": "code",
      "execution_count": 11,
      "metadata": {
        "colab": {
          "base_uri": "https://localhost:8080/"
        },
        "id": "iX6CfbgCd3rW",
        "outputId": "bf1ff9b9-3ce3-4747-b090-54434a25fb4a"
      },
      "outputs": [
        {
          "output_type": "execute_result",
          "data": {
            "text/plain": [
              "(137823, 43)"
            ]
          },
          "metadata": {},
          "execution_count": 11
        }
      ],
      "source": [
        "data_train.shape"
      ]
    },
    {
      "cell_type": "code",
      "execution_count": 12,
      "metadata": {
        "colab": {
          "base_uri": "https://localhost:8080/"
        },
        "id": "_aC0f4xYMdlj",
        "outputId": "9e3272ae-0300-4697-e4a2-32d0a8414443"
      },
      "outputs": [
        {
          "output_type": "stream",
          "name": "stdout",
          "text": [
            "shape of numeric features: (137823, 38)\n",
            "shape of object features: (137823, 3)\n"
          ]
        }
      ],
      "source": [
        "df_train_obj = data_train.iloc[:, :-2].select_dtypes(include='object')\n",
        "df_train_num = data_train.iloc[:, :-2].select_dtypes(exclude='object')\n",
        "\n",
        "print(f\"shape of numeric features: {df_train_num.shape}\")\n",
        "print(f\"shape of object features: {df_train_obj.shape}\")"
      ]
    },
    {
      "cell_type": "code",
      "execution_count": 13,
      "metadata": {
        "colab": {
          "base_uri": "https://localhost:8080/"
        },
        "id": "ZB-5FVuz0gZR",
        "outputId": "bc7c1f6a-46bc-4d5c-9029-ea26e0eb1bde"
      },
      "outputs": [
        {
          "output_type": "stream",
          "name": "stdout",
          "text": [
            "shape of numeric features: (22544, 38)\n",
            "shape of object features: (22544, 3)\n"
          ]
        }
      ],
      "source": [
        "df_valid_obj = data_valid.iloc[:, :-2].select_dtypes(include='object')\n",
        "df_valid_num = data_valid.iloc[:, :-2].select_dtypes(exclude='object')\n",
        "\n",
        "print(f\"shape of numeric features: {df_valid_num.shape}\")\n",
        "print(f\"shape of object features: {df_valid_obj.shape}\")"
      ]
    },
    {
      "cell_type": "code",
      "execution_count": 14,
      "metadata": {
        "colab": {
          "base_uri": "https://localhost:8080/",
          "height": 206
        },
        "id": "XjvjEy440ycV",
        "outputId": "e543a322-de1d-407e-ca74-2f84233fb0f6"
      },
      "outputs": [
        {
          "output_type": "execute_result",
          "data": {
            "text/plain": [
              "  protocol_type   service flag\n",
              "0           tcp  ftp_data   SF\n",
              "1           udp     other   SF\n",
              "2           tcp   private   S0\n",
              "3           tcp      http   SF\n",
              "4           tcp      http   SF"
            ],
            "text/html": [
              "\n",
              "  <div id=\"df-a9e868e1-c02b-475f-977a-b5b01f60f51f\">\n",
              "    <div class=\"colab-df-container\">\n",
              "      <div>\n",
              "<style scoped>\n",
              "    .dataframe tbody tr th:only-of-type {\n",
              "        vertical-align: middle;\n",
              "    }\n",
              "\n",
              "    .dataframe tbody tr th {\n",
              "        vertical-align: top;\n",
              "    }\n",
              "\n",
              "    .dataframe thead th {\n",
              "        text-align: right;\n",
              "    }\n",
              "</style>\n",
              "<table border=\"1\" class=\"dataframe\">\n",
              "  <thead>\n",
              "    <tr style=\"text-align: right;\">\n",
              "      <th></th>\n",
              "      <th>protocol_type</th>\n",
              "      <th>service</th>\n",
              "      <th>flag</th>\n",
              "    </tr>\n",
              "  </thead>\n",
              "  <tbody>\n",
              "    <tr>\n",
              "      <th>0</th>\n",
              "      <td>tcp</td>\n",
              "      <td>ftp_data</td>\n",
              "      <td>SF</td>\n",
              "    </tr>\n",
              "    <tr>\n",
              "      <th>1</th>\n",
              "      <td>udp</td>\n",
              "      <td>other</td>\n",
              "      <td>SF</td>\n",
              "    </tr>\n",
              "    <tr>\n",
              "      <th>2</th>\n",
              "      <td>tcp</td>\n",
              "      <td>private</td>\n",
              "      <td>S0</td>\n",
              "    </tr>\n",
              "    <tr>\n",
              "      <th>3</th>\n",
              "      <td>tcp</td>\n",
              "      <td>http</td>\n",
              "      <td>SF</td>\n",
              "    </tr>\n",
              "    <tr>\n",
              "      <th>4</th>\n",
              "      <td>tcp</td>\n",
              "      <td>http</td>\n",
              "      <td>SF</td>\n",
              "    </tr>\n",
              "  </tbody>\n",
              "</table>\n",
              "</div>\n",
              "      <button class=\"colab-df-convert\" onclick=\"convertToInteractive('df-a9e868e1-c02b-475f-977a-b5b01f60f51f')\"\n",
              "              title=\"Convert this dataframe to an interactive table.\"\n",
              "              style=\"display:none;\">\n",
              "        \n",
              "  <svg xmlns=\"http://www.w3.org/2000/svg\" height=\"24px\"viewBox=\"0 0 24 24\"\n",
              "       width=\"24px\">\n",
              "    <path d=\"M0 0h24v24H0V0z\" fill=\"none\"/>\n",
              "    <path d=\"M18.56 5.44l.94 2.06.94-2.06 2.06-.94-2.06-.94-.94-2.06-.94 2.06-2.06.94zm-11 1L8.5 8.5l.94-2.06 2.06-.94-2.06-.94L8.5 2.5l-.94 2.06-2.06.94zm10 10l.94 2.06.94-2.06 2.06-.94-2.06-.94-.94-2.06-.94 2.06-2.06.94z\"/><path d=\"M17.41 7.96l-1.37-1.37c-.4-.4-.92-.59-1.43-.59-.52 0-1.04.2-1.43.59L10.3 9.45l-7.72 7.72c-.78.78-.78 2.05 0 2.83L4 21.41c.39.39.9.59 1.41.59.51 0 1.02-.2 1.41-.59l7.78-7.78 2.81-2.81c.8-.78.8-2.07 0-2.86zM5.41 20L4 18.59l7.72-7.72 1.47 1.35L5.41 20z\"/>\n",
              "  </svg>\n",
              "      </button>\n",
              "      \n",
              "  <style>\n",
              "    .colab-df-container {\n",
              "      display:flex;\n",
              "      flex-wrap:wrap;\n",
              "      gap: 12px;\n",
              "    }\n",
              "\n",
              "    .colab-df-convert {\n",
              "      background-color: #E8F0FE;\n",
              "      border: none;\n",
              "      border-radius: 50%;\n",
              "      cursor: pointer;\n",
              "      display: none;\n",
              "      fill: #1967D2;\n",
              "      height: 32px;\n",
              "      padding: 0 0 0 0;\n",
              "      width: 32px;\n",
              "    }\n",
              "\n",
              "    .colab-df-convert:hover {\n",
              "      background-color: #E2EBFA;\n",
              "      box-shadow: 0px 1px 2px rgba(60, 64, 67, 0.3), 0px 1px 3px 1px rgba(60, 64, 67, 0.15);\n",
              "      fill: #174EA6;\n",
              "    }\n",
              "\n",
              "    [theme=dark] .colab-df-convert {\n",
              "      background-color: #3B4455;\n",
              "      fill: #D2E3FC;\n",
              "    }\n",
              "\n",
              "    [theme=dark] .colab-df-convert:hover {\n",
              "      background-color: #434B5C;\n",
              "      box-shadow: 0px 1px 3px 1px rgba(0, 0, 0, 0.15);\n",
              "      filter: drop-shadow(0px 1px 2px rgba(0, 0, 0, 0.3));\n",
              "      fill: #FFFFFF;\n",
              "    }\n",
              "  </style>\n",
              "\n",
              "      <script>\n",
              "        const buttonEl =\n",
              "          document.querySelector('#df-a9e868e1-c02b-475f-977a-b5b01f60f51f button.colab-df-convert');\n",
              "        buttonEl.style.display =\n",
              "          google.colab.kernel.accessAllowed ? 'block' : 'none';\n",
              "\n",
              "        async function convertToInteractive(key) {\n",
              "          const element = document.querySelector('#df-a9e868e1-c02b-475f-977a-b5b01f60f51f');\n",
              "          const dataTable =\n",
              "            await google.colab.kernel.invokeFunction('convertToInteractive',\n",
              "                                                     [key], {});\n",
              "          if (!dataTable) return;\n",
              "\n",
              "          const docLinkHtml = 'Like what you see? Visit the ' +\n",
              "            '<a target=\"_blank\" href=https://colab.research.google.com/notebooks/data_table.ipynb>data table notebook</a>'\n",
              "            + ' to learn more about interactive tables.';\n",
              "          element.innerHTML = '';\n",
              "          dataTable['output_type'] = 'display_data';\n",
              "          await google.colab.output.renderOutput(dataTable, element);\n",
              "          const docLink = document.createElement('div');\n",
              "          docLink.innerHTML = docLinkHtml;\n",
              "          element.appendChild(docLink);\n",
              "        }\n",
              "      </script>\n",
              "    </div>\n",
              "  </div>\n",
              "  "
            ]
          },
          "metadata": {},
          "execution_count": 14
        }
      ],
      "source": [
        "df_train_obj.head()"
      ]
    },
    {
      "cell_type": "markdown",
      "metadata": {
        "id": "X8FSai9sw-UH"
      },
      "source": [
        "encoder les labels 0 pour normal et 1 attack"
      ]
    },
    {
      "cell_type": "code",
      "execution_count": 15,
      "metadata": {
        "id": "6humYfTHYUxo"
      },
      "outputs": [],
      "source": [
        "data_train['label']=data_train['label'].replace(['normal.','normal'],0)\n",
        "for i in range(len(binary_attack)):\n",
        "  data_train['label'] = data_train['label'].replace(binary_attack[i], 1)\n",
        "y_train=data_train['label']\n",
        "data_valid['label']=data_valid['label'].replace(['normal.','normal'],0)\n",
        "for i in range(len(binary_attack)):\n",
        "  data_valid['label'] = data_valid['label'].replace(binary_attack[i], 1)\n",
        "y_valid=data_valid['label']\n",
        "#supprimer la colonne la bel de dataset car on a créer une copier déja ===>séparation\n",
        "del data_train['label']\n",
        "del data_valid['label']\n"
      ]
    },
    {
      "cell_type": "code",
      "execution_count": 16,
      "metadata": {
        "colab": {
          "base_uri": "https://localhost:8080/"
        },
        "id": "2h8quUzdZAcq",
        "outputId": "ada396a8-ec61-4c97-9208-0b2c8902c93e"
      },
      "outputs": [
        {
          "output_type": "execute_result",
          "data": {
            "text/plain": [
              "(137823,)"
            ]
          },
          "metadata": {},
          "execution_count": 16
        }
      ],
      "source": [
        "y_train.shape"
      ]
    },
    {
      "cell_type": "markdown",
      "metadata": {
        "id": "LtY3TbJRxj3j"
      },
      "source": [
        "## **2.Working with Validation data -Numericalization-**"
      ]
    },
    {
      "cell_type": "code",
      "execution_count": 17,
      "metadata": {
        "colab": {
          "base_uri": "https://localhost:8080/",
          "height": 241
        },
        "id": "nNsow4c72YjB",
        "outputId": "7787bf9b-2123-4679-d67c-7748cbcda538"
      },
      "outputs": [
        {
          "output_type": "stream",
          "name": "stdout",
          "text": [
            "X_train_enc shape: (137823, 122)\n",
            "X_test_enc shape: (22544, 122)\n"
          ]
        },
        {
          "output_type": "execute_result",
          "data": {
            "text/plain": [
              "   0  1\n",
              "0  1  0\n",
              "1  1  0\n",
              "2  0  1\n",
              "3  1  0\n",
              "4  1  0"
            ],
            "text/html": [
              "\n",
              "  <div id=\"df-d161df6b-ef9f-48de-82bd-230d1ba5b93b\">\n",
              "    <div class=\"colab-df-container\">\n",
              "      <div>\n",
              "<style scoped>\n",
              "    .dataframe tbody tr th:only-of-type {\n",
              "        vertical-align: middle;\n",
              "    }\n",
              "\n",
              "    .dataframe tbody tr th {\n",
              "        vertical-align: top;\n",
              "    }\n",
              "\n",
              "    .dataframe thead th {\n",
              "        text-align: right;\n",
              "    }\n",
              "</style>\n",
              "<table border=\"1\" class=\"dataframe\">\n",
              "  <thead>\n",
              "    <tr style=\"text-align: right;\">\n",
              "      <th></th>\n",
              "      <th>0</th>\n",
              "      <th>1</th>\n",
              "    </tr>\n",
              "  </thead>\n",
              "  <tbody>\n",
              "    <tr>\n",
              "      <th>0</th>\n",
              "      <td>1</td>\n",
              "      <td>0</td>\n",
              "    </tr>\n",
              "    <tr>\n",
              "      <th>1</th>\n",
              "      <td>1</td>\n",
              "      <td>0</td>\n",
              "    </tr>\n",
              "    <tr>\n",
              "      <th>2</th>\n",
              "      <td>0</td>\n",
              "      <td>1</td>\n",
              "    </tr>\n",
              "    <tr>\n",
              "      <th>3</th>\n",
              "      <td>1</td>\n",
              "      <td>0</td>\n",
              "    </tr>\n",
              "    <tr>\n",
              "      <th>4</th>\n",
              "      <td>1</td>\n",
              "      <td>0</td>\n",
              "    </tr>\n",
              "  </tbody>\n",
              "</table>\n",
              "</div>\n",
              "      <button class=\"colab-df-convert\" onclick=\"convertToInteractive('df-d161df6b-ef9f-48de-82bd-230d1ba5b93b')\"\n",
              "              title=\"Convert this dataframe to an interactive table.\"\n",
              "              style=\"display:none;\">\n",
              "        \n",
              "  <svg xmlns=\"http://www.w3.org/2000/svg\" height=\"24px\"viewBox=\"0 0 24 24\"\n",
              "       width=\"24px\">\n",
              "    <path d=\"M0 0h24v24H0V0z\" fill=\"none\"/>\n",
              "    <path d=\"M18.56 5.44l.94 2.06.94-2.06 2.06-.94-2.06-.94-.94-2.06-.94 2.06-2.06.94zm-11 1L8.5 8.5l.94-2.06 2.06-.94-2.06-.94L8.5 2.5l-.94 2.06-2.06.94zm10 10l.94 2.06.94-2.06 2.06-.94-2.06-.94-.94-2.06-.94 2.06-2.06.94z\"/><path d=\"M17.41 7.96l-1.37-1.37c-.4-.4-.92-.59-1.43-.59-.52 0-1.04.2-1.43.59L10.3 9.45l-7.72 7.72c-.78.78-.78 2.05 0 2.83L4 21.41c.39.39.9.59 1.41.59.51 0 1.02-.2 1.41-.59l7.78-7.78 2.81-2.81c.8-.78.8-2.07 0-2.86zM5.41 20L4 18.59l7.72-7.72 1.47 1.35L5.41 20z\"/>\n",
              "  </svg>\n",
              "      </button>\n",
              "      \n",
              "  <style>\n",
              "    .colab-df-container {\n",
              "      display:flex;\n",
              "      flex-wrap:wrap;\n",
              "      gap: 12px;\n",
              "    }\n",
              "\n",
              "    .colab-df-convert {\n",
              "      background-color: #E8F0FE;\n",
              "      border: none;\n",
              "      border-radius: 50%;\n",
              "      cursor: pointer;\n",
              "      display: none;\n",
              "      fill: #1967D2;\n",
              "      height: 32px;\n",
              "      padding: 0 0 0 0;\n",
              "      width: 32px;\n",
              "    }\n",
              "\n",
              "    .colab-df-convert:hover {\n",
              "      background-color: #E2EBFA;\n",
              "      box-shadow: 0px 1px 2px rgba(60, 64, 67, 0.3), 0px 1px 3px 1px rgba(60, 64, 67, 0.15);\n",
              "      fill: #174EA6;\n",
              "    }\n",
              "\n",
              "    [theme=dark] .colab-df-convert {\n",
              "      background-color: #3B4455;\n",
              "      fill: #D2E3FC;\n",
              "    }\n",
              "\n",
              "    [theme=dark] .colab-df-convert:hover {\n",
              "      background-color: #434B5C;\n",
              "      box-shadow: 0px 1px 3px 1px rgba(0, 0, 0, 0.15);\n",
              "      filter: drop-shadow(0px 1px 2px rgba(0, 0, 0, 0.3));\n",
              "      fill: #FFFFFF;\n",
              "    }\n",
              "  </style>\n",
              "\n",
              "      <script>\n",
              "        const buttonEl =\n",
              "          document.querySelector('#df-d161df6b-ef9f-48de-82bd-230d1ba5b93b button.colab-df-convert');\n",
              "        buttonEl.style.display =\n",
              "          google.colab.kernel.accessAllowed ? 'block' : 'none';\n",
              "\n",
              "        async function convertToInteractive(key) {\n",
              "          const element = document.querySelector('#df-d161df6b-ef9f-48de-82bd-230d1ba5b93b');\n",
              "          const dataTable =\n",
              "            await google.colab.kernel.invokeFunction('convertToInteractive',\n",
              "                                                     [key], {});\n",
              "          if (!dataTable) return;\n",
              "\n",
              "          const docLinkHtml = 'Like what you see? Visit the ' +\n",
              "            '<a target=\"_blank\" href=https://colab.research.google.com/notebooks/data_table.ipynb>data table notebook</a>'\n",
              "            + ' to learn more about interactive tables.';\n",
              "          element.innerHTML = '';\n",
              "          dataTable['output_type'] = 'display_data';\n",
              "          await google.colab.output.renderOutput(dataTable, element);\n",
              "          const docLink = document.createElement('div');\n",
              "          docLink.innerHTML = docLinkHtml;\n",
              "          element.appendChild(docLink);\n",
              "        }\n",
              "      </script>\n",
              "    </div>\n",
              "  </div>\n",
              "  "
            ]
          },
          "metadata": {},
          "execution_count": 17
        }
      ],
      "source": [
        "import numpy as np \n",
        "from sklearn.preprocessing import MinMaxScaler, OneHotEncoder\n",
        "enc = OneHotEncoder(handle_unknown='ignore')\n",
        "\n",
        "#encoder juste les les column qui contient string\n",
        "data_train_enc = enc.fit_transform(df_train_obj).toarray()\n",
        "train_enc_features = enc.get_feature_names_out(input_features=df_train_obj.columns)\n",
        "data_valid_enc = enc.transform(df_valid_obj).toarray()\n",
        "test_enc_features = enc.get_feature_names_out(input_features=df_valid_obj.columns)\n",
        "\n",
        "#concatiner string avec num columns\n",
        "X_train_enc = np.c_[df_train_num, data_train_enc]\n",
        "X_valid_enc = np.c_[df_valid_num, data_valid_enc]\n",
        "print(f\"X_train_enc shape: {X_train_enc.shape}\")\n",
        "print(f\"X_test_enc shape: {X_valid_enc.shape}\")\n",
        "######################################\n",
        "#encoder les labels\n",
        "y_train=pd.get_dummies(y_train)\n",
        "y_valid=pd.get_dummies(y_valid)\n",
        "y_train.head()"
      ]
    },
    {
      "cell_type": "code",
      "execution_count": 18,
      "metadata": {
        "colab": {
          "base_uri": "https://localhost:8080/"
        },
        "id": "RKdo5jM13Vg-",
        "outputId": "be2d5720-c02e-4a8a-e4e1-c209d38d5056"
      },
      "outputs": [
        {
          "output_type": "execute_result",
          "data": {
            "text/plain": [
              "array([1., 0.])"
            ]
          },
          "metadata": {},
          "execution_count": 18
        }
      ],
      "source": [
        "scaler = MinMaxScaler()\n",
        "X_train_scaler = scaler.fit_transform(X_train_enc)\n",
        "X_valid_scaler = scaler.fit_transform(X_valid_enc)\n",
        "########################\n",
        "y_train=scaler.fit_transform(y_train)\n",
        "y_valid=scaler.fit_transform(y_valid)\n",
        "y_train[0]"
      ]
    },
    {
      "cell_type": "code",
      "execution_count": 19,
      "metadata": {
        "id": "YuBYC7l35eAP"
      },
      "outputs": [],
      "source": [
        "x_train = np.reshape(X_train_scaler, (X_train_scaler.shape[0], X_train_scaler.shape[1], 1))\n",
        "\n",
        "#x_train[0]"
      ]
    },
    {
      "cell_type": "code",
      "execution_count": 20,
      "metadata": {
        "colab": {
          "base_uri": "https://localhost:8080/"
        },
        "id": "vd66AC83-xWU",
        "outputId": "0b03feb5-bc36-40ee-9a2c-4f41d3e189bc"
      },
      "outputs": [
        {
          "output_type": "execute_result",
          "data": {
            "text/plain": [
              "(22544, 2)"
            ]
          },
          "metadata": {},
          "execution_count": 20
        }
      ],
      "source": [
        "y_valid.shape"
      ]
    },
    {
      "cell_type": "code",
      "execution_count": 21,
      "metadata": {
        "colab": {
          "base_uri": "https://localhost:8080/"
        },
        "id": "PyuEsLL352BU",
        "outputId": "783790df-501f-4962-feac-abfe6d7b6b78"
      },
      "outputs": [
        {
          "output_type": "execute_result",
          "data": {
            "text/plain": [
              "(22544, 2)"
            ]
          },
          "metadata": {},
          "execution_count": 21
        }
      ],
      "source": [
        "x_valid = np.reshape(X_valid_scaler, (X_valid_scaler.shape[0],X_valid_scaler.shape[1], 1))\n",
        "\n",
        "y_valid.shape"
      ]
    },
    {
      "cell_type": "markdown",
      "metadata": {
        "id": "HJx8SgMNxx1H"
      },
      "source": [
        "## **3.Define the model**"
      ]
    },
    {
      "cell_type": "code",
      "execution_count": 22,
      "metadata": {
        "id": "eU5qurPR6Juw"
      },
      "outputs": [],
      "source": [
        "#instancier le modéle\n",
        "from tensorflow.keras.models import Sequential\n",
        "model=Sequential()\n",
        "#Créer la couche entrée totalement connecté avec la couche dense\n",
        "from tensorflow.keras.layers import Conv1D, Dense, Dropout, Flatten, AveragePooling1D,BatchNormalization,SpatialDropout1D,MaxPool1D\n",
        "from tensorflow.keras.layers import LeakyReLU"
      ]
    },
    {
      "cell_type": "code",
      "execution_count": 23,
      "metadata": {
        "colab": {
          "base_uri": "https://localhost:8080/"
        },
        "id": "RhE1omyQ6ZYf",
        "outputId": "a5825a94-5127-433c-8736-a33db906ae8c"
      },
      "outputs": [
        {
          "output_type": "stream",
          "name": "stdout",
          "text": [
            "Model: \"sequential\"\n",
            "_________________________________________________________________\n",
            " Layer (type)                Output Shape              Param #   \n",
            "=================================================================\n",
            " conv1d (Conv1D)             (None, 122, 32)           192       \n",
            "                                                                 \n",
            " leaky_re_lu (LeakyReLU)     (None, 122, 32)           0         \n",
            "                                                                 \n",
            " batch_normalization (BatchN  (None, 122, 32)          128       \n",
            " ormalization)                                                   \n",
            "                                                                 \n",
            " average_pooling1d (AverageP  (None, 61, 32)           0         \n",
            " ooling1D)                                                       \n",
            "                                                                 \n",
            " dropout (Dropout)           (None, 61, 32)            0         \n",
            "                                                                 \n",
            " conv1d_1 (Conv1D)           (None, 61, 64)            10304     \n",
            "                                                                 \n",
            " leaky_re_lu_1 (LeakyReLU)   (None, 61, 64)            0         \n",
            "                                                                 \n",
            " batch_normalization_1 (Batc  (None, 61, 64)           256       \n",
            " hNormalization)                                                 \n",
            "                                                                 \n",
            " average_pooling1d_1 (Averag  (None, 30, 64)           0         \n",
            " ePooling1D)                                                     \n",
            "                                                                 \n",
            " dropout_1 (Dropout)         (None, 30, 64)            0         \n",
            "                                                                 \n",
            " flatten (Flatten)           (None, 1920)              0         \n",
            "                                                                 \n",
            " dense (Dense)               (None, 30)                57630     \n",
            "                                                                 \n",
            " dense_1 (Dense)             (None, 2)                 62        \n",
            "                                                                 \n",
            "=================================================================\n",
            "Total params: 68,572\n",
            "Trainable params: 68,380\n",
            "Non-trainable params: 192\n",
            "_________________________________________________________________\n"
          ]
        }
      ],
      "source": [
        "model.add(Conv1D(32,kernel_size =5,padding=\"same\",input_shape =(x_train.shape[1],1)))\n",
        "model.add(LeakyReLU(alpha=0.1))\n",
        "model.add(BatchNormalization())\n",
        "model.add(AveragePooling1D(pool_size=2))\n",
        "#model.add(SpatialDropout1D(0.3))\n",
        "model.add(Dropout(0.2))\n",
        "# #2em block\n",
        "model.add(Conv1D(64,kernel_size =5,padding=\"same\",))\n",
        "model.add(LeakyReLU(alpha=0.1))\n",
        "model.add(BatchNormalization())\n",
        "model.add(AveragePooling1D(pool_size=2))\n",
        "model.add(Dropout(0.2))\n",
        "\n",
        "model.add(Flatten())\n",
        "model.add(Dense(units=30, activation=\"relu\"))\n",
        "\n",
        "#model.add(Dropout(0.3))\n",
        "#model.add(LeakyReLU(alpha=0.1))\n",
        "model.add(Dense(2,activation=\"sigmoid\"))\n",
        "model.summary() #sert afficher résumés"
      ]
    },
    {
      "cell_type": "markdown",
      "metadata": {
        "id": "UcSoYc_Ex-DA"
      },
      "source": [
        "## **4.Compile the model**\n"
      ]
    },
    {
      "cell_type": "code",
      "execution_count": 24,
      "metadata": {
        "id": "n-xUy2qL9DSe"
      },
      "outputs": [],
      "source": [
        "from tensorflow import keras\n",
        "opt = keras.optimizers.Adam(learning_rate=0.00005)\n",
        "model.compile(loss='binary_crossentropy',optimizer=opt,metrics=['accuracy',keras.metrics.Precision()])"
      ]
    },
    {
      "cell_type": "markdown",
      "metadata": {
        "id": "797225XmyG-H"
      },
      "source": [
        "## **5.Fit the model**"
      ]
    },
    {
      "cell_type": "markdown",
      "metadata": {
        "id": "VWSnQYZO32uX"
      },
      "source": [
        "**The loss function** is perhaps the most important\n",
        "aspect of neural networks. The gradients are calculated\n",
        "using the loss function, and the gradient is used to update\n",
        "the neural network biases, increasing or decreasing the\n",
        "neural network weights\n"
      ]
    },
    {
      "cell_type": "code",
      "execution_count": null,
      "metadata": {
        "colab": {
          "base_uri": "https://localhost:8080/"
        },
        "id": "Og6feE_69Gus",
        "outputId": "f9dc88e6-632b-45ef-d15f-5ac391675483"
      },
      "outputs": [
        {
          "output_type": "stream",
          "name": "stdout",
          "text": [
            "Epoch 1/100\n",
            "539/539 [==============================] - 63s 111ms/step - loss: 0.2204 - accuracy: 0.9155 - precision: 0.9107 - val_loss: 0.3586 - val_accuracy: 0.8329 - val_precision: 0.8682\n",
            "Epoch 2/100\n",
            "539/539 [==============================] - 51s 95ms/step - loss: 0.1471 - accuracy: 0.9475 - precision: 0.9467 - val_loss: 0.2693 - val_accuracy: 0.8946 - val_precision: 0.8987\n",
            "Epoch 3/100\n",
            "539/539 [==============================] - 53s 98ms/step - loss: 0.1289 - accuracy: 0.9543 - precision: 0.9536 - val_loss: 0.2484 - val_accuracy: 0.9017 - val_precision: 0.9027\n",
            "Epoch 4/100\n",
            "539/539 [==============================] - 52s 96ms/step - loss: 0.1180 - accuracy: 0.9578 - precision: 0.9570 - val_loss: 0.2287 - val_accuracy: 0.9056 - val_precision: 0.9064\n",
            "Epoch 5/100\n",
            "539/539 [==============================] - 53s 97ms/step - loss: 0.1087 - accuracy: 0.9601 - precision: 0.9597 - val_loss: 0.2115 - val_accuracy: 0.9108 - val_precision: 0.9119\n",
            "Epoch 6/100\n",
            "539/539 [==============================] - 53s 98ms/step - loss: 0.1020 - accuracy: 0.9620 - precision: 0.9614 - val_loss: 0.2027 - val_accuracy: 0.9106 - val_precision: 0.9110\n",
            "Epoch 7/100\n",
            "539/539 [==============================] - 54s 101ms/step - loss: 0.0960 - accuracy: 0.9643 - precision: 0.9633 - val_loss: 0.1912 - val_accuracy: 0.9169 - val_precision: 0.9165\n",
            "Epoch 8/100\n",
            "539/539 [==============================] - 53s 98ms/step - loss: 0.0913 - accuracy: 0.9654 - precision: 0.9645 - val_loss: 0.1856 - val_accuracy: 0.9214 - val_precision: 0.9217\n",
            "Epoch 9/100\n",
            "539/539 [==============================] - 52s 97ms/step - loss: 0.0866 - accuracy: 0.9672 - precision: 0.9666 - val_loss: 0.1781 - val_accuracy: 0.9214 - val_precision: 0.9209\n",
            "Epoch 10/100\n",
            "539/539 [==============================] - 52s 96ms/step - loss: 0.0836 - accuracy: 0.9680 - precision: 0.9676 - val_loss: 0.1757 - val_accuracy: 0.9212 - val_precision: 0.9213\n",
            "Epoch 11/100\n",
            "539/539 [==============================] - 53s 98ms/step - loss: 0.0808 - accuracy: 0.9692 - precision: 0.9682 - val_loss: 0.1694 - val_accuracy: 0.9234 - val_precision: 0.9229\n",
            "Epoch 12/100\n",
            "539/539 [==============================] - 53s 97ms/step - loss: 0.0777 - accuracy: 0.9706 - precision: 0.9697 - val_loss: 0.1625 - val_accuracy: 0.9256 - val_precision: 0.9249\n",
            "Epoch 13/100\n",
            "539/539 [==============================] - 52s 97ms/step - loss: 0.0754 - accuracy: 0.9718 - precision: 0.9710 - val_loss: 0.1817 - val_accuracy: 0.9220 - val_precision: 0.9212\n",
            "Epoch 14/100\n",
            "539/539 [==============================] - 53s 98ms/step - loss: 0.0733 - accuracy: 0.9719 - precision: 0.9715 - val_loss: 0.1649 - val_accuracy: 0.9239 - val_precision: 0.9229\n",
            "Epoch 15/100\n",
            "539/539 [==============================] - 52s 97ms/step - loss: 0.0718 - accuracy: 0.9723 - precision: 0.9718 - val_loss: 0.1607 - val_accuracy: 0.9263 - val_precision: 0.9255\n",
            "Epoch 16/100\n",
            "539/539 [==============================] - 52s 96ms/step - loss: 0.0692 - accuracy: 0.9736 - precision: 0.9733 - val_loss: 0.1602 - val_accuracy: 0.9281 - val_precision: 0.9266\n",
            "Epoch 17/100\n",
            "539/539 [==============================] - 53s 97ms/step - loss: 0.0686 - accuracy: 0.9736 - precision: 0.9729 - val_loss: 0.1438 - val_accuracy: 0.9345 - val_precision: 0.9333\n",
            "Epoch 18/100\n",
            "539/539 [==============================] - 53s 99ms/step - loss: 0.0660 - accuracy: 0.9750 - precision: 0.9746 - val_loss: 0.1506 - val_accuracy: 0.9336 - val_precision: 0.9330\n",
            "Epoch 19/100\n",
            "539/539 [==============================] - 53s 97ms/step - loss: 0.0652 - accuracy: 0.9753 - precision: 0.9748 - val_loss: 0.1469 - val_accuracy: 0.9327 - val_precision: 0.9317\n",
            "Epoch 20/100\n",
            "539/539 [==============================] - 52s 97ms/step - loss: 0.0632 - accuracy: 0.9762 - precision: 0.9758 - val_loss: 0.1443 - val_accuracy: 0.9351 - val_precision: 0.9349\n",
            "Epoch 21/100\n",
            "539/539 [==============================] - 52s 96ms/step - loss: 0.0624 - accuracy: 0.9763 - precision: 0.9757 - val_loss: 0.1458 - val_accuracy: 0.9339 - val_precision: 0.9330\n",
            "Epoch 22/100\n",
            "539/539 [==============================] - 52s 97ms/step - loss: 0.0617 - accuracy: 0.9764 - precision: 0.9760 - val_loss: 0.1403 - val_accuracy: 0.9374 - val_precision: 0.9373\n",
            "Epoch 23/100\n",
            "539/539 [==============================] - 54s 100ms/step - loss: 0.0601 - accuracy: 0.9767 - precision: 0.9765 - val_loss: 0.1381 - val_accuracy: 0.9355 - val_precision: 0.9349\n",
            "Epoch 24/100\n",
            "539/539 [==============================] - 54s 100ms/step - loss: 0.0589 - accuracy: 0.9777 - precision: 0.9774 - val_loss: 0.1361 - val_accuracy: 0.9363 - val_precision: 0.9361\n",
            "Epoch 25/100\n",
            "539/539 [==============================] - 54s 100ms/step - loss: 0.0583 - accuracy: 0.9780 - precision: 0.9775 - val_loss: 0.1301 - val_accuracy: 0.9393 - val_precision: 0.9393\n",
            "Epoch 26/100\n",
            "539/539 [==============================] - 55s 102ms/step - loss: 0.0568 - accuracy: 0.9782 - precision: 0.9780 - val_loss: 0.1345 - val_accuracy: 0.9366 - val_precision: 0.9359\n",
            "Epoch 27/100\n",
            "539/539 [==============================] - 54s 100ms/step - loss: 0.0565 - accuracy: 0.9787 - precision: 0.9782 - val_loss: 0.1289 - val_accuracy: 0.9422 - val_precision: 0.9413\n",
            "Epoch 28/100\n",
            "539/539 [==============================] - 55s 101ms/step - loss: 0.0560 - accuracy: 0.9783 - precision: 0.9780 - val_loss: 0.1224 - val_accuracy: 0.9539 - val_precision: 0.9503\n",
            "Epoch 29/100\n",
            "539/539 [==============================] - 54s 101ms/step - loss: 0.0551 - accuracy: 0.9788 - precision: 0.9786 - val_loss: 0.1355 - val_accuracy: 0.9406 - val_precision: 0.9397\n",
            "Epoch 30/100\n",
            "539/539 [==============================] - 54s 100ms/step - loss: 0.0539 - accuracy: 0.9792 - precision: 0.9790 - val_loss: 0.1263 - val_accuracy: 0.9415 - val_precision: 0.9397\n",
            "Epoch 31/100\n",
            "539/539 [==============================] - 54s 100ms/step - loss: 0.0528 - accuracy: 0.9798 - precision: 0.9795 - val_loss: 0.1226 - val_accuracy: 0.9433 - val_precision: 0.9428\n",
            "Epoch 32/100\n",
            "539/539 [==============================] - 54s 101ms/step - loss: 0.0523 - accuracy: 0.9799 - precision: 0.9797 - val_loss: 0.1211 - val_accuracy: 0.9441 - val_precision: 0.9430\n",
            "Epoch 33/100\n",
            "539/539 [==============================] - 55s 102ms/step - loss: 0.0515 - accuracy: 0.9807 - precision: 0.9801 - val_loss: 0.1183 - val_accuracy: 0.9437 - val_precision: 0.9426\n",
            "Epoch 34/100\n",
            "368/539 [===================>..........] - ETA: 16s - loss: 0.0513 - accuracy: 0.9802 - precision: 0.9798"
          ]
        }
      ],
      "source": [
        "#model.fit(x_train, y_train, epochs = 100, batch_size =1000)\n",
        "#model.fit(x_train, y_train, epochs =80,batch_size =128,validation_data=(x_valid, y_valid),callbacks=tf.keras.callbacks.EarlyStopping(monitor='val_loss', verbose=1))\n",
        "from keras.callbacks import EarlyStopping\n",
        "#history = model.fit(x_train, y_train, epochs =80,batch_size =128,validation_data=(x_valid, y_valid),callbacks = [EarlyStopping(monitor='val_loss', patience=5)])\n",
        "history = model.fit(x_train, y_train, epochs =100,batch_size =256,validation_data=(x_valid, y_valid))\n"
      ]
    },
    {
      "cell_type": "code",
      "execution_count": null,
      "metadata": {
        "id": "Ti8Cv92xglZS"
      },
      "outputs": [],
      "source": [
        "import matplotlib.pyplot as plt\n",
        "import tensorflow as tf\n",
        "\n",
        "loss_val = history.history['val_loss']\n",
        "acc_val = history.history['loss']\n",
        "epochs = range(1,101)\n",
        "plt.plot(epochs, loss_val, 'b', label='validation loss')\n",
        "plt.plot(epochs, acc_val, 'g', label='train loss')\n",
        "plt.title('Validation loss')\n",
        "plt.xlabel('Epochs')\n",
        "plt.ylabel('Loss')\n",
        "plt.legend()\n",
        "plt.show()"
      ]
    },
    {
      "cell_type": "code",
      "execution_count": null,
      "metadata": {
        "id": "1JltYGr22Vmp"
      },
      "outputs": [],
      "source": [
        "acc_val = history.history['val_accuracy']\n",
        "\n",
        "epochs = range(1,101)\n",
        "plt.plot(epochs, acc_val, 'b', label='validation acc')\n",
        "\n",
        "plt.title('Validation acc')\n",
        "plt.xlabel('Epochs')\n",
        "plt.ylabel('Loss')\n",
        "plt.legend()\n",
        "plt.show()"
      ]
    }
  ],
  "metadata": {
    "accelerator": "GPU",
    "colab": {
      "collapsed_sections": [],
      "name": "CNN test.ipynb",
      "provenance": [],
      "include_colab_link": true
    },
    "kernelspec": {
      "display_name": "Python 3",
      "name": "python3"
    },
    "language_info": {
      "name": "python"
    }
  },
  "nbformat": 4,
  "nbformat_minor": 0
}