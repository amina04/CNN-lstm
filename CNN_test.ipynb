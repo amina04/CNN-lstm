{
  "cells": [
    {
      "cell_type": "markdown",
      "metadata": {
        "id": "view-in-github",
        "colab_type": "text"
      },
      "source": [
        "<a href=\"https://colab.research.google.com/github/amina04/CNN-lstm/blob/main/CNN_test.ipynb\" target=\"_parent\"><img src=\"https://colab.research.google.com/assets/colab-badge.svg\" alt=\"Open In Colab\"/></a>"
      ]
    },
    {
      "cell_type": "markdown",
      "metadata": {
        "id": "rsLD4iW_IxF-"
      },
      "source": [
        "# **chargement des fichiers qui sont sur drive**"
      ]
    },
    {
      "cell_type": "code",
      "execution_count": null,
      "metadata": {
        "colab": {
          "base_uri": "https://localhost:8080/"
        },
        "id": "cb9ULM1ja71F",
        "outputId": "75f00075-b99d-4bfa-b2a4-10664bc5d7c5"
      },
      "outputs": [
        {
          "name": "stdout",
          "output_type": "stream",
          "text": [
            "Drive already mounted at /content/drive; to attempt to forcibly remount, call drive.mount(\"/content/drive\", force_remount=True).\n"
          ]
        }
      ],
      "source": [
        "from google.colab import drive\n",
        "drive.mount('/content/drive')"
      ]
    },
    {
      "cell_type": "markdown",
      "metadata": {
        "id": "xSCHbXSsI6bT"
      },
      "source": [
        "la bibliothéque pandas nous donne le droit de travailler avec la format csv.\n",
        "On utilise panda pour ouvrir la dataset"
      ]
    },
    {
      "cell_type": "code",
      "execution_count": null,
      "metadata": {
        "id": "Mn1if4XZbCvI"
      },
      "outputs": [],
      "source": [
        "import pandas as pd  "
      ]
    },
    {
      "cell_type": "code",
      "execution_count": null,
      "metadata": {
        "id": "gRI5Z659cA6l"
      },
      "outputs": [],
      "source": [
        "import tensorflow as tf"
      ]
    },
    {
      "cell_type": "markdown",
      "metadata": {
        "id": "pJM2luLgJBHA"
      },
      "source": [
        "**Donner les noms des column au dataset et spécifier la liste des  string contenu **"
      ]
    },
    {
      "cell_type": "code",
      "execution_count": null,
      "metadata": {
        "id": "I1Id0BvzcO_A"
      },
      "outputs": [],
      "source": [
        "\n",
        "featureV=[\"duration\",\"protocol_type\",\"service\",\"flag\",\"src_bytes\",\"dst_bytes\",\"land\",\"wrong_fragment\",\"urgent\",\"hot\",\n",
        "          \"num_failed_logins\",\"logged_in\",\"num_compromised\",\"root_shell\",\"su_attempted\",\"num_root\",\"num_file_creations\",\"num_shells\",\n",
        "          \"num_access_files\",\"num_outbound_cmds\",\"is_host_login\",\"is_guest_login\",\"count\",\"srv_count\",\"serror_rate\",\"srv_serror_rate\",\n",
        "          \"rerror_rate\",\"srv_rerror_rate\",\"same_srv_rate\",\"diff_srv_rate\",\"srv_diff_host_rate\",\"dst_host_count\",\"dst_host_srv_count\", \n",
        "          \"dst_host_same_srv_rate\",\"dst_host_diff_srv_rate\",\"dst_host_same_src_port_rate\",\"dst_host_srv_diff_host_rate\",\"dst_host_serror_rate\",\n",
        "          \"dst_host_srv_serror_rate\",\"dst_host_rerror_rate\",\"dst_host_srv_rerror_rate\",\"label\",\"difficulty\"]\n",
        "\n",
        "flagV=['OTH','RSTOS0','SF','SH','RSTO','S2','S1','REJ','S3','RSTR','S0']\n",
        "\n",
        "protocol_typeV=['tcp','udp','icmp']\n",
        "\n",
        "serviceV=['http','smtp','finger','domain_u','auth','telnet','ftp','eco_i','ntp_u','ecr_i','other','private','pop_3','ftp_data',\n",
        "                  'rje','time','mtp','link','remote_job','gopher','ssh','name','whois','domain','login','imap4','daytime','ctf','nntp',\n",
        "                  'shell','IRC','nnsp','http_443','exec','printer','efs','courier','uucp','klogin','kshell','echo','discard','systat',\n",
        "                  'supdup','iso_tsap','hostnames','csnet_ns','pop_2','sunrpc','uucp_path','netbios_ns','netbios_ssn','netbios_dgm',\n",
        "                  'sql_net','vmnet','bgp','Z39_50','ldap','netstat','urh_i','X11','urp_i','pm_dump','tftp_u','tim_i','red_i','icmp',\n",
        "                  'http_2784','harvest','aol','http_8001']\n",
        "\n",
        "binary_attack=['normal','ipsweep', 'nmap', 'portsweep','satan', 'saint', 'mscan','back', 'land', 'neptune', 'pod', 'smurf',\n",
        "               'teardrop', 'apache2', 'udpstorm', 'processtable','mailbomb','buffer_overflow', 'loadmodule', 'perl', 'rootkit',\n",
        "               'xterm', 'ps', 'sqlattack','ftp_write', 'guess_passwd', 'imap', 'multihop','phf', 'spy', 'warezclient',\n",
        "               'warezmaster','snmpgetattack','named', 'xlock', 'xsnoop','sendmail', 'httptunnel', 'worm', 'snmpguess']\n",
        "\n",
        "multiclass_attack={ 'normal': 'normal',\n",
        "        'probe': ['ipsweep.', 'nmap.', 'portsweep.','satan.', 'saint.', 'mscan.'],\n",
        "        'dos': ['back.', 'land.', 'neptune.', 'pod.', 'smurf.','teardrop.', 'apache2.', 'udpstorm.', 'processtable.','mailbomb.'],\n",
        "        'u2r': ['buffer_overflow.', 'loadmodule.', 'perl.', 'rootkit.','xterm.', 'ps.', 'sqlattack.'],\n",
        "        'r2l': ['ftp_write.', 'guess_passwd.', 'imap.', 'multihop.','phf.', 'spy.', 'warezclient.', 'warezmaster.','snmpgetattack.',\n",
        "                   'named.', 'xlock.', 'xsnoop.','sendmail.', 'httptunnel.', 'worm.', 'snmpguess.']}    "
      ]
    },
    {
      "cell_type": "markdown",
      "metadata": {
        "id": "0fLhfgI3JIjz"
      },
      "source": [
        "## **1.Load the data**"
      ]
    },
    {
      "cell_type": "code",
      "execution_count": null,
      "metadata": {
        "id": "2OJYQsm2cTRl"
      },
      "outputs": [],
      "source": [
        "data_train=pd.read_csv('/content/drive/MyDrive/data/nsl-kdd/KDDTrain+.txt',names=featureV)\n",
        "data_valid=pd.read_csv('/content/drive/MyDrive/data/nsl-kdd/KDDTest+.txt',names=featureV)"
      ]
    },
    {
      "cell_type": "code",
      "execution_count": null,
      "metadata": {
        "colab": {
          "base_uri": "https://localhost:8080/"
        },
        "id": "BuPxkOzXE-87",
        "outputId": "160f8b7e-9308-4d0a-8463-64c0ef81b4b7"
      },
      "outputs": [
        {
          "name": "stdout",
          "output_type": "stream",
          "text": [
            "numbers of protocol_type: 3\n",
            "number of 'service' in train datasets: 70\n",
            "number of 'flag' in train datasets: 11\n"
          ]
        }
      ],
      "source": [
        "print(f\"numbers of protocol_type: {len(data_train['protocol_type'].value_counts())}\")\n",
        "print(f\"number of 'service' in train datasets: {len(data_train.service.value_counts())}\")\n",
        "print(f\"number of 'flag' in train datasets: {len(data_train['flag'].value_counts())}\")"
      ]
    },
    {
      "cell_type": "code",
      "execution_count": null,
      "metadata": {
        "colab": {
          "base_uri": "https://localhost:8080/"
        },
        "id": "jMjFKWglFZ69",
        "outputId": "e86937c4-e197-43af-f8bd-2c1b39f6a1d0"
      },
      "outputs": [
        {
          "data": {
            "text/plain": [
              "array(['normal', 'neptune', 'warezclient', 'ipsweep', 'portsweep',\n",
              "       'teardrop', 'nmap', 'satan', 'smurf', 'pod', 'back',\n",
              "       'guess_passwd', 'ftp_write', 'multihop', 'rootkit',\n",
              "       'buffer_overflow', 'imap', 'warezmaster', 'phf', 'land',\n",
              "       'loadmodule', 'spy', 'perl'], dtype=object)"
            ]
          },
          "execution_count": 7,
          "metadata": {},
          "output_type": "execute_result"
        }
      ],
      "source": [
        "data_train.label.unique()"
      ]
    },
    {
      "cell_type": "code",
      "execution_count": null,
      "metadata": {
        "colab": {
          "base_uri": "https://localhost:8080/"
        },
        "id": "iX6CfbgCd3rW",
        "outputId": "95d208c3-95d9-494d-ac23-5c162bf19d2a"
      },
      "outputs": [
        {
          "data": {
            "text/plain": [
              "(125973, 43)"
            ]
          },
          "execution_count": 8,
          "metadata": {},
          "output_type": "execute_result"
        }
      ],
      "source": [
        "data_train.shape"
      ]
    },
    {
      "cell_type": "code",
      "execution_count": null,
      "metadata": {
        "colab": {
          "base_uri": "https://localhost:8080/"
        },
        "id": "_aC0f4xYMdlj",
        "outputId": "36c3861a-04aa-4c75-e250-366efa24217c"
      },
      "outputs": [
        {
          "name": "stdout",
          "output_type": "stream",
          "text": [
            "shape of numeric features: (125973, 38)\n",
            "shape of object features: (125973, 3)\n"
          ]
        }
      ],
      "source": [
        "df_train_obj = data_train.iloc[:, :-2].select_dtypes(include='object')\n",
        "df_train_num = data_train.iloc[:, :-2].select_dtypes(exclude='object')\n",
        "\n",
        "print(f\"shape of numeric features: {df_train_num.shape}\")\n",
        "print(f\"shape of object features: {df_train_obj.shape}\")"
      ]
    },
    {
      "cell_type": "code",
      "execution_count": null,
      "metadata": {
        "colab": {
          "base_uri": "https://localhost:8080/"
        },
        "id": "ZB-5FVuz0gZR",
        "outputId": "5d26aa98-a6cf-43dc-a514-62ea55d73014"
      },
      "outputs": [
        {
          "name": "stdout",
          "output_type": "stream",
          "text": [
            "shape of numeric features: (22544, 38)\n",
            "shape of object features: (22544, 3)\n"
          ]
        }
      ],
      "source": [
        "df_valid_obj = data_valid.iloc[:, :-2].select_dtypes(include='object')\n",
        "df_valid_num = data_valid.iloc[:, :-2].select_dtypes(exclude='object')\n",
        "\n",
        "print(f\"shape of numeric features: {df_valid_num.shape}\")\n",
        "print(f\"shape of object features: {df_valid_obj.shape}\")"
      ]
    },
    {
      "cell_type": "code",
      "execution_count": null,
      "metadata": {
        "colab": {
          "base_uri": "https://localhost:8080/",
          "height": 206
        },
        "id": "XjvjEy440ycV",
        "outputId": "36df963a-65da-4379-b027-580d83038b50"
      },
      "outputs": [
        {
          "data": {
            "text/html": [
              "\n",
              "  <div id=\"df-8e4c107c-eab5-4f1a-a824-2d60a975f802\">\n",
              "    <div class=\"colab-df-container\">\n",
              "      <div>\n",
              "<style scoped>\n",
              "    .dataframe tbody tr th:only-of-type {\n",
              "        vertical-align: middle;\n",
              "    }\n",
              "\n",
              "    .dataframe tbody tr th {\n",
              "        vertical-align: top;\n",
              "    }\n",
              "\n",
              "    .dataframe thead th {\n",
              "        text-align: right;\n",
              "    }\n",
              "</style>\n",
              "<table border=\"1\" class=\"dataframe\">\n",
              "  <thead>\n",
              "    <tr style=\"text-align: right;\">\n",
              "      <th></th>\n",
              "      <th>protocol_type</th>\n",
              "      <th>service</th>\n",
              "      <th>flag</th>\n",
              "    </tr>\n",
              "  </thead>\n",
              "  <tbody>\n",
              "    <tr>\n",
              "      <th>0</th>\n",
              "      <td>tcp</td>\n",
              "      <td>ftp_data</td>\n",
              "      <td>SF</td>\n",
              "    </tr>\n",
              "    <tr>\n",
              "      <th>1</th>\n",
              "      <td>udp</td>\n",
              "      <td>other</td>\n",
              "      <td>SF</td>\n",
              "    </tr>\n",
              "    <tr>\n",
              "      <th>2</th>\n",
              "      <td>tcp</td>\n",
              "      <td>private</td>\n",
              "      <td>S0</td>\n",
              "    </tr>\n",
              "    <tr>\n",
              "      <th>3</th>\n",
              "      <td>tcp</td>\n",
              "      <td>http</td>\n",
              "      <td>SF</td>\n",
              "    </tr>\n",
              "    <tr>\n",
              "      <th>4</th>\n",
              "      <td>tcp</td>\n",
              "      <td>http</td>\n",
              "      <td>SF</td>\n",
              "    </tr>\n",
              "  </tbody>\n",
              "</table>\n",
              "</div>\n",
              "      <button class=\"colab-df-convert\" onclick=\"convertToInteractive('df-8e4c107c-eab5-4f1a-a824-2d60a975f802')\"\n",
              "              title=\"Convert this dataframe to an interactive table.\"\n",
              "              style=\"display:none;\">\n",
              "        \n",
              "  <svg xmlns=\"http://www.w3.org/2000/svg\" height=\"24px\"viewBox=\"0 0 24 24\"\n",
              "       width=\"24px\">\n",
              "    <path d=\"M0 0h24v24H0V0z\" fill=\"none\"/>\n",
              "    <path d=\"M18.56 5.44l.94 2.06.94-2.06 2.06-.94-2.06-.94-.94-2.06-.94 2.06-2.06.94zm-11 1L8.5 8.5l.94-2.06 2.06-.94-2.06-.94L8.5 2.5l-.94 2.06-2.06.94zm10 10l.94 2.06.94-2.06 2.06-.94-2.06-.94-.94-2.06-.94 2.06-2.06.94z\"/><path d=\"M17.41 7.96l-1.37-1.37c-.4-.4-.92-.59-1.43-.59-.52 0-1.04.2-1.43.59L10.3 9.45l-7.72 7.72c-.78.78-.78 2.05 0 2.83L4 21.41c.39.39.9.59 1.41.59.51 0 1.02-.2 1.41-.59l7.78-7.78 2.81-2.81c.8-.78.8-2.07 0-2.86zM5.41 20L4 18.59l7.72-7.72 1.47 1.35L5.41 20z\"/>\n",
              "  </svg>\n",
              "      </button>\n",
              "      \n",
              "  <style>\n",
              "    .colab-df-container {\n",
              "      display:flex;\n",
              "      flex-wrap:wrap;\n",
              "      gap: 12px;\n",
              "    }\n",
              "\n",
              "    .colab-df-convert {\n",
              "      background-color: #E8F0FE;\n",
              "      border: none;\n",
              "      border-radius: 50%;\n",
              "      cursor: pointer;\n",
              "      display: none;\n",
              "      fill: #1967D2;\n",
              "      height: 32px;\n",
              "      padding: 0 0 0 0;\n",
              "      width: 32px;\n",
              "    }\n",
              "\n",
              "    .colab-df-convert:hover {\n",
              "      background-color: #E2EBFA;\n",
              "      box-shadow: 0px 1px 2px rgba(60, 64, 67, 0.3), 0px 1px 3px 1px rgba(60, 64, 67, 0.15);\n",
              "      fill: #174EA6;\n",
              "    }\n",
              "\n",
              "    [theme=dark] .colab-df-convert {\n",
              "      background-color: #3B4455;\n",
              "      fill: #D2E3FC;\n",
              "    }\n",
              "\n",
              "    [theme=dark] .colab-df-convert:hover {\n",
              "      background-color: #434B5C;\n",
              "      box-shadow: 0px 1px 3px 1px rgba(0, 0, 0, 0.15);\n",
              "      filter: drop-shadow(0px 1px 2px rgba(0, 0, 0, 0.3));\n",
              "      fill: #FFFFFF;\n",
              "    }\n",
              "  </style>\n",
              "\n",
              "      <script>\n",
              "        const buttonEl =\n",
              "          document.querySelector('#df-8e4c107c-eab5-4f1a-a824-2d60a975f802 button.colab-df-convert');\n",
              "        buttonEl.style.display =\n",
              "          google.colab.kernel.accessAllowed ? 'block' : 'none';\n",
              "\n",
              "        async function convertToInteractive(key) {\n",
              "          const element = document.querySelector('#df-8e4c107c-eab5-4f1a-a824-2d60a975f802');\n",
              "          const dataTable =\n",
              "            await google.colab.kernel.invokeFunction('convertToInteractive',\n",
              "                                                     [key], {});\n",
              "          if (!dataTable) return;\n",
              "\n",
              "          const docLinkHtml = 'Like what you see? Visit the ' +\n",
              "            '<a target=\"_blank\" href=https://colab.research.google.com/notebooks/data_table.ipynb>data table notebook</a>'\n",
              "            + ' to learn more about interactive tables.';\n",
              "          element.innerHTML = '';\n",
              "          dataTable['output_type'] = 'display_data';\n",
              "          await google.colab.output.renderOutput(dataTable, element);\n",
              "          const docLink = document.createElement('div');\n",
              "          docLink.innerHTML = docLinkHtml;\n",
              "          element.appendChild(docLink);\n",
              "        }\n",
              "      </script>\n",
              "    </div>\n",
              "  </div>\n",
              "  "
            ],
            "text/plain": [
              "  protocol_type   service flag\n",
              "0           tcp  ftp_data   SF\n",
              "1           udp     other   SF\n",
              "2           tcp   private   S0\n",
              "3           tcp      http   SF\n",
              "4           tcp      http   SF"
            ]
          },
          "execution_count": 11,
          "metadata": {},
          "output_type": "execute_result"
        }
      ],
      "source": [
        "df_train_obj.head()"
      ]
    },
    {
      "cell_type": "markdown",
      "metadata": {
        "id": "X8FSai9sw-UH"
      },
      "source": [
        "encoder les labels 0 pour normal et 1 attack"
      ]
    },
    {
      "cell_type": "code",
      "execution_count": null,
      "metadata": {
        "id": "6humYfTHYUxo"
      },
      "outputs": [],
      "source": [
        "data_train['label']=data_train['label'].replace(['normal.','normal'],0)\n",
        "for i in range(len(binary_attack)):\n",
        "  data_train['label'] = data_train['label'].replace(binary_attack[i], 1)\n",
        "y_train=data_train['label']\n",
        "data_valid['label']=data_valid['label'].replace(['normal.','normal'],0)\n",
        "for i in range(len(binary_attack)):\n",
        "  data_valid['label'] = data_valid['label'].replace(binary_attack[i], 1)\n",
        "y_valid=data_valid['label']\n",
        "#supprimer la colonne la bel de dataset car on a créer une copier déja ===>séparation\n",
        "del data_train['label']\n",
        "del data_valid['label']\n"
      ]
    },
    {
      "cell_type": "code",
      "execution_count": null,
      "metadata": {
        "colab": {
          "base_uri": "https://localhost:8080/"
        },
        "id": "2h8quUzdZAcq",
        "outputId": "d57aca9e-b313-4f90-d848-28baadfc3539"
      },
      "outputs": [
        {
          "data": {
            "text/plain": [
              "(125973,)"
            ]
          },
          "execution_count": 13,
          "metadata": {},
          "output_type": "execute_result"
        }
      ],
      "source": [
        "y_train.shape"
      ]
    },
    {
      "cell_type": "markdown",
      "metadata": {
        "id": "LtY3TbJRxj3j"
      },
      "source": [
        "## **2.Working with Validation data -Numericalization-**"
      ]
    },
    {
      "cell_type": "code",
      "execution_count": null,
      "metadata": {
        "colab": {
          "base_uri": "https://localhost:8080/",
          "height": 241
        },
        "id": "nNsow4c72YjB",
        "outputId": "bb69d335-e85e-42d3-d677-115b209be45e"
      },
      "outputs": [
        {
          "name": "stdout",
          "output_type": "stream",
          "text": [
            "X_train_enc shape: (125973, 122)\n",
            "X_test_enc shape: (22544, 122)\n"
          ]
        },
        {
          "data": {
            "text/html": [
              "\n",
              "  <div id=\"df-cad17d8a-c45d-460c-beb7-d92ce3d3951f\">\n",
              "    <div class=\"colab-df-container\">\n",
              "      <div>\n",
              "<style scoped>\n",
              "    .dataframe tbody tr th:only-of-type {\n",
              "        vertical-align: middle;\n",
              "    }\n",
              "\n",
              "    .dataframe tbody tr th {\n",
              "        vertical-align: top;\n",
              "    }\n",
              "\n",
              "    .dataframe thead th {\n",
              "        text-align: right;\n",
              "    }\n",
              "</style>\n",
              "<table border=\"1\" class=\"dataframe\">\n",
              "  <thead>\n",
              "    <tr style=\"text-align: right;\">\n",
              "      <th></th>\n",
              "      <th>0</th>\n",
              "      <th>1</th>\n",
              "    </tr>\n",
              "  </thead>\n",
              "  <tbody>\n",
              "    <tr>\n",
              "      <th>0</th>\n",
              "      <td>1</td>\n",
              "      <td>0</td>\n",
              "    </tr>\n",
              "    <tr>\n",
              "      <th>1</th>\n",
              "      <td>1</td>\n",
              "      <td>0</td>\n",
              "    </tr>\n",
              "    <tr>\n",
              "      <th>2</th>\n",
              "      <td>0</td>\n",
              "      <td>1</td>\n",
              "    </tr>\n",
              "    <tr>\n",
              "      <th>3</th>\n",
              "      <td>1</td>\n",
              "      <td>0</td>\n",
              "    </tr>\n",
              "    <tr>\n",
              "      <th>4</th>\n",
              "      <td>1</td>\n",
              "      <td>0</td>\n",
              "    </tr>\n",
              "  </tbody>\n",
              "</table>\n",
              "</div>\n",
              "      <button class=\"colab-df-convert\" onclick=\"convertToInteractive('df-cad17d8a-c45d-460c-beb7-d92ce3d3951f')\"\n",
              "              title=\"Convert this dataframe to an interactive table.\"\n",
              "              style=\"display:none;\">\n",
              "        \n",
              "  <svg xmlns=\"http://www.w3.org/2000/svg\" height=\"24px\"viewBox=\"0 0 24 24\"\n",
              "       width=\"24px\">\n",
              "    <path d=\"M0 0h24v24H0V0z\" fill=\"none\"/>\n",
              "    <path d=\"M18.56 5.44l.94 2.06.94-2.06 2.06-.94-2.06-.94-.94-2.06-.94 2.06-2.06.94zm-11 1L8.5 8.5l.94-2.06 2.06-.94-2.06-.94L8.5 2.5l-.94 2.06-2.06.94zm10 10l.94 2.06.94-2.06 2.06-.94-2.06-.94-.94-2.06-.94 2.06-2.06.94z\"/><path d=\"M17.41 7.96l-1.37-1.37c-.4-.4-.92-.59-1.43-.59-.52 0-1.04.2-1.43.59L10.3 9.45l-7.72 7.72c-.78.78-.78 2.05 0 2.83L4 21.41c.39.39.9.59 1.41.59.51 0 1.02-.2 1.41-.59l7.78-7.78 2.81-2.81c.8-.78.8-2.07 0-2.86zM5.41 20L4 18.59l7.72-7.72 1.47 1.35L5.41 20z\"/>\n",
              "  </svg>\n",
              "      </button>\n",
              "      \n",
              "  <style>\n",
              "    .colab-df-container {\n",
              "      display:flex;\n",
              "      flex-wrap:wrap;\n",
              "      gap: 12px;\n",
              "    }\n",
              "\n",
              "    .colab-df-convert {\n",
              "      background-color: #E8F0FE;\n",
              "      border: none;\n",
              "      border-radius: 50%;\n",
              "      cursor: pointer;\n",
              "      display: none;\n",
              "      fill: #1967D2;\n",
              "      height: 32px;\n",
              "      padding: 0 0 0 0;\n",
              "      width: 32px;\n",
              "    }\n",
              "\n",
              "    .colab-df-convert:hover {\n",
              "      background-color: #E2EBFA;\n",
              "      box-shadow: 0px 1px 2px rgba(60, 64, 67, 0.3), 0px 1px 3px 1px rgba(60, 64, 67, 0.15);\n",
              "      fill: #174EA6;\n",
              "    }\n",
              "\n",
              "    [theme=dark] .colab-df-convert {\n",
              "      background-color: #3B4455;\n",
              "      fill: #D2E3FC;\n",
              "    }\n",
              "\n",
              "    [theme=dark] .colab-df-convert:hover {\n",
              "      background-color: #434B5C;\n",
              "      box-shadow: 0px 1px 3px 1px rgba(0, 0, 0, 0.15);\n",
              "      filter: drop-shadow(0px 1px 2px rgba(0, 0, 0, 0.3));\n",
              "      fill: #FFFFFF;\n",
              "    }\n",
              "  </style>\n",
              "\n",
              "      <script>\n",
              "        const buttonEl =\n",
              "          document.querySelector('#df-cad17d8a-c45d-460c-beb7-d92ce3d3951f button.colab-df-convert');\n",
              "        buttonEl.style.display =\n",
              "          google.colab.kernel.accessAllowed ? 'block' : 'none';\n",
              "\n",
              "        async function convertToInteractive(key) {\n",
              "          const element = document.querySelector('#df-cad17d8a-c45d-460c-beb7-d92ce3d3951f');\n",
              "          const dataTable =\n",
              "            await google.colab.kernel.invokeFunction('convertToInteractive',\n",
              "                                                     [key], {});\n",
              "          if (!dataTable) return;\n",
              "\n",
              "          const docLinkHtml = 'Like what you see? Visit the ' +\n",
              "            '<a target=\"_blank\" href=https://colab.research.google.com/notebooks/data_table.ipynb>data table notebook</a>'\n",
              "            + ' to learn more about interactive tables.';\n",
              "          element.innerHTML = '';\n",
              "          dataTable['output_type'] = 'display_data';\n",
              "          await google.colab.output.renderOutput(dataTable, element);\n",
              "          const docLink = document.createElement('div');\n",
              "          docLink.innerHTML = docLinkHtml;\n",
              "          element.appendChild(docLink);\n",
              "        }\n",
              "      </script>\n",
              "    </div>\n",
              "  </div>\n",
              "  "
            ],
            "text/plain": [
              "   0  1\n",
              "0  1  0\n",
              "1  1  0\n",
              "2  0  1\n",
              "3  1  0\n",
              "4  1  0"
            ]
          },
          "execution_count": 14,
          "metadata": {},
          "output_type": "execute_result"
        }
      ],
      "source": [
        "import numpy as np \n",
        "from sklearn.preprocessing import MinMaxScaler, OneHotEncoder\n",
        "enc = OneHotEncoder(handle_unknown='ignore')\n",
        "\n",
        "#encoder juste les les column qui contient string\n",
        "data_train_enc = enc.fit_transform(df_train_obj).toarray()\n",
        "train_enc_features = enc.get_feature_names_out(input_features=df_train_obj.columns)\n",
        "data_valid_enc = enc.transform(df_valid_obj).toarray()\n",
        "test_enc_features = enc.get_feature_names_out(input_features=df_valid_obj.columns)\n",
        "\n",
        "#concatiner string avec num columns\n",
        "X_train_enc = np.c_[df_train_num, data_train_enc]\n",
        "X_valid_enc = np.c_[df_valid_num, data_valid_enc]\n",
        "print(f\"X_train_enc shape: {X_train_enc.shape}\")\n",
        "print(f\"X_test_enc shape: {X_valid_enc.shape}\")\n",
        "######################################\n",
        "#encoder les labels\n",
        "y_train=pd.get_dummies(y_train)\n",
        "y_valid=pd.get_dummies(y_valid)\n",
        "y_train.head()"
      ]
    },
    {
      "cell_type": "code",
      "execution_count": null,
      "metadata": {
        "colab": {
          "base_uri": "https://localhost:8080/"
        },
        "id": "RKdo5jM13Vg-",
        "outputId": "82352313-e755-4c0e-b9c0-5300c253788e"
      },
      "outputs": [
        {
          "data": {
            "text/plain": [
              "array([1., 0.])"
            ]
          },
          "execution_count": 15,
          "metadata": {},
          "output_type": "execute_result"
        }
      ],
      "source": [
        "scaler = MinMaxScaler()\n",
        "X_train_scaler = scaler.fit_transform(X_train_enc)\n",
        "X_valid_scaler = scaler.fit_transform(X_valid_enc)\n",
        "########################\n",
        "y_train=scaler.fit_transform(y_train)\n",
        "y_valid=scaler.fit_transform(y_valid)\n",
        "y_train[0]"
      ]
    },
    {
      "cell_type": "code",
      "execution_count": null,
      "metadata": {
        "colab": {
          "base_uri": "https://localhost:8080/"
        },
        "id": "YuBYC7l35eAP",
        "outputId": "96f1cbae-9674-444a-d8ee-eaf4dc7d926e"
      },
      "outputs": [
        {
          "data": {
            "text/plain": [
              "array([[0.00000000e+00],\n",
              "       [3.55806412e-07],\n",
              "       [0.00000000e+00],\n",
              "       [0.00000000e+00],\n",
              "       [0.00000000e+00],\n",
              "       [0.00000000e+00],\n",
              "       [0.00000000e+00],\n",
              "       [0.00000000e+00],\n",
              "       [0.00000000e+00],\n",
              "       [0.00000000e+00],\n",
              "       [0.00000000e+00],\n",
              "       [0.00000000e+00],\n",
              "       [0.00000000e+00],\n",
              "       [0.00000000e+00],\n",
              "       [0.00000000e+00],\n",
              "       [0.00000000e+00],\n",
              "       [0.00000000e+00],\n",
              "       [0.00000000e+00],\n",
              "       [0.00000000e+00],\n",
              "       [3.91389432e-03],\n",
              "       [3.91389432e-03],\n",
              "       [0.00000000e+00],\n",
              "       [0.00000000e+00],\n",
              "       [0.00000000e+00],\n",
              "       [0.00000000e+00],\n",
              "       [1.00000000e+00],\n",
              "       [0.00000000e+00],\n",
              "       [0.00000000e+00],\n",
              "       [5.88235294e-01],\n",
              "       [9.80392157e-02],\n",
              "       [1.70000000e-01],\n",
              "       [3.00000000e-02],\n",
              "       [1.70000000e-01],\n",
              "       [0.00000000e+00],\n",
              "       [0.00000000e+00],\n",
              "       [0.00000000e+00],\n",
              "       [5.00000000e-02],\n",
              "       [0.00000000e+00],\n",
              "       [0.00000000e+00],\n",
              "       [1.00000000e+00],\n",
              "       [0.00000000e+00],\n",
              "       [0.00000000e+00],\n",
              "       [0.00000000e+00],\n",
              "       [0.00000000e+00],\n",
              "       [0.00000000e+00],\n",
              "       [0.00000000e+00],\n",
              "       [0.00000000e+00],\n",
              "       [0.00000000e+00],\n",
              "       [0.00000000e+00],\n",
              "       [0.00000000e+00],\n",
              "       [0.00000000e+00],\n",
              "       [0.00000000e+00],\n",
              "       [0.00000000e+00],\n",
              "       [0.00000000e+00],\n",
              "       [0.00000000e+00],\n",
              "       [0.00000000e+00],\n",
              "       [0.00000000e+00],\n",
              "       [0.00000000e+00],\n",
              "       [0.00000000e+00],\n",
              "       [0.00000000e+00],\n",
              "       [0.00000000e+00],\n",
              "       [1.00000000e+00],\n",
              "       [0.00000000e+00],\n",
              "       [0.00000000e+00],\n",
              "       [0.00000000e+00],\n",
              "       [0.00000000e+00],\n",
              "       [0.00000000e+00],\n",
              "       [0.00000000e+00],\n",
              "       [0.00000000e+00],\n",
              "       [0.00000000e+00],\n",
              "       [0.00000000e+00],\n",
              "       [0.00000000e+00],\n",
              "       [0.00000000e+00],\n",
              "       [0.00000000e+00],\n",
              "       [0.00000000e+00],\n",
              "       [0.00000000e+00],\n",
              "       [0.00000000e+00],\n",
              "       [0.00000000e+00],\n",
              "       [0.00000000e+00],\n",
              "       [0.00000000e+00],\n",
              "       [0.00000000e+00],\n",
              "       [0.00000000e+00],\n",
              "       [0.00000000e+00],\n",
              "       [0.00000000e+00],\n",
              "       [0.00000000e+00],\n",
              "       [0.00000000e+00],\n",
              "       [0.00000000e+00],\n",
              "       [0.00000000e+00],\n",
              "       [0.00000000e+00],\n",
              "       [0.00000000e+00],\n",
              "       [0.00000000e+00],\n",
              "       [0.00000000e+00],\n",
              "       [0.00000000e+00],\n",
              "       [0.00000000e+00],\n",
              "       [0.00000000e+00],\n",
              "       [0.00000000e+00],\n",
              "       [0.00000000e+00],\n",
              "       [0.00000000e+00],\n",
              "       [0.00000000e+00],\n",
              "       [0.00000000e+00],\n",
              "       [0.00000000e+00],\n",
              "       [0.00000000e+00],\n",
              "       [0.00000000e+00],\n",
              "       [0.00000000e+00],\n",
              "       [0.00000000e+00],\n",
              "       [0.00000000e+00],\n",
              "       [0.00000000e+00],\n",
              "       [0.00000000e+00],\n",
              "       [0.00000000e+00],\n",
              "       [0.00000000e+00],\n",
              "       [0.00000000e+00],\n",
              "       [0.00000000e+00],\n",
              "       [0.00000000e+00],\n",
              "       [0.00000000e+00],\n",
              "       [0.00000000e+00],\n",
              "       [0.00000000e+00],\n",
              "       [0.00000000e+00],\n",
              "       [0.00000000e+00],\n",
              "       [0.00000000e+00],\n",
              "       [0.00000000e+00],\n",
              "       [1.00000000e+00],\n",
              "       [0.00000000e+00]])"
            ]
          },
          "execution_count": 16,
          "metadata": {},
          "output_type": "execute_result"
        }
      ],
      "source": [
        "x_train = np.reshape(X_train_scaler, (X_train_scaler.shape[0], X_train_scaler.shape[1], 1))\n",
        "\n",
        "x_train[0]"
      ]
    },
    {
      "cell_type": "code",
      "execution_count": null,
      "metadata": {
        "colab": {
          "base_uri": "https://localhost:8080/"
        },
        "id": "vd66AC83-xWU",
        "outputId": "28936876-55a4-4d26-cf6b-e33cc4b13457"
      },
      "outputs": [
        {
          "data": {
            "text/plain": [
              "(22544, 2)"
            ]
          },
          "execution_count": 17,
          "metadata": {},
          "output_type": "execute_result"
        }
      ],
      "source": [
        "y_valid.shape"
      ]
    },
    {
      "cell_type": "code",
      "execution_count": null,
      "metadata": {
        "colab": {
          "base_uri": "https://localhost:8080/"
        },
        "id": "PyuEsLL352BU",
        "outputId": "4bff456c-6744-4f57-fb9e-7f37696f048a"
      },
      "outputs": [
        {
          "data": {
            "text/plain": [
              "(22544, 2)"
            ]
          },
          "execution_count": 18,
          "metadata": {},
          "output_type": "execute_result"
        }
      ],
      "source": [
        "x_valid = np.reshape(X_valid_scaler, (X_valid_scaler.shape[0],X_valid_scaler.shape[1], 1))\n",
        "\n",
        "y_valid.shape"
      ]
    },
    {
      "cell_type": "markdown",
      "metadata": {
        "id": "HJx8SgMNxx1H"
      },
      "source": [
        "## **3.Define the model**"
      ]
    },
    {
      "cell_type": "code",
      "execution_count": null,
      "metadata": {
        "id": "eU5qurPR6Juw"
      },
      "outputs": [],
      "source": [
        "#instancier le modéle\n",
        "from tensorflow.keras.models import Sequential\n",
        "model=Sequential()\n",
        "#Créer la couche entrée totalement connecté avec la couche dense\n",
        "from tensorflow.keras.layers import Conv1D, Dense, Dropout, Flatten, AveragePooling1D,BatchNormalization,SpatialDropout1D\n",
        "from tensorflow.keras.layers import LeakyReLU"
      ]
    },
    {
      "cell_type": "code",
      "execution_count": null,
      "metadata": {
        "colab": {
          "base_uri": "https://localhost:8080/"
        },
        "id": "RhE1omyQ6ZYf",
        "outputId": "500abc9d-9881-4c8e-a681-53934ca7dfed"
      },
      "outputs": [
        {
          "name": "stdout",
          "output_type": "stream",
          "text": [
            "Model: \"sequential\"\n",
            "_________________________________________________________________\n",
            " Layer (type)                Output Shape              Param #   \n",
            "=================================================================\n",
            " conv1d (Conv1D)             (None, 122, 32)           192       \n",
            "                                                                 \n",
            " leaky_re_lu (LeakyReLU)     (None, 122, 32)           0         \n",
            "                                                                 \n",
            " batch_normalization (BatchN  (None, 122, 32)          128       \n",
            " ormalization)                                                   \n",
            "                                                                 \n",
            " average_pooling1d (AverageP  (None, 61, 32)           0         \n",
            " ooling1D)                                                       \n",
            "                                                                 \n",
            " dropout (Dropout)           (None, 61, 32)            0         \n",
            "                                                                 \n",
            " flatten (Flatten)           (None, 1952)              0         \n",
            "                                                                 \n",
            " dense (Dense)               (None, 500)               976500    \n",
            "                                                                 \n",
            " leaky_re_lu_1 (LeakyReLU)   (None, 500)               0         \n",
            "                                                                 \n",
            " dense_1 (Dense)             (None, 2)                 1002      \n",
            "                                                                 \n",
            "=================================================================\n",
            "Total params: 977,822\n",
            "Trainable params: 977,758\n",
            "Non-trainable params: 64\n",
            "_________________________________________________________________\n"
          ]
        }
      ],
      "source": [
        "model.add(Conv1D(32,kernel_size =5,padding=\"same\",input_shape = (x_train.shape[1],1)))\n",
        "model.add(LeakyReLU(alpha=0.1))\n",
        "model.add(BatchNormalization())\n",
        "model.add(AveragePooling1D(pool_size=2))\n",
        "#model.add(SpatialDropout1D(0.05))\n",
        "model.add(Dropout(0.05))\n",
        "model.add(Flatten())\n",
        "#model.add(Dropout(0.5))\n",
        "#(83*32)/4=664\n",
        "model.add(Dense(units=500))\n",
        "\n",
        "model.add(LeakyReLU(alpha=0.1))\n",
        "model.add(Dense(2, activation=\"softmax\"))\n",
        "model.summary() #sert afficher résumé"
      ]
    },
    {
      "cell_type": "markdown",
      "metadata": {
        "id": "UcSoYc_Ex-DA"
      },
      "source": [
        "## **4.Compile the model**\n"
      ]
    },
    {
      "cell_type": "code",
      "execution_count": null,
      "metadata": {
        "id": "n-xUy2qL9DSe"
      },
      "outputs": [],
      "source": [
        "from tensorflow import keras\n",
        "#opt = keras.optimizers.Adam(learning_rate=0.0001)\n",
        "model.compile(loss='binary_crossentropy',optimizer='adam',metrics=['accuracy',keras.metrics.Precision()])"
      ]
    },
    {
      "cell_type": "markdown",
      "metadata": {
        "id": "797225XmyG-H"
      },
      "source": [
        "## **5.Fit the model**"
      ]
    },
    {
      "cell_type": "code",
      "execution_count": null,
      "metadata": {
        "colab": {
          "background_save": true,
          "base_uri": "https://localhost:8080/"
        },
        "id": "Og6feE_69Gus",
        "outputId": "c296a5e8-7617-4bb9-b62e-890e967cee61"
      },
      "outputs": [
        {
          "name": "stdout",
          "output_type": "stream",
          "text": [
            "Epoch 1/80\n",
            "985/985 [==============================] - 51s 50ms/step - loss: 0.0483 - accuracy: 0.9832 - precision: 0.9832 - val_loss: 1.0815 - val_accuracy: 0.7930 - val_precision: 0.7930\n",
            "Epoch 2/80\n",
            "985/985 [==============================] - 41s 42ms/step - loss: 0.0216 - accuracy: 0.9925 - precision: 0.9925 - val_loss: 1.1534 - val_accuracy: 0.7859 - val_precision: 0.7859\n",
            "Epoch 3/80\n",
            "985/985 [==============================] - 43s 44ms/step - loss: 0.0182 - accuracy: 0.9937 - precision: 0.9937 - val_loss: 1.0253 - val_accuracy: 0.8050 - val_precision: 0.8050\n",
            "Epoch 4/80\n",
            "985/985 [==============================] - 42s 42ms/step - loss: 0.0159 - accuracy: 0.9944 - precision: 0.9944 - val_loss: 1.3749 - val_accuracy: 0.7773 - val_precision: 0.7773\n",
            "Epoch 5/80\n",
            "985/985 [==============================] - 42s 42ms/step - loss: 0.0151 - accuracy: 0.9948 - precision: 0.9948 - val_loss: 1.3504 - val_accuracy: 0.7748 - val_precision: 0.7748\n",
            "Epoch 6/80\n",
            "985/985 [==============================] - 41s 42ms/step - loss: 0.0145 - accuracy: 0.9949 - precision: 0.9949 - val_loss: 1.2936 - val_accuracy: 0.7927 - val_precision: 0.7927\n",
            "Epoch 7/80\n",
            "985/985 [==============================] - 42s 42ms/step - loss: 0.0134 - accuracy: 0.9952 - precision: 0.9952 - val_loss: 1.1105 - val_accuracy: 0.8082 - val_precision: 0.8082\n",
            "Epoch 8/80\n",
            "985/985 [==============================] - 41s 42ms/step - loss: 0.0126 - accuracy: 0.9955 - precision: 0.9955 - val_loss: 1.4018 - val_accuracy: 0.7789 - val_precision: 0.7789\n",
            "Epoch 9/80\n",
            "985/985 [==============================] - 42s 42ms/step - loss: 0.0123 - accuracy: 0.9955 - precision: 0.9955 - val_loss: 1.2268 - val_accuracy: 0.7842 - val_precision: 0.7842\n",
            "Epoch 10/80\n",
            "985/985 [==============================] - 42s 42ms/step - loss: 0.0116 - accuracy: 0.9958 - precision: 0.9958 - val_loss: 1.5362 - val_accuracy: 0.7852 - val_precision: 0.7852\n",
            "Epoch 11/80\n",
            "985/985 [==============================] - 42s 42ms/step - loss: 0.0109 - accuracy: 0.9960 - precision: 0.9960 - val_loss: 1.2279 - val_accuracy: 0.8085 - val_precision: 0.8085\n",
            "Epoch 12/80\n",
            "985/985 [==============================] - 42s 42ms/step - loss: 0.0103 - accuracy: 0.9963 - precision: 0.9963 - val_loss: 1.3137 - val_accuracy: 0.8056 - val_precision: 0.8056\n",
            "Epoch 13/80\n",
            "985/985 [==============================] - 41s 42ms/step - loss: 0.0106 - accuracy: 0.9961 - precision: 0.9961 - val_loss: 1.3136 - val_accuracy: 0.7932 - val_precision: 0.7932\n",
            "Epoch 14/80\n",
            "985/985 [==============================] - 42s 42ms/step - loss: 0.0102 - accuracy: 0.9963 - precision: 0.9963 - val_loss: 1.3697 - val_accuracy: 0.7966 - val_precision: 0.7966\n",
            "Epoch 15/80\n",
            "985/985 [==============================] - 42s 42ms/step - loss: 0.0099 - accuracy: 0.9961 - precision: 0.9961 - val_loss: 1.3665 - val_accuracy: 0.7852 - val_precision: 0.7852\n",
            "Epoch 16/80\n",
            "985/985 [==============================] - 42s 42ms/step - loss: 0.0099 - accuracy: 0.9964 - precision: 0.9964 - val_loss: 1.3673 - val_accuracy: 0.8055 - val_precision: 0.8055\n",
            "Epoch 17/80\n",
            "985/985 [==============================] - 42s 42ms/step - loss: 0.0095 - accuracy: 0.9966 - precision: 0.9966 - val_loss: 1.5185 - val_accuracy: 0.7935 - val_precision: 0.7935\n",
            "Epoch 18/80\n",
            "985/985 [==============================] - 42s 42ms/step - loss: 0.0094 - accuracy: 0.9966 - precision: 0.9966 - val_loss: 1.2758 - val_accuracy: 0.8149 - val_precision: 0.8149\n",
            "Epoch 19/80\n",
            "985/985 [==============================] - 42s 42ms/step - loss: 0.0092 - accuracy: 0.9964 - precision: 0.9964 - val_loss: 1.1881 - val_accuracy: 0.8323 - val_precision: 0.8323\n",
            "Epoch 20/80\n",
            "985/985 [==============================] - 42s 42ms/step - loss: 0.0093 - accuracy: 0.9966 - precision: 0.9966 - val_loss: 1.2390 - val_accuracy: 0.8273 - val_precision: 0.8273\n",
            "Epoch 21/80\n",
            "985/985 [==============================] - 42s 42ms/step - loss: 0.0088 - accuracy: 0.9968 - precision: 0.9968 - val_loss: 1.5870 - val_accuracy: 0.7917 - val_precision: 0.7917\n",
            "Epoch 22/80\n",
            "985/985 [==============================] - 42s 42ms/step - loss: 0.0087 - accuracy: 0.9967 - precision: 0.9967 - val_loss: 1.1594 - val_accuracy: 0.8398 - val_precision: 0.8398\n",
            "Epoch 23/80\n",
            "985/985 [==============================] - 42s 42ms/step - loss: 0.0084 - accuracy: 0.9969 - precision: 0.9969 - val_loss: 1.2537 - val_accuracy: 0.8281 - val_precision: 0.8281\n",
            "Epoch 24/80\n",
            "985/985 [==============================] - 42s 42ms/step - loss: 0.0081 - accuracy: 0.9970 - precision: 0.9970 - val_loss: 1.2833 - val_accuracy: 0.8104 - val_precision: 0.8104\n",
            "Epoch 25/80\n",
            "985/985 [==============================] - 42s 42ms/step - loss: 0.0084 - accuracy: 0.9970 - precision: 0.9970 - val_loss: 1.4505 - val_accuracy: 0.8043 - val_precision: 0.8043\n",
            "Epoch 26/80\n",
            "985/985 [==============================] - 41s 42ms/step - loss: 0.0082 - accuracy: 0.9968 - precision: 0.9968 - val_loss: 1.1856 - val_accuracy: 0.8314 - val_precision: 0.8314\n",
            "Epoch 27/80\n",
            "985/985 [==============================] - 41s 42ms/step - loss: 0.0079 - accuracy: 0.9972 - precision: 0.9972 - val_loss: 1.2234 - val_accuracy: 0.8258 - val_precision: 0.8258\n",
            "Epoch 28/80\n",
            "985/985 [==============================] - 41s 41ms/step - loss: 0.0078 - accuracy: 0.9971 - precision: 0.9971 - val_loss: 1.2859 - val_accuracy: 0.8193 - val_precision: 0.8193\n",
            "Epoch 29/80\n",
            "985/985 [==============================] - 41s 41ms/step - loss: 0.0079 - accuracy: 0.9970 - precision: 0.9970 - val_loss: 1.4947 - val_accuracy: 0.8153 - val_precision: 0.8153\n",
            "Epoch 30/80\n",
            "985/985 [==============================] - 40s 41ms/step - loss: 0.0077 - accuracy: 0.9970 - precision: 0.9970 - val_loss: 1.3073 - val_accuracy: 0.8354 - val_precision: 0.8354\n",
            "Epoch 31/80\n",
            "985/985 [==============================] - 41s 41ms/step - loss: 0.0077 - accuracy: 0.9971 - precision: 0.9971 - val_loss: 1.3838 - val_accuracy: 0.8116 - val_precision: 0.8116\n",
            "Epoch 32/80\n",
            "985/985 [==============================] - 41s 42ms/step - loss: 0.0078 - accuracy: 0.9971 - precision: 0.9971 - val_loss: 1.1437 - val_accuracy: 0.8426 - val_precision: 0.8426\n",
            "Epoch 33/80\n",
            "985/985 [==============================] - 42s 43ms/step - loss: 0.0076 - accuracy: 0.9971 - precision: 0.9971 - val_loss: 1.2987 - val_accuracy: 0.8088 - val_precision: 0.8088\n",
            "Epoch 34/80\n",
            "985/985 [==============================] - 42s 42ms/step - loss: 0.0076 - accuracy: 0.9972 - precision: 0.9972 - val_loss: 1.4543 - val_accuracy: 0.8080 - val_precision: 0.8080\n",
            "Epoch 35/80\n",
            "985/985 [==============================] - 42s 43ms/step - loss: 0.0076 - accuracy: 0.9971 - precision: 0.9971 - val_loss: 1.1917 - val_accuracy: 0.8322 - val_precision: 0.8322\n",
            "Epoch 36/80\n",
            "985/985 [==============================] - 42s 43ms/step - loss: 0.0073 - accuracy: 0.9973 - precision: 0.9973 - val_loss: 1.5198 - val_accuracy: 0.8080 - val_precision: 0.8080\n",
            "Epoch 37/80\n",
            "985/985 [==============================] - 42s 43ms/step - loss: 0.0076 - accuracy: 0.9970 - precision: 0.9970 - val_loss: 1.1552 - val_accuracy: 0.8330 - val_precision: 0.8330\n",
            "Epoch 38/80\n",
            "985/985 [==============================] - 42s 42ms/step - loss: 0.0074 - accuracy: 0.9971 - precision: 0.9971 - val_loss: 1.3130 - val_accuracy: 0.8049 - val_precision: 0.8049\n",
            "Epoch 39/80\n",
            "985/985 [==============================] - 42s 43ms/step - loss: 0.0070 - accuracy: 0.9974 - precision: 0.9974 - val_loss: 1.4324 - val_accuracy: 0.8081 - val_precision: 0.8081\n",
            "Epoch 40/80\n",
            "985/985 [==============================] - 42s 43ms/step - loss: 0.0068 - accuracy: 0.9975 - precision: 0.9975 - val_loss: 1.6726 - val_accuracy: 0.7977 - val_precision: 0.7977\n",
            "Epoch 41/80\n",
            "985/985 [==============================] - 42s 42ms/step - loss: 0.0071 - accuracy: 0.9972 - precision: 0.9972 - val_loss: 1.4738 - val_accuracy: 0.7920 - val_precision: 0.7920\n",
            "Epoch 42/80\n",
            "985/985 [==============================] - 42s 43ms/step - loss: 0.0071 - accuracy: 0.9973 - precision: 0.9973 - val_loss: 1.3258 - val_accuracy: 0.8118 - val_precision: 0.8118\n",
            "Epoch 43/80\n",
            "985/985 [==============================] - 42s 43ms/step - loss: 0.0068 - accuracy: 0.9975 - precision: 0.9975 - val_loss: 1.3545 - val_accuracy: 0.8178 - val_precision: 0.8178\n",
            "Epoch 44/80\n",
            "985/985 [==============================] - 42s 42ms/step - loss: 0.0070 - accuracy: 0.9973 - precision: 0.9973 - val_loss: 1.2168 - val_accuracy: 0.8201 - val_precision: 0.8201\n",
            "Epoch 45/80\n",
            "985/985 [==============================] - 42s 43ms/step - loss: 0.0068 - accuracy: 0.9973 - precision: 0.9973 - val_loss: 1.5438 - val_accuracy: 0.8019 - val_precision: 0.8019\n",
            "Epoch 46/80\n",
            "985/985 [==============================] - 42s 43ms/step - loss: 0.0069 - accuracy: 0.9973 - precision: 0.9973 - val_loss: 1.2025 - val_accuracy: 0.8314 - val_precision: 0.8314\n",
            "Epoch 47/80\n",
            "985/985 [==============================] - 42s 43ms/step - loss: 0.0063 - accuracy: 0.9976 - precision: 0.9976 - val_loss: 1.2740 - val_accuracy: 0.8469 - val_precision: 0.8469\n",
            "Epoch 48/80\n",
            "985/985 [==============================] - 42s 43ms/step - loss: 0.0067 - accuracy: 0.9975 - precision: 0.9975 - val_loss: 1.5212 - val_accuracy: 0.7909 - val_precision: 0.7909\n",
            "Epoch 49/80\n",
            "985/985 [==============================] - 42s 43ms/step - loss: 0.0068 - accuracy: 0.9974 - precision: 0.9974 - val_loss: 1.4834 - val_accuracy: 0.8227 - val_precision: 0.8227\n",
            "Epoch 50/80\n",
            "985/985 [==============================] - 42s 43ms/step - loss: 0.0067 - accuracy: 0.9974 - precision: 0.9974 - val_loss: 1.4971 - val_accuracy: 0.8103 - val_precision: 0.8103\n",
            "Epoch 51/80\n",
            "985/985 [==============================] - 42s 43ms/step - loss: 0.0067 - accuracy: 0.9973 - precision: 0.9973 - val_loss: 1.5563 - val_accuracy: 0.7912 - val_precision: 0.7912\n",
            "Epoch 52/80\n",
            "985/985 [==============================] - 42s 43ms/step - loss: 0.0065 - accuracy: 0.9974 - precision: 0.9974 - val_loss: 1.3153 - val_accuracy: 0.8459 - val_precision: 0.8459\n",
            "Epoch 53/80\n",
            "985/985 [==============================] - 42s 43ms/step - loss: 0.0065 - accuracy: 0.9975 - precision: 0.9975 - val_loss: 1.3239 - val_accuracy: 0.8295 - val_precision: 0.8295\n",
            "Epoch 54/80\n",
            "985/985 [==============================] - 42s 43ms/step - loss: 0.0064 - accuracy: 0.9977 - precision: 0.9977 - val_loss: 1.5312 - val_accuracy: 0.8161 - val_precision: 0.8161\n",
            "Epoch 55/80\n",
            "985/985 [==============================] - 42s 43ms/step - loss: 0.0065 - accuracy: 0.9976 - precision: 0.9976 - val_loss: 1.5967 - val_accuracy: 0.8282 - val_precision: 0.8282\n",
            "Epoch 56/80\n",
            "985/985 [==============================] - 42s 43ms/step - loss: 0.0062 - accuracy: 0.9976 - precision: 0.9976 - val_loss: 1.6503 - val_accuracy: 0.8218 - val_precision: 0.8218\n",
            "Epoch 57/80\n",
            "985/985 [==============================] - 42s 43ms/step - loss: 0.0063 - accuracy: 0.9976 - precision: 0.9976 - val_loss: 1.5848 - val_accuracy: 0.8173 - val_precision: 0.8173\n",
            "Epoch 58/80\n",
            "985/985 [==============================] - 42s 43ms/step - loss: 0.0062 - accuracy: 0.9976 - precision: 0.9976 - val_loss: 1.5942 - val_accuracy: 0.8035 - val_precision: 0.8035\n",
            "Epoch 59/80\n",
            "985/985 [==============================] - 42s 43ms/step - loss: 0.0064 - accuracy: 0.9976 - precision: 0.9976 - val_loss: 1.6128 - val_accuracy: 0.8113 - val_precision: 0.8113\n",
            "Epoch 60/80\n",
            "985/985 [==============================] - 42s 43ms/step - loss: 0.0064 - accuracy: 0.9976 - precision: 0.9976 - val_loss: 1.4004 - val_accuracy: 0.8342 - val_precision: 0.8342\n",
            "Epoch 61/80\n",
            "985/985 [==============================] - 42s 43ms/step - loss: 0.0061 - accuracy: 0.9976 - precision: 0.9976 - val_loss: 1.4523 - val_accuracy: 0.8101 - val_precision: 0.8101\n",
            "Epoch 62/80\n",
            "985/985 [==============================] - 42s 43ms/step - loss: 0.0061 - accuracy: 0.9977 - precision: 0.9977 - val_loss: 1.5401 - val_accuracy: 0.8178 - val_precision: 0.8178\n",
            "Epoch 63/80\n",
            "985/985 [==============================] - 42s 42ms/step - loss: 0.0061 - accuracy: 0.9977 - precision: 0.9977 - val_loss: 1.2100 - val_accuracy: 0.8342 - val_precision: 0.8342\n",
            "Epoch 64/80\n",
            "985/985 [==============================] - 42s 43ms/step - loss: 0.0063 - accuracy: 0.9977 - precision: 0.9977 - val_loss: 1.5307 - val_accuracy: 0.8226 - val_precision: 0.8226\n",
            "Epoch 65/80\n",
            "985/985 [==============================] - 42s 43ms/step - loss: 0.0061 - accuracy: 0.9976 - precision: 0.9976 - val_loss: 1.3280 - val_accuracy: 0.8188 - val_precision: 0.8188\n",
            "Epoch 66/80\n",
            "985/985 [==============================] - 42s 43ms/step - loss: 0.0057 - accuracy: 0.9979 - precision: 0.9979 - val_loss: 1.5773 - val_accuracy: 0.8131 - val_precision: 0.8131\n",
            "Epoch 67/80\n",
            "985/985 [==============================] - 42s 43ms/step - loss: 0.0058 - accuracy: 0.9979 - precision: 0.9979 - val_loss: 1.6226 - val_accuracy: 0.8106 - val_precision: 0.8106\n",
            "Epoch 68/80\n",
            "985/985 [==============================] - 42s 43ms/step - loss: 0.0062 - accuracy: 0.9977 - precision: 0.9977 - val_loss: 1.5240 - val_accuracy: 0.8169 - val_precision: 0.8169\n",
            "Epoch 69/80\n",
            "985/985 [==============================] - 42s 42ms/step - loss: 0.0060 - accuracy: 0.9977 - precision: 0.9977 - val_loss: 1.3242 - val_accuracy: 0.8300 - val_precision: 0.8300\n",
            "Epoch 70/80\n",
            "985/985 [==============================] - 42s 42ms/step - loss: 0.0055 - accuracy: 0.9979 - precision: 0.9979 - val_loss: 1.2986 - val_accuracy: 0.8380 - val_precision: 0.8380\n",
            "Epoch 71/80\n",
            "985/985 [==============================] - 41s 41ms/step - loss: 0.0061 - accuracy: 0.9978 - precision: 0.9978 - val_loss: 1.3264 - val_accuracy: 0.8180 - val_precision: 0.8180\n",
            "Epoch 72/80\n",
            "985/985 [==============================] - 41s 42ms/step - loss: 0.0058 - accuracy: 0.9976 - precision: 0.9976 - val_loss: 1.5123 - val_accuracy: 0.8273 - val_precision: 0.8273\n",
            "Epoch 73/80\n",
            "985/985 [==============================] - 41s 42ms/step - loss: 0.0060 - accuracy: 0.9976 - precision: 0.9976 - val_loss: 1.3365 - val_accuracy: 0.8416 - val_precision: 0.8416\n",
            "Epoch 74/80\n",
            "985/985 [==============================] - 41s 41ms/step - loss: 0.0059 - accuracy: 0.9976 - precision: 0.9976 - val_loss: 1.4901 - val_accuracy: 0.8201 - val_precision: 0.8201\n",
            "Epoch 75/80\n",
            "985/985 [==============================] - 41s 41ms/step - loss: 0.0061 - accuracy: 0.9977 - precision: 0.9977 - val_loss: 1.5590 - val_accuracy: 0.8114 - val_precision: 0.8114\n",
            "Epoch 76/80\n",
            "985/985 [==============================] - 41s 41ms/step - loss: 0.0057 - accuracy: 0.9977 - precision: 0.9977 - val_loss: 1.4317 - val_accuracy: 0.8279 - val_precision: 0.8279\n",
            "Epoch 77/80\n",
            "985/985 [==============================] - 41s 42ms/step - loss: 0.0059 - accuracy: 0.9978 - precision: 0.9978 - val_loss: 1.5116 - val_accuracy: 0.8105 - val_precision: 0.8105\n",
            "Epoch 78/80\n",
            "985/985 [==============================] - 41s 41ms/step - loss: 0.0058 - accuracy: 0.9977 - precision: 0.9977 - val_loss: 1.4248 - val_accuracy: 0.8359 - val_precision: 0.8359\n",
            "Epoch 79/80\n",
            "985/985 [==============================] - 41s 41ms/step - loss: 0.0057 - accuracy: 0.9979 - precision: 0.9979 - val_loss: 1.3846 - val_accuracy: 0.8285 - val_precision: 0.8285\n",
            "Epoch 80/80\n",
            "985/985 [==============================] - 41s 42ms/step - loss: 0.0056 - accuracy: 0.9979 - precision: 0.9979 - val_loss: 1.4045 - val_accuracy: 0.8181 - val_precision: 0.8181\n"
          ]
        },
        {
          "data": {
            "text/plain": [
              "<keras.callbacks.History at 0x7fbdbe38abd0>"
            ]
          },
          "execution_count": null,
          "metadata": {},
          "output_type": "execute_result"
        }
      ],
      "source": [
        "#model.fit(x_train, y_train, epochs = 100, batch_size =1000)\n",
        "model.fit(x_train, y_train, epochs =80,batch_size =128,validation_data=(x_valid, y_valid))"
      ]
    }
  ],
  "metadata": {
    "accelerator": "GPU",
    "colab": {
      "collapsed_sections": [],
      "name": "CNN test.ipynb",
      "provenance": [],
      "include_colab_link": true
    },
    "kernelspec": {
      "display_name": "Python 3",
      "name": "python3"
    },
    "language_info": {
      "name": "python"
    }
  },
  "nbformat": 4,
  "nbformat_minor": 0
}