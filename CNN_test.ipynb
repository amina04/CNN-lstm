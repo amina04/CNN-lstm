{
  "cells": [
    {
      "cell_type": "markdown",
      "metadata": {
        "id": "view-in-github",
        "colab_type": "text"
      },
      "source": [
        "<a href=\"https://colab.research.google.com/github/amina04/CNN-lstm/blob/main/CNN_test.ipynb\" target=\"_parent\"><img src=\"https://colab.research.google.com/assets/colab-badge.svg\" alt=\"Open In Colab\"/></a>"
      ]
    },
    {
      "cell_type": "markdown",
      "metadata": {
        "id": "rsLD4iW_IxF-"
      },
      "source": [
        "# **chargement des fichiers qui sont sur drive**"
      ]
    },
    {
      "cell_type": "code",
      "execution_count": null,
      "metadata": {
        "colab": {
          "base_uri": "https://localhost:8080/"
        },
        "id": "cb9ULM1ja71F",
        "outputId": "34499f4e-0821-4f22-98bf-d07700d9a5ef"
      },
      "outputs": [
        {
          "output_type": "stream",
          "name": "stdout",
          "text": [
            "Drive already mounted at /content/drive; to attempt to forcibly remount, call drive.mount(\"/content/drive\", force_remount=True).\n"
          ]
        }
      ],
      "source": [
        "from google.colab import drive\n",
        "drive.mount('/content/drive')"
      ]
    },
    {
      "cell_type": "markdown",
      "metadata": {
        "id": "xSCHbXSsI6bT"
      },
      "source": [
        "la bibliothéque pandas nous donne le droit de travailler avec la format csv.\n",
        "On utilise panda pour ouvrir la dataset"
      ]
    },
    {
      "cell_type": "code",
      "execution_count": null,
      "metadata": {
        "id": "Mn1if4XZbCvI"
      },
      "outputs": [],
      "source": [
        "import pandas as pd  "
      ]
    },
    {
      "cell_type": "code",
      "execution_count": null,
      "metadata": {
        "id": "gRI5Z659cA6l"
      },
      "outputs": [],
      "source": [
        "import tensorflow as tf"
      ]
    },
    {
      "cell_type": "markdown",
      "metadata": {
        "id": "pJM2luLgJBHA"
      },
      "source": [
        "**Donner les noms des column au dataset et spécifier la liste des  string contenu **"
      ]
    },
    {
      "cell_type": "code",
      "execution_count": null,
      "metadata": {
        "id": "I1Id0BvzcO_A"
      },
      "outputs": [],
      "source": [
        "\n",
        "featureV=[\"duration\",\"protocol_type\",\"service\",\"flag\",\"src_bytes\",\"dst_bytes\",\"land\",\"wrong_fragment\",\"urgent\",\"hot\",\n",
        "          \"num_failed_logins\",\"logged_in\",\"num_compromised\",\"root_shell\",\"su_attempted\",\"num_root\",\"num_file_creations\",\"num_shells\",\n",
        "          \"num_access_files\",\"num_outbound_cmds\",\"is_host_login\",\"is_guest_login\",\"count\",\"srv_count\",\"serror_rate\",\"srv_serror_rate\",\n",
        "          \"rerror_rate\",\"srv_rerror_rate\",\"same_srv_rate\",\"diff_srv_rate\",\"srv_diff_host_rate\",\"dst_host_count\",\"dst_host_srv_count\", \n",
        "          \"dst_host_same_srv_rate\",\"dst_host_diff_srv_rate\",\"dst_host_same_src_port_rate\",\"dst_host_srv_diff_host_rate\",\"dst_host_serror_rate\",\n",
        "          \"dst_host_srv_serror_rate\",\"dst_host_rerror_rate\",\"dst_host_srv_rerror_rate\",\"label\",\"difficulty\"]\n",
        "\n",
        "flagV=['OTH','RSTOS0','SF','SH','RSTO','S2','S1','REJ','S3','RSTR','S0']\n",
        "\n",
        "protocol_typeV=['tcp','udp','icmp']\n",
        "\n",
        "serviceV=['http','smtp','finger','domain_u','auth','telnet','ftp','eco_i','ntp_u','ecr_i','other','private','pop_3','ftp_data',\n",
        "                  'rje','time','mtp','link','remote_job','gopher','ssh','name','whois','domain','login','imap4','daytime','ctf','nntp',\n",
        "                  'shell','IRC','nnsp','http_443','exec','printer','efs','courier','uucp','klogin','kshell','echo','discard','systat',\n",
        "                  'supdup','iso_tsap','hostnames','csnet_ns','pop_2','sunrpc','uucp_path','netbios_ns','netbios_ssn','netbios_dgm',\n",
        "                  'sql_net','vmnet','bgp','Z39_50','ldap','netstat','urh_i','X11','urp_i','pm_dump','tftp_u','tim_i','red_i','icmp',\n",
        "                  'http_2784','harvest','aol','http_8001']\n",
        "\n",
        "binary_attack=['normal','ipsweep', 'nmap', 'portsweep','satan', 'saint', 'mscan','back', 'land', 'neptune', 'pod', 'smurf',\n",
        "               'teardrop', 'apache2', 'udpstorm', 'processtable','mailbomb','buffer_overflow', 'loadmodule', 'perl', 'rootkit',\n",
        "               'xterm', 'ps', 'sqlattack','ftp_write', 'guess_passwd', 'imap', 'multihop','phf', 'spy', 'warezclient',\n",
        "               'warezmaster','snmpgetattack','named', 'xlock', 'xsnoop','sendmail', 'httptunnel', 'worm', 'snmpguess']\n",
        "\n",
        "multiclass_attack={ 'normal': 'normal',\n",
        "        'probe': ['ipsweep.', 'nmap.', 'portsweep.','satan.', 'saint.', 'mscan.'],\n",
        "        'dos': ['back.', 'land.', 'neptune.', 'pod.', 'smurf.','teardrop.', 'apache2.', 'udpstorm.', 'processtable.','mailbomb.'],\n",
        "        'u2r': ['buffer_overflow.', 'loadmodule.', 'perl.', 'rootkit.','xterm.', 'ps.', 'sqlattack.'],\n",
        "        'r2l': ['ftp_write.', 'guess_passwd.', 'imap.', 'multihop.','phf.', 'spy.', 'warezclient.', 'warezmaster.','snmpgetattack.',\n",
        "                   'named.', 'xlock.', 'xsnoop.','sendmail.', 'httptunnel.', 'worm.', 'snmpguess.']}    "
      ]
    },
    {
      "cell_type": "markdown",
      "metadata": {
        "id": "0fLhfgI3JIjz"
      },
      "source": [
        "## **1.Load the data**"
      ]
    },
    {
      "cell_type": "code",
      "execution_count": null,
      "metadata": {
        "id": "2OJYQsm2cTRl"
      },
      "outputs": [],
      "source": [
        "data_train=pd.read_csv('/content/drive/MyDrive/data/nsl-kdd/KDDTrain+.txt',names=featureV)\n",
        "data_train_2=pd.read_csv('/content/drive/MyDrive/data/nsl-kdd/KDDTest-21.txt',names=featureV)\n",
        "data_valid=pd.read_csv('/content/drive/MyDrive/data/nsl-kdd/KDDTest+.txt',names=featureV)"
      ]
    },
    {
      "cell_type": "code",
      "execution_count": null,
      "metadata": {
        "colab": {
          "base_uri": "https://localhost:8080/"
        },
        "id": "nx6dswdEXGN3",
        "outputId": "8c599ed9-49db-4956-9749-29352ef83c55"
      },
      "outputs": [
        {
          "output_type": "execute_result",
          "data": {
            "text/plain": [
              "(125973, 43)"
            ]
          },
          "metadata": {},
          "execution_count": 6
        }
      ],
      "source": [
        "data_train.shape"
      ]
    },
    {
      "cell_type": "code",
      "execution_count": null,
      "metadata": {
        "id": "rNH_mHKEW3-C"
      },
      "outputs": [],
      "source": [
        "data_train=data_train.append(data_train_2)"
      ]
    },
    {
      "cell_type": "code",
      "execution_count": null,
      "metadata": {
        "colab": {
          "base_uri": "https://localhost:8080/"
        },
        "id": "Ixy-l3clXBnQ",
        "outputId": "b7edfa3c-dce5-4857-c9b2-12be56cf519a"
      },
      "outputs": [
        {
          "output_type": "execute_result",
          "data": {
            "text/plain": [
              "(137823, 43)"
            ]
          },
          "metadata": {},
          "execution_count": 8
        }
      ],
      "source": [
        "data_train.shape"
      ]
    },
    {
      "cell_type": "code",
      "execution_count": null,
      "metadata": {
        "colab": {
          "base_uri": "https://localhost:8080/"
        },
        "id": "BuPxkOzXE-87",
        "outputId": "a6c7b58d-6f54-4539-af43-5dd3e6d9e09f"
      },
      "outputs": [
        {
          "output_type": "stream",
          "name": "stdout",
          "text": [
            "numbers of protocol_type: 3\n",
            "number of 'service' in train datasets: 70\n",
            "number of 'flag' in train datasets: 11\n"
          ]
        }
      ],
      "source": [
        "print(f\"numbers of protocol_type: {len(data_train['protocol_type'].value_counts())}\")\n",
        "print(f\"number of 'service' in train datasets: {len(data_train.service.value_counts())}\")\n",
        "print(f\"number of 'flag' in train datasets: {len(data_train['flag'].value_counts())}\")"
      ]
    },
    {
      "cell_type": "code",
      "execution_count": null,
      "metadata": {
        "colab": {
          "base_uri": "https://localhost:8080/"
        },
        "id": "jMjFKWglFZ69",
        "outputId": "6cff9d43-a92d-4cd1-d915-f51a7c95f2f4"
      },
      "outputs": [
        {
          "output_type": "execute_result",
          "data": {
            "text/plain": [
              "array(['normal', 'neptune', 'warezclient', 'ipsweep', 'portsweep',\n",
              "       'teardrop', 'nmap', 'satan', 'smurf', 'pod', 'back',\n",
              "       'guess_passwd', 'ftp_write', 'multihop', 'rootkit',\n",
              "       'buffer_overflow', 'imap', 'warezmaster', 'phf', 'land',\n",
              "       'loadmodule', 'spy', 'perl', 'snmpguess', 'processtable', 'saint',\n",
              "       'mscan', 'apache2', 'httptunnel', 'mailbomb', 'snmpgetattack',\n",
              "       'worm', 'sendmail', 'xlock', 'xterm', 'xsnoop', 'ps', 'named',\n",
              "       'udpstorm', 'sqlattack'], dtype=object)"
            ]
          },
          "metadata": {},
          "execution_count": 10
        }
      ],
      "source": [
        "data_train.label.unique()"
      ]
    },
    {
      "cell_type": "code",
      "execution_count": null,
      "metadata": {
        "colab": {
          "base_uri": "https://localhost:8080/"
        },
        "id": "iX6CfbgCd3rW",
        "outputId": "88bf5a4b-e19e-4d5c-fc99-5cc7891029c3"
      },
      "outputs": [
        {
          "output_type": "execute_result",
          "data": {
            "text/plain": [
              "(137823, 43)"
            ]
          },
          "metadata": {},
          "execution_count": 11
        }
      ],
      "source": [
        "data_train.shape"
      ]
    },
    {
      "cell_type": "code",
      "execution_count": null,
      "metadata": {
        "colab": {
          "base_uri": "https://localhost:8080/"
        },
        "id": "_aC0f4xYMdlj",
        "outputId": "66a8a242-ef16-469a-bae7-fe9829c15077"
      },
      "outputs": [
        {
          "output_type": "stream",
          "name": "stdout",
          "text": [
            "shape of numeric features: (137823, 38)\n",
            "shape of object features: (137823, 3)\n"
          ]
        }
      ],
      "source": [
        "df_train_obj = data_train.iloc[:, :-2].select_dtypes(include='object')\n",
        "df_train_num = data_train.iloc[:, :-2].select_dtypes(exclude='object')\n",
        "\n",
        "print(f\"shape of numeric features: {df_train_num.shape}\")\n",
        "print(f\"shape of object features: {df_train_obj.shape}\")"
      ]
    },
    {
      "cell_type": "code",
      "execution_count": null,
      "metadata": {
        "colab": {
          "base_uri": "https://localhost:8080/"
        },
        "id": "ZB-5FVuz0gZR",
        "outputId": "d26f132a-57ed-46d0-dda4-cc32fd5c25cd"
      },
      "outputs": [
        {
          "output_type": "stream",
          "name": "stdout",
          "text": [
            "shape of numeric features: (22544, 38)\n",
            "shape of object features: (22544, 3)\n"
          ]
        }
      ],
      "source": [
        "df_valid_obj = data_valid.iloc[:, :-2].select_dtypes(include='object')\n",
        "df_valid_num = data_valid.iloc[:, :-2].select_dtypes(exclude='object')\n",
        "\n",
        "print(f\"shape of numeric features: {df_valid_num.shape}\")\n",
        "print(f\"shape of object features: {df_valid_obj.shape}\")"
      ]
    },
    {
      "cell_type": "code",
      "execution_count": null,
      "metadata": {
        "colab": {
          "base_uri": "https://localhost:8080/",
          "height": 206
        },
        "id": "XjvjEy440ycV",
        "outputId": "9b3b2702-21f3-47a1-e5a6-cfb679a9be2d"
      },
      "outputs": [
        {
          "output_type": "execute_result",
          "data": {
            "text/plain": [
              "  protocol_type   service flag\n",
              "0           tcp  ftp_data   SF\n",
              "1           udp     other   SF\n",
              "2           tcp   private   S0\n",
              "3           tcp      http   SF\n",
              "4           tcp      http   SF"
            ],
            "text/html": [
              "\n",
              "  <div id=\"df-940621ea-a107-4620-83c0-df8c8cb096f4\">\n",
              "    <div class=\"colab-df-container\">\n",
              "      <div>\n",
              "<style scoped>\n",
              "    .dataframe tbody tr th:only-of-type {\n",
              "        vertical-align: middle;\n",
              "    }\n",
              "\n",
              "    .dataframe tbody tr th {\n",
              "        vertical-align: top;\n",
              "    }\n",
              "\n",
              "    .dataframe thead th {\n",
              "        text-align: right;\n",
              "    }\n",
              "</style>\n",
              "<table border=\"1\" class=\"dataframe\">\n",
              "  <thead>\n",
              "    <tr style=\"text-align: right;\">\n",
              "      <th></th>\n",
              "      <th>protocol_type</th>\n",
              "      <th>service</th>\n",
              "      <th>flag</th>\n",
              "    </tr>\n",
              "  </thead>\n",
              "  <tbody>\n",
              "    <tr>\n",
              "      <th>0</th>\n",
              "      <td>tcp</td>\n",
              "      <td>ftp_data</td>\n",
              "      <td>SF</td>\n",
              "    </tr>\n",
              "    <tr>\n",
              "      <th>1</th>\n",
              "      <td>udp</td>\n",
              "      <td>other</td>\n",
              "      <td>SF</td>\n",
              "    </tr>\n",
              "    <tr>\n",
              "      <th>2</th>\n",
              "      <td>tcp</td>\n",
              "      <td>private</td>\n",
              "      <td>S0</td>\n",
              "    </tr>\n",
              "    <tr>\n",
              "      <th>3</th>\n",
              "      <td>tcp</td>\n",
              "      <td>http</td>\n",
              "      <td>SF</td>\n",
              "    </tr>\n",
              "    <tr>\n",
              "      <th>4</th>\n",
              "      <td>tcp</td>\n",
              "      <td>http</td>\n",
              "      <td>SF</td>\n",
              "    </tr>\n",
              "  </tbody>\n",
              "</table>\n",
              "</div>\n",
              "      <button class=\"colab-df-convert\" onclick=\"convertToInteractive('df-940621ea-a107-4620-83c0-df8c8cb096f4')\"\n",
              "              title=\"Convert this dataframe to an interactive table.\"\n",
              "              style=\"display:none;\">\n",
              "        \n",
              "  <svg xmlns=\"http://www.w3.org/2000/svg\" height=\"24px\"viewBox=\"0 0 24 24\"\n",
              "       width=\"24px\">\n",
              "    <path d=\"M0 0h24v24H0V0z\" fill=\"none\"/>\n",
              "    <path d=\"M18.56 5.44l.94 2.06.94-2.06 2.06-.94-2.06-.94-.94-2.06-.94 2.06-2.06.94zm-11 1L8.5 8.5l.94-2.06 2.06-.94-2.06-.94L8.5 2.5l-.94 2.06-2.06.94zm10 10l.94 2.06.94-2.06 2.06-.94-2.06-.94-.94-2.06-.94 2.06-2.06.94z\"/><path d=\"M17.41 7.96l-1.37-1.37c-.4-.4-.92-.59-1.43-.59-.52 0-1.04.2-1.43.59L10.3 9.45l-7.72 7.72c-.78.78-.78 2.05 0 2.83L4 21.41c.39.39.9.59 1.41.59.51 0 1.02-.2 1.41-.59l7.78-7.78 2.81-2.81c.8-.78.8-2.07 0-2.86zM5.41 20L4 18.59l7.72-7.72 1.47 1.35L5.41 20z\"/>\n",
              "  </svg>\n",
              "      </button>\n",
              "      \n",
              "  <style>\n",
              "    .colab-df-container {\n",
              "      display:flex;\n",
              "      flex-wrap:wrap;\n",
              "      gap: 12px;\n",
              "    }\n",
              "\n",
              "    .colab-df-convert {\n",
              "      background-color: #E8F0FE;\n",
              "      border: none;\n",
              "      border-radius: 50%;\n",
              "      cursor: pointer;\n",
              "      display: none;\n",
              "      fill: #1967D2;\n",
              "      height: 32px;\n",
              "      padding: 0 0 0 0;\n",
              "      width: 32px;\n",
              "    }\n",
              "\n",
              "    .colab-df-convert:hover {\n",
              "      background-color: #E2EBFA;\n",
              "      box-shadow: 0px 1px 2px rgba(60, 64, 67, 0.3), 0px 1px 3px 1px rgba(60, 64, 67, 0.15);\n",
              "      fill: #174EA6;\n",
              "    }\n",
              "\n",
              "    [theme=dark] .colab-df-convert {\n",
              "      background-color: #3B4455;\n",
              "      fill: #D2E3FC;\n",
              "    }\n",
              "\n",
              "    [theme=dark] .colab-df-convert:hover {\n",
              "      background-color: #434B5C;\n",
              "      box-shadow: 0px 1px 3px 1px rgba(0, 0, 0, 0.15);\n",
              "      filter: drop-shadow(0px 1px 2px rgba(0, 0, 0, 0.3));\n",
              "      fill: #FFFFFF;\n",
              "    }\n",
              "  </style>\n",
              "\n",
              "      <script>\n",
              "        const buttonEl =\n",
              "          document.querySelector('#df-940621ea-a107-4620-83c0-df8c8cb096f4 button.colab-df-convert');\n",
              "        buttonEl.style.display =\n",
              "          google.colab.kernel.accessAllowed ? 'block' : 'none';\n",
              "\n",
              "        async function convertToInteractive(key) {\n",
              "          const element = document.querySelector('#df-940621ea-a107-4620-83c0-df8c8cb096f4');\n",
              "          const dataTable =\n",
              "            await google.colab.kernel.invokeFunction('convertToInteractive',\n",
              "                                                     [key], {});\n",
              "          if (!dataTable) return;\n",
              "\n",
              "          const docLinkHtml = 'Like what you see? Visit the ' +\n",
              "            '<a target=\"_blank\" href=https://colab.research.google.com/notebooks/data_table.ipynb>data table notebook</a>'\n",
              "            + ' to learn more about interactive tables.';\n",
              "          element.innerHTML = '';\n",
              "          dataTable['output_type'] = 'display_data';\n",
              "          await google.colab.output.renderOutput(dataTable, element);\n",
              "          const docLink = document.createElement('div');\n",
              "          docLink.innerHTML = docLinkHtml;\n",
              "          element.appendChild(docLink);\n",
              "        }\n",
              "      </script>\n",
              "    </div>\n",
              "  </div>\n",
              "  "
            ]
          },
          "metadata": {},
          "execution_count": 14
        }
      ],
      "source": [
        "df_train_obj.head()"
      ]
    },
    {
      "cell_type": "markdown",
      "metadata": {
        "id": "X8FSai9sw-UH"
      },
      "source": [
        "encoder les labels 0 pour normal et 1 attack"
      ]
    },
    {
      "cell_type": "code",
      "execution_count": null,
      "metadata": {
        "id": "6humYfTHYUxo"
      },
      "outputs": [],
      "source": [
        "data_train['label']=data_train['label'].replace(['normal.','normal'],0)\n",
        "for i in range(len(binary_attack)):\n",
        "  data_train['label'] = data_train['label'].replace(binary_attack[i], 1)\n",
        "y_train=data_train['label']\n",
        "data_valid['label']=data_valid['label'].replace(['normal.','normal'],0)\n",
        "for i in range(len(binary_attack)):\n",
        "  data_valid['label'] = data_valid['label'].replace(binary_attack[i], 1)\n",
        "y_valid=data_valid['label']\n",
        "#supprimer la colonne la bel de dataset car on a créer une copier déja ===>séparation\n",
        "del data_train['label']\n",
        "del data_valid['label']\n"
      ]
    },
    {
      "cell_type": "code",
      "execution_count": null,
      "metadata": {
        "colab": {
          "base_uri": "https://localhost:8080/"
        },
        "id": "2h8quUzdZAcq",
        "outputId": "9a8827cc-cf8f-4005-b415-b548eb2a3cb6"
      },
      "outputs": [
        {
          "output_type": "execute_result",
          "data": {
            "text/plain": [
              "(137823,)"
            ]
          },
          "metadata": {},
          "execution_count": 16
        }
      ],
      "source": [
        "y_train.shape"
      ]
    },
    {
      "cell_type": "markdown",
      "metadata": {
        "id": "LtY3TbJRxj3j"
      },
      "source": [
        "## **2.Working with Validation data -Numericalization-**"
      ]
    },
    {
      "cell_type": "code",
      "execution_count": null,
      "metadata": {
        "colab": {
          "base_uri": "https://localhost:8080/",
          "height": 241
        },
        "id": "nNsow4c72YjB",
        "outputId": "2a3032c3-3e14-4746-b4a2-20abc37cd307"
      },
      "outputs": [
        {
          "output_type": "stream",
          "name": "stdout",
          "text": [
            "X_train_enc shape: (137823, 122)\n",
            "X_test_enc shape: (22544, 122)\n"
          ]
        },
        {
          "output_type": "execute_result",
          "data": {
            "text/plain": [
              "   0  1\n",
              "0  1  0\n",
              "1  1  0\n",
              "2  0  1\n",
              "3  1  0\n",
              "4  1  0"
            ],
            "text/html": [
              "\n",
              "  <div id=\"df-6c67a1ed-71f0-4f8f-83f8-b5dc2adee800\">\n",
              "    <div class=\"colab-df-container\">\n",
              "      <div>\n",
              "<style scoped>\n",
              "    .dataframe tbody tr th:only-of-type {\n",
              "        vertical-align: middle;\n",
              "    }\n",
              "\n",
              "    .dataframe tbody tr th {\n",
              "        vertical-align: top;\n",
              "    }\n",
              "\n",
              "    .dataframe thead th {\n",
              "        text-align: right;\n",
              "    }\n",
              "</style>\n",
              "<table border=\"1\" class=\"dataframe\">\n",
              "  <thead>\n",
              "    <tr style=\"text-align: right;\">\n",
              "      <th></th>\n",
              "      <th>0</th>\n",
              "      <th>1</th>\n",
              "    </tr>\n",
              "  </thead>\n",
              "  <tbody>\n",
              "    <tr>\n",
              "      <th>0</th>\n",
              "      <td>1</td>\n",
              "      <td>0</td>\n",
              "    </tr>\n",
              "    <tr>\n",
              "      <th>1</th>\n",
              "      <td>1</td>\n",
              "      <td>0</td>\n",
              "    </tr>\n",
              "    <tr>\n",
              "      <th>2</th>\n",
              "      <td>0</td>\n",
              "      <td>1</td>\n",
              "    </tr>\n",
              "    <tr>\n",
              "      <th>3</th>\n",
              "      <td>1</td>\n",
              "      <td>0</td>\n",
              "    </tr>\n",
              "    <tr>\n",
              "      <th>4</th>\n",
              "      <td>1</td>\n",
              "      <td>0</td>\n",
              "    </tr>\n",
              "  </tbody>\n",
              "</table>\n",
              "</div>\n",
              "      <button class=\"colab-df-convert\" onclick=\"convertToInteractive('df-6c67a1ed-71f0-4f8f-83f8-b5dc2adee800')\"\n",
              "              title=\"Convert this dataframe to an interactive table.\"\n",
              "              style=\"display:none;\">\n",
              "        \n",
              "  <svg xmlns=\"http://www.w3.org/2000/svg\" height=\"24px\"viewBox=\"0 0 24 24\"\n",
              "       width=\"24px\">\n",
              "    <path d=\"M0 0h24v24H0V0z\" fill=\"none\"/>\n",
              "    <path d=\"M18.56 5.44l.94 2.06.94-2.06 2.06-.94-2.06-.94-.94-2.06-.94 2.06-2.06.94zm-11 1L8.5 8.5l.94-2.06 2.06-.94-2.06-.94L8.5 2.5l-.94 2.06-2.06.94zm10 10l.94 2.06.94-2.06 2.06-.94-2.06-.94-.94-2.06-.94 2.06-2.06.94z\"/><path d=\"M17.41 7.96l-1.37-1.37c-.4-.4-.92-.59-1.43-.59-.52 0-1.04.2-1.43.59L10.3 9.45l-7.72 7.72c-.78.78-.78 2.05 0 2.83L4 21.41c.39.39.9.59 1.41.59.51 0 1.02-.2 1.41-.59l7.78-7.78 2.81-2.81c.8-.78.8-2.07 0-2.86zM5.41 20L4 18.59l7.72-7.72 1.47 1.35L5.41 20z\"/>\n",
              "  </svg>\n",
              "      </button>\n",
              "      \n",
              "  <style>\n",
              "    .colab-df-container {\n",
              "      display:flex;\n",
              "      flex-wrap:wrap;\n",
              "      gap: 12px;\n",
              "    }\n",
              "\n",
              "    .colab-df-convert {\n",
              "      background-color: #E8F0FE;\n",
              "      border: none;\n",
              "      border-radius: 50%;\n",
              "      cursor: pointer;\n",
              "      display: none;\n",
              "      fill: #1967D2;\n",
              "      height: 32px;\n",
              "      padding: 0 0 0 0;\n",
              "      width: 32px;\n",
              "    }\n",
              "\n",
              "    .colab-df-convert:hover {\n",
              "      background-color: #E2EBFA;\n",
              "      box-shadow: 0px 1px 2px rgba(60, 64, 67, 0.3), 0px 1px 3px 1px rgba(60, 64, 67, 0.15);\n",
              "      fill: #174EA6;\n",
              "    }\n",
              "\n",
              "    [theme=dark] .colab-df-convert {\n",
              "      background-color: #3B4455;\n",
              "      fill: #D2E3FC;\n",
              "    }\n",
              "\n",
              "    [theme=dark] .colab-df-convert:hover {\n",
              "      background-color: #434B5C;\n",
              "      box-shadow: 0px 1px 3px 1px rgba(0, 0, 0, 0.15);\n",
              "      filter: drop-shadow(0px 1px 2px rgba(0, 0, 0, 0.3));\n",
              "      fill: #FFFFFF;\n",
              "    }\n",
              "  </style>\n",
              "\n",
              "      <script>\n",
              "        const buttonEl =\n",
              "          document.querySelector('#df-6c67a1ed-71f0-4f8f-83f8-b5dc2adee800 button.colab-df-convert');\n",
              "        buttonEl.style.display =\n",
              "          google.colab.kernel.accessAllowed ? 'block' : 'none';\n",
              "\n",
              "        async function convertToInteractive(key) {\n",
              "          const element = document.querySelector('#df-6c67a1ed-71f0-4f8f-83f8-b5dc2adee800');\n",
              "          const dataTable =\n",
              "            await google.colab.kernel.invokeFunction('convertToInteractive',\n",
              "                                                     [key], {});\n",
              "          if (!dataTable) return;\n",
              "\n",
              "          const docLinkHtml = 'Like what you see? Visit the ' +\n",
              "            '<a target=\"_blank\" href=https://colab.research.google.com/notebooks/data_table.ipynb>data table notebook</a>'\n",
              "            + ' to learn more about interactive tables.';\n",
              "          element.innerHTML = '';\n",
              "          dataTable['output_type'] = 'display_data';\n",
              "          await google.colab.output.renderOutput(dataTable, element);\n",
              "          const docLink = document.createElement('div');\n",
              "          docLink.innerHTML = docLinkHtml;\n",
              "          element.appendChild(docLink);\n",
              "        }\n",
              "      </script>\n",
              "    </div>\n",
              "  </div>\n",
              "  "
            ]
          },
          "metadata": {},
          "execution_count": 17
        }
      ],
      "source": [
        "import numpy as np \n",
        "from sklearn.preprocessing import MinMaxScaler, OneHotEncoder\n",
        "enc = OneHotEncoder(handle_unknown='ignore')\n",
        "\n",
        "#encoder juste les les column qui contient string\n",
        "data_train_enc = enc.fit_transform(df_train_obj).toarray()\n",
        "train_enc_features = enc.get_feature_names_out(input_features=df_train_obj.columns)\n",
        "data_valid_enc = enc.transform(df_valid_obj).toarray()\n",
        "test_enc_features = enc.get_feature_names_out(input_features=df_valid_obj.columns)\n",
        "\n",
        "#concatiner string avec num columns\n",
        "X_train_enc = np.c_[df_train_num, data_train_enc]\n",
        "X_valid_enc = np.c_[df_valid_num, data_valid_enc]\n",
        "print(f\"X_train_enc shape: {X_train_enc.shape}\")\n",
        "print(f\"X_test_enc shape: {X_valid_enc.shape}\")\n",
        "######################################\n",
        "#encoder les labels\n",
        "y_train=pd.get_dummies(y_train)\n",
        "y_valid=pd.get_dummies(y_valid)\n",
        "y_train.head()"
      ]
    },
    {
      "cell_type": "code",
      "execution_count": null,
      "metadata": {
        "colab": {
          "base_uri": "https://localhost:8080/"
        },
        "id": "RKdo5jM13Vg-",
        "outputId": "6a0758d1-1e25-467d-dd56-b64800fad55a"
      },
      "outputs": [
        {
          "output_type": "execute_result",
          "data": {
            "text/plain": [
              "array([1., 0.])"
            ]
          },
          "metadata": {},
          "execution_count": 18
        }
      ],
      "source": [
        "scaler = MinMaxScaler()\n",
        "X_train_scaler = scaler.fit_transform(X_train_enc)\n",
        "X_valid_scaler = scaler.fit_transform(X_valid_enc)\n",
        "########################\n",
        "y_train=scaler.fit_transform(y_train)\n",
        "y_valid=scaler.fit_transform(y_valid)\n",
        "y_train[0]"
      ]
    },
    {
      "cell_type": "code",
      "execution_count": null,
      "metadata": {
        "id": "YuBYC7l35eAP"
      },
      "outputs": [],
      "source": [
        "x_train = np.reshape(X_train_scaler, (X_train_scaler.shape[0], X_train_scaler.shape[1], 1))\n",
        "\n",
        "#x_train[0]"
      ]
    },
    {
      "cell_type": "code",
      "execution_count": null,
      "metadata": {
        "colab": {
          "base_uri": "https://localhost:8080/"
        },
        "id": "vd66AC83-xWU",
        "outputId": "d1e0fb2a-60c5-4c1a-e009-776b8a5304ff"
      },
      "outputs": [
        {
          "output_type": "execute_result",
          "data": {
            "text/plain": [
              "(22544, 2)"
            ]
          },
          "metadata": {},
          "execution_count": 20
        }
      ],
      "source": [
        "y_valid.shape"
      ]
    },
    {
      "cell_type": "code",
      "execution_count": null,
      "metadata": {
        "colab": {
          "base_uri": "https://localhost:8080/"
        },
        "id": "PyuEsLL352BU",
        "outputId": "8df1847f-c405-45dc-b4ff-495ad9046016"
      },
      "outputs": [
        {
          "output_type": "execute_result",
          "data": {
            "text/plain": [
              "(22544, 2)"
            ]
          },
          "metadata": {},
          "execution_count": 21
        }
      ],
      "source": [
        "x_valid = np.reshape(X_valid_scaler, (X_valid_scaler.shape[0],X_valid_scaler.shape[1], 1))\n",
        "\n",
        "y_valid.shape"
      ]
    },
    {
      "cell_type": "markdown",
      "metadata": {
        "id": "HJx8SgMNxx1H"
      },
      "source": [
        "## **3.Define the model**"
      ]
    },
    {
      "cell_type": "code",
      "execution_count": null,
      "metadata": {
        "id": "eU5qurPR6Juw"
      },
      "outputs": [],
      "source": [
        "#instancier le modéle\n",
        "from tensorflow.keras.models import Sequential\n",
        "model=Sequential()\n",
        "#Créer la couche entrée totalement connecté avec la couche dense\n",
        "from tensorflow.keras.layers import Conv1D, Dense, Dropout, Flatten, AveragePooling1D,BatchNormalization,SpatialDropout1D,MaxPool1D\n",
        "from tensorflow.keras.layers import LeakyReLU"
      ]
    },
    {
      "cell_type": "code",
      "execution_count": null,
      "metadata": {
        "colab": {
          "base_uri": "https://localhost:8080/"
        },
        "id": "RhE1omyQ6ZYf",
        "outputId": "d755d60f-054c-44fc-893f-9dc3281fcb3d"
      },
      "outputs": [
        {
          "output_type": "stream",
          "name": "stdout",
          "text": [
            "Model: \"sequential\"\n",
            "_________________________________________________________________\n",
            " Layer (type)                Output Shape              Param #   \n",
            "=================================================================\n",
            " conv1d (Conv1D)             (None, 122, 32)           192       \n",
            "                                                                 \n",
            " leaky_re_lu (LeakyReLU)     (None, 122, 32)           0         \n",
            "                                                                 \n",
            " batch_normalization (BatchN  (None, 122, 32)          128       \n",
            " ormalization)                                                   \n",
            "                                                                 \n",
            " average_pooling1d (AverageP  (None, 61, 32)           0         \n",
            " ooling1D)                                                       \n",
            "                                                                 \n",
            " dropout (Dropout)           (None, 61, 32)            0         \n",
            "                                                                 \n",
            " conv1d_1 (Conv1D)           (None, 61, 64)            10304     \n",
            "                                                                 \n",
            " leaky_re_lu_1 (LeakyReLU)   (None, 61, 64)            0         \n",
            "                                                                 \n",
            " batch_normalization_1 (Batc  (None, 61, 64)           256       \n",
            " hNormalization)                                                 \n",
            "                                                                 \n",
            " average_pooling1d_1 (Averag  (None, 30, 64)           0         \n",
            " ePooling1D)                                                     \n",
            "                                                                 \n",
            " dropout_1 (Dropout)         (None, 30, 64)            0         \n",
            "                                                                 \n",
            " conv1d_2 (Conv1D)           (None, 30, 128)           41088     \n",
            "                                                                 \n",
            " leaky_re_lu_2 (LeakyReLU)   (None, 30, 128)           0         \n",
            "                                                                 \n",
            " batch_normalization_2 (Batc  (None, 30, 128)          512       \n",
            " hNormalization)                                                 \n",
            "                                                                 \n",
            " average_pooling1d_2 (Averag  (None, 15, 128)          0         \n",
            " ePooling1D)                                                     \n",
            "                                                                 \n",
            " dropout_2 (Dropout)         (None, 15, 128)           0         \n",
            "                                                                 \n",
            " conv1d_3 (Conv1D)           (None, 15, 256)           164096    \n",
            "                                                                 \n",
            " leaky_re_lu_3 (LeakyReLU)   (None, 15, 256)           0         \n",
            "                                                                 \n",
            " batch_normalization_3 (Batc  (None, 15, 256)          1024      \n",
            " hNormalization)                                                 \n",
            "                                                                 \n",
            " average_pooling1d_3 (Averag  (None, 7, 256)           0         \n",
            " ePooling1D)                                                     \n",
            "                                                                 \n",
            " dropout_3 (Dropout)         (None, 7, 256)            0         \n",
            "                                                                 \n",
            " conv1d_4 (Conv1D)           (None, 7, 128)            163968    \n",
            "                                                                 \n",
            " leaky_re_lu_4 (LeakyReLU)   (None, 7, 128)            0         \n",
            "                                                                 \n",
            " batch_normalization_4 (Batc  (None, 7, 128)           512       \n",
            " hNormalization)                                                 \n",
            "                                                                 \n",
            " average_pooling1d_4 (Averag  (None, 3, 128)           0         \n",
            " ePooling1D)                                                     \n",
            "                                                                 \n",
            " dropout_4 (Dropout)         (None, 3, 128)            0         \n",
            "                                                                 \n",
            " flatten (Flatten)           (None, 384)               0         \n",
            "                                                                 \n",
            " dense (Dense)               (None, 30)                11550     \n",
            "                                                                 \n",
            " dense_1 (Dense)             (None, 2)                 62        \n",
            "                                                                 \n",
            "=================================================================\n",
            "Total params: 393,692\n",
            "Trainable params: 392,476\n",
            "Non-trainable params: 1,216\n",
            "_________________________________________________________________\n"
          ]
        }
      ],
      "source": [
        "model.add(Conv1D(32,kernel_size =5,padding=\"same\",input_shape =(x_train.shape[1],1)))\n",
        "model.add(LeakyReLU(alpha=0.1))\n",
        "model.add(BatchNormalization())\n",
        "model.add(AveragePooling1D(pool_size=2))\n",
        "#model.add(SpatialDropout1D(0.3))\n",
        "model.add(Dropout(0.2))\n",
        "# #2em block\n",
        "model.add(Conv1D(64,kernel_size =5,padding=\"same\",))\n",
        "model.add(LeakyReLU(alpha=0.1))\n",
        "model.add(BatchNormalization())\n",
        "model.add(AveragePooling1D(pool_size=2))\n",
        "model.add(Dropout(0.2))\n",
        "#3em block\n",
        "model.add(Conv1D(128,kernel_size =5,padding=\"same\",))\n",
        "model.add(LeakyReLU(alpha=0.1))\n",
        "model.add(BatchNormalization())\n",
        "model.add(AveragePooling1D(pool_size=2))\n",
        "model.add(Dropout(0.2))\n",
        "#4em block\n",
        "model.add(Conv1D(256,kernel_size =5,padding=\"same\",))\n",
        "model.add(LeakyReLU(alpha=0.1))\n",
        "model.add(BatchNormalization())\n",
        "model.add(AveragePooling1D(pool_size=2))\n",
        "model.add(Dropout(0.2))\n",
        "#5em block\n",
        "model.add(Conv1D(512,kernel_size =5,padding=\"same\",))\n",
        "model.add(LeakyReLU(alpha=0.1))\n",
        "model.add(BatchNormalization())\n",
        "model.add(AveragePooling1D(pool_size=2))\n",
        "model.add(Dropout(0.2))\n",
        "\n",
        "\n",
        "\n",
        "model.add(Flatten())\n",
        "model.add(Dense(units=30, activation=\"relu\"))\n",
        "\n",
        "#model.add(Dropout(0.3))\n",
        "#model.add(LeakyReLU(alpha=0.1))\n",
        "model.add(Dense(2,activation=\"sigmoid\"))\n",
        "model.summary() #sert afficher résumés"
      ]
    },
    {
      "cell_type": "markdown",
      "metadata": {
        "id": "UcSoYc_Ex-DA"
      },
      "source": [
        "## **4.Compile the model**\n"
      ]
    },
    {
      "cell_type": "code",
      "execution_count": null,
      "metadata": {
        "id": "n-xUy2qL9DSe"
      },
      "outputs": [],
      "source": [
        "from tensorflow import keras\n",
        "opt = keras.optimizers.Adam(learning_rate=0.0001)\n",
        "model.compile(loss='binary_crossentropy',optimizer=opt,metrics=['accuracy',keras.metrics.Precision()])"
      ]
    },
    {
      "cell_type": "markdown",
      "metadata": {
        "id": "797225XmyG-H"
      },
      "source": [
        "## **5.Fit the model**"
      ]
    },
    {
      "cell_type": "markdown",
      "metadata": {
        "id": "VWSnQYZO32uX"
      },
      "source": [
        "**The loss function** is perhaps the most important\n",
        "aspect of neural networks. The gradients are calculated\n",
        "using the loss function, and the gradient is used to update\n",
        "the neural network biases, increasing or decreasing the\n",
        "neural network weights\n"
      ]
    },
    {
      "cell_type": "code",
      "execution_count": null,
      "metadata": {
        "colab": {
          "base_uri": "https://localhost:8080/"
        },
        "id": "Og6feE_69Gus",
        "outputId": "374518ad-a021-4621-a59a-33b6fa5c4a27"
      },
      "outputs": [
        {
          "output_type": "stream",
          "name": "stdout",
          "text": [
            "Epoch 1/100\n",
            "539/539 [==============================] - 19s 18ms/step - loss: 0.1937 - accuracy: 0.9263 - precision: 0.9256 - val_loss: 0.6404 - val_accuracy: 0.7306 - val_precision: 0.7404\n",
            "Epoch 2/100\n",
            "539/539 [==============================] - 8s 15ms/step - loss: 0.1266 - accuracy: 0.9558 - precision: 0.9553 - val_loss: 0.2567 - val_accuracy: 0.9117 - val_precision: 0.9123\n",
            "Epoch 3/100\n",
            "539/539 [==============================] - 8s 14ms/step - loss: 0.1073 - accuracy: 0.9607 - precision: 0.9604 - val_loss: 0.2255 - val_accuracy: 0.9092 - val_precision: 0.9095\n",
            "Epoch 4/100\n",
            "539/539 [==============================] - 8s 14ms/step - loss: 0.0952 - accuracy: 0.9647 - precision: 0.9647 - val_loss: 0.2012 - val_accuracy: 0.9230 - val_precision: 0.9234\n",
            "Epoch 5/100\n",
            "539/539 [==============================] - 8s 14ms/step - loss: 0.0875 - accuracy: 0.9669 - precision: 0.9667 - val_loss: 0.1850 - val_accuracy: 0.9340 - val_precision: 0.9332\n",
            "Epoch 6/100\n",
            "539/539 [==============================] - 8s 15ms/step - loss: 0.0809 - accuracy: 0.9695 - precision: 0.9696 - val_loss: 0.1730 - val_accuracy: 0.9304 - val_precision: 0.9302\n",
            "Epoch 7/100\n",
            "539/539 [==============================] - 8s 15ms/step - loss: 0.0764 - accuracy: 0.9713 - precision: 0.9712 - val_loss: 0.1722 - val_accuracy: 0.9286 - val_precision: 0.9288\n",
            "Epoch 8/100\n",
            "539/539 [==============================] - 8s 15ms/step - loss: 0.0721 - accuracy: 0.9724 - precision: 0.9723 - val_loss: 0.1520 - val_accuracy: 0.9440 - val_precision: 0.9441\n",
            "Epoch 9/100\n",
            "539/539 [==============================] - 9s 16ms/step - loss: 0.0685 - accuracy: 0.9738 - precision: 0.9737 - val_loss: 0.1560 - val_accuracy: 0.9312 - val_precision: 0.9436\n",
            "Epoch 10/100\n",
            "539/539 [==============================] - 8s 15ms/step - loss: 0.0656 - accuracy: 0.9750 - precision: 0.9750 - val_loss: 0.1510 - val_accuracy: 0.9355 - val_precision: 0.9356\n",
            "Epoch 11/100\n",
            "539/539 [==============================] - 8s 15ms/step - loss: 0.0629 - accuracy: 0.9757 - precision: 0.9757 - val_loss: 0.1425 - val_accuracy: 0.9366 - val_precision: 0.9370\n",
            "Epoch 12/100\n",
            "539/539 [==============================] - 8s 15ms/step - loss: 0.0601 - accuracy: 0.9769 - precision: 0.9771 - val_loss: 0.1419 - val_accuracy: 0.9375 - val_precision: 0.9378\n",
            "Epoch 13/100\n",
            "539/539 [==============================] - 8s 14ms/step - loss: 0.0593 - accuracy: 0.9767 - precision: 0.9768 - val_loss: 0.1347 - val_accuracy: 0.9510 - val_precision: 0.9515\n",
            "Epoch 14/100\n",
            "539/539 [==============================] - 8s 14ms/step - loss: 0.0575 - accuracy: 0.9776 - precision: 0.9777 - val_loss: 0.1288 - val_accuracy: 0.9520 - val_precision: 0.9526\n",
            "Epoch 15/100\n",
            "539/539 [==============================] - 8s 14ms/step - loss: 0.0554 - accuracy: 0.9785 - precision: 0.9787 - val_loss: 0.1216 - val_accuracy: 0.9564 - val_precision: 0.9562\n",
            "Epoch 16/100\n",
            "539/539 [==============================] - 8s 15ms/step - loss: 0.0537 - accuracy: 0.9791 - precision: 0.9790 - val_loss: 0.1204 - val_accuracy: 0.9420 - val_precision: 0.9423\n",
            "Epoch 17/100\n",
            "539/539 [==============================] - 8s 14ms/step - loss: 0.0531 - accuracy: 0.9792 - precision: 0.9793 - val_loss: 0.1239 - val_accuracy: 0.9422 - val_precision: 0.9423\n",
            "Epoch 18/100\n",
            "539/539 [==============================] - 8s 15ms/step - loss: 0.0516 - accuracy: 0.9801 - precision: 0.9799 - val_loss: 0.1119 - val_accuracy: 0.9458 - val_precision: 0.9461\n",
            "Epoch 19/100\n",
            "539/539 [==============================] - 8s 14ms/step - loss: 0.0502 - accuracy: 0.9804 - precision: 0.9805 - val_loss: 0.1109 - val_accuracy: 0.9571 - val_precision: 0.9531\n",
            "Epoch 20/100\n",
            "539/539 [==============================] - 8s 15ms/step - loss: 0.0485 - accuracy: 0.9812 - precision: 0.9813 - val_loss: 0.1055 - val_accuracy: 0.9589 - val_precision: 0.9588\n",
            "Epoch 21/100\n",
            "539/539 [==============================] - 8s 14ms/step - loss: 0.0474 - accuracy: 0.9817 - precision: 0.9819 - val_loss: 0.1109 - val_accuracy: 0.9444 - val_precision: 0.9445\n",
            "Epoch 22/100\n",
            "539/539 [==============================] - 8s 15ms/step - loss: 0.0467 - accuracy: 0.9817 - precision: 0.9819 - val_loss: 0.1016 - val_accuracy: 0.9590 - val_precision: 0.9588\n",
            "Epoch 23/100\n",
            "539/539 [==============================] - 8s 15ms/step - loss: 0.0450 - accuracy: 0.9823 - precision: 0.9823 - val_loss: 0.1033 - val_accuracy: 0.9475 - val_precision: 0.9473\n",
            "Epoch 24/100\n",
            "539/539 [==============================] - 8s 14ms/step - loss: 0.0434 - accuracy: 0.9830 - precision: 0.9831 - val_loss: 0.1009 - val_accuracy: 0.9540 - val_precision: 0.9572\n",
            "Epoch 25/100\n",
            "539/539 [==============================] - 8s 14ms/step - loss: 0.0430 - accuracy: 0.9831 - precision: 0.9833 - val_loss: 0.1050 - val_accuracy: 0.9461 - val_precision: 0.9463\n",
            "Epoch 26/100\n",
            "539/539 [==============================] - 8s 14ms/step - loss: 0.0422 - accuracy: 0.9835 - precision: 0.9834 - val_loss: 0.0906 - val_accuracy: 0.9524 - val_precision: 0.9528\n",
            "Epoch 27/100\n",
            "539/539 [==============================] - 8s 15ms/step - loss: 0.0408 - accuracy: 0.9839 - precision: 0.9840 - val_loss: 0.0868 - val_accuracy: 0.9539 - val_precision: 0.9543\n",
            "Epoch 28/100\n",
            "539/539 [==============================] - 8s 15ms/step - loss: 0.0402 - accuracy: 0.9841 - precision: 0.9841 - val_loss: 0.0914 - val_accuracy: 0.9546 - val_precision: 0.9516\n",
            "Epoch 29/100\n",
            "539/539 [==============================] - 8s 14ms/step - loss: 0.0389 - accuracy: 0.9847 - precision: 0.9846 - val_loss: 0.0804 - val_accuracy: 0.9673 - val_precision: 0.9674\n",
            "Epoch 30/100\n",
            "539/539 [==============================] - 8s 14ms/step - loss: 0.0381 - accuracy: 0.9852 - precision: 0.9853 - val_loss: 0.0899 - val_accuracy: 0.9517 - val_precision: 0.9519\n",
            "Epoch 31/100\n",
            "539/539 [==============================] - 8s 15ms/step - loss: 0.0370 - accuracy: 0.9856 - precision: 0.9856 - val_loss: 0.0776 - val_accuracy: 0.9668 - val_precision: 0.9673\n",
            "Epoch 32/100\n",
            "539/539 [==============================] - 8s 14ms/step - loss: 0.0366 - accuracy: 0.9857 - precision: 0.9856 - val_loss: 0.0769 - val_accuracy: 0.9689 - val_precision: 0.9692\n",
            "Epoch 33/100\n",
            "539/539 [==============================] - 8s 15ms/step - loss: 0.0355 - accuracy: 0.9860 - precision: 0.9860 - val_loss: 0.0795 - val_accuracy: 0.9682 - val_precision: 0.9683\n",
            "Epoch 34/100\n",
            "539/539 [==============================] - 8s 14ms/step - loss: 0.0361 - accuracy: 0.9859 - precision: 0.9857 - val_loss: 0.0782 - val_accuracy: 0.9675 - val_precision: 0.9662\n",
            "Epoch 35/100\n",
            "539/539 [==============================] - 8s 15ms/step - loss: 0.0347 - accuracy: 0.9866 - precision: 0.9864 - val_loss: 0.0785 - val_accuracy: 0.9674 - val_precision: 0.9672\n",
            "Epoch 36/100\n",
            "539/539 [==============================] - 8s 15ms/step - loss: 0.0345 - accuracy: 0.9867 - precision: 0.9869 - val_loss: 0.0791 - val_accuracy: 0.9652 - val_precision: 0.9633\n",
            "Epoch 37/100\n",
            "539/539 [==============================] - 8s 15ms/step - loss: 0.0336 - accuracy: 0.9868 - precision: 0.9867 - val_loss: 0.0729 - val_accuracy: 0.9643 - val_precision: 0.9644\n",
            "Epoch 38/100\n",
            "539/539 [==============================] - 8s 14ms/step - loss: 0.0331 - accuracy: 0.9868 - precision: 0.9868 - val_loss: 0.0764 - val_accuracy: 0.9689 - val_precision: 0.9671\n",
            "Epoch 39/100\n",
            "539/539 [==============================] - 8s 15ms/step - loss: 0.0331 - accuracy: 0.9873 - precision: 0.9871 - val_loss: 0.0752 - val_accuracy: 0.9634 - val_precision: 0.9639\n",
            "Epoch 40/100\n",
            "539/539 [==============================] - 8s 14ms/step - loss: 0.0327 - accuracy: 0.9872 - precision: 0.9872 - val_loss: 0.0744 - val_accuracy: 0.9625 - val_precision: 0.9628\n",
            "Epoch 41/100\n",
            "539/539 [==============================] - 8s 14ms/step - loss: 0.0325 - accuracy: 0.9873 - precision: 0.9873 - val_loss: 0.0704 - val_accuracy: 0.9714 - val_precision: 0.9715\n",
            "Epoch 42/100\n",
            "539/539 [==============================] - 8s 14ms/step - loss: 0.0319 - accuracy: 0.9874 - precision: 0.9875 - val_loss: 0.0719 - val_accuracy: 0.9705 - val_precision: 0.9709\n",
            "Epoch 43/100\n",
            "539/539 [==============================] - 8s 15ms/step - loss: 0.0315 - accuracy: 0.9878 - precision: 0.9877 - val_loss: 0.0721 - val_accuracy: 0.9674 - val_precision: 0.9675\n",
            "Epoch 44/100\n",
            "539/539 [==============================] - 8s 15ms/step - loss: 0.0309 - accuracy: 0.9879 - precision: 0.9878 - val_loss: 0.0734 - val_accuracy: 0.9646 - val_precision: 0.9649\n",
            "Epoch 45/100\n",
            "539/539 [==============================] - 8s 14ms/step - loss: 0.0308 - accuracy: 0.9883 - precision: 0.9883 - val_loss: 0.0715 - val_accuracy: 0.9642 - val_precision: 0.9638\n",
            "Epoch 46/100\n",
            "539/539 [==============================] - 8s 15ms/step - loss: 0.0308 - accuracy: 0.9880 - precision: 0.9879 - val_loss: 0.0694 - val_accuracy: 0.9698 - val_precision: 0.9692\n",
            "Epoch 47/100\n",
            "539/539 [==============================] - 8s 14ms/step - loss: 0.0302 - accuracy: 0.9882 - precision: 0.9880 - val_loss: 0.0733 - val_accuracy: 0.9624 - val_precision: 0.9605\n",
            "Epoch 48/100\n",
            "539/539 [==============================] - 8s 15ms/step - loss: 0.0300 - accuracy: 0.9881 - precision: 0.9880 - val_loss: 0.0627 - val_accuracy: 0.9737 - val_precision: 0.9737\n",
            "Epoch 49/100\n",
            "539/539 [==============================] - 8s 15ms/step - loss: 0.0298 - accuracy: 0.9882 - precision: 0.9882 - val_loss: 0.0707 - val_accuracy: 0.9624 - val_precision: 0.9609\n",
            "Epoch 50/100\n",
            "539/539 [==============================] - 8s 14ms/step - loss: 0.0297 - accuracy: 0.9884 - precision: 0.9885 - val_loss: 0.0656 - val_accuracy: 0.9725 - val_precision: 0.9722\n",
            "Epoch 51/100\n",
            "539/539 [==============================] - 8s 15ms/step - loss: 0.0286 - accuracy: 0.9888 - precision: 0.9888 - val_loss: 0.0714 - val_accuracy: 0.9647 - val_precision: 0.9636\n",
            "Epoch 52/100\n",
            "539/539 [==============================] - 8s 14ms/step - loss: 0.0289 - accuracy: 0.9886 - precision: 0.9886 - val_loss: 0.0663 - val_accuracy: 0.9697 - val_precision: 0.9696\n",
            "Epoch 53/100\n",
            "539/539 [==============================] - 8s 15ms/step - loss: 0.0288 - accuracy: 0.9887 - precision: 0.9886 - val_loss: 0.0612 - val_accuracy: 0.9738 - val_precision: 0.9737\n",
            "Epoch 54/100\n",
            "539/539 [==============================] - 8s 15ms/step - loss: 0.0289 - accuracy: 0.9887 - precision: 0.9887 - val_loss: 0.0685 - val_accuracy: 0.9698 - val_precision: 0.9697\n",
            "Epoch 55/100\n",
            "539/539 [==============================] - 8s 14ms/step - loss: 0.0287 - accuracy: 0.9889 - precision: 0.9889 - val_loss: 0.0630 - val_accuracy: 0.9726 - val_precision: 0.9719\n",
            "Epoch 56/100\n",
            "539/539 [==============================] - 8s 15ms/step - loss: 0.0280 - accuracy: 0.9889 - precision: 0.9888 - val_loss: 0.0625 - val_accuracy: 0.9734 - val_precision: 0.9727\n",
            "Epoch 57/100\n",
            "539/539 [==============================] - 8s 15ms/step - loss: 0.0279 - accuracy: 0.9889 - precision: 0.9889 - val_loss: 0.0615 - val_accuracy: 0.9739 - val_precision: 0.9735\n",
            "Epoch 58/100\n",
            "539/539 [==============================] - 8s 15ms/step - loss: 0.0281 - accuracy: 0.9892 - precision: 0.9891 - val_loss: 0.0621 - val_accuracy: 0.9741 - val_precision: 0.9732\n",
            "Epoch 59/100\n",
            "539/539 [==============================] - 8s 14ms/step - loss: 0.0278 - accuracy: 0.9892 - precision: 0.9891 - val_loss: 0.0629 - val_accuracy: 0.9713 - val_precision: 0.9713\n",
            "Epoch 60/100\n",
            "539/539 [==============================] - 8s 14ms/step - loss: 0.0273 - accuracy: 0.9892 - precision: 0.9892 - val_loss: 0.0627 - val_accuracy: 0.9711 - val_precision: 0.9712\n",
            "Epoch 61/100\n",
            "539/539 [==============================] - 8s 14ms/step - loss: 0.0275 - accuracy: 0.9892 - precision: 0.9890 - val_loss: 0.0617 - val_accuracy: 0.9738 - val_precision: 0.9736\n",
            "Epoch 62/100\n",
            "539/539 [==============================] - 8s 14ms/step - loss: 0.0267 - accuracy: 0.9894 - precision: 0.9893 - val_loss: 0.0640 - val_accuracy: 0.9675 - val_precision: 0.9679\n",
            "Epoch 63/100\n",
            "539/539 [==============================] - 8s 14ms/step - loss: 0.0269 - accuracy: 0.9895 - precision: 0.9894 - val_loss: 0.0580 - val_accuracy: 0.9745 - val_precision: 0.9745\n",
            "Epoch 64/100\n",
            "539/539 [==============================] - 8s 14ms/step - loss: 0.0267 - accuracy: 0.9896 - precision: 0.9896 - val_loss: 0.0606 - val_accuracy: 0.9713 - val_precision: 0.9713\n",
            "Epoch 65/100\n",
            "539/539 [==============================] - 8s 14ms/step - loss: 0.0270 - accuracy: 0.9894 - precision: 0.9892 - val_loss: 0.0614 - val_accuracy: 0.9694 - val_precision: 0.9685\n",
            "Epoch 66/100\n",
            "539/539 [==============================] - 8s 14ms/step - loss: 0.0266 - accuracy: 0.9894 - precision: 0.9894 - val_loss: 0.0572 - val_accuracy: 0.9743 - val_precision: 0.9743\n",
            "Epoch 67/100\n",
            "539/539 [==============================] - 8s 14ms/step - loss: 0.0262 - accuracy: 0.9899 - precision: 0.9897 - val_loss: 0.0581 - val_accuracy: 0.9728 - val_precision: 0.9733\n",
            "Epoch 68/100\n",
            "539/539 [==============================] - 8s 15ms/step - loss: 0.0267 - accuracy: 0.9893 - precision: 0.9893 - val_loss: 0.0594 - val_accuracy: 0.9745 - val_precision: 0.9742\n",
            "Epoch 69/100\n",
            "539/539 [==============================] - 8s 14ms/step - loss: 0.0260 - accuracy: 0.9898 - precision: 0.9898 - val_loss: 0.0559 - val_accuracy: 0.9751 - val_precision: 0.9752\n",
            "Epoch 70/100\n",
            "539/539 [==============================] - 8s 14ms/step - loss: 0.0254 - accuracy: 0.9899 - precision: 0.9899 - val_loss: 0.0634 - val_accuracy: 0.9709 - val_precision: 0.9713\n",
            "Epoch 71/100\n",
            "539/539 [==============================] - 8s 15ms/step - loss: 0.0257 - accuracy: 0.9900 - precision: 0.9900 - val_loss: 0.0556 - val_accuracy: 0.9751 - val_precision: 0.9752\n",
            "Epoch 72/100\n",
            "539/539 [==============================] - 8s 15ms/step - loss: 0.0257 - accuracy: 0.9898 - precision: 0.9897 - val_loss: 0.0571 - val_accuracy: 0.9750 - val_precision: 0.9750\n",
            "Epoch 73/100\n",
            "539/539 [==============================] - 8s 15ms/step - loss: 0.0253 - accuracy: 0.9901 - precision: 0.9900 - val_loss: 0.0570 - val_accuracy: 0.9752 - val_precision: 0.9753\n",
            "Epoch 74/100\n",
            "539/539 [==============================] - 8s 15ms/step - loss: 0.0251 - accuracy: 0.9903 - precision: 0.9903 - val_loss: 0.0554 - val_accuracy: 0.9749 - val_precision: 0.9747\n",
            "Epoch 75/100\n",
            "539/539 [==============================] - 8s 14ms/step - loss: 0.0248 - accuracy: 0.9902 - precision: 0.9901 - val_loss: 0.0566 - val_accuracy: 0.9729 - val_precision: 0.9732\n",
            "Epoch 76/100\n",
            "539/539 [==============================] - 8s 15ms/step - loss: 0.0249 - accuracy: 0.9902 - precision: 0.9902 - val_loss: 0.0557 - val_accuracy: 0.9742 - val_precision: 0.9753\n",
            "Epoch 77/100\n",
            "539/539 [==============================] - 8s 14ms/step - loss: 0.0245 - accuracy: 0.9903 - precision: 0.9903 - val_loss: 0.0566 - val_accuracy: 0.9758 - val_precision: 0.9754\n",
            "Epoch 78/100\n",
            "539/539 [==============================] - 8s 15ms/step - loss: 0.0246 - accuracy: 0.9902 - precision: 0.9903 - val_loss: 0.0583 - val_accuracy: 0.9745 - val_precision: 0.9741\n",
            "Epoch 79/100\n",
            "539/539 [==============================] - 8s 14ms/step - loss: 0.0249 - accuracy: 0.9905 - precision: 0.9904 - val_loss: 0.0610 - val_accuracy: 0.9683 - val_precision: 0.9683\n",
            "Epoch 80/100\n",
            "539/539 [==============================] - 8s 14ms/step - loss: 0.0250 - accuracy: 0.9902 - precision: 0.9902 - val_loss: 0.0559 - val_accuracy: 0.9725 - val_precision: 0.9727\n",
            "Epoch 81/100\n",
            "539/539 [==============================] - 8s 14ms/step - loss: 0.0242 - accuracy: 0.9907 - precision: 0.9907 - val_loss: 0.0529 - val_accuracy: 0.9762 - val_precision: 0.9761\n",
            "Epoch 82/100\n",
            "539/539 [==============================] - 8s 14ms/step - loss: 0.0243 - accuracy: 0.9905 - precision: 0.9904 - val_loss: 0.0577 - val_accuracy: 0.9727 - val_precision: 0.9725\n",
            "Epoch 83/100\n",
            "539/539 [==============================] - 8s 15ms/step - loss: 0.0243 - accuracy: 0.9902 - precision: 0.9903 - val_loss: 0.0554 - val_accuracy: 0.9755 - val_precision: 0.9751\n",
            "Epoch 84/100\n",
            "539/539 [==============================] - 8s 15ms/step - loss: 0.0240 - accuracy: 0.9905 - precision: 0.9905 - val_loss: 0.0537 - val_accuracy: 0.9767 - val_precision: 0.9771\n",
            "Epoch 85/100\n",
            "539/539 [==============================] - 8s 15ms/step - loss: 0.0235 - accuracy: 0.9908 - precision: 0.9908 - val_loss: 0.0535 - val_accuracy: 0.9762 - val_precision: 0.9763\n",
            "Epoch 86/100\n",
            "539/539 [==============================] - 8s 14ms/step - loss: 0.0239 - accuracy: 0.9904 - precision: 0.9903 - val_loss: 0.0526 - val_accuracy: 0.9769 - val_precision: 0.9763\n",
            "Epoch 87/100\n",
            "539/539 [==============================] - 8s 14ms/step - loss: 0.0238 - accuracy: 0.9905 - precision: 0.9906 - val_loss: 0.0552 - val_accuracy: 0.9753 - val_precision: 0.9753\n",
            "Epoch 88/100\n",
            "539/539 [==============================] - 8s 15ms/step - loss: 0.0235 - accuracy: 0.9907 - precision: 0.9907 - val_loss: 0.0590 - val_accuracy: 0.9727 - val_precision: 0.9718\n",
            "Epoch 89/100\n",
            "539/539 [==============================] - 8s 14ms/step - loss: 0.0241 - accuracy: 0.9906 - precision: 0.9905 - val_loss: 0.0560 - val_accuracy: 0.9724 - val_precision: 0.9723\n",
            "Epoch 90/100\n",
            "539/539 [==============================] - 8s 14ms/step - loss: 0.0237 - accuracy: 0.9907 - precision: 0.9907 - val_loss: 0.0533 - val_accuracy: 0.9764 - val_precision: 0.9764\n",
            "Epoch 91/100\n",
            "539/539 [==============================] - 8s 14ms/step - loss: 0.0230 - accuracy: 0.9907 - precision: 0.9908 - val_loss: 0.0592 - val_accuracy: 0.9698 - val_precision: 0.9697\n",
            "Epoch 92/100\n",
            "539/539 [==============================] - 8s 14ms/step - loss: 0.0230 - accuracy: 0.9908 - precision: 0.9908 - val_loss: 0.0567 - val_accuracy: 0.9756 - val_precision: 0.9755\n",
            "Epoch 93/100\n",
            "539/539 [==============================] - 8s 14ms/step - loss: 0.0231 - accuracy: 0.9910 - precision: 0.9910 - val_loss: 0.0555 - val_accuracy: 0.9748 - val_precision: 0.9749\n",
            "Epoch 94/100\n",
            "539/539 [==============================] - 8s 14ms/step - loss: 0.0230 - accuracy: 0.9908 - precision: 0.9907 - val_loss: 0.0594 - val_accuracy: 0.9702 - val_precision: 0.9693\n",
            "Epoch 95/100\n",
            "539/539 [==============================] - 8s 15ms/step - loss: 0.0231 - accuracy: 0.9909 - precision: 0.9909 - val_loss: 0.0509 - val_accuracy: 0.9772 - val_precision: 0.9772\n",
            "Epoch 96/100\n",
            "539/539 [==============================] - 8s 14ms/step - loss: 0.0228 - accuracy: 0.9909 - precision: 0.9910 - val_loss: 0.0521 - val_accuracy: 0.9759 - val_precision: 0.9759\n",
            "Epoch 97/100\n",
            "539/539 [==============================] - 8s 14ms/step - loss: 0.0224 - accuracy: 0.9911 - precision: 0.9912 - val_loss: 0.0539 - val_accuracy: 0.9764 - val_precision: 0.9763\n",
            "Epoch 98/100\n",
            "539/539 [==============================] - 8s 15ms/step - loss: 0.0227 - accuracy: 0.9912 - precision: 0.9910 - val_loss: 0.0568 - val_accuracy: 0.9734 - val_precision: 0.9733\n",
            "Epoch 99/100\n",
            "539/539 [==============================] - 8s 14ms/step - loss: 0.0225 - accuracy: 0.9911 - precision: 0.9911 - val_loss: 0.0517 - val_accuracy: 0.9762 - val_precision: 0.9762\n",
            "Epoch 100/100\n",
            "539/539 [==============================] - 8s 14ms/step - loss: 0.0227 - accuracy: 0.9910 - precision: 0.9910 - val_loss: 0.0538 - val_accuracy: 0.9762 - val_precision: 0.9760\n"
          ]
        }
      ],
      "source": [
        "#model.fit(x_train, y_train, epochs = 100, batch_size =1000)\n",
        "#model.fit(x_train, y_train, epochs =80,batch_size =128,validation_data=(x_valid, y_valid),callbacks=tf.keras.callbacks.EarlyStopping(monitor='val_loss', verbose=1))\n",
        "from keras.callbacks import EarlyStopping\n",
        "#history = model.fit(x_train, y_train, epochs =80,batch_size =128,validation_data=(x_valid, y_valid),callbacks = [EarlyStopping(monitor='val_loss', patience=5)])\n",
        "history = model.fit(x_train, y_train, epochs =100,batch_size =256,validation_data=(x_valid, y_valid))\n"
      ]
    },
    {
      "cell_type": "code",
      "execution_count": null,
      "metadata": {
        "colab": {
          "base_uri": "https://localhost:8080/",
          "height": 295
        },
        "id": "Ti8Cv92xglZS",
        "outputId": "725ead76-1c9e-4663-c99a-d6635faaae6f"
      },
      "outputs": [
        {
          "output_type": "display_data",
          "data": {
            "text/plain": [
              "<Figure size 432x288 with 1 Axes>"
            ],
            "image/png": "[encoded data removed]"
          },
          "metadata": {
            "needs_background": "light"
          }
        }
      ],
      "source": [
        "import matplotlib.pyplot as plt\n",
        "import tensorflow as tf\n",
        "\n",
        "loss_val = history.history['val_loss']\n",
        "acc_val = history.history['loss']\n",
        "epochs = range(1,101)\n",
        "plt.plot(epochs, loss_val, 'b', label='validation loss')\n",
        "plt.plot(epochs, acc_val, 'g', label='train loss')\n",
        "plt.title('Validation loss')\n",
        "plt.xlabel('Epochs')\n",
        "plt.ylabel('Loss')\n",
        "plt.legend()\n",
        "plt.show()"
      ]
    },
    {
      "cell_type": "code",
      "execution_count": null,
      "metadata": {
        "colab": {
          "base_uri": "https://localhost:8080/",
          "height": 295
        },
        "id": "1JltYGr22Vmp",
        "outputId": "d19c1ae7-360e-4fa0-be8d-5085f9b33e62"
      },
      "outputs": [
        {
          "output_type": "display_data",
          "data": {
            "text/plain": [
              "<Figure size 432x288 with 1 Axes>"
            ],
            "image/png": "[encoded data removed]"
          },
          "metadata": {
            "needs_background": "light"
          }
        }
      ],
      "source": [
        "acc_val = history.history['val_accuracy']\n",
        "\n",
        "epochs = range(1,101)\n",
        "plt.plot(epochs, acc_val, 'b', label='validation acc')\n",
        "\n",
        "plt.title('Validation acc')\n",
        "plt.xlabel('Epochs')\n",
        "plt.ylabel('Accuracy')\n",
        "plt.legend()\n",
        "plt.show()"
      ]
    }
  ],
  "metadata": {
    "accelerator": "GPU",
    "colab": {
      "collapsed_sections": [],
      "name": "CNN test.ipynb",
      "provenance": [],
      "include_colab_link": true
    },
    "kernelspec": {
      "display_name": "Python 3",
      "name": "python3"
    },
    "language_info": {
      "name": "python"
    }
  },
  "nbformat": 4,
  "nbformat_minor": 0
}